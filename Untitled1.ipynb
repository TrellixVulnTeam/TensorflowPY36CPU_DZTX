{
 "cells": [
  {
   "cell_type": "code",
   "execution_count": null,
   "metadata": {
    "collapsed": false
   },
   "outputs": [],
   "source": [
    "from math import exp\n",
    "\n",
    "# Input stock parameters\n",
    "dt = input(\"Enter the timestep: \")\n",
    "S = input(\"Enter the initial asset price: \")\n",
    "r = input(\"Enter the risk-free discount rate: \")\n",
    "K = input(\"Enter the option strike price: \")\n",
    "p = input(\"Enter the asset growth probability p: \")\n",
    "u = input(\"Enter the asset growth factor u: \")\n",
    "N = input(\"Enter the number of timesteps until expiration: \")\n",
    "\n",
    "# Input whether this is a call or a put option\n",
    "call = raw_input(\"Is this a call or put option? (C/P) \").upper().startswith(\"C\")\n",
    "\n",
    "def price(k, us):\n",
    "    \"\"\" Compute the stock price after 'us' growths and 'k - us' decays. \"\"\"\n",
    "    return S * (u ** (2 * us - k))\n",
    "\n",
    "def bopm(k, us):\n",
    "    \"\"\"\n",
    "    Compute the option price for a node 'k' timesteps in the future\n",
    "    and 'us' growth events. Note that thus there are 'k - us' decay events.\n",
    "    \"\"\"\n",
    "\n",
    "    # Compute the exercise profit\n",
    "    stockPrice = price(k, us)\n",
    "    if call: exerciseProfit = max(0, stockPrice - K)\n",
    "    else:    exerciseProfit = max(0, K - stockPrice)\n",
    "\n",
    "    # Base case (this is a leaf)\n",
    "    if k == N: return exerciseProfit\n",
    "\n",
    "    # Recursive case: compute the binomial value \n",
    "    decay = exp(-r * dt)\n",
    "    expected = p * bopm(k + 1, us + 1) + (1 - p) * bopm(k + 1, us)\n",
    "    binomial = decay * expected\n",
    "\n",
    "    # Assume this is an American-style option\n",
    "    return max(binomial, exerciseProfit)\n",
    "\n",
    "print('Computed option price: $%.2f' % bopm(0, 0))"
   ]
  }
 ],
 "metadata": {
  "kernelspec": {
   "display_name": "Python 2",
   "language": "python",
   "name": "python2"
  },
  "language_info": {
   "codemirror_mode": {
    "name": "ipython",
    "version": 2
   },
   "file_extension": ".py",
   "mimetype": "text/x-python",
   "name": "python",
   "nbconvert_exporter": "python",
   "pygments_lexer": "ipython2",
   "version": "2.7.9"
  }
 },
 "nbformat": 4,
 "nbformat_minor": 0
}
