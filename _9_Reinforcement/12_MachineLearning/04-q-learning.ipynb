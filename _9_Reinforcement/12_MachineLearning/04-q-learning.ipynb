{
 "cells": [
  {
   "cell_type": "markdown",
   "metadata": {
    "deletable": true,
    "editable": true
   },
   "source": [
    "### Model-Free Reinforcement Learning"
   ]
  },
  {
   "cell_type": "markdown",
   "metadata": {
    "deletable": true,
    "editable": true
   },
   "source": [
    "Remember how in last Notebook we felt like cheating by using directions calculated from the map of the environment?? Well, model-free reinforcement learning deals with that. Model-free refers to the fact that algorithms unders this category do not need a model of the environment, also known as MDP, to calculate optimal policies.\n",
    "\n",
    "In this notebook, we will look at what is perhaps the most popular model-free reinforcement learning algorithm, q-learning. Q-learning run without needing a map of the environment, it works by balancing the need for exploration with the need for exploiting previously explored knowledge. Let's take a look."
   ]
  },
  {
   "cell_type": "code",
   "execution_count": 36,
   "metadata": {
    "collapsed": true,
    "deletable": true,
    "editable": true
   },
   "outputs": [],
   "source": [
    "import matplotlib.pyplot as plt\n",
    "\n",
    "import numpy as np\n",
    "import pandas as pd\n",
    "import tempfile\n",
    "import pprint\n",
    "import math\n",
    "import json\n",
    "import sys\n",
    "import gym\n",
    "\n",
    "from gym import wrappers\n",
    "from subprocess import check_output\n",
    "from IPython.display import HTML"
   ]
  },
  {
   "cell_type": "markdown",
   "metadata": {
    "deletable": true,
    "editable": true
   },
   "source": [
    "#### Q-Learning"
   ]
  },
  {
   "cell_type": "markdown",
   "metadata": {
    "deletable": true,
    "editable": true
   },
   "source": [
    "The function below, `action_selection` is an important aspect of reinforcement learning algorithms. The fact is, when you have possibly conflicting needs, explore vs exploit, you enter into a difficult situation, dilemma. The Exploration vs Exploitation Dilemma is at the core of reinforcement learning and it is good for you to think about it for a little while. How much do you need to explore an environment before you exploit it?\n",
    "\n",
    "In the function below we use one of the many alternatives which is we explore a lot at the begining and decay the amount of exploration as we increase the number of episodes. Let's take a look at what the function looks like:"
   ]
  },
  {
   "cell_type": "code",
   "execution_count": 12,
   "metadata": {
    "collapsed": true,
    "deletable": true,
    "editable": true
   },
   "outputs": [],
   "source": [
    "def action_selection(state, Q, episode, n_episodes):\n",
    "    epsilon = max(0, episode/n_episodes*2)\n",
    "    if np.random.random() < epsilon:\n",
    "        action = np.random.randint(len(Q[0]))\n",
    "    else:\n",
    "        action = np.argmax(Q[state])\n",
    "    return action, epsilon"
   ]
  },
  {
   "cell_type": "code",
   "execution_count": 17,
   "metadata": {
    "collapsed": false,
    "deletable": true,
    "editable": true
   },
   "outputs": [
    {
     "data": {
      "text/plain": [
       "<matplotlib.text.Text at 0x7fc7a2dcb908>"
      ]
     },
     "execution_count": 17,
     "metadata": {},
     "output_type": "execute_result"
    },
    {
     "data": {
      "image/png": "[encoded data removed]",
      "text/plain": [
       "<matplotlib.figure.Figure at 0x7fc7a13e7cc0>"
      ]
     },
     "metadata": {},
     "output_type": "display_data"
    }
   ],
   "source": [
    "Q = [[0]]\n",
    "n_episodes = 10000\n",
    "epsilons = []\n",
    "for episode in range(n_episodes//2, -n_episodes//2, -1):\n",
    "    _, epsilon = action_selection(0, Q, episode, n_episodes)\n",
    "    epsilons.append(epsilon)\n",
    "plt.plot(np.arange(len(epsilons)), epsilons, '.')\n",
    "plt.ylabel('Probability')\n",
    "plt.xlabel('Episode')"
   ]
  },
  {
   "cell_type": "markdown",
   "metadata": {
    "deletable": true,
    "editable": true
   },
   "source": [
    "See that? So, at episode 0 we have 100% change of acting randomly, all the way down to 0 when we stop exploring and instead always select the action that we think would maximizing the discounted future rewards. \n",
    "\n",
    "Again, this is a way of doing this, there are many and you surely should be thinking about better ways of doing so.\n",
    "\n",
    "Next, let me show you what Q-Learning looks like:"
   ]
  },
  {
   "cell_type": "code",
   "execution_count": 19,
   "metadata": {
    "collapsed": false,
    "deletable": true,
    "editable": true
   },
   "outputs": [],
   "source": [
    "def q_learning(env, alpha = 0.9, gamma = 0.9):\n",
    "    nS = env.env.observation_space.n\n",
    "    nA = env.env.action_space.n\n",
    "    \n",
    "    Q = np.random.random((nS, nA)) * 2.0\n",
    "    n_episodes = 10000\n",
    "    \n",
    "    for episode in range(n_episodes//2, -n_episodes//2, -1):\n",
    "        state = env.reset()\n",
    "        done = False\n",
    "        while not done:\n",
    "            action, _ = action_selection(state, Q, episode, n_episodes)\n",
    "            nstate, reward, done, info = env.step(action)\n",
    "            Q[state][action] += alpha * (reward + gamma * Q[nstate].max() * (not done) - Q[state][action])\n",
    "            state = nstate\n",
    "    return Q"
   ]
  },
  {
   "cell_type": "markdown",
   "metadata": {
    "deletable": true,
    "editable": true
   },
   "source": [
    "Nice, right? You just pass it an environment, nS and nA are the number of states and actions respectively. \n",
    "\n",
    "Q is a table of states as rows and actions as columns that will hold the expected reward the agent expects to get for taking action 'a' on state 's'. You can see how we initialize Q(s,a)'s to a random value, but also we multiply that by 2. You may ask, why is this? This is called \"Optimism in the face of uncertainty\" and it is a common reinforcement learning technique for encouraging agents to explore. Think about it on an intuitive level. If you think positively most of the time, if you receive a low balling job offer, you are going to pass on it and potentially get a better offer later. Worst case, you don't find any better offer and after 'adjusting' your estimates you will think an offer like the \"low balling\" one you got wasn't that bad after all. The same applies to reinforcement learning agent, cool right?\n",
    "\n",
    "Then, I go on a loop for `n_episodes` using the `action_selection` function as described above. Don't pay too much attention to the range start and end, that is just the way I get the exploration strategy the way I showed. You should not like it, I don't like it. You will have a chance to make it better.\n",
    "\n",
    "For now, let's unleash this agent and see how it does!!!"
   ]
  },
  {
   "cell_type": "code",
   "execution_count": 20,
   "metadata": {
    "collapsed": false,
    "deletable": true,
    "editable": true,
    "scrolled": true
   },
   "outputs": [
    {
     "name": "stderr",
     "output_type": "stream",
     "text": [
      "[2017-04-26 14:54:11,087] Making new env: FrozenLake-v0\n",
      "[2017-04-26 14:54:11,092] Starting new video recorder writing to /tmp/tmpe11j2aj2/openaigym.video.0.93.video000000.json\n",
      "[2017-04-26 14:54:11,094] Starting new video recorder writing to /tmp/tmpe11j2aj2/openaigym.video.0.93.video000001.json\n",
      "[2017-04-26 14:54:11,098] Starting new video recorder writing to /tmp/tmpe11j2aj2/openaigym.video.0.93.video000008.json\n",
      "[2017-04-26 14:54:11,104] Starting new video recorder writing to /tmp/tmpe11j2aj2/openaigym.video.0.93.video000027.json\n",
      "[2017-04-26 14:54:11,116] Starting new video recorder writing to /tmp/tmpe11j2aj2/openaigym.video.0.93.video000064.json\n",
      "[2017-04-26 14:54:11,130] Starting new video recorder writing to /tmp/tmpe11j2aj2/openaigym.video.0.93.video000125.json\n",
      "[2017-04-26 14:54:11,154] Starting new video recorder writing to /tmp/tmpe11j2aj2/openaigym.video.0.93.video000216.json\n",
      "[2017-04-26 14:54:11,183] Starting new video recorder writing to /tmp/tmpe11j2aj2/openaigym.video.0.93.video000343.json\n",
      "[2017-04-26 14:54:11,219] Starting new video recorder writing to /tmp/tmpe11j2aj2/openaigym.video.0.93.video000512.json\n",
      "[2017-04-26 14:54:11,263] Starting new video recorder writing to /tmp/tmpe11j2aj2/openaigym.video.0.93.video000729.json\n",
      "[2017-04-26 14:54:11,328] Starting new video recorder writing to /tmp/tmpe11j2aj2/openaigym.video.0.93.video001000.json\n",
      "[2017-04-26 14:54:11,586] Starting new video recorder writing to /tmp/tmpe11j2aj2/openaigym.video.0.93.video002000.json\n",
      "[2017-04-26 14:54:11,913] Starting new video recorder writing to /tmp/tmpe11j2aj2/openaigym.video.0.93.video003000.json\n",
      "[2017-04-26 14:54:12,217] Starting new video recorder writing to /tmp/tmpe11j2aj2/openaigym.video.0.93.video004000.json\n",
      "[2017-04-26 14:54:12,717] Starting new video recorder writing to /tmp/tmpe11j2aj2/openaigym.video.0.93.video005000.json\n",
      "[2017-04-26 14:54:13,719] Starting new video recorder writing to /tmp/tmpe11j2aj2/openaigym.video.0.93.video006000.json\n",
      "[2017-04-26 14:54:14,796] Starting new video recorder writing to /tmp/tmpe11j2aj2/openaigym.video.0.93.video007000.json\n",
      "[2017-04-26 14:54:15,840] Starting new video recorder writing to /tmp/tmpe11j2aj2/openaigym.video.0.93.video008000.json\n",
      "[2017-04-26 14:54:16,913] Starting new video recorder writing to /tmp/tmpe11j2aj2/openaigym.video.0.93.video009000.json\n"
     ]
    }
   ],
   "source": [
    "mdir = tempfile.mkdtemp()\n",
    "env = gym.make('FrozenLake-v0')\n",
    "env = wrappers.Monitor(env, mdir, force=True)\n",
    "\n",
    "Q = q_learning(env)"
   ]
  },
  {
   "cell_type": "markdown",
   "metadata": {
    "deletable": true,
    "editable": true
   },
   "source": [
    "Let's look at a couple of the episodes in more detail."
   ]
  },
  {
   "cell_type": "code",
   "execution_count": 21,
   "metadata": {
    "collapsed": false,
    "deletable": true,
    "editable": true
   },
   "outputs": [],
   "source": [
    "videos = np.array(env.videos)\n",
    "n_videos = 5\n",
    "\n",
    "idxs = np.linspace(0, len(videos) - 1, n_videos).astype(int)\n",
    "videos = videos[idxs,:]"
   ]
  },
  {
   "cell_type": "code",
   "execution_count": 22,
   "metadata": {
    "collapsed": false,
    "deletable": true,
    "editable": true
   },
   "outputs": [],
   "source": [
    "urls = []\n",
    "for i in range(n_videos):\n",
    "    out = check_output([\"asciinema\", \"upload\", videos[i][0]])\n",
    "    out = out.decode(\"utf-8\").replace('\\n', '').replace('\\r', '')\n",
    "    urls.append([out])\n",
    "videos = np.concatenate((videos, urls), axis=1)"
   ]
  },
  {
   "cell_type": "code",
   "execution_count": 24,
   "metadata": {
    "collapsed": false,
    "deletable": true,
    "editable": true,
    "scrolled": false
   },
   "outputs": [
    {
     "data": {
      "text/html": [
       "\n",
       "    <h2>Episode 0\n",
       "    <script type=\"text/javascript\" \n",
       "        src=\"https://asciinema.org/a/3dv9izu19pspkw388dprzyu6o.js\" \n",
       "        id=\"asciicast-3dv9izu19pspkw388dprzyu6o\" \n",
       "        async data-autoplay=\"true\" data-size=\"big\">\n",
       "    </script>\n",
       "    \n",
       "    <h2>Episode 64\n",
       "    <script type=\"text/javascript\" \n",
       "        src=\"https://asciinema.org/a/7ey2lcpco213cfwialrpuwx8u.js\" \n",
       "        id=\"asciicast-7ey2lcpco213cfwialrpuwx8u\" \n",
       "        async data-autoplay=\"true\" data-size=\"big\">\n",
       "    </script>\n",
       "    \n",
       "    <h2>Episode 729\n",
       "    <script type=\"text/javascript\" \n",
       "        src=\"https://asciinema.org/a/5j0pv593cx2sfoiirwufn9n9i.js\" \n",
       "        id=\"asciicast-5j0pv593cx2sfoiirwufn9n9i\" \n",
       "        async data-autoplay=\"true\" data-size=\"big\">\n",
       "    </script>\n",
       "    \n",
       "    <h2>Episode 4000\n",
       "    <script type=\"text/javascript\" \n",
       "        src=\"https://asciinema.org/a/07vdo951znh9zw45jf5xx6vvf.js\" \n",
       "        id=\"asciicast-07vdo951znh9zw45jf5xx6vvf\" \n",
       "        async data-autoplay=\"true\" data-size=\"big\">\n",
       "    </script>\n",
       "    \n",
       "    <h2>Episode 9000\n",
       "    <script type=\"text/javascript\" \n",
       "        src=\"https://asciinema.org/a/b94b3x0dp1a7929yxgwxf994f.js\" \n",
       "        id=\"asciicast-b94b3x0dp1a7929yxgwxf994f\" \n",
       "        async data-autoplay=\"true\" data-size=\"big\">\n",
       "    </script>\n",
       "    "
      ],
      "text/plain": [
       "<IPython.core.display.HTML object>"
      ]
     },
     "execution_count": 24,
     "metadata": {},
     "output_type": "execute_result"
    }
   ],
   "source": [
    "strm = ''\n",
    "for video_path, meta_path, url in videos:\n",
    "\n",
    "    with open(meta_path) as data_file:    \n",
    "        meta = json.load(data_file)\n",
    "    castid = url.split('/')[-1]\n",
    "    html_tag = \"\"\"\n",
    "    <h2>{0}\n",
    "    <script type=\"text/javascript\" \n",
    "        src=\"https://asciinema.org/a/{1}.js\" \n",
    "        id=\"asciicast-{1}\" \n",
    "        async data-autoplay=\"true\" data-size=\"big\">\n",
    "    </script>\n",
    "    \"\"\"\n",
    "    strm += html_tag.format('Episode ' + str(meta['episode_id']),\n",
    "                               castid)\n",
    "HTML(data=strm)"
   ]
  },
  {
   "cell_type": "markdown",
   "metadata": {
    "deletable": true,
    "editable": true
   },
   "source": [
    "Nice!!!\n",
    "\n",
    "You can see the progress of this agent. From total caos completely sinking into holes, to sliding into the goal fairly consistently.\n",
    "\n",
    "Let's inspect the Values and Policies."
   ]
  },
  {
   "cell_type": "code",
   "execution_count": 25,
   "metadata": {
    "collapsed": false,
    "deletable": true,
    "editable": true
   },
   "outputs": [
    {
     "data": {
      "text/plain": [
       "array([ 0.03843929,  0.00907311,  0.05889145,  0.01216185,  0.07912733,\n",
       "        1.81991842,  0.01744396,  1.7286877 ,  0.09666762,  0.35824406,\n",
       "        0.66550044,  1.76576476,  1.89998862,  0.71040231,  0.97740312,\n",
       "        1.23591297])"
      ]
     },
     "execution_count": 25,
     "metadata": {},
     "output_type": "execute_result"
    }
   ],
   "source": [
    "V = np.max(Q, axis=1)\n",
    "V"
   ]
  },
  {
   "cell_type": "code",
   "execution_count": 27,
   "metadata": {
    "collapsed": false,
    "deletable": true,
    "editable": true
   },
   "outputs": [
    {
     "data": {
      "text/plain": [
       "array([0, 3, 3, 3, 0, 1, 2, 3, 3, 1, 0, 0, 3, 2, 1, 1])"
      ]
     },
     "execution_count": 27,
     "metadata": {},
     "output_type": "execute_result"
    }
   ],
   "source": [
    "pi = np.argmax(Q, axis=1)\n",
    "pi"
   ]
  },
  {
   "cell_type": "markdown",
   "metadata": {
    "deletable": true,
    "editable": true
   },
   "source": [
    "Fair enough, let's close this environment and you will have a chance to submit to your OpenAI account. After that, you will have a chance to modify the `action_selection` to try something different."
   ]
  },
  {
   "cell_type": "code",
   "execution_count": 29,
   "metadata": {
    "collapsed": false,
    "deletable": true,
    "editable": true
   },
   "outputs": [],
   "source": [
    "env.close()"
   ]
  },
  {
   "cell_type": "code",
   "execution_count": 11,
   "metadata": {
    "collapsed": false,
    "deletable": true,
    "editable": true
   },
   "outputs": [
    {
     "name": "stderr",
     "output_type": "stream",
     "text": [
      "[2017-04-02 00:40:50,777] [FrozenLake-v0] Uploading 10000 episodes of training data\n",
      "[2017-04-02 00:40:52,390] [FrozenLake-v0] Uploading videos of 19 training episodes (1810 bytes)\n",
      "[2017-04-02 00:40:52,639] [FrozenLake-v0] Creating evaluation object from /tmp/tmpww4igizw with learning curve and training video\n",
      "[2017-04-02 00:40:52,874] \n",
      "****************************************************\n",
      "You successfully uploaded your evaluation on FrozenLake-v0 to\n",
      "OpenAI Gym! You can find it at:\n",
      "\n",
      "    https://gym.openai.com/evaluations/eval_hGg7u5NwS1a35elvMZC0Q\n",
      "\n",
      "****************************************************\n"
     ]
    }
   ],
   "source": [
    "gym.upload(mdir, api_key='<YOUR OPENAI API KEY>')"
   ]
  },
  {
   "cell_type": "markdown",
   "metadata": {
    "deletable": true,
    "editable": true
   },
   "source": [
    "### Your turn\n",
    "\n",
    "Maybe you want to try an exponential decay?? (http://www.miniwebtool.com/exponential-decay-calculator/)"
   ]
  },
  {
   "cell_type": "markdown",
   "metadata": {
    "deletable": true,
    "editable": true
   },
   "source": [
    "P(t) = P0e-rt\n",
    "\n",
    "where: \n",
    "* P(t) = the amount of some quantity at time t \n",
    "* P0 = initial amount at time t = 0 \n",
    "* r = the decay rate \n",
    "* t = time (number of periods)"
   ]
  },
  {
   "cell_type": "code",
   "execution_count": 73,
   "metadata": {
    "collapsed": true,
    "deletable": true,
    "editable": true
   },
   "outputs": [],
   "source": [
    "def action_selection(state, Q, episode, n_episodes, decay=0.0006, initial=1.00):\n",
    "    epsilon = initial * math.exp(-decay*episode)\n",
    "    if np.random.random() < epsilon:\n",
    "        action = np.random.randint(len(Q[0]))\n",
    "    else:\n",
    "        action = np.argmax(Q[state])\n",
    "    return action, epsilon"
   ]
  },
  {
   "cell_type": "markdown",
   "metadata": {
    "deletable": true,
    "editable": true
   },
   "source": [
    "Use the following code to test your new exploration strategy:"
   ]
  },
  {
   "cell_type": "code",
   "execution_count": 74,
   "metadata": {
    "collapsed": false,
    "deletable": true,
    "editable": true
   },
   "outputs": [
    {
     "data": {
      "text/plain": [
       "<matplotlib.text.Text at 0x7fc798c3ab00>"
      ]
     },
     "execution_count": 74,
     "metadata": {},
     "output_type": "execute_result"
    },
    {
     "data": {
      "image/png": "[encoded data removed]",
      "text/plain": [
       "<matplotlib.figure.Figure at 0x7fc798cc8898>"
      ]
     },
     "metadata": {},
     "output_type": "display_data"
    }
   ],
   "source": [
    "Q = [[0]]\n",
    "n_episodes = 10000\n",
    "epsilons = []\n",
    "for episode in range(n_episodes):\n",
    "    _, epsilon = action_selection(0, Q, episode, n_episodes)\n",
    "    epsilons.append(epsilon)\n",
    "plt.plot(np.arange(len(epsilons)), epsilons, '.')\n",
    "plt.ylabel('Probability')\n",
    "plt.xlabel('Episode')"
   ]
  },
  {
   "cell_type": "markdown",
   "metadata": {
    "deletable": true,
    "editable": true
   },
   "source": [
    "Let's redefine the `q_learning` function we had above and run it against the environment again."
   ]
  },
  {
   "cell_type": "code",
   "execution_count": 75,
   "metadata": {
    "collapsed": true,
    "deletable": true,
    "editable": true
   },
   "outputs": [],
   "source": [
    "def q_learning(env, alpha = 0.9, gamma = 0.9):\n",
    "    nS = env.env.observation_space.n\n",
    "    nA = env.env.action_space.n\n",
    "    \n",
    "    Q = np.random.random((nS, nA)) * 2.0\n",
    "    n_episodes = 10000\n",
    "    \n",
    "    for episode in range(n_episodes):\n",
    "        state = env.reset()\n",
    "        done = False\n",
    "        while not done:\n",
    "            action, _ = action_selection(state, Q, episode, n_episodes)\n",
    "            nstate, reward, done, info = env.step(action)\n",
    "            Q[state][action] += alpha * (reward + gamma * Q[nstate].max() * (not done) - Q[state][action])\n",
    "            state = nstate\n",
    "    return Q"
   ]
  },
  {
   "cell_type": "code",
   "execution_count": 72,
   "metadata": {
    "collapsed": false,
    "deletable": true,
    "editable": true,
    "scrolled": true
   },
   "outputs": [
    {
     "name": "stderr",
     "output_type": "stream",
     "text": [
      "[2017-04-26 15:09:54,069] Making new env: FrozenLake-v0\n",
      "[2017-04-26 15:09:54,081] Starting new video recorder writing to /tmp/tmpwmjvyk26/openaigym.video.2.93.video000000.json\n",
      "[2017-04-26 15:09:54,086] Starting new video recorder writing to /tmp/tmpwmjvyk26/openaigym.video.2.93.video000001.json\n",
      "[2017-04-26 15:09:54,093] Starting new video recorder writing to /tmp/tmpwmjvyk26/openaigym.video.2.93.video000008.json\n",
      "[2017-04-26 15:09:54,104] Starting new video recorder writing to /tmp/tmpwmjvyk26/openaigym.video.2.93.video000027.json\n",
      "[2017-04-26 15:09:54,121] Starting new video recorder writing to /tmp/tmpwmjvyk26/openaigym.video.2.93.video000064.json\n",
      "[2017-04-26 15:09:54,135] Starting new video recorder writing to /tmp/tmpwmjvyk26/openaigym.video.2.93.video000125.json\n",
      "[2017-04-26 15:09:54,155] Starting new video recorder writing to /tmp/tmpwmjvyk26/openaigym.video.2.93.video000216.json\n",
      "[2017-04-26 15:09:54,190] Starting new video recorder writing to /tmp/tmpwmjvyk26/openaigym.video.2.93.video000343.json\n",
      "[2017-04-26 15:09:54,238] Starting new video recorder writing to /tmp/tmpwmjvyk26/openaigym.video.2.93.video000512.json\n",
      "[2017-04-26 15:09:54,294] Starting new video recorder writing to /tmp/tmpwmjvyk26/openaigym.video.2.93.video000729.json\n",
      "[2017-04-26 15:09:54,367] Starting new video recorder writing to /tmp/tmpwmjvyk26/openaigym.video.2.93.video001000.json\n",
      "[2017-04-26 15:09:54,679] Starting new video recorder writing to /tmp/tmpwmjvyk26/openaigym.video.2.93.video002000.json\n",
      "[2017-04-26 15:09:55,004] Starting new video recorder writing to /tmp/tmpwmjvyk26/openaigym.video.2.93.video003000.json\n",
      "[2017-04-26 15:09:55,437] Starting new video recorder writing to /tmp/tmpwmjvyk26/openaigym.video.2.93.video004000.json\n",
      "[2017-04-26 15:09:55,972] Starting new video recorder writing to /tmp/tmpwmjvyk26/openaigym.video.2.93.video005000.json\n",
      "[2017-04-26 15:09:56,626] Starting new video recorder writing to /tmp/tmpwmjvyk26/openaigym.video.2.93.video006000.json\n",
      "[2017-04-26 15:09:57,344] Starting new video recorder writing to /tmp/tmpwmjvyk26/openaigym.video.2.93.video007000.json\n",
      "[2017-04-26 15:09:58,132] Starting new video recorder writing to /tmp/tmpwmjvyk26/openaigym.video.2.93.video008000.json\n",
      "[2017-04-26 15:09:58,978] Starting new video recorder writing to /tmp/tmpwmjvyk26/openaigym.video.2.93.video009000.json\n"
     ]
    }
   ],
   "source": [
    "mdir = tempfile.mkdtemp()\n",
    "env = gym.make('FrozenLake-v0')\n",
    "env = wrappers.Monitor(env, mdir, force=True)\n",
    "\n",
    "Q = q_learning(env)"
   ]
  },
  {
   "cell_type": "markdown",
   "metadata": {
    "deletable": true,
    "editable": true
   },
   "source": [
    "Curious to see how the new agent did?? Let's check it out!"
   ]
  },
  {
   "cell_type": "code",
   "execution_count": 76,
   "metadata": {
    "collapsed": true,
    "deletable": true,
    "editable": true
   },
   "outputs": [],
   "source": [
    "videos = np.array(env.videos)\n",
    "n_videos = 5\n",
    "\n",
    "idxs = np.linspace(0, len(videos) - 1, n_videos).astype(int)\n",
    "videos = videos[idxs,:]"
   ]
  },
  {
   "cell_type": "code",
   "execution_count": 77,
   "metadata": {
    "collapsed": true,
    "deletable": true,
    "editable": true
   },
   "outputs": [],
   "source": [
    "urls = []\n",
    "for i in range(n_videos):\n",
    "    out = check_output([\"asciinema\", \"upload\", videos[i][0]])\n",
    "    out = out.decode(\"utf-8\").replace('\\n', '').replace('\\r', '')\n",
    "    urls.append([out])\n",
    "videos = np.concatenate((videos, urls), axis=1)"
   ]
  },
  {
   "cell_type": "code",
   "execution_count": 78,
   "metadata": {
    "collapsed": false,
    "deletable": true,
    "editable": true
   },
   "outputs": [
    {
     "data": {
      "text/html": [
       "\n",
       "    <h2>Episode 0\n",
       "    <script type=\"text/javascript\" \n",
       "        src=\"https://asciinema.org/a/f37ai65q2i1143m93y7td4rze.js\" \n",
       "        id=\"asciicast-f37ai65q2i1143m93y7td4rze\" \n",
       "        async data-autoplay=\"true\" data-size=\"big\">\n",
       "    </script>\n",
       "    \n",
       "    <h2>Episode 64\n",
       "    <script type=\"text/javascript\" \n",
       "        src=\"https://asciinema.org/a/bdqpkz28pasx1r6b6dv3fppol.js\" \n",
       "        id=\"asciicast-bdqpkz28pasx1r6b6dv3fppol\" \n",
       "        async data-autoplay=\"true\" data-size=\"big\">\n",
       "    </script>\n",
       "    \n",
       "    <h2>Episode 729\n",
       "    <script type=\"text/javascript\" \n",
       "        src=\"https://asciinema.org/a/2kllm3ospnf1gu3uuw75ung4z.js\" \n",
       "        id=\"asciicast-2kllm3ospnf1gu3uuw75ung4z\" \n",
       "        async data-autoplay=\"true\" data-size=\"big\">\n",
       "    </script>\n",
       "    \n",
       "    <h2>Episode 4000\n",
       "    <script type=\"text/javascript\" \n",
       "        src=\"https://asciinema.org/a/8pqqbovk6ewlkmf6aq9r8jgoc.js\" \n",
       "        id=\"asciicast-8pqqbovk6ewlkmf6aq9r8jgoc\" \n",
       "        async data-autoplay=\"true\" data-size=\"big\">\n",
       "    </script>\n",
       "    \n",
       "    <h2>Episode 9000\n",
       "    <script type=\"text/javascript\" \n",
       "        src=\"https://asciinema.org/a/e9r86ld4hcj35c2ir3twzho9o.js\" \n",
       "        id=\"asciicast-e9r86ld4hcj35c2ir3twzho9o\" \n",
       "        async data-autoplay=\"true\" data-size=\"big\">\n",
       "    </script>\n",
       "    "
      ],
      "text/plain": [
       "<IPython.core.display.HTML object>"
      ]
     },
     "execution_count": 78,
     "metadata": {},
     "output_type": "execute_result"
    }
   ],
   "source": [
    "strm = ''\n",
    "for video_path, meta_path, url in videos:\n",
    "\n",
    "    with open(meta_path) as data_file:    \n",
    "        meta = json.load(data_file)\n",
    "    castid = url.split('/')[-1]\n",
    "    html_tag = \"\"\"\n",
    "    <h2>{0}\n",
    "    <script type=\"text/javascript\" \n",
    "        src=\"https://asciinema.org/a/{1}.js\" \n",
    "        id=\"asciicast-{1}\" \n",
    "        async data-autoplay=\"true\" data-size=\"big\">\n",
    "    </script>\n",
    "    \"\"\"\n",
    "    strm += html_tag.format('Episode ' + str(meta['episode_id']),\n",
    "                               castid)\n",
    "HTML(data=strm)"
   ]
  },
  {
   "cell_type": "markdown",
   "metadata": {
    "deletable": true,
    "editable": true
   },
   "source": [
    "Did it do good??? This isn't an easy thing, take your time. Be sure to look into the Notebook solution if you want an idea.\n",
    "\n",
    "For now, let's take a look at the value function and policy the agent came up with."
   ]
  },
  {
   "cell_type": "code",
   "execution_count": 79,
   "metadata": {
    "collapsed": false,
    "deletable": true,
    "editable": true
   },
   "outputs": [
    {
     "data": {
      "text/plain": [
       "array([0])"
      ]
     },
     "execution_count": 79,
     "metadata": {},
     "output_type": "execute_result"
    }
   ],
   "source": [
    "V = np.max(Q, axis=1)\n",
    "V"
   ]
  },
  {
   "cell_type": "code",
   "execution_count": 80,
   "metadata": {
    "collapsed": false,
    "deletable": true,
    "editable": true
   },
   "outputs": [
    {
     "data": {
      "text/plain": [
       "array([0])"
      ]
     },
     "execution_count": 80,
     "metadata": {},
     "output_type": "execute_result"
    }
   ],
   "source": [
    "pi = np.argmax(Q, axis=1)\n",
    "pi"
   ]
  },
  {
   "cell_type": "markdown",
   "metadata": {
    "deletable": true,
    "editable": true
   },
   "source": [
    "Good??? Nice!\n",
    "\n",
    "Let's wrap-up!"
   ]
  },
  {
   "cell_type": "code",
   "execution_count": 81,
   "metadata": {
    "collapsed": false,
    "deletable": true,
    "editable": true
   },
   "outputs": [
    {
     "name": "stderr",
     "output_type": "stream",
     "text": [
      "[2017-04-26 15:13:34,165] Finished writing results. You can upload them to the scoreboard via gym.upload('/tmp/tmpwmjvyk26')\n"
     ]
    }
   ],
   "source": [
    "env.close()"
   ]
  },
  {
   "cell_type": "code",
   "execution_count": null,
   "metadata": {
    "collapsed": true,
    "deletable": true,
    "editable": true
   },
   "outputs": [],
   "source": [
    "gym.upload(mdir, api_key='<YOUR OPENAI API KEY>')"
   ]
  },
  {
   "cell_type": "markdown",
   "metadata": {
    "deletable": true,
    "editable": true
   },
   "source": [
    "So, this notebook shows you how agents do when they don't have a definition of the environment. They will be interacting with it, just like you and I would. \n",
    "\n",
    "Now, we are one step closer, but you probably are wondering, if this is 'model-free' reinforcement learning, is 'model-based' reinforcement learning the algorithms we learned before? Well, not really. Model-based reinforcement learning algorithms use of the experience, perhaps in addition to what model-free algorithms do, to come up models of the environment. This helps for many things, the one worth highlighting are, algorithms can require less computation, and more importantly less exploration. This is vital when experience is expensive to collect. Think a robot learning to walk. What's the price of a robot collapsing into the floor?\n",
    "\n",
    "Additionally, you should have a little thing bothering you. Isn't it disappointing to be dealing with discrete states and actions?? Who are we kidding? A robot doesn't know to go to state 2?!!? \n",
    "\n",
    "So, yeah, we have been working with discrete states and actions. That's just not the way the world works. Let's step it a bit up. In the following lessons we'll discuss what to do when states and later actions are continuous and perhaps too large to even store on a table the way Q does it in q-learning. You ready? Let's go."
   ]
  }
 ],
 "metadata": {
  "kernelspec": {
   "display_name": "Python 3",
   "language": "python",
   "name": "python3"
  },
  "language_info": {
   "codemirror_mode": {
    "name": "ipython",
    "version": 3
   },
   "file_extension": ".py",
   "mimetype": "text/x-python",
   "name": "python",
   "nbconvert_exporter": "python",
   "pygments_lexer": "ipython3",
   "version": "3.5.2"
  }
 },
 "nbformat": 4,
 "nbformat_minor": 2
}
