{
 "cells": [
  {
   "cell_type": "markdown",
   "metadata": {
    "deletable": true,
    "editable": true
   },
   "source": [
    "### State Space Discretization"
   ]
  },
  {
   "cell_type": "markdown",
   "metadata": {
    "deletable": true,
    "editable": true
   },
   "source": [
    "From the previous notebook you probably end up thinking about the fact that the states and action we were dealing with on the Frozen Lake environment were discrete. It should upset you a bit, there is really not much we can do with that? \n",
    "\n",
    "But worry-not! This notebook will relax that constraint. We will look at what to do when the state space is continuous. We will keep actions discrete, but that's OK. For now, we'll look at a very simple way of dealing with continuous states."
   ]
  },
  {
   "cell_type": "code",
   "execution_count": 1,
   "metadata": {
    "collapsed": true,
    "deletable": true,
    "editable": true
   },
   "outputs": [],
   "source": [
    "import numpy as np\n",
    "import pandas as pd\n",
    "import matplotlib.pyplot as plt\n",
    "\n",
    "import tempfile\n",
    "import base64\n",
    "import pprint\n",
    "import json\n",
    "import sys\n",
    "import gym\n",
    "import io\n",
    "\n",
    "from gym import wrappers\n",
    "from subprocess import check_output\n",
    "from IPython.display import HTML"
   ]
  },
  {
   "cell_type": "markdown",
   "metadata": {
    "deletable": true,
    "editable": true
   },
   "source": [
    "#### Q-Learning"
   ]
  },
  {
   "cell_type": "markdown",
   "metadata": {
    "deletable": true,
    "editable": true
   },
   "source": [
    "In the world we will be looking into this time, the Cart Pole example, we have 4 continous values to represent a state. An X position, change in X, acceleration and change in acceleration.\n",
    "\n",
    "Let's take a peek at a single observation:"
   ]
  },
  {
   "cell_type": "code",
   "execution_count": 4,
   "metadata": {
    "collapsed": false,
    "deletable": true,
    "editable": true
   },
   "outputs": [
    {
     "name": "stderr",
     "output_type": "stream",
     "text": [
      "[2017-04-26 16:22:50,371] Making new env: CartPole-v0\n"
     ]
    },
    {
     "name": "stdout",
     "output_type": "stream",
     "text": [
      "[-0.03106447  0.02174884 -0.02941032 -0.0195286 ]\n",
      "Discrete(2)\n"
     ]
    }
   ],
   "source": [
    "env = gym.make('CartPole-v0')\n",
    "observation = env.reset()\n",
    "actions = env.action_space\n",
    "env.close()\n",
    "print(observation)\n",
    "print(actions)"
   ]
  },
  {
   "cell_type": "markdown",
   "metadata": {
    "deletable": true,
    "editable": true
   },
   "source": [
    "Just as expected, a combination of 4 continuous variables make a state, and 2 discrete actions. Hmm, what to do? The actions are sort of the same as before, but the states are definitely different. We can't just create a Q table anymore...\n",
    "\n",
    "Let's look a little more into the the possible values these variables can take. We will explore for 100 episodes just to collect some sample data. You can see I force the algorithm to take the action 1 and action 0 for several consecutive timesteps. This is to make sure we explore the entire space and not just random. If we do random actions the cart would just jitter on the same place and the x axis would not get explored much. Stay with me, I'll show you."
   ]
  },
  {
   "cell_type": "code",
   "execution_count": 10,
   "metadata": {
    "collapsed": false,
    "deletable": true,
    "editable": true,
    "scrolled": true
   },
   "outputs": [
    {
     "name": "stdout",
     "output_type": "stream",
     "text": [
      "Episode finished after 10 timesteps\n",
      "Episode finished after 11 timesteps\n",
      "Episode finished after 8 timesteps\n",
      "Episode finished after 8 timesteps\n",
      "Episode finished after 9 timesteps\n",
      "Episode finished after 8 timesteps\n",
      "Episode finished after 9 timesteps\n",
      "Episode finished after 9 timesteps\n",
      "Episode finished after 11 timesteps\n",
      "Episode finished after 10 timesteps\n",
      "Episode finished after 10 timesteps\n",
      "Episode finished after 10 timesteps\n",
      "Episode finished after 9 timesteps\n",
      "Episode finished after 10 timesteps\n",
      "Episode finished after 8 timesteps\n",
      "Episode finished after 10 timesteps\n",
      "Episode finished after 9 timesteps\n",
      "Episode finished after 9 timesteps\n",
      "Episode finished after 10 timesteps\n",
      "Episode finished after 8 timesteps\n",
      "Episode finished after 10 timesteps\n",
      "Episode finished after 10 timesteps\n",
      "Episode finished after 9 timesteps\n",
      "Episode finished after 9 timesteps\n",
      "Episode finished after 11 timesteps\n",
      "Episode finished after 8 timesteps\n",
      "Episode finished after 9 timesteps\n",
      "Episode finished after 9 timesteps\n",
      "Episode finished after 10 timesteps\n",
      "Episode finished after 9 timesteps\n",
      "Episode finished after 10 timesteps\n",
      "Episode finished after 10 timesteps\n",
      "Episode finished after 9 timesteps\n",
      "Episode finished after 8 timesteps\n",
      "Episode finished after 10 timesteps\n",
      "Episode finished after 9 timesteps\n",
      "Episode finished after 9 timesteps\n",
      "Episode finished after 10 timesteps\n",
      "Episode finished after 10 timesteps\n",
      "Episode finished after 8 timesteps\n",
      "Episode finished after 9 timesteps\n",
      "Episode finished after 8 timesteps\n",
      "Episode finished after 10 timesteps\n",
      "Episode finished after 9 timesteps\n",
      "Episode finished after 10 timesteps\n",
      "Episode finished after 9 timesteps\n",
      "Episode finished after 9 timesteps\n",
      "Episode finished after 10 timesteps\n",
      "Episode finished after 9 timesteps\n",
      "Episode finished after 10 timesteps\n",
      "Episode finished after 15 timesteps\n",
      "Episode finished after 25 timesteps\n",
      "Episode finished after 16 timesteps\n",
      "Episode finished after 22 timesteps\n",
      "Episode finished after 25 timesteps\n",
      "Episode finished after 28 timesteps\n",
      "Episode finished after 49 timesteps\n",
      "Episode finished after 26 timesteps\n",
      "Episode finished after 16 timesteps\n",
      "Episode finished after 14 timesteps\n",
      "Episode finished after 15 timesteps\n",
      "Episode finished after 20 timesteps\n",
      "Episode finished after 12 timesteps\n",
      "Episode finished after 23 timesteps\n",
      "Episode finished after 19 timesteps\n",
      "Episode finished after 49 timesteps\n",
      "Episode finished after 26 timesteps\n",
      "Episode finished after 27 timesteps\n",
      "Episode finished after 25 timesteps\n",
      "Episode finished after 12 timesteps\n",
      "Episode finished after 13 timesteps\n",
      "Episode finished after 35 timesteps\n",
      "Episode finished after 9 timesteps\n",
      "Episode finished after 17 timesteps\n",
      "Episode finished after 22 timesteps\n",
      "Episode finished after 21 timesteps\n",
      "Episode finished after 15 timesteps\n",
      "Episode finished after 37 timesteps\n",
      "Episode finished after 13 timesteps\n",
      "Episode finished after 25 timesteps\n",
      "Episode finished after 26 timesteps\n",
      "Episode finished after 20 timesteps\n",
      "Episode finished after 15 timesteps\n",
      "Episode finished after 12 timesteps\n",
      "Episode finished after 43 timesteps\n",
      "Episode finished after 17 timesteps\n",
      "Episode finished after 13 timesteps\n",
      "Episode finished after 18 timesteps\n",
      "Episode finished after 19 timesteps\n",
      "Episode finished after 16 timesteps\n",
      "Episode finished after 10 timesteps\n",
      "Episode finished after 33 timesteps\n",
      "Episode finished after 14 timesteps\n",
      "Episode finished after 70 timesteps\n",
      "Episode finished after 15 timesteps\n",
      "Episode finished after 11 timesteps\n",
      "Episode finished after 10 timesteps\n",
      "Episode finished after 22 timesteps\n",
      "Episode finished after 18 timesteps\n",
      "Episode finished after 39 timesteps\n",
      "Episode finished after 27 timesteps\n",
      "Episode finished after 33 timesteps\n",
      "Episode finished after 31 timesteps\n",
      "Episode finished after 36 timesteps\n",
      "Episode finished after 31 timesteps\n",
      "Episode finished after 17 timesteps\n",
      "Episode finished after 9 timesteps\n",
      "Episode finished after 15 timesteps\n",
      "Episode finished after 11 timesteps\n",
      "Episode finished after 22 timesteps\n",
      "Episode finished after 9 timesteps\n",
      "Episode finished after 12 timesteps\n",
      "Episode finished after 13 timesteps\n",
      "Episode finished after 14 timesteps\n",
      "Episode finished after 11 timesteps\n",
      "Episode finished after 29 timesteps\n",
      "Episode finished after 30 timesteps\n",
      "Episode finished after 11 timesteps\n",
      "Episode finished after 43 timesteps\n",
      "Episode finished after 15 timesteps\n",
      "Episode finished after 13 timesteps\n",
      "Episode finished after 12 timesteps\n",
      "Episode finished after 32 timesteps\n",
      "Episode finished after 11 timesteps\n",
      "Episode finished after 9 timesteps\n",
      "Episode finished after 11 timesteps\n",
      "Episode finished after 21 timesteps\n",
      "Episode finished after 11 timesteps\n",
      "Episode finished after 14 timesteps\n",
      "Episode finished after 13 timesteps\n",
      "Episode finished after 30 timesteps\n",
      "Episode finished after 18 timesteps\n",
      "Episode finished after 19 timesteps\n",
      "Episode finished after 15 timesteps\n",
      "Episode finished after 16 timesteps\n",
      "Episode finished after 26 timesteps\n",
      "Episode finished after 19 timesteps\n",
      "Episode finished after 15 timesteps\n",
      "Episode finished after 17 timesteps\n",
      "Episode finished after 42 timesteps\n",
      "Episode finished after 36 timesteps\n",
      "Episode finished after 17 timesteps\n",
      "Episode finished after 31 timesteps\n",
      "Episode finished after 10 timesteps\n",
      "Episode finished after 12 timesteps\n",
      "Episode finished after 10 timesteps\n",
      "Episode finished after 19 timesteps\n",
      "Episode finished after 13 timesteps\n",
      "Episode finished after 17 timesteps\n",
      "Episode finished after 24 timesteps\n",
      "Episode finished after 26 timesteps\n",
      "Episode finished after 25 timesteps\n",
      "Episode finished after 9 timesteps\n",
      "Episode finished after 10 timesteps\n",
      "Episode finished after 14 timesteps\n",
      "Episode finished after 16 timesteps\n",
      "Episode finished after 10 timesteps\n",
      "Episode finished after 16 timesteps\n",
      "Episode finished after 18 timesteps\n",
      "Episode finished after 22 timesteps\n",
      "Episode finished after 25 timesteps\n",
      "Episode finished after 14 timesteps\n",
      "Episode finished after 14 timesteps\n",
      "Episode finished after 22 timesteps\n",
      "Episode finished after 14 timesteps\n",
      "Episode finished after 15 timesteps\n",
      "Episode finished after 12 timesteps\n",
      "Episode finished after 13 timesteps\n",
      "Episode finished after 52 timesteps\n",
      "Episode finished after 28 timesteps\n",
      "Episode finished after 18 timesteps\n",
      "Episode finished after 14 timesteps\n",
      "Episode finished after 25 timesteps\n",
      "Episode finished after 15 timesteps\n",
      "Episode finished after 8 timesteps\n",
      "Episode finished after 18 timesteps\n",
      "Episode finished after 25 timesteps\n",
      "Episode finished after 20 timesteps\n",
      "Episode finished after 13 timesteps\n",
      "Episode finished after 13 timesteps\n",
      "Episode finished after 25 timesteps\n",
      "Episode finished after 18 timesteps\n",
      "Episode finished after 17 timesteps\n",
      "Episode finished after 68 timesteps\n",
      "Episode finished after 15 timesteps\n",
      "Episode finished after 13 timesteps\n",
      "Episode finished after 16 timesteps\n",
      "Episode finished after 18 timesteps\n",
      "Episode finished after 14 timesteps\n",
      "Episode finished after 15 timesteps\n",
      "Episode finished after 12 timesteps\n",
      "Episode finished after 16 timesteps\n",
      "Episode finished after 17 timesteps\n",
      "Episode finished after 13 timesteps\n",
      "Episode finished after 12 timesteps\n",
      "Episode finished after 10 timesteps\n",
      "Episode finished after 21 timesteps\n",
      "Episode finished after 12 timesteps\n",
      "Episode finished after 14 timesteps\n",
      "Episode finished after 17 timesteps\n",
      "Episode finished after 21 timesteps\n",
      "Episode finished after 44 timesteps\n",
      "Episode finished after 21 timesteps\n",
      "Episode finished after 31 timesteps\n",
      "Episode finished after 32 timesteps\n",
      "Episode finished after 32 timesteps\n",
      "Episode finished after 15 timesteps\n",
      "Episode finished after 29 timesteps\n",
      "Episode finished after 16 timesteps\n",
      "Episode finished after 49 timesteps\n",
      "Episode finished after 29 timesteps\n",
      "Episode finished after 18 timesteps\n",
      "Episode finished after 12 timesteps\n",
      "Episode finished after 36 timesteps\n",
      "Episode finished after 10 timesteps\n",
      "Episode finished after 36 timesteps\n",
      "Episode finished after 17 timesteps\n",
      "Episode finished after 28 timesteps\n",
      "Episode finished after 24 timesteps\n",
      "Episode finished after 10 timesteps\n",
      "Episode finished after 21 timesteps\n",
      "Episode finished after 35 timesteps\n",
      "Episode finished after 13 timesteps\n",
      "Episode finished after 31 timesteps\n",
      "Episode finished after 18 timesteps\n",
      "Episode finished after 15 timesteps\n",
      "Episode finished after 15 timesteps\n",
      "Episode finished after 28 timesteps\n",
      "Episode finished after 23 timesteps\n",
      "Episode finished after 48 timesteps\n",
      "Episode finished after 19 timesteps\n",
      "Episode finished after 25 timesteps\n",
      "Episode finished after 24 timesteps\n",
      "Episode finished after 30 timesteps\n",
      "Episode finished after 9 timesteps\n",
      "Episode finished after 17 timesteps\n",
      "Episode finished after 62 timesteps\n",
      "Episode finished after 15 timesteps\n",
      "Episode finished after 11 timesteps\n",
      "Episode finished after 22 timesteps\n",
      "Episode finished after 15 timesteps\n",
      "Episode finished after 21 timesteps\n",
      "Episode finished after 13 timesteps\n",
      "Episode finished after 13 timesteps\n",
      "Episode finished after 18 timesteps\n",
      "Episode finished after 30 timesteps\n",
      "Episode finished after 15 timesteps\n",
      "Episode finished after 15 timesteps\n",
      "Episode finished after 41 timesteps\n",
      "Episode finished after 26 timesteps\n",
      "Episode finished after 21 timesteps\n",
      "Episode finished after 19 timesteps\n",
      "Episode finished after 18 timesteps\n",
      "Episode finished after 23 timesteps\n",
      "Episode finished after 27 timesteps\n",
      "Episode finished after 22 timesteps\n",
      "Episode finished after 46 timesteps\n",
      "Episode finished after 12 timesteps\n",
      "Episode finished after 18 timesteps\n",
      "Episode finished after 10 timesteps\n",
      "Episode finished after 9 timesteps\n",
      "Episode finished after 16 timesteps\n",
      "Episode finished after 8 timesteps\n",
      "Episode finished after 42 timesteps\n",
      "Episode finished after 25 timesteps\n",
      "Episode finished after 12 timesteps\n",
      "Episode finished after 20 timesteps\n",
      "Episode finished after 18 timesteps\n",
      "Episode finished after 17 timesteps\n",
      "Episode finished after 15 timesteps\n",
      "Episode finished after 37 timesteps\n",
      "Episode finished after 32 timesteps\n",
      "Episode finished after 33 timesteps\n",
      "Episode finished after 41 timesteps\n",
      "Episode finished after 32 timesteps\n",
      "Episode finished after 25 timesteps\n",
      "Episode finished after 30 timesteps\n",
      "Episode finished after 14 timesteps\n",
      "Episode finished after 45 timesteps\n",
      "Episode finished after 19 timesteps\n",
      "Episode finished after 13 timesteps\n",
      "Episode finished after 19 timesteps\n",
      "Episode finished after 29 timesteps\n",
      "Episode finished after 18 timesteps\n",
      "Episode finished after 11 timesteps\n",
      "Episode finished after 22 timesteps\n",
      "Episode finished after 18 timesteps\n",
      "Episode finished after 22 timesteps\n",
      "Episode finished after 30 timesteps\n",
      "Episode finished after 26 timesteps\n",
      "Episode finished after 26 timesteps\n",
      "Episode finished after 18 timesteps\n",
      "Episode finished after 17 timesteps\n",
      "Episode finished after 43 timesteps\n",
      "Episode finished after 24 timesteps\n",
      "Episode finished after 42 timesteps\n",
      "Episode finished after 30 timesteps\n",
      "Episode finished after 22 timesteps\n",
      "Episode finished after 12 timesteps\n",
      "Episode finished after 39 timesteps\n",
      "Episode finished after 15 timesteps\n",
      "Episode finished after 53 timesteps\n",
      "Episode finished after 11 timesteps\n",
      "Episode finished after 23 timesteps\n",
      "Episode finished after 14 timesteps\n",
      "Episode finished after 34 timesteps\n",
      "Episode finished after 22 timesteps\n",
      "Episode finished after 13 timesteps\n",
      "Episode finished after 25 timesteps\n",
      "Episode finished after 19 timesteps\n",
      "Episode finished after 16 timesteps\n",
      "Episode finished after 38 timesteps\n",
      "Episode finished after 19 timesteps\n",
      "Episode finished after 25 timesteps\n",
      "Episode finished after 16 timesteps\n",
      "Episode finished after 14 timesteps\n",
      "Episode finished after 14 timesteps\n",
      "Episode finished after 13 timesteps\n",
      "Episode finished after 33 timesteps\n",
      "Episode finished after 14 timesteps\n",
      "Episode finished after 43 timesteps\n",
      "Episode finished after 19 timesteps\n",
      "Episode finished after 29 timesteps\n",
      "Episode finished after 33 timesteps\n",
      "Episode finished after 11 timesteps\n",
      "Episode finished after 16 timesteps\n",
      "Episode finished after 46 timesteps\n",
      "Episode finished after 49 timesteps\n",
      "Episode finished after 22 timesteps\n",
      "Episode finished after 14 timesteps\n",
      "Episode finished after 21 timesteps\n",
      "Episode finished after 24 timesteps\n",
      "Episode finished after 44 timesteps\n",
      "Episode finished after 79 timesteps\n",
      "Episode finished after 14 timesteps\n",
      "Episode finished after 15 timesteps\n",
      "Episode finished after 33 timesteps\n",
      "Episode finished after 41 timesteps\n",
      "Episode finished after 22 timesteps\n",
      "Episode finished after 21 timesteps\n",
      "Episode finished after 20 timesteps\n",
      "Episode finished after 16 timesteps\n",
      "Episode finished after 14 timesteps\n",
      "Episode finished after 25 timesteps\n",
      "Episode finished after 14 timesteps\n",
      "Episode finished after 24 timesteps\n",
      "Episode finished after 17 timesteps\n",
      "Episode finished after 24 timesteps\n",
      "Episode finished after 12 timesteps\n",
      "Episode finished after 48 timesteps\n",
      "Episode finished after 17 timesteps\n",
      "Episode finished after 21 timesteps\n",
      "Episode finished after 60 timesteps\n",
      "Episode finished after 10 timesteps\n",
      "Episode finished after 13 timesteps\n",
      "Episode finished after 13 timesteps\n",
      "Episode finished after 18 timesteps\n",
      "Episode finished after 28 timesteps\n",
      "Episode finished after 25 timesteps\n",
      "Episode finished after 17 timesteps\n",
      "Episode finished after 16 timesteps\n",
      "Episode finished after 18 timesteps\n",
      "Episode finished after 31 timesteps\n",
      "Episode finished after 13 timesteps\n",
      "Episode finished after 29 timesteps\n",
      "Episode finished after 23 timesteps\n",
      "Episode finished after 18 timesteps\n",
      "Episode finished after 39 timesteps\n",
      "Episode finished after 52 timesteps\n",
      "Episode finished after 34 timesteps\n",
      "Episode finished after 51 timesteps\n",
      "Episode finished after 17 timesteps\n",
      "Episode finished after 21 timesteps\n",
      "Episode finished after 42 timesteps\n",
      "Episode finished after 9 timesteps\n",
      "Episode finished after 20 timesteps\n",
      "Episode finished after 34 timesteps\n",
      "Episode finished after 41 timesteps\n",
      "Episode finished after 28 timesteps\n",
      "Episode finished after 33 timesteps\n",
      "Episode finished after 15 timesteps\n",
      "Episode finished after 13 timesteps\n",
      "Episode finished after 16 timesteps\n",
      "Episode finished after 43 timesteps\n",
      "Episode finished after 16 timesteps\n",
      "Episode finished after 10 timesteps\n",
      "Episode finished after 20 timesteps\n",
      "Episode finished after 30 timesteps\n",
      "Episode finished after 31 timesteps\n",
      "Episode finished after 11 timesteps\n",
      "Episode finished after 13 timesteps\n",
      "Episode finished after 38 timesteps\n",
      "Episode finished after 28 timesteps\n",
      "Episode finished after 21 timesteps\n",
      "Episode finished after 33 timesteps\n",
      "Episode finished after 18 timesteps\n",
      "Episode finished after 18 timesteps\n",
      "Episode finished after 21 timesteps\n",
      "Episode finished after 25 timesteps\n",
      "Episode finished after 47 timesteps\n",
      "Episode finished after 13 timesteps\n",
      "Episode finished after 25 timesteps\n",
      "Episode finished after 37 timesteps\n",
      "Episode finished after 53 timesteps\n",
      "Episode finished after 45 timesteps\n",
      "Episode finished after 26 timesteps\n",
      "Episode finished after 24 timesteps\n",
      "Episode finished after 16 timesteps\n",
      "Episode finished after 13 timesteps\n",
      "Episode finished after 12 timesteps\n",
      "Episode finished after 14 timesteps\n",
      "Episode finished after 13 timesteps\n",
      "Episode finished after 13 timesteps\n",
      "Episode finished after 17 timesteps\n",
      "Episode finished after 16 timesteps\n",
      "Episode finished after 11 timesteps\n",
      "Episode finished after 15 timesteps\n",
      "Episode finished after 40 timesteps\n",
      "Episode finished after 26 timesteps\n",
      "Episode finished after 17 timesteps\n",
      "Episode finished after 13 timesteps\n",
      "Episode finished after 20 timesteps\n",
      "Episode finished after 18 timesteps\n",
      "Episode finished after 30 timesteps\n",
      "Episode finished after 14 timesteps\n",
      "Episode finished after 25 timesteps\n",
      "Episode finished after 10 timesteps\n",
      "Episode finished after 45 timesteps\n",
      "Episode finished after 50 timesteps\n",
      "Episode finished after 20 timesteps\n",
      "Episode finished after 26 timesteps\n",
      "Episode finished after 25 timesteps\n",
      "Episode finished after 59 timesteps\n",
      "Episode finished after 21 timesteps\n",
      "Episode finished after 27 timesteps\n",
      "Episode finished after 27 timesteps\n",
      "Episode finished after 56 timesteps\n",
      "Episode finished after 17 timesteps\n",
      "Episode finished after 20 timesteps\n",
      "Episode finished after 39 timesteps\n",
      "Episode finished after 11 timesteps\n",
      "Episode finished after 14 timesteps\n",
      "Episode finished after 17 timesteps\n",
      "Episode finished after 29 timesteps\n",
      "Episode finished after 19 timesteps\n",
      "Episode finished after 17 timesteps\n",
      "Episode finished after 17 timesteps\n",
      "Episode finished after 22 timesteps\n",
      "Episode finished after 20 timesteps\n",
      "Episode finished after 59 timesteps\n",
      "Episode finished after 21 timesteps\n",
      "Episode finished after 34 timesteps\n",
      "Episode finished after 44 timesteps\n",
      "Episode finished after 23 timesteps\n",
      "Episode finished after 11 timesteps\n",
      "Episode finished after 24 timesteps\n",
      "Episode finished after 25 timesteps\n",
      "Episode finished after 17 timesteps\n",
      "Episode finished after 12 timesteps\n",
      "Episode finished after 11 timesteps\n",
      "Episode finished after 41 timesteps\n",
      "Episode finished after 17 timesteps\n",
      "Episode finished after 11 timesteps\n",
      "Episode finished after 46 timesteps\n",
      "Episode finished after 17 timesteps\n",
      "Episode finished after 15 timesteps\n",
      "Episode finished after 11 timesteps\n",
      "Episode finished after 22 timesteps\n",
      "Episode finished after 24 timesteps\n",
      "Episode finished after 11 timesteps\n",
      "Episode finished after 32 timesteps\n",
      "Episode finished after 17 timesteps\n",
      "Episode finished after 17 timesteps\n",
      "Episode finished after 21 timesteps\n",
      "Episode finished after 21 timesteps\n",
      "Episode finished after 12 timesteps\n",
      "Episode finished after 21 timesteps\n",
      "Episode finished after 10 timesteps\n",
      "Episode finished after 11 timesteps\n",
      "Episode finished after 15 timesteps\n",
      "Episode finished after 20 timesteps\n",
      "Episode finished after 35 timesteps\n",
      "Episode finished after 11 timesteps\n",
      "Episode finished after 14 timesteps\n",
      "Episode finished after 62 timesteps\n",
      "Episode finished after 19 timesteps\n",
      "Episode finished after 13 timesteps\n",
      "Episode finished after 30 timesteps\n",
      "Episode finished after 13 timesteps\n",
      "Episode finished after 20 timesteps\n",
      "Episode finished after 9 timesteps\n",
      "Episode finished after 20 timesteps\n",
      "Episode finished after 16 timesteps\n",
      "Episode finished after 33 timesteps\n",
      "Episode finished after 18 timesteps\n",
      "Episode finished after 30 timesteps\n",
      "Episode finished after 9 timesteps\n",
      "Episode finished after 11 timesteps\n",
      "Episode finished after 15 timesteps\n",
      "Episode finished after 16 timesteps\n",
      "Episode finished after 13 timesteps\n",
      "Episode finished after 12 timesteps\n",
      "Episode finished after 26 timesteps\n",
      "Episode finished after 12 timesteps\n",
      "Episode finished after 13 timesteps\n",
      "Episode finished after 23 timesteps\n",
      "Episode finished after 23 timesteps\n",
      "Episode finished after 14 timesteps\n",
      "Episode finished after 25 timesteps\n",
      "Episode finished after 21 timesteps\n",
      "Episode finished after 29 timesteps\n",
      "Episode finished after 11 timesteps\n",
      "Episode finished after 14 timesteps\n",
      "Episode finished after 20 timesteps\n",
      "Episode finished after 13 timesteps\n",
      "Episode finished after 20 timesteps\n",
      "Episode finished after 64 timesteps\n",
      "Episode finished after 22 timesteps\n",
      "Episode finished after 27 timesteps\n",
      "Episode finished after 83 timesteps\n",
      "Episode finished after 61 timesteps\n",
      "Episode finished after 13 timesteps\n",
      "Episode finished after 11 timesteps\n",
      "Episode finished after 14 timesteps\n",
      "Episode finished after 13 timesteps\n",
      "Episode finished after 14 timesteps\n",
      "Episode finished after 25 timesteps\n",
      "Episode finished after 25 timesteps\n",
      "Episode finished after 23 timesteps\n",
      "Episode finished after 20 timesteps\n",
      "Episode finished after 12 timesteps\n",
      "Episode finished after 15 timesteps\n",
      "Episode finished after 12 timesteps\n",
      "Episode finished after 44 timesteps\n",
      "Episode finished after 32 timesteps\n",
      "Episode finished after 69 timesteps\n",
      "Episode finished after 28 timesteps\n",
      "Episode finished after 16 timesteps\n",
      "Episode finished after 16 timesteps\n",
      "Episode finished after 16 timesteps\n",
      "Episode finished after 27 timesteps\n",
      "Episode finished after 16 timesteps\n",
      "Episode finished after 43 timesteps\n",
      "Episode finished after 30 timesteps\n",
      "Episode finished after 17 timesteps\n",
      "Episode finished after 28 timesteps\n",
      "Episode finished after 26 timesteps\n",
      "Episode finished after 12 timesteps\n",
      "Episode finished after 20 timesteps\n",
      "Episode finished after 44 timesteps\n",
      "Episode finished after 15 timesteps\n",
      "Episode finished after 15 timesteps\n",
      "Episode finished after 35 timesteps\n",
      "Episode finished after 8 timesteps\n",
      "Episode finished after 28 timesteps\n",
      "Episode finished after 22 timesteps\n",
      "Episode finished after 17 timesteps\n",
      "Episode finished after 19 timesteps\n",
      "Episode finished after 15 timesteps\n",
      "Episode finished after 19 timesteps\n",
      "Episode finished after 14 timesteps\n",
      "Episode finished after 34 timesteps\n",
      "Episode finished after 25 timesteps\n",
      "Episode finished after 18 timesteps\n",
      "Episode finished after 63 timesteps\n",
      "Episode finished after 28 timesteps\n",
      "Episode finished after 43 timesteps\n",
      "Episode finished after 16 timesteps\n",
      "Episode finished after 12 timesteps\n",
      "Episode finished after 12 timesteps\n",
      "Episode finished after 11 timesteps\n",
      "Episode finished after 22 timesteps\n",
      "Episode finished after 18 timesteps\n",
      "Episode finished after 11 timesteps\n",
      "Episode finished after 12 timesteps\n",
      "Episode finished after 19 timesteps\n",
      "Episode finished after 32 timesteps\n",
      "Episode finished after 14 timesteps\n",
      "Episode finished after 14 timesteps\n",
      "Episode finished after 42 timesteps\n",
      "Episode finished after 30 timesteps\n",
      "Episode finished after 12 timesteps\n",
      "Episode finished after 21 timesteps\n",
      "Episode finished after 20 timesteps\n",
      "Episode finished after 49 timesteps\n",
      "Episode finished after 20 timesteps\n",
      "Episode finished after 13 timesteps\n",
      "Episode finished after 22 timesteps\n",
      "Episode finished after 53 timesteps\n",
      "Episode finished after 36 timesteps\n",
      "Episode finished after 22 timesteps\n",
      "Episode finished after 27 timesteps\n",
      "Episode finished after 39 timesteps\n",
      "Episode finished after 15 timesteps\n",
      "Episode finished after 9 timesteps\n",
      "Episode finished after 20 timesteps\n",
      "Episode finished after 24 timesteps\n",
      "Episode finished after 22 timesteps\n",
      "Episode finished after 20 timesteps\n",
      "Episode finished after 21 timesteps\n",
      "Episode finished after 16 timesteps\n",
      "Episode finished after 17 timesteps\n",
      "Episode finished after 29 timesteps\n",
      "Episode finished after 14 timesteps\n",
      "Episode finished after 9 timesteps\n",
      "Episode finished after 11 timesteps\n",
      "Episode finished after 22 timesteps\n",
      "Episode finished after 34 timesteps\n",
      "Episode finished after 27 timesteps\n",
      "Episode finished after 11 timesteps\n",
      "Episode finished after 26 timesteps\n",
      "Episode finished after 18 timesteps\n",
      "Episode finished after 28 timesteps\n",
      "Episode finished after 24 timesteps\n",
      "Episode finished after 14 timesteps\n",
      "Episode finished after 26 timesteps\n",
      "Episode finished after 19 timesteps\n",
      "Episode finished after 38 timesteps\n",
      "Episode finished after 12 timesteps\n",
      "Episode finished after 12 timesteps\n",
      "Episode finished after 15 timesteps\n",
      "Episode finished after 32 timesteps\n",
      "Episode finished after 25 timesteps\n",
      "Episode finished after 20 timesteps\n",
      "Episode finished after 55 timesteps\n",
      "Episode finished after 26 timesteps\n",
      "Episode finished after 26 timesteps\n",
      "Episode finished after 22 timesteps\n",
      "Episode finished after 26 timesteps\n",
      "Episode finished after 22 timesteps\n",
      "Episode finished after 12 timesteps\n",
      "Episode finished after 19 timesteps\n",
      "Episode finished after 22 timesteps\n",
      "Episode finished after 8 timesteps\n",
      "Episode finished after 12 timesteps\n",
      "Episode finished after 26 timesteps\n",
      "Episode finished after 11 timesteps\n",
      "Episode finished after 25 timesteps\n",
      "Episode finished after 20 timesteps\n",
      "Episode finished after 23 timesteps\n",
      "Episode finished after 9 timesteps\n",
      "Episode finished after 11 timesteps\n",
      "Episode finished after 20 timesteps\n",
      "Episode finished after 11 timesteps\n",
      "Episode finished after 19 timesteps\n",
      "Episode finished after 10 timesteps\n",
      "Episode finished after 50 timesteps\n",
      "Episode finished after 15 timesteps\n",
      "Episode finished after 14 timesteps\n",
      "Episode finished after 11 timesteps\n",
      "Episode finished after 26 timesteps\n",
      "Episode finished after 14 timesteps\n",
      "Episode finished after 14 timesteps\n",
      "Episode finished after 11 timesteps\n",
      "Episode finished after 27 timesteps\n",
      "Episode finished after 10 timesteps\n",
      "Episode finished after 29 timesteps\n",
      "Episode finished after 12 timesteps\n",
      "Episode finished after 12 timesteps\n",
      "Episode finished after 39 timesteps\n",
      "Episode finished after 80 timesteps\n",
      "Episode finished after 19 timesteps\n",
      "Episode finished after 11 timesteps\n",
      "Episode finished after 24 timesteps\n",
      "Episode finished after 20 timesteps\n",
      "Episode finished after 14 timesteps\n",
      "Episode finished after 14 timesteps\n",
      "Episode finished after 27 timesteps\n",
      "Episode finished after 10 timesteps\n",
      "Episode finished after 23 timesteps\n",
      "Episode finished after 26 timesteps\n",
      "Episode finished after 41 timesteps\n",
      "Episode finished after 34 timesteps\n",
      "Episode finished after 22 timesteps\n",
      "Episode finished after 39 timesteps\n",
      "Episode finished after 29 timesteps\n",
      "Episode finished after 25 timesteps\n",
      "Episode finished after 13 timesteps\n",
      "Episode finished after 22 timesteps\n",
      "Episode finished after 13 timesteps\n",
      "Episode finished after 14 timesteps\n",
      "Episode finished after 18 timesteps\n",
      "Episode finished after 14 timesteps\n",
      "Episode finished after 47 timesteps\n",
      "Episode finished after 12 timesteps\n",
      "Episode finished after 13 timesteps\n",
      "Episode finished after 19 timesteps\n",
      "Episode finished after 16 timesteps\n",
      "Episode finished after 13 timesteps\n",
      "Episode finished after 8 timesteps\n",
      "Episode finished after 45 timesteps\n",
      "Episode finished after 12 timesteps\n",
      "Episode finished after 14 timesteps\n",
      "Episode finished after 26 timesteps\n",
      "Episode finished after 16 timesteps\n",
      "Episode finished after 22 timesteps\n",
      "Episode finished after 55 timesteps\n",
      "Episode finished after 14 timesteps\n",
      "Episode finished after 28 timesteps\n",
      "Episode finished after 19 timesteps\n",
      "Episode finished after 15 timesteps\n",
      "Episode finished after 14 timesteps\n",
      "Episode finished after 16 timesteps\n",
      "Episode finished after 15 timesteps\n",
      "Episode finished after 28 timesteps\n",
      "Episode finished after 49 timesteps\n",
      "Episode finished after 18 timesteps\n",
      "Episode finished after 11 timesteps\n",
      "Episode finished after 15 timesteps\n",
      "Episode finished after 13 timesteps\n",
      "Episode finished after 9 timesteps\n",
      "Episode finished after 25 timesteps\n",
      "Episode finished after 11 timesteps\n",
      "Episode finished after 26 timesteps\n",
      "Episode finished after 30 timesteps\n",
      "Episode finished after 25 timesteps\n",
      "Episode finished after 15 timesteps\n",
      "Episode finished after 18 timesteps\n",
      "Episode finished after 27 timesteps\n",
      "Episode finished after 20 timesteps\n",
      "Episode finished after 33 timesteps\n",
      "Episode finished after 22 timesteps\n",
      "Episode finished after 17 timesteps\n",
      "Episode finished after 16 timesteps\n",
      "Episode finished after 21 timesteps\n",
      "Episode finished after 21 timesteps\n",
      "Episode finished after 23 timesteps\n",
      "Episode finished after 14 timesteps\n",
      "Episode finished after 13 timesteps\n",
      "Episode finished after 12 timesteps\n",
      "Episode finished after 13 timesteps\n",
      "Episode finished after 22 timesteps\n",
      "Episode finished after 15 timesteps\n",
      "Episode finished after 33 timesteps\n",
      "Episode finished after 24 timesteps\n",
      "Episode finished after 19 timesteps\n",
      "Episode finished after 10 timesteps\n",
      "Episode finished after 13 timesteps\n",
      "Episode finished after 26 timesteps\n",
      "Episode finished after 32 timesteps\n",
      "Episode finished after 45 timesteps\n",
      "Episode finished after 20 timesteps\n",
      "Episode finished after 15 timesteps\n",
      "Episode finished after 17 timesteps\n",
      "Episode finished after 22 timesteps\n",
      "Episode finished after 31 timesteps\n",
      "Episode finished after 11 timesteps\n",
      "Episode finished after 31 timesteps\n",
      "Episode finished after 60 timesteps\n",
      "Episode finished after 16 timesteps\n",
      "Episode finished after 15 timesteps\n",
      "Episode finished after 30 timesteps\n",
      "Episode finished after 32 timesteps\n",
      "Episode finished after 37 timesteps\n",
      "Episode finished after 10 timesteps\n",
      "Episode finished after 30 timesteps\n",
      "Episode finished after 16 timesteps\n",
      "Episode finished after 24 timesteps\n",
      "Episode finished after 63 timesteps\n",
      "Episode finished after 17 timesteps\n",
      "Episode finished after 12 timesteps\n",
      "Episode finished after 10 timesteps\n",
      "Episode finished after 19 timesteps\n",
      "Episode finished after 14 timesteps\n",
      "Episode finished after 15 timesteps\n",
      "Episode finished after 35 timesteps\n",
      "Episode finished after 29 timesteps\n",
      "Episode finished after 19 timesteps\n",
      "Episode finished after 12 timesteps\n",
      "Episode finished after 20 timesteps\n",
      "Episode finished after 86 timesteps\n",
      "Episode finished after 12 timesteps\n",
      "Episode finished after 37 timesteps\n",
      "Episode finished after 16 timesteps\n",
      "Episode finished after 20 timesteps\n",
      "Episode finished after 39 timesteps\n",
      "Episode finished after 10 timesteps\n",
      "Episode finished after 24 timesteps\n",
      "Episode finished after 24 timesteps\n",
      "Episode finished after 10 timesteps\n",
      "Episode finished after 53 timesteps\n",
      "Episode finished after 11 timesteps\n",
      "Episode finished after 12 timesteps\n",
      "Episode finished after 10 timesteps\n",
      "Episode finished after 12 timesteps\n",
      "Episode finished after 14 timesteps\n",
      "Episode finished after 12 timesteps\n",
      "Episode finished after 14 timesteps\n",
      "Episode finished after 21 timesteps\n",
      "Episode finished after 24 timesteps\n",
      "Episode finished after 21 timesteps\n",
      "Episode finished after 21 timesteps\n",
      "Episode finished after 14 timesteps\n",
      "Episode finished after 18 timesteps\n",
      "Episode finished after 24 timesteps\n",
      "Episode finished after 28 timesteps\n",
      "Episode finished after 17 timesteps\n",
      "Episode finished after 10 timesteps\n",
      "Episode finished after 12 timesteps\n",
      "Episode finished after 20 timesteps\n",
      "Episode finished after 24 timesteps\n",
      "Episode finished after 15 timesteps\n",
      "Episode finished after 14 timesteps\n",
      "Episode finished after 23 timesteps\n",
      "Episode finished after 18 timesteps\n",
      "Episode finished after 19 timesteps\n",
      "Episode finished after 12 timesteps\n",
      "Episode finished after 11 timesteps\n",
      "Episode finished after 10 timesteps\n",
      "Episode finished after 38 timesteps\n",
      "Episode finished after 28 timesteps\n",
      "Episode finished after 9 timesteps\n",
      "Episode finished after 24 timesteps\n",
      "Episode finished after 22 timesteps\n",
      "Episode finished after 15 timesteps\n",
      "Episode finished after 31 timesteps\n",
      "Episode finished after 15 timesteps\n",
      "Episode finished after 36 timesteps\n",
      "Episode finished after 11 timesteps\n",
      "Episode finished after 20 timesteps\n",
      "Episode finished after 29 timesteps\n",
      "Episode finished after 13 timesteps\n",
      "Episode finished after 17 timesteps\n",
      "Episode finished after 31 timesteps\n",
      "Episode finished after 13 timesteps\n",
      "Episode finished after 26 timesteps\n",
      "Episode finished after 17 timesteps\n",
      "Episode finished after 13 timesteps\n",
      "Episode finished after 18 timesteps\n",
      "Episode finished after 42 timesteps\n",
      "Episode finished after 51 timesteps\n",
      "Episode finished after 25 timesteps\n",
      "Episode finished after 18 timesteps\n",
      "Episode finished after 12 timesteps\n",
      "Episode finished after 36 timesteps\n",
      "Episode finished after 13 timesteps\n",
      "Episode finished after 22 timesteps\n",
      "Episode finished after 12 timesteps\n",
      "Episode finished after 21 timesteps\n",
      "Episode finished after 42 timesteps\n",
      "Episode finished after 13 timesteps\n",
      "Episode finished after 25 timesteps\n",
      "Episode finished after 28 timesteps\n",
      "Episode finished after 23 timesteps\n",
      "Episode finished after 9 timesteps\n",
      "Episode finished after 11 timesteps\n",
      "Episode finished after 15 timesteps\n",
      "Episode finished after 15 timesteps\n",
      "Episode finished after 23 timesteps\n",
      "Episode finished after 15 timesteps\n",
      "Episode finished after 28 timesteps\n",
      "Episode finished after 27 timesteps\n",
      "Episode finished after 15 timesteps\n",
      "Episode finished after 13 timesteps\n",
      "Episode finished after 16 timesteps\n",
      "Episode finished after 16 timesteps\n",
      "Episode finished after 15 timesteps\n",
      "Episode finished after 14 timesteps\n",
      "Episode finished after 9 timesteps\n",
      "Episode finished after 17 timesteps\n",
      "Episode finished after 13 timesteps\n",
      "Episode finished after 20 timesteps\n",
      "Episode finished after 29 timesteps\n",
      "Episode finished after 25 timesteps\n",
      "Episode finished after 16 timesteps\n",
      "Episode finished after 16 timesteps\n",
      "Episode finished after 15 timesteps\n",
      "Episode finished after 20 timesteps\n",
      "Episode finished after 37 timesteps\n",
      "Episode finished after 72 timesteps\n",
      "Episode finished after 13 timesteps\n",
      "Episode finished after 12 timesteps\n",
      "Episode finished after 28 timesteps\n",
      "Episode finished after 16 timesteps\n",
      "Episode finished after 39 timesteps\n",
      "Episode finished after 16 timesteps\n",
      "Episode finished after 20 timesteps\n",
      "Episode finished after 32 timesteps\n",
      "Episode finished after 26 timesteps\n",
      "Episode finished after 47 timesteps\n",
      "Episode finished after 11 timesteps\n",
      "Episode finished after 39 timesteps\n",
      "Episode finished after 31 timesteps\n",
      "Episode finished after 11 timesteps\n",
      "Episode finished after 14 timesteps\n",
      "Episode finished after 12 timesteps\n",
      "Episode finished after 11 timesteps\n",
      "Episode finished after 19 timesteps\n",
      "Episode finished after 9 timesteps\n",
      "Episode finished after 33 timesteps\n",
      "Episode finished after 20 timesteps\n",
      "Episode finished after 15 timesteps\n",
      "Episode finished after 25 timesteps\n",
      "Episode finished after 27 timesteps\n",
      "Episode finished after 26 timesteps\n",
      "Episode finished after 12 timesteps\n",
      "Episode finished after 33 timesteps\n",
      "Episode finished after 14 timesteps\n",
      "Episode finished after 20 timesteps\n",
      "Episode finished after 14 timesteps\n",
      "Episode finished after 17 timesteps\n",
      "Episode finished after 12 timesteps\n",
      "Episode finished after 23 timesteps\n",
      "Episode finished after 21 timesteps\n",
      "Episode finished after 28 timesteps\n",
      "Episode finished after 20 timesteps\n",
      "Episode finished after 11 timesteps\n",
      "Episode finished after 11 timesteps\n",
      "Episode finished after 20 timesteps\n",
      "Episode finished after 11 timesteps\n",
      "Episode finished after 26 timesteps\n",
      "Episode finished after 9 timesteps\n",
      "Episode finished after 11 timesteps\n",
      "Episode finished after 51 timesteps\n",
      "Episode finished after 25 timesteps\n",
      "Episode finished after 54 timesteps\n",
      "Episode finished after 13 timesteps\n",
      "Episode finished after 18 timesteps\n",
      "Episode finished after 29 timesteps\n",
      "Episode finished after 14 timesteps\n",
      "Episode finished after 12 timesteps\n",
      "Episode finished after 49 timesteps\n",
      "Episode finished after 10 timesteps\n",
      "Episode finished after 23 timesteps\n",
      "Episode finished after 19 timesteps\n",
      "Episode finished after 13 timesteps\n",
      "Episode finished after 60 timesteps\n",
      "Episode finished after 39 timesteps\n",
      "Episode finished after 17 timesteps\n",
      "Episode finished after 9 timesteps\n",
      "Episode finished after 34 timesteps\n",
      "Episode finished after 10 timesteps\n",
      "Episode finished after 30 timesteps\n",
      "Episode finished after 22 timesteps\n",
      "Episode finished after 20 timesteps\n",
      "Episode finished after 16 timesteps\n",
      "Episode finished after 17 timesteps\n",
      "Episode finished after 30 timesteps\n",
      "Episode finished after 36 timesteps\n",
      "Episode finished after 58 timesteps\n",
      "Episode finished after 32 timesteps\n",
      "Episode finished after 16 timesteps\n",
      "Episode finished after 34 timesteps\n",
      "Episode finished after 11 timesteps\n",
      "Episode finished after 23 timesteps\n",
      "Episode finished after 16 timesteps\n",
      "Episode finished after 14 timesteps\n",
      "Episode finished after 12 timesteps\n",
      "Episode finished after 24 timesteps\n",
      "Episode finished after 10 timesteps\n",
      "Episode finished after 37 timesteps\n",
      "Episode finished after 24 timesteps\n",
      "Episode finished after 18 timesteps\n",
      "Episode finished after 25 timesteps\n",
      "Episode finished after 28 timesteps\n",
      "Episode finished after 56 timesteps\n",
      "Episode finished after 16 timesteps\n",
      "Episode finished after 30 timesteps\n",
      "Episode finished after 18 timesteps\n",
      "Episode finished after 12 timesteps\n",
      "Episode finished after 23 timesteps\n",
      "Episode finished after 35 timesteps\n",
      "Episode finished after 27 timesteps\n",
      "Episode finished after 18 timesteps\n",
      "Episode finished after 19 timesteps\n",
      "Episode finished after 25 timesteps\n",
      "Episode finished after 33 timesteps\n",
      "Episode finished after 12 timesteps\n",
      "Episode finished after 14 timesteps\n",
      "Episode finished after 24 timesteps\n",
      "Episode finished after 11 timesteps\n",
      "Episode finished after 26 timesteps\n",
      "Episode finished after 25 timesteps\n",
      "Episode finished after 20 timesteps\n",
      "Episode finished after 19 timesteps\n",
      "Episode finished after 17 timesteps\n",
      "Episode finished after 16 timesteps\n",
      "Episode finished after 27 timesteps\n",
      "Episode finished after 16 timesteps\n",
      "Episode finished after 12 timesteps\n",
      "Episode finished after 21 timesteps\n",
      "Episode finished after 18 timesteps\n",
      "Episode finished after 14 timesteps\n",
      "Episode finished after 22 timesteps\n",
      "Episode finished after 19 timesteps\n",
      "Episode finished after 14 timesteps\n",
      "Episode finished after 21 timesteps\n",
      "Episode finished after 22 timesteps\n",
      "Episode finished after 16 timesteps\n",
      "Episode finished after 11 timesteps\n",
      "Episode finished after 22 timesteps\n",
      "Episode finished after 30 timesteps\n",
      "Episode finished after 18 timesteps\n",
      "Episode finished after 14 timesteps\n",
      "Episode finished after 25 timesteps\n",
      "Episode finished after 29 timesteps\n",
      "Episode finished after 16 timesteps\n",
      "Episode finished after 15 timesteps\n",
      "Episode finished after 44 timesteps\n"
     ]
    }
   ],
   "source": [
    "observations = []\n",
    "for episode in range(1000):\n",
    "    observation = env.reset()\n",
    "    for t in range(100):\n",
    "        env.render()\n",
    "        observations.append(observation)\n",
    "        action = env.action_space.sample()\n",
    "        if episode < 25:\n",
    "            action = 1\n",
    "        elif episode < 50:\n",
    "            action = 0\n",
    "        observation, reward, done, info = env.step(action)\n",
    "        if done:\n",
    "            print(\"Episode finished after {} timesteps\".format(t+1))\n",
    "            break\n",
    "env.close()\n",
    "x_vals = np.array(observations)[:,0]\n",
    "xd_vals = np.array(observations)[:,1]\n",
    "a_vals = np.array(observations)[:,2]\n",
    "ad_vals = np.array(observations)[:,3]\n",
    "y = np.zeros_like(x_vals)"
   ]
  },
  {
   "cell_type": "markdown",
   "metadata": {
    "deletable": true,
    "editable": true
   },
   "source": [
    "Let's visualize the values that each of the variables can take:"
   ]
  },
  {
   "cell_type": "code",
   "execution_count": 12,
   "metadata": {
    "collapsed": false,
    "deletable": true,
    "editable": true
   },
   "outputs": [
    {
     "data": {
      "text/plain": [
       "(-0.15, 0.15)"
      ]
     },
     "execution_count": 12,
     "metadata": {},
     "output_type": "execute_result"
    },
    {
     "data": {
      "image/png": "[encoded data removed]",
      "text/plain": [
       "<matplotlib.figure.Figure at 0x7f85d9687a58>"
      ]
     },
     "metadata": {},
     "output_type": "display_data"
    }
   ],
   "source": [
    "plt.plot(x_vals, y + 0.10, '.')\n",
    "plt.plot(xd_vals, y + 0.05, '.')\n",
    "plt.plot(a_vals, y - 0.05, '.')\n",
    "plt.plot(ad_vals, y - 0.10, '.')\n",
    "\n",
    "plt.ylim([-0.15, 0.15])"
   ]
  },
  {
   "cell_type": "markdown",
   "metadata": {
    "deletable": true,
    "editable": true
   },
   "source": [
    "See? The x values seem to go from -1 to 1, changes in x from -2 to 2, etc.\n",
    "\n",
    "In fact, we can get the exact values from the `env`, although you could just sample a bunch of episodes and find out the limits yourself. Let's use the environments to keep focus."
   ]
  },
  {
   "cell_type": "code",
   "execution_count": 13,
   "metadata": {
    "collapsed": true,
    "deletable": true,
    "editable": true
   },
   "outputs": [],
   "source": [
    "x_thres = ((env.env.observation_space.low/2)[0],\n",
    "           (env.env.observation_space.high/2)[0])\n",
    "a_thres = ((env.env.observation_space.low/2)[2],\n",
    "           (env.env.observation_space.high/2)[2])"
   ]
  },
  {
   "cell_type": "code",
   "execution_count": 14,
   "metadata": {
    "collapsed": false,
    "deletable": true,
    "editable": true
   },
   "outputs": [
    {
     "name": "stdout",
     "output_type": "stream",
     "text": [
      "(-2.3999999999999999, 2.3999999999999999) (-0.20943951023931953, 0.20943951023931953)\n"
     ]
    }
   ],
   "source": [
    "print(x_thres, a_thres)"
   ]
  },
  {
   "cell_type": "markdown",
   "metadata": {
    "deletable": true,
    "editable": true
   },
   "source": [
    "Not exactly the same as we thought. Can you think why? And, how to explore the state space throughout?\n",
    "\n",
    "Regardless, I will move forward trying to solve this environment. What we have above is good enough because it gives us the most commonly sampled observations for each of the variables. Cutting through these and boxing them is a process called discretization. It is basically a way to convert from continuous states to discrete. This would let us deal with the continous states nicely.\n",
    "\n",
    "Let's try it."
   ]
  },
  {
   "cell_type": "code",
   "execution_count": 16,
   "metadata": {
    "collapsed": false,
    "deletable": true,
    "editable": true
   },
   "outputs": [
    {
     "data": {
      "text/plain": [
       "[<matplotlib.lines.Line2D at 0x7f85d9574cf8>]"
      ]
     },
     "execution_count": 16,
     "metadata": {},
     "output_type": "execute_result"
    },
    {
     "data": {
      "image/png": "[encoded data removed]",
      "text/plain": [
       "<matplotlib.figure.Figure at 0x7f85d95e42e8>"
      ]
     },
     "metadata": {},
     "output_type": "display_data"
    }
   ],
   "source": [
    "x1 = np.linspace(x_thres[0] + .5, x_thres[1] - .5, \n",
    "                 4, endpoint=False)[1:]\n",
    "y1 = np.zeros(len(x1)) + 0.05\n",
    "\n",
    "plt.ylim([-0.075, 0.075])\n",
    "plt.plot(x1, y1, 'o')\n",
    "plt.plot(x_vals, y, '.')"
   ]
  },
  {
   "cell_type": "markdown",
   "metadata": {
    "deletable": true,
    "editable": true
   },
   "source": [
    "I'm creating 4 states, anything left/right of each of the dots represent a unique state.\n",
    "\n",
    "Let's do the same for the variable 'change in x' or xd:"
   ]
  },
  {
   "cell_type": "code",
   "execution_count": 17,
   "metadata": {
    "collapsed": false,
    "deletable": true,
    "editable": true
   },
   "outputs": [
    {
     "data": {
      "text/plain": [
       "[<matplotlib.lines.Line2D at 0x7f85d94e3198>]"
      ]
     },
     "execution_count": 17,
     "metadata": {},
     "output_type": "execute_result"
    },
    {
     "data": {
      "image/png": "[encoded data removed]",
      "text/plain": [
       "<matplotlib.figure.Figure at 0x7f85d951e588>"
      ]
     },
     "metadata": {},
     "output_type": "display_data"
    }
   ],
   "source": [
    "xd1 = np.sort(np.append(np.linspace(-1.5, 1.5, 4, endpoint=True), 0))\n",
    "y1 = np.zeros(len(xd1)) + 0.05\n",
    "\n",
    "plt.ylim([-0.075, 0.075])\n",
    "plt.plot(xd1, y1, 'o')\n",
    "plt.plot(xd_vals, y, '.')"
   ]
  },
  {
   "cell_type": "markdown",
   "metadata": {
    "deletable": true,
    "editable": true
   },
   "source": [
    "And for the acceleration variable:"
   ]
  },
  {
   "cell_type": "code",
   "execution_count": 18,
   "metadata": {
    "collapsed": false,
    "deletable": true,
    "editable": true
   },
   "outputs": [
    {
     "data": {
      "text/plain": [
       "[<matplotlib.lines.Line2D at 0x7f85d944a518>]"
      ]
     },
     "execution_count": 18,
     "metadata": {},
     "output_type": "execute_result"
    },
    {
     "data": {
      "image/png": "[encoded data removed]",
      "text/plain": [
       "<matplotlib.figure.Figure at 0x7f85d9478e48>"
      ]
     },
     "metadata": {},
     "output_type": "display_data"
    }
   ],
   "source": [
    "a1 = np.sort(np.linspace(a_thres[0], a_thres[1],\n",
    "                         10, endpoint=False)[1:])\n",
    "y1 = np.zeros(len(a1)) + 0.05\n",
    "\n",
    "plt.ylim([-0.1, 0.1])\n",
    "plt.plot(a1, y1, 'o')\n",
    "plt.plot(a_vals, y, '.')"
   ]
  },
  {
   "cell_type": "markdown",
   "metadata": {
    "deletable": true,
    "editable": true
   },
   "source": [
    "Finally, the 'change in acceleration':"
   ]
  },
  {
   "cell_type": "code",
   "execution_count": 20,
   "metadata": {
    "collapsed": false,
    "deletable": true,
    "editable": true
   },
   "outputs": [
    {
     "data": {
      "text/plain": [
       "[<matplotlib.lines.Line2D at 0x7f85d93a5470>]"
      ]
     },
     "execution_count": 20,
     "metadata": {},
     "output_type": "execute_result"
    },
    {
     "data": {
      "image/png": "[encoded data removed]",
      "text/plain": [
       "<matplotlib.figure.Figure at 0x7f85d9411240>"
      ]
     },
     "metadata": {},
     "output_type": "display_data"
    }
   ],
   "source": [
    "all_vals = np.sort(np.append(\n",
    "    (np.logspace(-7, 4, 6, endpoint=False, base=2)[1:],\n",
    "    -np.logspace(-7, 4, 6, endpoint=False, base=2)[1:]), 0))\n",
    "idxs = np.where(np.abs(all_vals) < 2)\n",
    "ad1 = all_vals[idxs]\n",
    "y1 = np.zeros(len(ad1)) + 0.05\n",
    "\n",
    "plt.ylim([-0.075, 0.075])\n",
    "plt.plot(ad1, y1, 'o')\n",
    "plt.plot(ad_vals, y, '.')"
   ]
  },
  {
   "cell_type": "markdown",
   "metadata": {
    "deletable": true,
    "editable": true
   },
   "source": [
    "Now, we use a function called 'digitize' which basically creates the buckets as mentioned above."
   ]
  },
  {
   "cell_type": "code",
   "execution_count": 21,
   "metadata": {
    "collapsed": false,
    "deletable": true,
    "editable": true
   },
   "outputs": [
    {
     "data": {
      "text/plain": [
       "array([-0.16755161, -0.12566371, -0.0837758 , -0.0418879 ,  0.        ,\n",
       "        0.0418879 ,  0.0837758 ,  0.12566371,  0.16755161])"
      ]
     },
     "execution_count": 21,
     "metadata": {},
     "output_type": "execute_result"
    }
   ],
   "source": [
    "a1"
   ]
  },
  {
   "cell_type": "markdown",
   "metadata": {
    "deletable": true,
    "editable": true
   },
   "source": [
    "For example, look at the acceleration variable. We go from -0.16 to 0.16 with equally spaced chunks. What would you expect a value of -0.99 fall into? Which bucket?"
   ]
  },
  {
   "cell_type": "code",
   "execution_count": 22,
   "metadata": {
    "collapsed": false,
    "deletable": true,
    "editable": true
   },
   "outputs": [
    {
     "data": {
      "text/plain": [
       "array(0)"
      ]
     },
     "execution_count": 22,
     "metadata": {},
     "output_type": "execute_result"
    }
   ],
   "source": [
    "np.digitize(-0.99, a1)"
   ]
  },
  {
   "cell_type": "markdown",
   "metadata": {
    "deletable": true,
    "editable": true
   },
   "source": [
    "Right. Bucket 0. How about a value of 0. If -0.99, which is less than -0.16 (the first bucket) falls into the first bucket, what do you think 0 would fall into?"
   ]
  },
  {
   "cell_type": "code",
   "execution_count": 23,
   "metadata": {
    "collapsed": false,
    "deletable": true,
    "editable": true
   },
   "outputs": [
    {
     "data": {
      "text/plain": [
       "array(5)"
      ]
     },
     "execution_count": 23,
     "metadata": {},
     "output_type": "execute_result"
    }
   ],
   "source": [
    "np.digitize(0, a1)"
   ]
  },
  {
   "cell_type": "markdown",
   "metadata": {
    "deletable": true,
    "editable": true
   },
   "source": [
    "That was actually a tricky question. Digitize default to the 'left' if the value is equal to any of the buckets. How about a value slightly less than zero then? What bucket do you call? "
   ]
  },
  {
   "cell_type": "code",
   "execution_count": 24,
   "metadata": {
    "collapsed": false,
    "deletable": true,
    "editable": true
   },
   "outputs": [
    {
     "data": {
      "text/plain": [
       "array(4)"
      ]
     },
     "execution_count": 24,
     "metadata": {},
     "output_type": "execute_result"
    }
   ],
   "source": [
    "np.digitize(-0.0001, a1)"
   ]
  },
  {
   "cell_type": "markdown",
   "metadata": {
    "deletable": true,
    "editable": true
   },
   "source": [
    "Right, 4 it is, how about a number slightly more than zero?"
   ]
  },
  {
   "cell_type": "code",
   "execution_count": 25,
   "metadata": {
    "collapsed": false,
    "deletable": true,
    "editable": true
   },
   "outputs": [
    {
     "data": {
      "text/plain": [
       "array(5)"
      ]
     },
     "execution_count": 25,
     "metadata": {},
     "output_type": "execute_result"
    }
   ],
   "source": [
    "np.digitize(0.0001, a1)"
   ]
  },
  {
   "cell_type": "markdown",
   "metadata": {
    "deletable": true,
    "editable": true
   },
   "source": [
    "Back to 5.\n",
    "\n",
    "Cool!!\n",
    "\n",
    "Let's look at the buckets next to each of the variables."
   ]
  },
  {
   "cell_type": "code",
   "execution_count": 26,
   "metadata": {
    "collapsed": false,
    "deletable": true,
    "editable": true
   },
   "outputs": [
    {
     "data": {
      "text/plain": [
       "[<matplotlib.lines.Line2D at 0x7f85d9326cf8>]"
      ]
     },
     "execution_count": 26,
     "metadata": {},
     "output_type": "execute_result"
    },
    {
     "data": {
      "image/png": "[encoded data removed]",
      "text/plain": [
       "<matplotlib.figure.Figure at 0x7f85d93f26d8>"
      ]
     },
     "metadata": {},
     "output_type": "display_data"
    }
   ],
   "source": [
    "yx1 = np.zeros_like(x1) + 0.25\n",
    "yx = np.zeros_like(x_vals) + 0.20\n",
    "yxd1 = np.zeros_like(xd1) + 0.10\n",
    "yxd = np.zeros_like(xd_vals) + 0.05\n",
    "ya1 = np.zeros_like(a1) - 0.05\n",
    "ya = np.zeros_like(a_vals) - 0.10\n",
    "yad1 = np.zeros_like(ad1) - 0.20\n",
    "yad = np.zeros_like(ad_vals) - 0.25\n",
    "\n",
    "plt.ylim([-0.3, 0.3])\n",
    "\n",
    "plt.plot(x1, yx1, '|')\n",
    "plt.plot(xd1, yxd1, '|')\n",
    "plt.plot(a1, ya1, '|')\n",
    "plt.plot(ad1, yad1, '|')\n",
    "\n",
    "plt.plot(x_vals, yx, '.')\n",
    "plt.plot(xd_vals, yxd, '.')\n",
    "plt.plot(a_vals, ya, '.')\n",
    "plt.plot(ad_vals, yad, '.')"
   ]
  },
  {
   "cell_type": "markdown",
   "metadata": {
    "deletable": true,
    "editable": true
   },
   "source": [
    "Nice, how about we add the lower and upper boundaries we got before?"
   ]
  },
  {
   "cell_type": "code",
   "execution_count": 28,
   "metadata": {
    "collapsed": false,
    "deletable": true,
    "editable": true
   },
   "outputs": [
    {
     "data": {
      "text/plain": [
       "[<matplotlib.lines.Line2D at 0x7f85dd1ac940>]"
      ]
     },
     "execution_count": 28,
     "metadata": {},
     "output_type": "execute_result"
    },
    {
     "data": {
      "image/png": "[encoded data removed]",
      "text/plain": [
       "<matplotlib.figure.Figure at 0x7f85d95c6400>"
      ]
     },
     "metadata": {},
     "output_type": "display_data"
    }
   ],
   "source": [
    "yx1 = np.zeros_like(x1) + 0.25\n",
    "yx = np.zeros_like(x_vals) + 0.20\n",
    "yxd1 = np.zeros_like(xd1) + 0.10\n",
    "yxd = np.zeros_like(xd_vals) + 0.05\n",
    "ya1 = np.zeros_like(a1) - 0.05\n",
    "ya = np.zeros_like(a_vals) - 0.10\n",
    "yad1 = np.zeros_like(ad1) - 0.20\n",
    "yad = np.zeros_like(ad_vals) - 0.25\n",
    "\n",
    "plt.plot(x1, yx1, '|')\n",
    "plt.plot(xd1, yxd1, '|')\n",
    "plt.plot(a1, ya1, '|')\n",
    "plt.plot(ad1, yad1, '|')\n",
    "\n",
    "plt.plot(x_vals, yx, '.')\n",
    "plt.plot(xd_vals, yxd, '.')\n",
    "plt.plot(a_vals, ya, '.')\n",
    "plt.plot(ad_vals, yad, '.')\n",
    "\n",
    "\n",
    "plt.ylim([-0.3, 0.3])\n",
    "\n",
    "plt.plot((x_thres[0], x_thres[0]), (0.15, 0.25), 'k-', color='red')\n",
    "plt.plot((x_thres[1], x_thres[1]), (0.15, 0.25), 'k-', color='red')\n",
    "plt.plot((a_thres[0], a_thres[0]), (-0.05, -0.15), 'k-', color='red')\n",
    "plt.plot((a_thres[1], a_thres[1]), (-0.05, -0.15), 'k-', color='red')"
   ]
  },
  {
   "cell_type": "markdown",
   "metadata": {
    "deletable": true,
    "editable": true
   },
   "source": [
    "Nice, you might not agree with the buckets I selected. That is OK, in fact I hope you don't, there seems to be a better way of manually selecting these buckets. You will get a chance at improving on this later.\n",
    "\n",
    "Let me give you a couple of functions that would make our algorithm work."
   ]
  },
  {
   "cell_type": "code",
   "execution_count": 29,
   "metadata": {
    "collapsed": true,
    "deletable": true,
    "editable": true
   },
   "outputs": [],
   "source": [
    "def learning_schedule(episode, n_episodes):\n",
    "    return max(0., min(0.8, 1 - episode/n_episodes))"
   ]
  },
  {
   "cell_type": "markdown",
   "metadata": {
    "deletable": true,
    "editable": true
   },
   "source": [
    "Learning schedule is similar to what `action_selection` did for our previous notebooks. This time we are doing it with the `alpha` which is the learning rate and determines the importance and weight we give to newly calculated values in comparison with values we calculated in ealier iterations. Think about it like how much you trust your past knowledge. Intuitively, early in the exploration phase we don't know much of the environment, so perhaps that is an indication that we should rely on our previous calculation that much. But the more experience, the more should hold onto your knowledge. Now, remember this is also a 'dilemma' meaning there is a tradeoff and there is not a clear cut answer.\n",
    "\n",
    "Let's continue. We define `action_selection` just as before:"
   ]
  },
  {
   "cell_type": "code",
   "execution_count": 30,
   "metadata": {
    "collapsed": true,
    "deletable": true,
    "editable": true
   },
   "outputs": [],
   "source": [
    "def action_selection(state, Q, episode, n_episodes):\n",
    "    epsilon = 0.99 if episode < n_episodes//4 else 0.33 if episode < n_episodes//2 else 0.\n",
    "    if np.random.random() < epsilon:\n",
    "        action = np.random.randint(Q.shape[1])\n",
    "    else:\n",
    "        action = np.argmax(Q[state])\n",
    "    return action, epsilon"
   ]
  },
  {
   "cell_type": "markdown",
   "metadata": {
    "deletable": true,
    "editable": true
   },
   "source": [
    "And this function, `observation_to_state` will take care of the discretazition. It will input a tuple of continuous values and give us an integer. Let's take a look:"
   ]
  },
  {
   "cell_type": "code",
   "execution_count": 31,
   "metadata": {
    "collapsed": true,
    "deletable": true,
    "editable": true
   },
   "outputs": [],
   "source": [
    "def observation_to_state(observation, bins):\n",
    "    ss = []\n",
    "    for i in range(len(observation)):\n",
    "        ss.append(int(np.digitize(observation[i], bins=bins[i])))\n",
    "    state = int(\"\".join(map(lambda feature: str(int(feature)), ss)))\n",
    "    return state"
   ]
  },
  {
   "cell_type": "code",
   "execution_count": 36,
   "metadata": {
    "collapsed": false,
    "deletable": true,
    "editable": true
   },
   "outputs": [
    {
     "name": "stdout",
     "output_type": "stream",
     "text": [
      "2375\n",
      "1375\n",
      "2275\n",
      "2325\n",
      "2378\n"
     ]
    }
   ],
   "source": [
    "sample_states = [[0.33, 0.2, 0.1, 0.], \n",
    "                 [-0.33, 0.2, 0.1, 0.], \n",
    "                 [0.33, -0.2, 0.1, 0.], \n",
    "                 [0.33, 0.2, -0.1, 0.], \n",
    "                 [0.33, 0.2, 0.1, .99]]\n",
    "for sample_state in sample_states:\n",
    "    print(observation_to_state(sample_state, (x1, xd1, a1, ad1)))"
   ]
  },
  {
   "cell_type": "markdown",
   "metadata": {
    "deletable": true,
    "editable": true
   },
   "source": [
    "Cool, right?\n",
    "\n",
    "Alright, I'll give you the new q_learning algorithm."
   ]
  },
  {
   "cell_type": "code",
   "execution_count": 37,
   "metadata": {
    "collapsed": false,
    "deletable": true,
    "editable": true
   },
   "outputs": [],
   "source": [
    "def q_learning(env, bins, gamma = 0.99):\n",
    "    nS = 10 * 10 * 10 * 10\n",
    "    nA = env.env.action_space.n\n",
    "    \n",
    "    Q = np.random.random((nS, nA)) - 0.5\n",
    "    n_episodes = 5000\n",
    "    \n",
    "    alphas = []\n",
    "    epsilons = []\n",
    "    states = []\n",
    "    actions = []\n",
    "    for episode in range(n_episodes):\n",
    "        observation = env.reset()\n",
    "        state = observation_to_state(observation, bins)\n",
    "    \n",
    "        done = False\n",
    "        while not done:\n",
    "            states.append(state)\n",
    "            \n",
    "            action, epsilon = action_selection(state, Q, episode, n_episodes)\n",
    "            epsilons.append(epsilon)\n",
    "            actions.append(action)\n",
    "            \n",
    "            observation, reward, done, info = env.step(action)\n",
    "            nstate = observation_to_state(observation, bins)\n",
    "            \n",
    "            alpha = learning_schedule(episode, n_episodes)\n",
    "            alphas.append(alpha)\n",
    "            \n",
    "            Q[state][action] += alpha * (reward + gamma * Q[nstate].max() * (not done) - Q[state][action])\n",
    "            state = nstate\n",
    "    return Q, (alphas, epsilons, states, actions)"
   ]
  },
  {
   "cell_type": "markdown",
   "metadata": {
    "deletable": true,
    "editable": true
   },
   "source": [
    "You can see it, just like we did before, only differences are the use of the functions defined above and the collection of the alphas, epsilons, etc. This latter one is just to show you some stats and graphs, you could remove them and it would do just as well.\n",
    "\n",
    "Let's run this algorithm?! Shall we?"
   ]
  },
  {
   "cell_type": "code",
   "execution_count": 38,
   "metadata": {
    "collapsed": false,
    "deletable": true,
    "editable": true
   },
   "outputs": [
    {
     "name": "stderr",
     "output_type": "stream",
     "text": [
      "[2017-04-26 16:54:26,629] Making new env: CartPole-v0\n",
      "[2017-04-26 16:54:26,632] Starting new video recorder writing to /tmp/tmpqn4_aye8/openaigym.video.0.114.video000000.mp4\n",
      "[2017-04-26 16:54:28,856] Starting new video recorder writing to /tmp/tmpqn4_aye8/openaigym.video.0.114.video000001.mp4\n",
      "[2017-04-26 16:54:29,111] Starting new video recorder writing to /tmp/tmpqn4_aye8/openaigym.video.0.114.video000008.mp4\n",
      "[2017-04-26 16:54:29,302] Starting new video recorder writing to /tmp/tmpqn4_aye8/openaigym.video.0.114.video000027.mp4\n",
      "[2017-04-26 16:54:29,482] Starting new video recorder writing to /tmp/tmpqn4_aye8/openaigym.video.0.114.video000064.mp4\n",
      "[2017-04-26 16:54:29,648] Starting new video recorder writing to /tmp/tmpqn4_aye8/openaigym.video.0.114.video000125.mp4\n",
      "[2017-04-26 16:54:29,846] Starting new video recorder writing to /tmp/tmpqn4_aye8/openaigym.video.0.114.video000216.mp4\n",
      "[2017-04-26 16:54:30,131] Starting new video recorder writing to /tmp/tmpqn4_aye8/openaigym.video.0.114.video000343.mp4\n",
      "[2017-04-26 16:54:30,427] Starting new video recorder writing to /tmp/tmpqn4_aye8/openaigym.video.0.114.video000512.mp4\n",
      "[2017-04-26 16:54:30,774] Starting new video recorder writing to /tmp/tmpqn4_aye8/openaigym.video.0.114.video000729.mp4\n",
      "[2017-04-26 16:54:31,147] Starting new video recorder writing to /tmp/tmpqn4_aye8/openaigym.video.0.114.video001000.mp4\n",
      "[2017-04-26 16:54:33,633] Starting new video recorder writing to /tmp/tmpqn4_aye8/openaigym.video.0.114.video002000.mp4\n",
      "[2017-04-26 16:54:38,052] Starting new video recorder writing to /tmp/tmpqn4_aye8/openaigym.video.0.114.video003000.mp4\n",
      "[2017-04-26 16:54:42,781] Starting new video recorder writing to /tmp/tmpqn4_aye8/openaigym.video.0.114.video004000.mp4\n"
     ]
    }
   ],
   "source": [
    "mdir = tempfile.mkdtemp()\n",
    "env = gym.make('CartPole-v0')\n",
    "env = wrappers.Monitor(env, mdir, force=True)\n",
    "\n",
    "Q, stats = q_learning(env, (x1, xd1, a1, ad1))"
   ]
  },
  {
   "cell_type": "markdown",
   "metadata": {
    "deletable": true,
    "editable": true
   },
   "source": [
    "Now, let's take a look at some of the episodes:"
   ]
  },
  {
   "cell_type": "code",
   "execution_count": 43,
   "metadata": {
    "collapsed": false,
    "deletable": true,
    "editable": true,
    "scrolled": false
   },
   "outputs": [
    {
     "data": {
      "text/html": [
       "\n",
       "    <h2>Episode 0<h2/>\n",
       "    <video width=\"960\" height=\"540\" controls>\n",
       "        <source src=\"data:video/mp4;base64,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\" type=\"video/mp4\" />\n",
       "    </video>\n",
       "    <h2>Episode 216<h2/>\n",
       "    <video width=\"960\" height=\"540\" controls>\n",
       "        <source src=\"data:video/mp4;base64,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\" type=\"video/mp4\" />\n",
       "    </video>\n",
       "    <h2>Episode 4000<h2/>\n",
       "    <video width=\"960\" height=\"540\" controls>\n",
       "        <source src=\"data:video/mp4;base64,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\" type=\"video/mp4\" />\n",
       "    </video>"
      ],
      "text/plain": [
       "<IPython.core.display.HTML object>"
      ]
     },
     "execution_count": 43,
     "metadata": {},
     "output_type": "execute_result"
    }
   ],
   "source": [
    "videos = np.array(env.videos)\n",
    "n_videos = 3\n",
    "\n",
    "idxs = np.linspace(0, len(videos) - 1, n_videos).astype(int)\n",
    "videos = videos[idxs,:]\n",
    "\n",
    "strm = ''\n",
    "for video_path, meta_path in videos:\n",
    "    video = io.open(video_path, 'r+b').read()\n",
    "    encoded = base64.b64encode(video)\n",
    "    \n",
    "    with open(meta_path) as data_file:    \n",
    "        meta = json.load(data_file)\n",
    "\n",
    "    html_tag = \"\"\"\n",
    "    <h2>{0}<h2/>\n",
    "    <video width=\"960\" height=\"540\" controls>\n",
    "        <source src=\"data:video/mp4;base64,{1}\" type=\"video/mp4\" />\n",
    "    </video>\"\"\"\n",
    "    strm += html_tag.format('Episode ' + str(meta['episode_id']), encoded.decode('ascii'))\n",
    "HTML(data=strm)"
   ]
  },
  {
   "cell_type": "markdown",
   "metadata": {
    "deletable": true,
    "editable": true
   },
   "source": [
    "Interesting right?\n",
    "\n",
    "The last episode should show how the agent 'knows' what the goal of the environment, but perhaps not an impressive performance.\n",
    "\n",
    "Let's look into the value function and policy:"
   ]
  },
  {
   "cell_type": "code",
   "execution_count": 44,
   "metadata": {
    "collapsed": false,
    "deletable": true,
    "editable": true
   },
   "outputs": [
    {
     "data": {
      "text/plain": [
       "array([  0.47535795,  14.03615681,  17.11912036, ...,  -0.04913746,\n",
       "         0.16842233,   0.49941368])"
      ]
     },
     "execution_count": 44,
     "metadata": {},
     "output_type": "execute_result"
    }
   ],
   "source": [
    "V = np.max(Q, axis=1)\n",
    "V"
   ]
  },
  {
   "cell_type": "code",
   "execution_count": 45,
   "metadata": {
    "collapsed": false,
    "deletable": true,
    "editable": true
   },
   "outputs": [
    {
     "data": {
      "text/plain": [
       "88.554472947818169"
      ]
     },
     "execution_count": 45,
     "metadata": {},
     "output_type": "execute_result"
    }
   ],
   "source": [
    "V.max()"
   ]
  },
  {
   "cell_type": "code",
   "execution_count": 46,
   "metadata": {
    "collapsed": false,
    "deletable": true,
    "editable": true
   },
   "outputs": [
    {
     "data": {
      "text/plain": [
       "array([0, 0, 0, ..., 0, 1, 0])"
      ]
     },
     "execution_count": 46,
     "metadata": {},
     "output_type": "execute_result"
    }
   ],
   "source": [
    "pi = np.argmax(Q, axis=1)\n",
    "pi"
   ]
  },
  {
   "cell_type": "markdown",
   "metadata": {
    "deletable": true,
    "editable": true
   },
   "source": [
    "So, policy looks pretty much the same they looked before. This is because we \"made\" this environment discrete. Hold your thoughts...\n",
    "\n",
    "Let's close this environment and see how the agent did per OpenAI Gym."
   ]
  },
  {
   "cell_type": "code",
   "execution_count": 25,
   "metadata": {
    "collapsed": false,
    "deletable": true,
    "editable": true
   },
   "outputs": [
    {
     "name": "stderr",
     "output_type": "stream",
     "text": [
      "[2017-04-02 21:58:51,167] Finished writing results. You can upload them to the scoreboard via gym.upload('/tmp/tmpvdek3zuv')\n"
     ]
    }
   ],
   "source": [
    "env.close()"
   ]
  },
  {
   "cell_type": "code",
   "execution_count": 26,
   "metadata": {
    "collapsed": false,
    "deletable": true,
    "editable": true
   },
   "outputs": [
    {
     "name": "stderr",
     "output_type": "stream",
     "text": [
      "[2017-04-02 21:58:51,190] [CartPole-v0] Uploading 5000 episodes of training data\n",
      "[2017-04-02 21:58:52,419] [CartPole-v0] Uploading videos of 14 training episodes (57206 bytes)\n",
      "[2017-04-02 21:58:52,692] [CartPole-v0] Creating evaluation object from /tmp/tmpvdek3zuv with learning curve and training video\n",
      "[2017-04-02 21:58:53,054] \n",
      "****************************************************\n",
      "You successfully uploaded your evaluation on CartPole-v0 to\n",
      "OpenAI Gym! You can find it at:\n",
      "\n",
      "    https://gym.openai.com/evaluations/eval_AhsiLjLyTDO1gwgnApVzpQ\n",
      "\n",
      "****************************************************\n"
     ]
    }
   ],
   "source": [
    "gym.upload(mdir, api_key='<YOUR API KEY>')"
   ]
  },
  {
   "cell_type": "markdown",
   "metadata": {
    "deletable": true,
    "editable": true
   },
   "source": [
    "Not thaaaat well. The agent should have shown learning, but very likely it did not pass the environment. In other words, it learned, but definitely not a solid enough policy.\n",
    "\n",
    "Let's look at some of the things collected."
   ]
  },
  {
   "cell_type": "code",
   "execution_count": 47,
   "metadata": {
    "collapsed": true,
    "deletable": true,
    "editable": true
   },
   "outputs": [],
   "source": [
    "alphas, epsilons, states, actions = stats"
   ]
  },
  {
   "cell_type": "code",
   "execution_count": 53,
   "metadata": {
    "collapsed": false,
    "deletable": true,
    "editable": true
   },
   "outputs": [
    {
     "data": {
      "text/plain": [
       "<matplotlib.text.Text at 0x7f85d0bd5dd8>"
      ]
     },
     "execution_count": 53,
     "metadata": {},
     "output_type": "execute_result"
    },
    {
     "data": {
      "image/png": "[encoded data removed]",
      "text/plain": [
       "<matplotlib.figure.Figure at 0x7f85d0a4d710>"
      ]
     },
     "metadata": {},
     "output_type": "display_data"
    }
   ],
   "source": [
    "plt.plot(np.arange(len(alphas)), alphas, '.')\n",
    "plt.title('Alphas')\n",
    "plt.xlabel('Episode')\n",
    "plt.ylabel('Percentage')"
   ]
  },
  {
   "cell_type": "markdown",
   "metadata": {
    "deletable": true,
    "editable": true
   },
   "source": [
    "See the learning rate goes from 0.8 to 0? Alright."
   ]
  },
  {
   "cell_type": "code",
   "execution_count": 54,
   "metadata": {
    "collapsed": false,
    "deletable": true,
    "editable": true
   },
   "outputs": [
    {
     "data": {
      "text/plain": [
       "<matplotlib.text.Text at 0x7f85d0ba7cf8>"
      ]
     },
     "execution_count": 54,
     "metadata": {},
     "output_type": "execute_result"
    },
    {
     "data": {
      "image/png": "[encoded data removed]",
      "text/plain": [
       "<matplotlib.figure.Figure at 0x7f85d0ce5588>"
      ]
     },
     "metadata": {},
     "output_type": "display_data"
    }
   ],
   "source": [
    "plt.plot(np.arange(len(epsilons)), epsilons, '.')\n",
    "plt.title('Epsilon')\n",
    "plt.xlabel('Episode')\n",
    "plt.ylabel('Percentage')"
   ]
  },
  {
   "cell_type": "markdown",
   "metadata": {
    "deletable": true,
    "editable": true
   },
   "source": [
    "Interesting exploration style. We force 100% exploration for few episodes, then to ~30% and then become greedy at about 150,000 episodes. Not bad. Could we do better?"
   ]
  },
  {
   "cell_type": "code",
   "execution_count": 55,
   "metadata": {
    "collapsed": false,
    "deletable": true,
    "editable": true
   },
   "outputs": [
    {
     "data": {
      "text/plain": [
       "<matplotlib.text.Text at 0x7f85cf99c630>"
      ]
     },
     "execution_count": 55,
     "metadata": {},
     "output_type": "execute_result"
    },
    {
     "data": {
      "image/png": "[encoded data removed]",
      "text/plain": [
       "<matplotlib.figure.Figure at 0x7f85d0bfae10>"
      ]
     },
     "metadata": {},
     "output_type": "display_data"
    }
   ],
   "source": [
    "hist, bins = np.histogram(states, bins=50)\n",
    "width = 0.7 * (bins[1] - bins[0])\n",
    "center = (bins[:-1] + bins[1:]) / 2\n",
    "plt.bar(center, hist, align='center', width=width)\n",
    "plt.title('States Visited')\n",
    "plt.xlabel('State')\n",
    "plt.ylabel('Count')"
   ]
  },
  {
   "cell_type": "markdown",
   "metadata": {
    "deletable": true,
    "editable": true
   },
   "source": [
    "See some states not visited? That's a by product of the way we discretized the state space, it should not be a problem unless we have a very very large state space after discretization. Then, it might be beneficial tighting things up.\n",
    "\n",
    "How about the actions?"
   ]
  },
  {
   "cell_type": "code",
   "execution_count": 56,
   "metadata": {
    "collapsed": false,
    "deletable": true,
    "editable": true
   },
   "outputs": [
    {
     "data": {
      "text/plain": [
       "<matplotlib.text.Text at 0x7f85cf8b9240>"
      ]
     },
     "execution_count": 56,
     "metadata": {},
     "output_type": "execute_result"
    },
    {
     "data": {
      "image/png": "[encoded data removed]",
      "text/plain": [
       "<matplotlib.figure.Figure at 0x7f85d9647e48>"
      ]
     },
     "metadata": {},
     "output_type": "display_data"
    }
   ],
   "source": [
    "hist, bins = np.histogram(actions, bins=3)\n",
    "width = 0.7 * (bins[1] - bins[0])\n",
    "center = (bins[:-1] + bins[1:]) / 2\n",
    "plt.bar(center, hist, align='center', width=width)\n",
    "plt.title('Actions Selected')\n",
    "plt.xlabel('Action')\n",
    "plt.ylabel('Count')"
   ]
  },
  {
   "cell_type": "markdown",
   "metadata": {
    "deletable": true,
    "editable": true
   },
   "source": [
    "Expected, I would say. If you want to balance a pole you will have to go left and right to keep the pole in place.\n",
    "\n",
    "Ok, so from these figures you should think about ways to make this algorithm work. Why things didn't work?? How can we make it learn more or better?\n",
    "\n",
    "I'll let you explore from now on..."
   ]
  },
  {
   "cell_type": "markdown",
   "metadata": {
    "deletable": true,
    "editable": true
   },
   "source": [
    "### Your turn"
   ]
  },
  {
   "cell_type": "code",
   "execution_count": 57,
   "metadata": {
    "collapsed": false,
    "deletable": true,
    "editable": true
   },
   "outputs": [
    {
     "data": {
      "text/plain": [
       "(-0.15, 0.15)"
      ]
     },
     "execution_count": 57,
     "metadata": {},
     "output_type": "execute_result"
    },
    {
     "data": {
      "image/png": "[encoded data removed]",
      "text/plain": [
       "<matplotlib.figure.Figure at 0x7f85d0c36b00>"
      ]
     },
     "metadata": {},
     "output_type": "display_data"
    }
   ],
   "source": [
    "plt.plot(x_vals, y + 0.10, '.')\n",
    "plt.plot(xd_vals, y + 0.05, '.')\n",
    "plt.plot(a_vals, y - 0.05, '.')\n",
    "plt.plot(ad_vals, y - 0.10, '.')\n",
    "\n",
    "plt.ylim([-0.15, 0.15])"
   ]
  },
  {
   "cell_type": "code",
   "execution_count": 58,
   "metadata": {
    "collapsed": false,
    "deletable": true,
    "editable": true
   },
   "outputs": [
    {
     "data": {
      "text/plain": [
       "[<matplotlib.lines.Line2D at 0x7f85cf7c24a8>]"
      ]
     },
     "execution_count": 58,
     "metadata": {},
     "output_type": "execute_result"
    },
    {
     "data": {
      "image/png": "[encoded data removed]",
      "text/plain": [
       "<matplotlib.figure.Figure at 0x7f85cf81f5f8>"
      ]
     },
     "metadata": {},
     "output_type": "display_data"
    }
   ],
   "source": [
    "x1 = np.linspace(x_thres[0] + .5, x_thres[1] - .5, \n",
    "                 2, endpoint=False)[1:]\n",
    "y1 = np.zeros(len(x1)) + 0.05\n",
    "\n",
    "plt.ylim([-0.075, 0.075])\n",
    "plt.plot(x1, y1, 'o')\n",
    "plt.plot(x_vals, y, '.')"
   ]
  },
  {
   "cell_type": "code",
   "execution_count": 59,
   "metadata": {
    "collapsed": false,
    "deletable": true,
    "editable": true
   },
   "outputs": [
    {
     "data": {
      "text/plain": [
       "[<matplotlib.lines.Line2D at 0x7f85cf730160>]"
      ]
     },
     "execution_count": 59,
     "metadata": {},
     "output_type": "execute_result"
    },
    {
     "data": {
      "image/png": "[encoded data removed]",
      "text/plain": [
       "<matplotlib.figure.Figure at 0x7f85cf7d3b70>"
      ]
     },
     "metadata": {},
     "output_type": "display_data"
    }
   ],
   "source": [
    "all_vals = np.sort(np.append(\n",
    "    (np.logspace(-5, 4, 5, endpoint=False, base=2)[1:],\n",
    "    -np.logspace(-5, 4, 5, endpoint=False, base=2)[1:]), 0))\n",
    "idxs = np.where(np.abs(all_vals) < 2)\n",
    "xd1 = all_vals[idxs]\n",
    "y1 = np.zeros(len(xd1)) + 0.05\n",
    "\n",
    "plt.ylim([-0.075, 0.075])\n",
    "plt.plot(xd1, y1, 'o')\n",
    "plt.plot(xd_vals, y, '.')"
   ]
  },
  {
   "cell_type": "code",
   "execution_count": 60,
   "metadata": {
    "collapsed": false,
    "deletable": true,
    "editable": true
   },
   "outputs": [
    {
     "data": {
      "text/plain": [
       "[<matplotlib.lines.Line2D at 0x7f85cf698668>]"
      ]
     },
     "execution_count": 60,
     "metadata": {},
     "output_type": "execute_result"
    },
    {
     "data": {
      "image/png": "[encoded data removed]",
      "text/plain": [
       "<matplotlib.figure.Figure at 0x7f85cf77a860>"
      ]
     },
     "metadata": {},
     "output_type": "display_data"
    }
   ],
   "source": [
    "all_vals = np.sort(np.append(\n",
    "    (np.logspace(-6, 0.01, 4, endpoint=False, base=2)[1:],\n",
    "    -np.logspace(-6, 0.01, 4, endpoint=False, base=2)[1:]), 0))\n",
    "idxs = np.where(np.abs(all_vals) < a_thres[1] - 0.1)\n",
    "a1 = all_vals[idxs]\n",
    "y1 = np.zeros(len(a1)) + 0.05\n",
    "\n",
    "plt.ylim([-0.1, 0.1])\n",
    "plt.plot(a1, y1, 'o')\n",
    "plt.plot(a_vals, y, '.')"
   ]
  },
  {
   "cell_type": "code",
   "execution_count": 61,
   "metadata": {
    "collapsed": false,
    "deletable": true,
    "editable": true
   },
   "outputs": [
    {
     "data": {
      "text/plain": [
       "[<matplotlib.lines.Line2D at 0x7f85cef5acf8>]"
      ]
     },
     "execution_count": 61,
     "metadata": {},
     "output_type": "execute_result"
    },
    {
     "data": {
      "image/png": "[encoded data removed]",
      "text/plain": [
       "<matplotlib.figure.Figure at 0x7f85cf9a1400>"
      ]
     },
     "metadata": {},
     "output_type": "display_data"
    }
   ],
   "source": [
    "all_vals = np.sort(np.append(\n",
    "    (np.logspace(-7, 4, 6, endpoint=False, base=2)[1:],\n",
    "    -np.logspace(-7, 4, 6, endpoint=False, base=2)[1:]), 0))\n",
    "idxs = np.where(np.abs(all_vals) < 2)\n",
    "ad1 = all_vals[idxs]\n",
    "y1 = np.zeros(len(ad1)) + 0.05\n",
    "\n",
    "plt.ylim([-0.075, 0.075])\n",
    "plt.plot(ad1, y1, 'o')\n",
    "plt.plot(ad_vals, y, '.')"
   ]
  },
  {
   "cell_type": "code",
   "execution_count": 62,
   "metadata": {
    "collapsed": false,
    "deletable": true,
    "editable": true
   },
   "outputs": [
    {
     "data": {
      "text/plain": [
       "[<matplotlib.lines.Line2D at 0x7f85cf7fffd0>]"
      ]
     },
     "execution_count": 62,
     "metadata": {},
     "output_type": "execute_result"
    },
    {
     "data": {
      "image/png": "[encoded data removed]",
      "text/plain": [
       "<matplotlib.figure.Figure at 0x7f85cf6d5cf8>"
      ]
     },
     "metadata": {},
     "output_type": "display_data"
    }
   ],
   "source": [
    "yx1 = np.zeros_like(x1) + 0.25\n",
    "yx = np.zeros_like(x_vals) + 0.20\n",
    "yxd1 = np.zeros_like(xd1) + 0.10\n",
    "yxd = np.zeros_like(xd_vals) + 0.05\n",
    "ya1 = np.zeros_like(a1) - 0.05\n",
    "ya = np.zeros_like(a_vals) - 0.10\n",
    "yad1 = np.zeros_like(ad1) - 0.20\n",
    "yad = np.zeros_like(ad_vals) - 0.25\n",
    "\n",
    "plt.ylim([-0.3, 0.3])\n",
    "\n",
    "plt.plot(x1, yx1, '|')\n",
    "plt.plot(xd1, yxd1, '|')\n",
    "plt.plot(a1, ya1, '|')\n",
    "plt.plot(ad1, yad1, '|')\n",
    "\n",
    "plt.plot(x_vals, yx, '.')\n",
    "plt.plot(xd_vals, yxd, '.')\n",
    "plt.plot(a_vals, ya, '.')\n",
    "plt.plot(ad_vals, yad, '.')"
   ]
  },
  {
   "cell_type": "code",
   "execution_count": 63,
   "metadata": {
    "collapsed": false,
    "deletable": true,
    "editable": true
   },
   "outputs": [
    {
     "data": {
      "text/plain": [
       "[<matplotlib.lines.Line2D at 0x7f85cee72fd0>]"
      ]
     },
     "execution_count": 63,
     "metadata": {},
     "output_type": "execute_result"
    },
    {
     "data": {
      "image/png": "[encoded data removed]",
      "text/plain": [
       "<matplotlib.figure.Figure at 0x7f85cf7fb978>"
      ]
     },
     "metadata": {},
     "output_type": "display_data"
    }
   ],
   "source": [
    "yx1 = np.zeros_like(x1) + 0.25\n",
    "yx = np.zeros_like(x_vals) + 0.20\n",
    "yxd1 = np.zeros_like(xd1) + 0.10\n",
    "yxd = np.zeros_like(xd_vals) + 0.05\n",
    "ya1 = np.zeros_like(a1) - 0.05\n",
    "ya = np.zeros_like(a_vals) - 0.10\n",
    "yad1 = np.zeros_like(ad1) - 0.20\n",
    "yad = np.zeros_like(ad_vals) - 0.25\n",
    "\n",
    "plt.plot(x1, yx1, '|')\n",
    "plt.plot(xd1, yxd1, '|')\n",
    "plt.plot(a1, ya1, '|')\n",
    "plt.plot(ad1, yad1, '|')\n",
    "\n",
    "plt.plot(x_vals, yx, '.')\n",
    "plt.plot(xd_vals, yxd, '.')\n",
    "plt.plot(a_vals, ya, '.')\n",
    "plt.plot(ad_vals, yad, '.')\n",
    "\n",
    "\n",
    "plt.ylim([-0.3, 0.3])\n",
    "\n",
    "plt.plot((x_thres[0], x_thres[0]), (0.15, 0.25), 'k-', color='red')\n",
    "plt.plot((x_thres[1], x_thres[1]), (0.15, 0.25), 'k-', color='red')\n",
    "plt.plot((a_thres[0], a_thres[0]), (-0.05, -0.15), 'k-', color='red')\n",
    "plt.plot((a_thres[1], a_thres[1]), (-0.05, -0.15), 'k-', color='red')"
   ]
  },
  {
   "cell_type": "code",
   "execution_count": 64,
   "metadata": {
    "collapsed": false,
    "deletable": true,
    "editable": true
   },
   "outputs": [],
   "source": [
    "def learning_schedule(episode, n_episodes):\n",
    "    return max(0., min(0.8, 1 - episode/n_episodes))"
   ]
  },
  {
   "cell_type": "code",
   "execution_count": 65,
   "metadata": {
    "collapsed": true,
    "deletable": true,
    "editable": true
   },
   "outputs": [],
   "source": [
    "def action_selection(state, Q, episode, n_episodes):\n",
    "    epsilon = 0.99 if episode < n_episodes//4 else 0.33 if episode < n_episodes//2 else 0.\n",
    "    if np.random.random() < epsilon:\n",
    "        action = np.random.randint(Q.shape[1])\n",
    "    else:\n",
    "        action = np.argmax(Q[state])\n",
    "    return action, epsilon"
   ]
  },
  {
   "cell_type": "code",
   "execution_count": 66,
   "metadata": {
    "collapsed": true,
    "deletable": true,
    "editable": true
   },
   "outputs": [],
   "source": [
    "def observation_to_state(observation, bins):\n",
    "    ss = []\n",
    "    for i in range(len(observation)):\n",
    "        ss.append(int(np.digitize(observation[i], bins=bins[i])))\n",
    "    state = int(\"\".join(map(lambda feature: str(int(feature)), ss)))\n",
    "    return state"
   ]
  },
  {
   "cell_type": "code",
   "execution_count": 67,
   "metadata": {
    "collapsed": false,
    "deletable": true,
    "editable": true
   },
   "outputs": [],
   "source": [
    "def q_learning(env, bins, gamma = 0.99):\n",
    "    nS = 10 * 10 * 10 * 10\n",
    "    nA = env.env.action_space.n\n",
    "    \n",
    "    Q = np.random.random((nS, nA)) - 0.5\n",
    "    n_episodes = 5000\n",
    "    \n",
    "    alphas = []\n",
    "    epsilons = []\n",
    "    states = []\n",
    "    actions = []\n",
    "    for episode in range(n_episodes):\n",
    "        observation = env.reset()\n",
    "        state = observation_to_state(observation, bins)\n",
    "    \n",
    "        done = False\n",
    "        while not done:\n",
    "            states.append(state)\n",
    "            \n",
    "            action, epsilon = action_selection(state, Q, episode, n_episodes)\n",
    "            epsilons.append(epsilon)\n",
    "            actions.append(action)\n",
    "            \n",
    "            observation, reward, done, info = env.step(action)\n",
    "            nstate = observation_to_state(observation, bins)\n",
    "            \n",
    "            alpha = learning_schedule(episode, n_episodes)\n",
    "            alphas.append(alpha)\n",
    "            \n",
    "            Q[state][action] += alpha * (reward + gamma * Q[nstate].max() * (not done) - Q[state][action])\n",
    "            state = nstate\n",
    "    return Q, (alphas, epsilons, states, actions)"
   ]
  },
  {
   "cell_type": "code",
   "execution_count": 68,
   "metadata": {
    "collapsed": false,
    "deletable": true,
    "editable": true
   },
   "outputs": [
    {
     "name": "stderr",
     "output_type": "stream",
     "text": [
      "[2017-04-26 17:15:05,792] Making new env: CartPole-v0\n",
      "[2017-04-26 17:15:05,813] Finished writing results. You can upload them to the scoreboard via gym.upload('/tmp/tmpqn4_aye8')\n",
      "[2017-04-26 17:15:05,817] Starting new video recorder writing to /tmp/tmplxfovf67/openaigym.video.1.114.video000000.mp4\n",
      "[2017-04-26 17:15:06,013] Starting new video recorder writing to /tmp/tmplxfovf67/openaigym.video.1.114.video000001.mp4\n",
      "[2017-04-26 17:15:06,227] Starting new video recorder writing to /tmp/tmplxfovf67/openaigym.video.1.114.video000008.mp4\n",
      "[2017-04-26 17:15:06,561] Starting new video recorder writing to /tmp/tmplxfovf67/openaigym.video.1.114.video000027.mp4\n",
      "[2017-04-26 17:15:06,708] Starting new video recorder writing to /tmp/tmplxfovf67/openaigym.video.1.114.video000064.mp4\n",
      "[2017-04-26 17:15:06,874] Starting new video recorder writing to /tmp/tmplxfovf67/openaigym.video.1.114.video000125.mp4\n",
      "[2017-04-26 17:15:07,266] Starting new video recorder writing to /tmp/tmplxfovf67/openaigym.video.1.114.video000216.mp4\n",
      "[2017-04-26 17:15:07,524] Starting new video recorder writing to /tmp/tmplxfovf67/openaigym.video.1.114.video000343.mp4\n",
      "[2017-04-26 17:15:07,929] Starting new video recorder writing to /tmp/tmplxfovf67/openaigym.video.1.114.video000512.mp4\n",
      "[2017-04-26 17:15:08,374] Starting new video recorder writing to /tmp/tmplxfovf67/openaigym.video.1.114.video000729.mp4\n",
      "[2017-04-26 17:15:08,713] Starting new video recorder writing to /tmp/tmplxfovf67/openaigym.video.1.114.video001000.mp4\n",
      "[2017-04-26 17:15:10,762] Starting new video recorder writing to /tmp/tmplxfovf67/openaigym.video.1.114.video002000.mp4\n",
      "[2017-04-26 17:15:14,562] Starting new video recorder writing to /tmp/tmplxfovf67/openaigym.video.1.114.video003000.mp4\n",
      "[2017-04-26 17:15:20,444] Starting new video recorder writing to /tmp/tmplxfovf67/openaigym.video.1.114.video004000.mp4\n"
     ]
    }
   ],
   "source": [
    "mdir = tempfile.mkdtemp()\n",
    "env = gym.make('CartPole-v0')\n",
    "env = wrappers.Monitor(env, mdir, force=True)\n",
    "\n",
    "Q, stats = q_learning(env, (x1, xd1, a1, ad1))"
   ]
  },
  {
   "cell_type": "code",
   "execution_count": 69,
   "metadata": {
    "collapsed": false,
    "deletable": true,
    "editable": true,
    "scrolled": false
   },
   "outputs": [
    {
     "data": {
      "text/html": [
       "\n",
       "    <h2>Episode 0<h2/>\n",
       "    <video width=\"960\" height=\"540\" controls>\n",
       "        <source src=\"data:video/mp4;base64,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\" type=\"video/mp4\" />\n",
       "    </video>\n",
       "    <h2>Episode 216<h2/>\n",
       "    <video width=\"960\" height=\"540\" controls>\n",
       "        <source src=\"data:video/mp4;base64,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\" type=\"video/mp4\" />\n",
       "    </video>\n",
       "    <h2>Episode 4000<h2/>\n",
       "    <video width=\"960\" height=\"540\" controls>\n",
       "        <source src=\"data:video/mp4;base64,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\" type=\"video/mp4\" />\n",
       "    </video>"
      ],
      "text/plain": [
       "<IPython.core.display.HTML object>"
      ]
     },
     "execution_count": 69,
     "metadata": {},
     "output_type": "execute_result"
    }
   ],
   "source": [
    "videos = np.array(env.videos)\n",
    "n_videos = 3\n",
    "\n",
    "idxs = np.linspace(0, len(videos) - 1, n_videos).astype(int)\n",
    "videos = videos[idxs,:]\n",
    "\n",
    "strm = ''\n",
    "for video_path, meta_path in videos:\n",
    "    video = io.open(video_path, 'r+b').read()\n",
    "    encoded = base64.b64encode(video)\n",
    "    \n",
    "    with open(meta_path) as data_file:    \n",
    "        meta = json.load(data_file)\n",
    "\n",
    "    html_tag = \"\"\"\n",
    "    <h2>{0}<h2/>\n",
    "    <video width=\"960\" height=\"540\" controls>\n",
    "        <source src=\"data:video/mp4;base64,{1}\" type=\"video/mp4\" />\n",
    "    </video>\"\"\"\n",
    "    strm += html_tag.format('Episode ' + str(meta['episode_id']), encoded.decode('ascii'))\n",
    "HTML(data=strm)"
   ]
  },
  {
   "cell_type": "code",
   "execution_count": 70,
   "metadata": {
    "collapsed": false,
    "deletable": true,
    "editable": true
   },
   "outputs": [
    {
     "data": {
      "text/plain": [
       "array([  0.39549677,  22.40875019,  62.39175886, ...,   0.4135339 ,\n",
       "         0.22957031,  -0.11561215])"
      ]
     },
     "execution_count": 70,
     "metadata": {},
     "output_type": "execute_result"
    }
   ],
   "source": [
    "V = np.max(Q, axis=1)\n",
    "V"
   ]
  },
  {
   "cell_type": "code",
   "execution_count": 71,
   "metadata": {
    "collapsed": false,
    "deletable": true,
    "editable": true
   },
   "outputs": [
    {
     "data": {
      "text/plain": [
       "95.175029734326586"
      ]
     },
     "execution_count": 71,
     "metadata": {},
     "output_type": "execute_result"
    }
   ],
   "source": [
    "V.max()"
   ]
  },
  {
   "cell_type": "code",
   "execution_count": 72,
   "metadata": {
    "collapsed": false,
    "deletable": true,
    "editable": true
   },
   "outputs": [
    {
     "data": {
      "text/plain": [
       "array([0, 1, 0, ..., 1, 1, 1])"
      ]
     },
     "execution_count": 72,
     "metadata": {},
     "output_type": "execute_result"
    }
   ],
   "source": [
    "pi = np.argmax(Q, axis=1)\n",
    "pi"
   ]
  },
  {
   "cell_type": "code",
   "execution_count": 73,
   "metadata": {
    "collapsed": false,
    "deletable": true,
    "editable": true
   },
   "outputs": [
    {
     "name": "stderr",
     "output_type": "stream",
     "text": [
      "[2017-04-26 17:15:29,221] Finished writing results. You can upload them to the scoreboard via gym.upload('/tmp/tmplxfovf67')\n"
     ]
    }
   ],
   "source": [
    "env.close()"
   ]
  },
  {
   "cell_type": "code",
   "execution_count": 49,
   "metadata": {
    "collapsed": false,
    "deletable": true,
    "editable": true
   },
   "outputs": [
    {
     "name": "stderr",
     "output_type": "stream",
     "text": [
      "[2017-04-02 21:59:30,177] [CartPole-v0] Uploading 5000 episodes of training data\n",
      "[2017-04-02 21:59:31,154] [CartPole-v0] Uploading videos of 14 training episodes (72394 bytes)\n",
      "[2017-04-02 21:59:32,376] [CartPole-v0] Creating evaluation object from /tmp/tmpmkwghiu4 with learning curve and training video\n",
      "[2017-04-02 21:59:32,582] \n",
      "****************************************************\n",
      "You successfully uploaded your evaluation on CartPole-v0 to\n",
      "OpenAI Gym! You can find it at:\n",
      "\n",
      "    https://gym.openai.com/evaluations/eval_GDMU3XnQxi3N0vnynQNbg\n",
      "\n",
      "****************************************************\n"
     ]
    }
   ],
   "source": [
    "gym.upload(mdir, api_key='<YOUR API KEY>')"
   ]
  },
  {
   "cell_type": "code",
   "execution_count": 74,
   "metadata": {
    "collapsed": true,
    "deletable": true,
    "editable": true
   },
   "outputs": [],
   "source": [
    "alphas, epsilons, states, actions = stats"
   ]
  },
  {
   "cell_type": "code",
   "execution_count": 75,
   "metadata": {
    "collapsed": false,
    "deletable": true,
    "editable": true
   },
   "outputs": [
    {
     "data": {
      "text/plain": [
       "[<matplotlib.lines.Line2D at 0x7f85d2cd25c0>]"
      ]
     },
     "execution_count": 75,
     "metadata": {},
     "output_type": "execute_result"
    },
    {
     "data": {
      "image/png": "[encoded data removed]",
      "text/plain": [
       "<matplotlib.figure.Figure at 0x7f85ceeb6b00>"
      ]
     },
     "metadata": {},
     "output_type": "display_data"
    }
   ],
   "source": [
    "plt.plot(np.arange(len(alphas)), alphas, '.')"
   ]
  },
  {
   "cell_type": "code",
   "execution_count": 76,
   "metadata": {
    "collapsed": false,
    "deletable": true,
    "editable": true
   },
   "outputs": [
    {
     "data": {
      "text/plain": [
       "[<matplotlib.lines.Line2D at 0x7f85d1f148d0>]"
      ]
     },
     "execution_count": 76,
     "metadata": {},
     "output_type": "execute_result"
    },
    {
     "data": {
      "image/png": "[encoded data removed]",
      "text/plain": [
       "<matplotlib.figure.Figure at 0x7f85cf6cbdd8>"
      ]
     },
     "metadata": {},
     "output_type": "display_data"
    }
   ],
   "source": [
    "plt.plot(np.arange(len(epsilons)), epsilons, '.')"
   ]
  },
  {
   "cell_type": "code",
   "execution_count": 77,
   "metadata": {
    "collapsed": false,
    "deletable": true,
    "editable": true
   },
   "outputs": [
    {
     "data": {
      "image/png": "[encoded data removed]",
      "text/plain": [
       "<matplotlib.figure.Figure at 0x7f85d2d1eb70>"
      ]
     },
     "metadata": {},
     "output_type": "display_data"
    }
   ],
   "source": [
    "hist, bins = np.histogram(states, bins=50)\n",
    "width = 0.7 * (bins[1] - bins[0])\n",
    "center = (bins[:-1] + bins[1:]) / 2\n",
    "plt.bar(center, hist, align='center', width=width)\n",
    "plt.show()"
   ]
  },
  {
   "cell_type": "code",
   "execution_count": 78,
   "metadata": {
    "collapsed": false,
    "deletable": true,
    "editable": true
   },
   "outputs": [
    {
     "data": {
      "image/png": "[encoded data removed]",
      "text/plain": [
       "<matplotlib.figure.Figure at 0x7f85d1e73f60>"
      ]
     },
     "metadata": {},
     "output_type": "display_data"
    }
   ],
   "source": [
    "hist, bins = np.histogram(actions, bins=3)\n",
    "width = 0.7 * (bins[1] - bins[0])\n",
    "center = (bins[:-1] + bins[1:]) / 2\n",
    "plt.bar(center, hist, align='center', width=width)\n",
    "plt.show()"
   ]
  },
  {
   "cell_type": "markdown",
   "metadata": {
    "deletable": true,
    "editable": true
   },
   "source": [
    "So, how did you do??? Were you able to pass the environment??\n",
    "\n",
    "If you didn't do not worry, go take a look at the solution notebook. Mine wasn't perfect, but it should consistently pass the environment, which is good. The thing is, this thing of discretizing the state space can get old very quickly. Are you OK with doing some data analysis and manually tell the agent what to look for? Yeah, I didn't think so. That's what Machine Learning and Function Approximation is for!!! Why not use it?\n",
    "\n",
    "In the next notebook we will look into the same cart pole environment, but guess what, we will use a Neural Network to lear the environment. Now, this is not the DQN algorithm because we will not be feeding it raw images, but the concept should be very similar.\n",
    "\n",
    "Are you ready for Function Approximators? Deep Reinforcement Learning is a step away."
   ]
  }
 ],
 "metadata": {
  "kernelspec": {
   "display_name": "Python 3",
   "language": "python",
   "name": "python3"
  },
  "language_info": {
   "codemirror_mode": {
    "name": "ipython",
    "version": 3
   },
   "file_extension": ".py",
   "mimetype": "text/x-python",
   "name": "python",
   "nbconvert_exporter": "python",
   "pygments_lexer": "ipython3",
   "version": "3.5.2"
  }
 },
 "nbformat": 4,
 "nbformat_minor": 2
}
