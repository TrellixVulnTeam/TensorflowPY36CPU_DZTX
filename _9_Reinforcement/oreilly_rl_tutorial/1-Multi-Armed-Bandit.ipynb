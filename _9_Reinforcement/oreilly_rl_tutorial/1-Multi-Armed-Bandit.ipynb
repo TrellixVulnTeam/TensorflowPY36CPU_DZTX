{
 "cells": [
  {
   "cell_type": "markdown",
   "metadata": {},
   "source": [
    "# Exercise 1: Multi-Armed Bandit"
   ]
  },
  {
   "cell_type": "code",
   "execution_count": null,
   "metadata": {
    "collapsed": true
   },
   "outputs": [],
   "source": [
    "from __future__ import division\n",
    "\n",
    "import numpy as np\n",
    "import os\n",
    "import tensorflow as tf\n",
    "import tensorflow.contrib.slim as slim\n",
    "\n",
    "from unityenv import UnityEnvironment"
   ]
  },
  {
   "cell_type": "markdown",
   "metadata": {},
   "source": [
    "### Hyperparameters"
   ]
  },
  {
   "cell_type": "code",
   "execution_count": null,
   "metadata": {
    "collapsed": true
   },
   "outputs": [],
   "source": [
    "total_episodes = 4000 # Total episodes to run environment.\n",
    "summary_path = './summaries/bandit' # Path to save summary statistics.\n",
    "learning_rate = 1e-3 # Agent's learning rate."
   ]
  },
  {
   "cell_type": "markdown",
   "metadata": {},
   "source": [
    "### Load the Unity Environment"
   ]
  },
  {
   "cell_type": "code",
   "execution_count": null,
   "metadata": {
    "collapsed": true
   },
   "outputs": [],
   "source": [
    "env = UnityEnvironment(file_name=\"BanditDungeon\", worker_num=0)\n",
    "print(str(env))"
   ]
  },
  {
   "cell_type": "markdown",
   "metadata": {},
   "source": [
    "Select \"Stateless Bandit\" and press \"Start Learning.\""
   ]
  },
  {
   "cell_type": "markdown",
   "metadata": {},
   "source": [
    "### Examine the state space"
   ]
  },
  {
   "cell_type": "code",
   "execution_count": null,
   "metadata": {
    "collapsed": true
   },
   "outputs": [],
   "source": [
    "_, state = env.reset()\n",
    "print(state)"
   ]
  },
  {
   "cell_type": "markdown",
   "metadata": {},
   "source": [
    "The environment is stateless."
   ]
  },
  {
   "cell_type": "markdown",
   "metadata": {},
   "source": [
    "### The Stateless Agent"
   ]
  },
  {
   "cell_type": "code",
   "execution_count": null,
   "metadata": {
    "collapsed": true
   },
   "outputs": [],
   "source": [
    "class Agent(object):\n",
    "    def __init__(self, learning_rate, num_actions):\n",
    "        # These two lines established the feed-forward part of the network. \n",
    "        self.value_estimates = tf.Variable(tf.ones([num_actions]))\n",
    "        self.action_probabilities = tf.nn.softmax(self.value_estimates / 0.5)\n",
    "\n",
    "        # These lines establish the training proceedure. \n",
    "        # We feed the reward and chosen action into the network\n",
    "        # to compute the loss, and use it to update the network.\n",
    "        self.reward_holder = tf.placeholder(shape=[1],dtype=tf.float32)\n",
    "        self.action_holder = tf.placeholder(shape=[1],dtype=tf.int32)\n",
    "\n",
    "        self.responsible_value = tf.slice(self.value_estimates,self.action_holder,[1])\n",
    "        \n",
    "        # We take the difference between the emperical reward and the value estimate\n",
    "        self.loss = tf.squared_difference(self.responsible_value, self.reward_holder)\n",
    "        optimizer = tf.train.AdamOptimizer(learning_rate=learning_rate)\n",
    "        self.update = optimizer.minimize(self.loss)"
   ]
  },
  {
   "cell_type": "markdown",
   "metadata": {},
   "source": [
    "### Training the Agent"
   ]
  },
  {
   "cell_type": "code",
   "execution_count": null,
   "metadata": {
    "collapsed": true,
    "scrolled": true
   },
   "outputs": [],
   "source": [
    "rewards = []\n",
    "losses = []\n",
    "\n",
    "if not os.path.exists(summary_path):\n",
    "    os.makedirs(summary_path)\n",
    "\n",
    "# Create our tensorflow agent\n",
    "tf.reset_default_graph()\n",
    "agent = Agent(learning_rate, env.action_space_size)\n",
    "init = tf.global_variables_initializer()\n",
    "\n",
    "with tf.Session() as sess:\n",
    "    sess.run(init)\n",
    "    summary_writer = tf.summary.FileWriter(summary_path)\n",
    "    i = 0\n",
    "    while i < total_episodes:\n",
    "        # Start a new episode\n",
    "        env.reset()\n",
    "        if i < total_episodes / 2:\n",
    "            # Pick action according to Boltzmann distribution.\n",
    "            actions, values = sess.run([agent.action_probabilities, agent.value_estimates])\n",
    "            a = np.random.choice(actions,p=actions)\n",
    "            action = np.argmax(actions == a)\n",
    "        else:\n",
    "            # Pick action greedily\n",
    "            actions, values = sess.run([agent.action_probabilities, agent.value_estimates])\n",
    "            action = np.argmax(actions)\n",
    "\n",
    "        #Get our reward from picking one of the chests.\n",
    "        _, state, reward, _ = env.step(action, values.tolist()) \n",
    "        rewards.append(reward)\n",
    "        \n",
    "        #Update the agent.\n",
    "        _, value_loss = sess.run([agent.update, agent.loss], feed_dict={agent.reward_holder:[reward], \n",
    "                                              agent.action_holder:[action]})\n",
    "        \n",
    "        losses.append(value_loss)\n",
    "        \n",
    "        #Update our running tally of scores.\n",
    "        if i % 50 == 0 and i > 0:\n",
    "            summary = tf.Summary()\n",
    "            summary.value.add(tag='Info/Reward', simple_value=float(np.mean(rewards[-50:])))\n",
    "            summary.value.add(tag='Info/Value Loss', simple_value=float(np.mean(losses[-50:])))\n",
    "            summary_writer.add_summary(summary, i)\n",
    "            summary_writer.flush()\n",
    "\n",
    "            print(\"Mean Reward: {}\".format(str(round(np.mean(rewards[-50:]), 3))))\n",
    "        i+=1\n",
    "env.close()"
   ]
  },
  {
   "cell_type": "code",
   "execution_count": null,
   "metadata": {
    "collapsed": true
   },
   "outputs": [],
   "source": [
    "env.close()"
   ]
  }
 ],
 "metadata": {
  "anaconda-cloud": {},
  "kernelspec": {
   "display_name": "Python 3",
   "language": "python",
   "name": "python3"
  },
  "language_info": {
   "codemirror_mode": {
    "name": "ipython",
    "version": 2
   },
   "file_extension": ".py",
   "mimetype": "text/x-python",
   "name": "python",
   "nbconvert_exporter": "python",
   "pygments_lexer": "ipython2",
   "version": "2.7.13"
  }
 },
 "nbformat": 4,
 "nbformat_minor": 1
}
