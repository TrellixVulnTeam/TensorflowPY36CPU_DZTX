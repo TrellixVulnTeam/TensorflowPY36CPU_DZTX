{
 "cells": [
  {
   "cell_type": "markdown",
   "metadata": {
    "collapsed": true
   },
   "source": [
    "## Reading DataFrames from multiple files\n",
    "\n",
    "When data is spread among several files, you usually invoke pandas' read_csv() (or a similar data import function) multiple times to load the data into several DataFrames.\n",
    "\n",
    "The data files for this example have been derived from a list of Olympic medals awarded between 1896 & 2008 compiled by the Guardian.\n",
    "\n",
    "The column labels of each DataFrame are NOC, Country, & Total where NOC is a three-letter code for the name of the country and Total is the number of medals of that type won (bronze, silver, or gold).\n",
    "\n"
   ]
  },
  {
   "cell_type": "code",
   "execution_count": 27,
   "metadata": {},
   "outputs": [
    {
     "name": "stdout",
     "output_type": "stream",
     "text": [
      "   NOC         Country   Total\n0  USA   United States  2088.0\n1  URS    Soviet Union   838.0\n2  GBR  United Kingdom   498.0\n3  FRA          France   378.0\n4  GER         Germany   407.0\n"
     ]
    }
   ],
   "source": [
    "# Import pandas\n",
    "import pandas as pd\n",
    "\n",
    "# Read 'Bronze.csv' into a DataFrame: bronze\n",
    "bronze = pd.read_csv('/Users/victor/Documents/Dev/TensorflowPY36CPU/_1_PythonBasic/Pandas/Bronze.csv')\n",
    "\n",
    "# Read 'Silver.csv' into a DataFrame: silver\n",
    "silver = pd.read_csv('/Users/victor/Documents/Dev/TensorflowPY36CPU/_1_PythonBasic/Pandas/Silver.csv')\n",
    "\n",
    "# Read 'Gold.csv' into a DataFrame: gold\n",
    "gold = pd.read_csv('/Users/victor/Documents/Dev/TensorflowPY36CPU/_1_PythonBasic/Pandas/Gold.csv')\n",
    "\n",
    "# Print the first five rows of gold\n",
    "print(gold.head())"
   ]
  },
  {
   "cell_type": "markdown",
   "metadata": {},
   "source": [
    "## Reading DataFrames from multiple files in a loop\n",
    "As you saw in the video, loading data from multiple files into DataFrames is more efficient in a loop or a list comprehension.\n",
    "\n",
    "Notice that this approach is not restricted to working with CSV files. That is, even if your data comes in other formats, as long as pandas has a suitable data import function, you can apply a loop or comprehension to generate a list of DataFrames imported from the source files.\n",
    "\n",
    "Here, you'll continue working with The Guardian's Olympic medal dataset."
   ]
  },
  {
   "cell_type": "code",
   "execution_count": 40,
   "metadata": {},
   "outputs": [
    {
     "name": "stdout",
     "output_type": "stream",
     "text": [
      "   NOC         Country   Total\n0  USA   United States  2088.0\n1  URS    Soviet Union   838.0\n2  GBR  United Kingdom   498.0\n3  FRA          France   378.0\n4  GER         Germany   407.0\n"
     ]
    }
   ],
   "source": [
    "# Create the list of file names: filenames\n",
    "filenames = ['/Users/victor/Documents/Dev/TensorflowPY36CPU/_1_PythonBasic/Pandas/Gold.csv', '/Users/victor/Documents/Dev/TensorflowPY36CPU/_1_PythonBasic/Pandas/Silver.csv', '/Users/victor/Documents/Dev/TensorflowPY36CPU/_1_PythonBasic/Pandas/Bronze.csv']\n",
    "\n",
    "# Create the list of three DataFrames: dataframes\n",
    "dataframes = []\n",
    "for filename in filenames:\n",
    "    dataframes.append(pd.read_csv(filename))\n",
    "\n",
    "# Print top 5 rows of 1st DataFrame in dataframes\n",
    "print(dataframes[0].head())\n"
   ]
  },
  {
   "cell_type": "markdown",
   "metadata": {},
   "source": [
    "## Combining DataFrames from multiple data files\n",
    "In this exercise, you'll combine the three DataFrames from earlier exercises - gold, silver, & bronze - into a single DataFrame called medals. The approach you'll use here is clumsy. Later on in the course, you'll see various powerful methods that are frequently used in practice for concatenating or merging DataFrames.\n",
    "\n",
    "Remember, the column labels of each DataFrame are NOC, Country, and Total, where NOC is a three-letter code for the name of the country and Total is the number of medals of that type won."
   ]
  },
  {
   "cell_type": "code",
   "execution_count": 29,
   "metadata": {},
   "outputs": [
    {
     "name": "stdout",
     "output_type": "stream",
     "text": [
      "   NOC         Country    Gold  Silver  Bronze\n0  USA   United States  2088.0  1195.0  1052.0\n1  URS    Soviet Union   838.0   627.0   584.0\n2  GBR  United Kingdom   498.0   591.0   505.0\n3  FRA          France   378.0   461.0   475.0\n4  GER         Germany   407.0   350.0   454.0\n"
     ]
    }
   ],
   "source": [
    "# Make a copy of gold: medals\n",
    "medals = gold.copy()\n",
    "\n",
    "# Create list of new column labels: new_labels\n",
    "new_labels = ['NOC', 'Country', 'Gold']\n",
    "\n",
    "# Rename the columns of medals using new_labels\n",
    "medals.columns = new_labels\n",
    "\n",
    "# Add columns 'Silver' & 'Bronze' to medals\n",
    "medals['Silver'] = silver['Total'] \n",
    "medals['Bronze'] = bronze['Total']\n",
    "\n",
    "# Print the head of medals\n",
    "print(medals.head())"
   ]
  },
  {
   "cell_type": "markdown",
   "metadata": {},
   "source": [
    "## using Listing Comprehehension"
   ]
  },
  {
   "cell_type": "code",
   "execution_count": 38,
   "metadata": {},
   "outputs": [
    {
     "data": {
      "text/plain": [
       "False"
      ]
     },
     "execution_count": 38,
     "metadata": {},
     "output_type": "execute_result"
    }
   ],
   "source": [
    "dataframe2 = pd.concat([pd.read_csv(f) for f in filenames])\n",
    "dataframe2.equals(dataframes)\n",
    "\n",
    "\n"
   ]
  },
  {
   "cell_type": "markdown",
   "metadata": {},
   "source": [
    "# using Glob modules"
   ]
  },
  {
   "cell_type": "code",
   "execution_count": 42,
   "metadata": {},
   "outputs": [],
   "source": [
    "from glob import glob\n",
    "filesnames = glob('sales*.csv')"
   ]
  },
  {
   "cell_type": "code",
   "execution_count": 43,
   "metadata": {},
   "outputs": [
    {
     "data": {
      "text/plain": [
       "['/Users/victor/Documents/Dev/TensorflowPY36CPU/_1_PythonBasic/Pandas/Gold.csv',\n '/Users/victor/Documents/Dev/TensorflowPY36CPU/_1_PythonBasic/Pandas/Silver.csv',\n '/Users/victor/Documents/Dev/TensorflowPY36CPU/_1_PythonBasic/Pandas/Bronze.csv']"
      ]
     },
     "execution_count": 43,
     "metadata": {},
     "output_type": "execute_result"
    }
   ],
   "source": [
    "filenames"
   ]
  },
  {
   "cell_type": "code",
   "execution_count": 51,
   "metadata": {},
   "outputs": [],
   "source": [
    "globadf = pd.concat([pd.read_csv(f) for f in filenames]) "
   ]
  },
  {
   "cell_type": "code",
   "execution_count": 52,
   "metadata": {},
   "outputs": [
    {
     "data": {
      "text/plain": [
       "pandas.core.frame.DataFrame"
      ]
     },
     "execution_count": 52,
     "metadata": {},
     "output_type": "execute_result"
    }
   ],
   "source": [
    "type(globadf)\n"
   ]
  },
  {
   "cell_type": "markdown",
   "metadata": {},
   "source": [
    "## Sorting DataFrame with the Index & columns\n",
    "\n",
    "It is often useful to rearrange the sequence of the rows of a DataFrame by sorting. You don't have to implement these yourself; the principal methods for doing this are .sort_index() and .sort_values().\n",
    "\n",
    "In this exercise, you'll use these methods with a DataFrame of temperature values indexed by month names. You'll sort the rows alphabetically using the Index and numerically using a column. Notice, for this data, the original ordering is probably most useful and intuitive: the purpose here is for you to understand what the sorting methods do.\n"
   ]
  },
  {
   "cell_type": "code",
   "execution_count": 62,
   "metadata": {},
   "outputs": [
    {
     "name": "stdout",
     "output_type": "stream",
     "text": [
      "        Max TemperatureF\nMonth                   \nJan                   68\nFeb                   60\nMar                   68\nApr                   84\nMay                   88\n           Max TemperatureF\nMonth                      \nApr                      84\nAug                      86\nDec                      68\nFeb                      60\nJan                      68\n             Max TemperatureF\nMonth                        \nSep                        90\nOct                        84\nNov                        72\nMay                        88\nMar                        68\n       Max TemperatureF\nMonth                  \nFeb                  60\nJan                  68\nMar                  68\nDec                  68\nNov                  72\n"
     ]
    }
   ],
   "source": [
    "# Import pandas\n",
    "import pandas as pd\n",
    "\n",
    "# Read 'monthly_max_temp.csv' into a DataFrame: weather1\n",
    "weather1 = pd.read_csv('/Users/victor/Documents/Dev/TensorflowPY36CPU/_1_PythonBasic/Pandas/maxtemperture.csv',index_col='Month')\n",
    "\n",
    "# Print the head of weather1\n",
    "print(weather1.head())\n",
    "\n",
    "# Sort the index of weather1 in alphabetical order: weather2\n",
    "weather2 = weather1.sort_index()\n",
    "\n",
    "# Print the head of weather2\n",
    "print(weather2.head())\n",
    "\n",
    "# Sort the index of weather1 in reverse alphabetical order: weather3\n",
    "weather3 = weather1.sort_index(ascending=False)\n",
    "\n",
    "# Print the head of weather3\n",
    "print(weather3.head())\n",
    "\n",
    "# Sort weather1 numerically using the values of 'Max TemperatureF': weather4\n",
    "weather4 =weather1.sort_values('Max TemperatureF')\n",
    "\n",
    "# Print the head of weather4\n",
    "print(weather4.head())"
   ]
  },
  {
   "cell_type": "markdown",
   "metadata": {},
   "source": [
    "## rindexing DataFrame from a list\n",
    "Sorting methods are not the only way to change DataFrame Indexes. There is also the .reindex() method.\n",
    "\n",
    "In this exercise, you'll reindex a DataFrame of quarterly-sampled mean temperature values to contain monthly samples (this is an example of upsampling or increasing the rate of samples, which you may recall from the pandas Foundations course).\n",
    "\n",
    "The original data has the first month's abbreviation of the quarter (three-month interval) on the Index, namely Apr, Jan, Jul, and Sep. This data has been loaded into a DataFrame called weather1 and has been printed in its entirety in the IPython Shell. Notice it has only four rows (corresponding to the first month of each quarter) and that the rows are not sorted chronologically.\n",
    "\n",
    "You'll initially use a list of all twelve month abbreviations and subsequently apply the .ffill() method to forward-fill the null entries when upsampling. This list of month abbreviations has been pre-loaded as year."
   ]
  },
  {
   "cell_type": "code",
   "execution_count": 60,
   "metadata": {},
   "outputs": [
    {
     "name": "stdout",
     "output_type": "stream",
     "text": [
      "       Mean TemperatureF\nMonth                   \nJan            32.133333\nFeb                  NaN\nMar                  NaN\nApr            61.956044\nMay                  NaN\nJun                  NaN\nJul            68.934783\nAug                  NaN\nSep                  NaN\nOct            43.434783\nNov                  NaN\nDec                  NaN\n       Mean TemperatureF\nMonth                   \nJan            32.133333\nFeb            32.133333\nMar            32.133333\nApr            61.956044\nMay            61.956044\nJun            61.956044\nJul            68.934783\nAug            68.934783\nSep            68.934783\nOct            43.434783\nNov            43.434783\nDec            43.434783\n"
     ]
    }
   ],
   "source": [
    "# Import pandas\n",
    "import pandas as pd\n",
    "import numpy as np\n",
    "weather1  = pd.read_csv('/Users/victor/Documents/Dev/TensorflowPY36CPU/_1_PythonBasic/Pandas/temperture.csv',index_col='Month')\n",
    "\n",
    "\n",
    "\n",
    "year = ['Jan',\n",
    "        'Feb',\n",
    "        'Mar',\n",
    "        'Apr',\n",
    "        'May',\n",
    "        'Jun',\n",
    "        'Jul',\n",
    "        'Aug',\n",
    "        'Sep',\n",
    "        'Oct',\n",
    "        'Nov',\n",
    "        'Dec']\n",
    "\n",
    "\n",
    "\n",
    "# Reindex weather1 using the list year: weather2\n",
    "weather2 = weather1.reindex(year)\n",
    "\n",
    "# Print weather2\n",
    "print(weather2)\n",
    "\n",
    "# Reindex weather1 using the list year with forward-fill: weather3\n",
    "weather3 = weather1.reindex(year).ffill()\n",
    "\n",
    "# Print weather3\n",
    "print(weather3)\n"
   ]
  },
  {
   "cell_type": "code",
   "execution_count": 59,
   "metadata": {},
   "outputs": [
    {
     "data": {
      "text/html": [
       "<div>\n",
       "<style scoped>\n",
       "    .dataframe tbody tr th:only-of-type {\n",
       "        vertical-align: middle;\n",
       "    }\n",
       "\n",
       "    .dataframe tbody tr th {\n",
       "        vertical-align: top;\n",
       "    }\n",
       "\n",
       "    .dataframe thead th {\n",
       "        text-align: right;\n",
       "    }\n",
       "</style>\n",
       "<table border=\"1\" class=\"dataframe\">\n",
       "  <thead>\n",
       "    <tr style=\"text-align: right;\">\n",
       "      <th></th>\n",
       "      <th>Mean TemperatureF</th>\n",
       "    </tr>\n",
       "    <tr>\n",
       "      <th>Month</th>\n",
       "      <th></th>\n",
       "    </tr>\n",
       "  </thead>\n",
       "  <tbody>\n",
       "    <tr>\n",
       "      <th>Apr</th>\n",
       "      <td>61.956044</td>\n",
       "    </tr>\n",
       "    <tr>\n",
       "      <th>Jan</th>\n",
       "      <td>32.133333</td>\n",
       "    </tr>\n",
       "    <tr>\n",
       "      <th>Jul</th>\n",
       "      <td>68.934783</td>\n",
       "    </tr>\n",
       "    <tr>\n",
       "      <th>Oct</th>\n",
       "      <td>43.434783</td>\n",
       "    </tr>\n",
       "  </tbody>\n",
       "</table>\n",
       "</div>"
      ],
      "text/plain": [
       "<div>\n",
       "<style scoped>\n",
       "    .dataframe tbody tr th:only-of-type {\n",
       "        vertical-align: middle;\n",
       "    }\n",
       "\n",
       "    .dataframe tbody tr th {\n",
       "        vertical-align: top;\n",
       "    }\n",
       "\n",
       "    .dataframe thead th {\n",
       "        text-align: right;\n",
       "    }\n",
       "</style>\n",
       "<table border=\"1\" class=\"dataframe\">\n",
       "  <thead>\n",
       "    <tr style=\"text-align: right;\">\n",
       "      <th></th>\n",
       "      <th>Mean TemperatureF</th>\n",
       "    </tr>\n",
       "    <tr>\n",
       "      <th>Month</th>\n",
       "      <th></th>\n",
       "    </tr>\n",
       "  </thead>\n",
       "  <tbody>\n",
       "    <tr>\n",
       "      <th>Apr</th>\n",
       "      <td>61.956044</td>\n",
       "    </tr>\n",
       "    <tr>\n",
       "      <th>Jan</th>\n",
       "      <td>32.133333</td>\n",
       "    </tr>\n",
       "    <tr>\n",
       "      <th>Jul</th>\n",
       "      <td>68.934783</td>\n",
       "    </tr>\n",
       "    <tr>\n",
       "      <th>Oct</th>\n",
       "      <td>43.434783</td>\n",
       "    </tr>\n",
       "  </tbody>\n",
       "</table>\n",
       "</div>"
      ]
     },
     "execution_count": 59,
     "metadata": {},
     "output_type": "execute_result"
    }
   ],
   "source": [
    "weather1.head()"
   ]
  },
  {
   "cell_type": "markdown",
   "metadata": {},
   "source": [
    "## Reindexing using another DataFrame Index\n",
    "\n",
    "nother common technique is to reindex a DataFrame using the Index of another DataFrame. The DataFrame .reindex() method can accept the Index of a DataFrame or Series as input. You can access the Index of a DataFrame with its .index attribute.\n",
    "\n",
    "The Baby Names Dataset from data.gov summarizes counts of names (with genders) from births registered in the US since 1881. In this exercise, you will start with two baby-names DataFrames names_1981 and names_1881 loaded for you.\n",
    "\n",
    "The DataFrames names_1981 and names_1881 both have a MultiIndex with levels name and gender giving unique labels to counts in each row. If you're interested in seeing how the MultiIndexes were set up, names_1981 and names_1881 were read in using the following commands:\n",
    "\n",
    "names_1981 = pd.read_csv('names1981.csv', header=None, names=['name','gender','count'], index_col=(0,1))\n",
    "names_1881 = pd.read_csv('names1881.csv', header=None, names=['name','gender','count'], index_col=(0,1))\n",
    "As you can see by looking at their shapes, which have been printed in the IPython Shell, the DataFrame corresponding to 1981 births is much larger, reflecting the greater diversity of names in 1981 as compared to 1881.\n",
    "\n",
    "Your job here is to use the DataFrame .reindex() and .dropna() methods to make a DataFrame common_names counting names from 1881 that were still popular in 1981."
   ]
  },
  {
   "cell_type": "code",
   "execution_count": 63,
   "metadata": {},
   "outputs": [],
   "source": [
    "#Init\n",
    "\n",
    "names_1981 = pd.read_csv('/Users/victor/Documents/Dev/TensorflowPY36CPU/_1_PythonBasic/Pandas/names1981.csv', header=None, names=['name','gender','count'], index_col=(0,1))\n",
    "\n",
    "names_1881 = pd.read_csv('/Users/victor/Documents/Dev/TensorflowPY36CPU/_1_PythonBasic/Pandas/names1881.csv', header=None, names=['name','gender','count'], index_col=(0,1))\n"
   ]
  },
  {
   "cell_type": "code",
   "execution_count": 64,
   "metadata": {},
   "outputs": [
    {
     "name": "stdout",
     "output_type": "stream",
     "text": [
      "(1935, 1)\n(1587, 1)\n"
     ]
    }
   ],
   "source": [
    "# Import pandas\n",
    "import pandas as pd\n",
    "\n",
    "# Reindex names_1981 with index of names_1881: common_names\n",
    "#Create a new DataFrame common_names by reindexing names_1981 using the Index of the DataFrame names_1881 of older names.\n",
    "common_names = names_1981.reindex(names_1881.index)\n",
    "\n",
    "# Print shape of common_names\n",
    "print(common_names.shape)\n",
    "\n",
    "# Drop rows with null counts: common_names\n",
    "common_names = common_names.dropna()\n",
    "\n",
    "# Print shape of new common_names\n",
    "print(common_names.shape)\n"
   ]
  },
  {
   "cell_type": "markdown",
   "metadata": {},
   "source": [
    "## "
   ]
  },
  {
   "cell_type": "markdown",
   "metadata": {},
   "source": [
    "## "
   ]
  },
  {
   "cell_type": "markdown",
   "metadata": {},
   "source": [
    "## Broadcasting in arithmetic formulas\n",
    "In this exercise, you'll work with weather data pulled from wunderground.com. The DataFrame weather has been pre-loaded along with pandas as pd. It has 365 rows (observed each day of the year 2013 in Pittsburgh, PA) and 22 columns reflecting different weather measurements each day.\n",
    "\n",
    "You'll subset a collection of columns related to temperature measurements in degrees Fahrenheit, convert them to degrees Celsius, and relabel the columns of the new DataFrame to reflect the change of units.\n",
    "\n",
    "Remember, ordinary arithmetic operators (like +, -, *, and /) broadcast scalar values to conforming DataFrames when combining scalars & DataFrames in arithmetic expressions. Broadcasting also works with pandas Series and NumPy arrays."
   ]
  },
  {
   "cell_type": "code",
   "execution_count": 2,
   "metadata": {},
   "outputs": [],
   "source": [
    "## init\n",
    "import pandas as pd\n",
    "\n",
    "weather = pd.read_csv('/Users/victor/Documents/Dev/TensorflowPY36CPU/_1_PythonBasic/Pandas/pittsburgh2013.csv',index_col='Date')"
   ]
  },
  {
   "cell_type": "code",
   "execution_count": 4,
   "metadata": {},
   "outputs": [
    {
     "name": "stdout",
     "output_type": "stream",
     "text": [
      "          Max TemperatureF  Mean TemperatureF  Min TemperatureF  \\\nDate                                                              \n2013-1-1                32                 28                21   \n2013-1-2                25                 21                17   \n2013-1-3                32                 24                16   \n2013-1-4                30                 28                27   \n2013-1-5                34                 30                25   \n\n          Max Dew PointF  MeanDew PointF  Min DewpointF  Max Humidity  \\\nDate                                                                    \n2013-1-1              30              27             16           100   \n2013-1-2              14              12             10            77   \n2013-1-3              19              15              9            77   \n2013-1-4              21              19             17            75   \n2013-1-5              23              20             16            75   \n\n          Mean Humidity  Min Humidity  Max Sea Level PressureIn  \\\nDate                                                              \n2013-1-1             89            77                     30.10   \n2013-1-2             67            55                     30.27   \n2013-1-3             67            56                     30.25   \n2013-1-4             68            59                     30.28   \n2013-1-5             68            61                     30.42   \n\n               ...        Max VisibilityMiles  Mean VisibilityMiles  \\\nDate           ...                                                    \n2013-1-1       ...                         10                     6   \n2013-1-2       ...                         10                    10   \n2013-1-3       ...                         10                    10   \n2013-1-4       ...                         10                    10   \n2013-1-5       ...                         10                    10   \n\n          Min VisibilityMiles  Max Wind SpeedMPH  Mean Wind SpeedMPH  \\\nDate                                                                   \n2013-1-1                    2                 10                   8   \n2013-1-2                   10                 14                   5   \n2013-1-3                   10                 17                   8   \n2013-1-4                    6                 23                  16   \n2013-1-5                   10                 16                  10   \n\n          Max Gust SpeedMPH  PrecipitationIn   CloudCover  Events  \\\nDate                                                                \n2013-1-1                NaN             0.00            8    Snow   \n2013-1-2                NaN             0.00            4     NaN   \n2013-1-3               26.0             0.00            3     NaN   \n2013-1-4               32.0             0.00            4     NaN   \n2013-1-5               23.0             0.21            5     NaN   \n\n          WindDirDegrees  \nDate                      \n2013-1-1             277  \n2013-1-2             272  \n2013-1-3             229  \n2013-1-4             250  \n2013-1-5             221  \n\n[5 rows x 22 columns]\n"
     ]
    }
   ],
   "source": [
    "print(weather.head())"
   ]
  },
  {
   "cell_type": "code",
   "execution_count": 5,
   "metadata": {},
   "outputs": [
    {
     "name": "stdout",
     "output_type": "stream",
     "text": [
      "          Min TemperatureC  Mean TemperatureC  Max TemperatureC\nDate                                                           \n2013-1-1         -6.111111          -2.222222          0.000000\n2013-1-2         -8.333333          -6.111111         -3.888889\n2013-1-3         -8.888889          -4.444444          0.000000\n2013-1-4         -2.777778          -2.222222         -1.111111\n2013-1-5         -3.888889          -1.111111          1.111111\n"
     ]
    }
   ],
   "source": [
    "# Excerise\n",
    "\n",
    "# Extract selected columns from weather as new DataFrame: temps_f\n",
    "temps_f = weather[['Min TemperatureF','Mean TemperatureF','Max TemperatureF']]\n",
    "\n",
    "# Convert temps_f to celsius: temps_c\n",
    "temps_c = (temps_f - 32) * 5/9\n",
    "\n",
    "# Rename 'F' in column names with 'C': temps_c.columns\n",
    "temps_c.columns =temps_c.columns.str.replace('F','C')\n",
    "\n",
    "# Print first 5 rows of temps_c\n",
    "print(temps_c.head())"
   ]
  },
  {
   "cell_type": "markdown",
   "metadata": {},
   "source": [
    "# Computing percentage growth of GDP\n",
    "Your job in this exercise is to compute the yearly percent-change of US GDP (Gross Domestic Product) since 2008.\n",
    "\n",
    "The data has been obtained from the Federal Reserve Bank of St. Louis and is available in the file GDP.csv, which contains quarterly data; you will resample it to annual sampling and then compute the annual growth of GDP. For a refresher on resampling, check out the relevant material from pandas Foundations."
   ]
  },
  {
   "cell_type": "code",
   "execution_count": 7,
   "metadata": {},
   "outputs": [],
   "source": [
    "import pandas as pd\n",
    "\n",
    "# Read 'GDP.csv' into a DataFrame: gdp\n",
    "gdp = pd.read_csv('/Users/victor/Documents/Dev/TensorflowPY36CPU/_1_PythonBasic/Pandas/gdp_usa.csv',parse_dates=True, index_col='DATE')\n"
   ]
  },
  {
   "cell_type": "code",
   "execution_count": 8,
   "metadata": {},
   "outputs": [
    {
     "data": {
      "text/html": [
       "<div>\n",
       "<style scoped>\n",
       "    .dataframe tbody tr th:only-of-type {\n",
       "        vertical-align: middle;\n",
       "    }\n",
       "\n",
       "    .dataframe tbody tr th {\n",
       "        vertical-align: top;\n",
       "    }\n",
       "\n",
       "    .dataframe thead th {\n",
       "        text-align: right;\n",
       "    }\n",
       "</style>\n",
       "<table border=\"1\" class=\"dataframe\">\n",
       "  <thead>\n",
       "    <tr style=\"text-align: right;\">\n",
       "      <th></th>\n",
       "      <th>VALUE</th>\n",
       "    </tr>\n",
       "    <tr>\n",
       "      <th>DATE</th>\n",
       "      <th></th>\n",
       "    </tr>\n",
       "  </thead>\n",
       "  <tbody>\n",
       "    <tr>\n",
       "      <th>1947-01-01</th>\n",
       "      <td>243.1</td>\n",
       "    </tr>\n",
       "    <tr>\n",
       "      <th>1947-04-01</th>\n",
       "      <td>246.3</td>\n",
       "    </tr>\n",
       "    <tr>\n",
       "      <th>1947-07-01</th>\n",
       "      <td>250.1</td>\n",
       "    </tr>\n",
       "    <tr>\n",
       "      <th>1947-10-01</th>\n",
       "      <td>260.3</td>\n",
       "    </tr>\n",
       "    <tr>\n",
       "      <th>1948-01-01</th>\n",
       "      <td>266.2</td>\n",
       "    </tr>\n",
       "  </tbody>\n",
       "</table>\n",
       "</div>"
      ],
      "text/plain": [
       "<div>\n",
       "<style scoped>\n",
       "    .dataframe tbody tr th:only-of-type {\n",
       "        vertical-align: middle;\n",
       "    }\n",
       "\n",
       "    .dataframe tbody tr th {\n",
       "        vertical-align: top;\n",
       "    }\n",
       "\n",
       "    .dataframe thead th {\n",
       "        text-align: right;\n",
       "    }\n",
       "</style>\n",
       "<table border=\"1\" class=\"dataframe\">\n",
       "  <thead>\n",
       "    <tr style=\"text-align: right;\">\n",
       "      <th></th>\n",
       "      <th>VALUE</th>\n",
       "    </tr>\n",
       "    <tr>\n",
       "      <th>DATE</th>\n",
       "      <th></th>\n",
       "    </tr>\n",
       "  </thead>\n",
       "  <tbody>\n",
       "    <tr>\n",
       "      <th>1947-01-01</th>\n",
       "      <td>243.1</td>\n",
       "    </tr>\n",
       "    <tr>\n",
       "      <th>1947-04-01</th>\n",
       "      <td>246.3</td>\n",
       "    </tr>\n",
       "    <tr>\n",
       "      <th>1947-07-01</th>\n",
       "      <td>250.1</td>\n",
       "    </tr>\n",
       "    <tr>\n",
       "      <th>1947-10-01</th>\n",
       "      <td>260.3</td>\n",
       "    </tr>\n",
       "    <tr>\n",
       "      <th>1948-01-01</th>\n",
       "      <td>266.2</td>\n",
       "    </tr>\n",
       "  </tbody>\n",
       "</table>\n",
       "</div>"
      ]
     },
     "execution_count": 8,
     "metadata": {},
     "output_type": "execute_result"
    }
   ],
   "source": [
    "gdp.head()"
   ]
  },
  {
   "cell_type": "code",
   "execution_count": 9,
   "metadata": {},
   "outputs": [
    {
     "name": "stdout",
     "output_type": "stream",
     "text": [
      "              VALUE\nDATE               \n2014-07-01  17569.4\n2014-10-01  17692.2\n2015-01-01  17783.6\n2015-04-01  17998.3\n2015-07-01  18141.9\n2015-10-01  18222.8\n2016-01-01  18281.6\n2016-04-01  18436.5\n              VALUE\nDATE               \n2008-12-31  14549.9\n2009-12-31  14566.5\n2010-12-31  15230.2\n2011-12-31  15785.3\n2012-12-31  16297.3\n2013-12-31  16999.9\n2014-12-31  17692.2\n2015-12-31  18222.8\n2016-12-31  18436.5\n              VALUE    growth\nDATE                         \n2008-12-31  14549.9       NaN\n2009-12-31  14566.5  0.114090\n2010-12-31  15230.2  4.556345\n2011-12-31  15785.3  3.644732\n2012-12-31  16297.3  3.243524\n2013-12-31  16999.9  4.311144\n2014-12-31  17692.2  4.072377\n2015-12-31  18222.8  2.999062\n2016-12-31  18436.5  1.172707\n"
     ]
    }
   ],
   "source": [
    "\n",
    "# Slice all the gdp data from 2008 onward: post2008\n",
    "post2008 = gdp.loc['2008':]\n",
    "\n",
    "# Print the last 8 rows of post2008\n",
    "print(post2008.tail(8))\n",
    "\n",
    "# Resample post2008 by year, keeping last(): yearly\n",
    "yearly = post2008.resample('A').last()\n",
    "\n",
    "# Print yearly\n",
    "print(yearly)\n",
    "\n",
    "# Compute percentage growth of yearly: yearly['growth']\n",
    "yearly['growth'] = yearly.pct_change()*100\n",
    "\n",
    "# Print yearly again\n",
    "print(yearly)"
   ]
  },
  {
   "cell_type": "markdown",
   "metadata": {},
   "source": [
    "## Converting currency of stocks\n",
    "\n",
    "n this exercise, stock prices in US Dollars for the S&P 500 in 2015 have been obtained from Yahoo Finance. The files sp500.csv for sp500 and exchange.csv for the exchange rates are both provided to you.\n",
    "\n",
    "Using the daily exchange rate to Pounds Sterling, your task is to convert both the Open and Close column prices."
   ]
  },
  {
   "cell_type": "code",
   "execution_count": 10,
   "metadata": {},
   "outputs": [
    {
     "name": "stdout",
     "output_type": "stream",
     "text": [
      "                   Open        Close\nDate                                \n2015-01-02  2058.899902  2058.199951\n2015-01-05  2054.439941  2020.579956\n2015-01-06  2022.150024  2002.609985\n2015-01-07  2005.550049  2025.900024\n2015-01-08  2030.609985  2062.139893\n                   Open        Close\nDate                                \n2015-01-02  1340.364425  1339.908750\n2015-01-05  1348.616555  1326.389506\n2015-01-06  1332.515980  1319.639876\n2015-01-07  1330.562125  1344.063112\n2015-01-08  1343.268811  1364.126161\n"
     ]
    }
   ],
   "source": [
    "# Import pandas\n",
    "import pandas as pd\n",
    "\n",
    "# Read 'sp500.csv' into a DataFrame: sp500\n",
    "sp500 = pd.read_csv('/Users/victor/Documents/Dev/TensorflowPY36CPU/_1_PythonBasic/Pandas/sp500.csv',parse_dates=True,index_col='Date')\n",
    "\n",
    "# Read 'exchange.csv' into a DataFrame: exchange\n",
    "exchange = pd.read_csv('/Users/victor/Documents/Dev/TensorflowPY36CPU/_1_PythonBasic/Pandas/exchange.csv',parse_dates=True,index_col='Date')\n",
    "\n",
    "# Subset 'Open' & 'Close' columns from sp500: dollars\n",
    "dollars = sp500[['Open','Close']]\n",
    "\n",
    "# Print the head of dollars\n",
    "print(dollars.head())\n",
    "\n",
    "# Convert dollars to pounds: pounds\n",
    "pounds = dollars.multiply(exchange['GBP/USD'],axis='rows')\n",
    "\n",
    "# Print the head of pounds\n",
    "print(pounds.head())"
   ]
  },
  {
   "cell_type": "markdown",
   "metadata": {},
   "source": [
    "## "
   ]
  },
  {
   "cell_type": "code",
   "execution_count": 10,
   "metadata": {},
   "outputs": [
    {
     "name": "stdout",
     "output_type": "stream",
     "text": [
      "                   Open        Close\nDate                                \n2015-01-02  2058.899902  2058.199951\n2015-01-05  2054.439941  2020.579956\n2015-01-06  2022.150024  2002.609985\n2015-01-07  2005.550049  2025.900024\n2015-01-08  2030.609985  2062.139893\n                   Open        Close\nDate                                \n2015-01-02  1340.364425  1339.908750\n2015-01-05  1348.616555  1326.389506\n2015-01-06  1332.515980  1319.639876\n2015-01-07  1330.562125  1344.063112\n2015-01-08  1343.268811  1364.126161\n"
     ]
    }
   ],
   "source": [
    ""
   ]
  },
  {
   "cell_type": "code",
   "execution_count": 11,
   "metadata": {},
   "outputs": [
    {
     "name": "stdout",
     "output_type": "stream",
     "text": [
      "                   Open        Close\nDate                                \n2015-01-02  2058.899902  2058.199951\n2015-01-05  2054.439941  2020.579956\n2015-01-06  2022.150024  2002.609985\n2015-01-07  2005.550049  2025.900024\n2015-01-08  2030.609985  2062.139893\n                   Open        Close\nDate                                \n2015-01-02  1340.364425  1339.908750\n2015-01-05  1348.616555  1326.389506\n2015-01-06  1332.515980  1319.639876\n2015-01-07  1330.562125  1344.063112\n2015-01-08  1343.268811  1364.126161\n"
     ]
    }
   ],
   "source": [
    "# Import pandas\n",
    "import pandas as pd\n",
    "\n",
    "# Read 'sp500.csv' into a DataFrame: sp500\n",
    "sp500 = pd.read_csv('/Users/victor/Documents/Dev/TensorflowPY36CPU/_1_PythonBasic/Pandas/sp500.csv',parse_dates=True,index_col='Date')\n",
    "\n",
    "# Read 'exchange.csv' into a DataFrame: exchange\n",
    "exchange = pd.read_csv('/Users/victor/Documents/Dev/TensorflowPY36CPU/_1_PythonBasic/Pandas/exchange.csv',parse_dates=True,index_col='Date')\n",
    "\n",
    "# Subset 'Open' & 'Close' columns from sp500: dollars\n",
    "dollars = sp500[['Open','Close']]\n",
    "\n",
    "# Print the head of dollars\n",
    "print(dollars.head())\n",
    "\n",
    "# Convert dollars to pounds: pounds\n",
    "pounds = dollars.multiply(exchange['GBP/USD'],axis='rows')\n",
    "\n",
    "# Print the head of pounds\n",
    "print(pounds.head())"
   ]
  },
  {
   "cell_type": "markdown",
   "metadata": {},
   "source": [
    "## Appending pandas Series\n",
    "\n",
    "In this exercise, you'll load sales data from the months January, February, and March into DataFrames. Then, you'll extract Series with the 'Units' column from each and append them together with method chaining using .append().\n",
    "\n",
    "To check that the stacking worked, you'll print slices from these Series, and finally, you'll add the result to figure out the total units sold in the first quarter."
   ]
  },
  {
   "cell_type": "code",
   "execution_count": 13,
   "metadata": {},
   "outputs": [
    {
     "name": "stdout",
     "output_type": "stream",
     "text": [
      "Date\n2015-01-27 07:11:55    18\n2015-02-02 08:33:01     3\n2015-02-02 20:54:49     9\nName: Units, dtype: int64\nDate\n2015-02-26 08:57:45     4\n2015-02-26 08:58:51     1\n2015-03-06 10:11:45    17\n2015-03-06 02:03:56    17\nName: Units, dtype: int64\n642\n"
     ]
    }
   ],
   "source": [
    "# Import pandas\n",
    "import pandas as pd\n",
    "\n",
    "# Load 'sales-jan-2015.csv' into a DataFrame: jan\n",
    "jan = pd.read_csv('/Users/victor/Documents/Dev/TensorflowPY36CPU/_1_PythonBasic/Pandas/sales-jan-2015.csv',parse_dates=True,index_col='Date')\n",
    "\n",
    "# Load 'sales-feb-2015.csv' into a DataFrame: feb\n",
    "feb = pd.read_csv('/Users/victor/Documents/Dev/TensorflowPY36CPU/_1_PythonBasic/Pandas/sales-feb-2015.csv',parse_dates=True,index_col='Date')\n",
    "\n",
    "# Load 'sales-mar-2015.csv' into a DataFrame: mar\n",
    "mar = pd.read_csv('/Users/victor/Documents/Dev/TensorflowPY36CPU/_1_PythonBasic/Pandas/sales-mar-2015.csv',parse_dates=True,index_col='Date')\n",
    "\n",
    "# Extract the 'Units' column from jan: jan_units\n",
    "jan_units = jan['Units']\n",
    "\n",
    "# Extract the 'Units' column from feb: feb_units\n",
    "feb_units = feb['Units']\n",
    "\n",
    "# Extract the 'Units' column from mar: mar_units\n",
    "mar_units = mar['Units']\n",
    "\n",
    "# Append feb_units and then mar_units to jan_units: quarter1\n",
    "quarter1 = jan_units.append(feb_units).append(mar_units)\n",
    "\n",
    "# Print the first slice from quarter1\n",
    "print(quarter1.loc['jan 27, 2015':'feb 2, 2015'])\n",
    "\n",
    "# Print the second slice from quarter1\n",
    "print(quarter1.loc['feb 26, 2015':'mar 7, 2015' ])\n",
    "\n",
    "# Compute & print total sales in quarter1\n",
    "print(quarter1.sum())\n"
   ]
  },
  {
   "cell_type": "code",
   "execution_count": null,
   "metadata": {},
   "outputs": [],
   "source": []
  }
 ],
 "metadata": {
  "kernelspec": {
   "display_name": "Python 2",
   "language": "python",
   "name": "python2"
  },
  "language_info": {
   "codemirror_mode": {
    "name": "ipython",
    "version": 2
   },
   "file_extension": ".py",
   "mimetype": "text/x-python",
   "name": "python",
   "nbconvert_exporter": "python",
   "pygments_lexer": "ipython2",
   "version": "2.7.6"
  }
 },
 "nbformat": 4,
 "nbformat_minor": 0
}
