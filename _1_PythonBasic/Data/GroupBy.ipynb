{
 "cells": [
  {
   "cell_type": "code",
   "execution_count": 1,
   "metadata": {
    "collapsed": true
   },
   "outputs": [],
   "source": [
    "import pandas as pd\n",
    "\n",
    "#http://shichaoji.com:521/pivoting\n",
    "sales = pd.DataFrame({'eggs': {0: 47, 1: 110, 2: 221, 3: 77, 4: 132, 5: 205},\n",
    " 'month': {0: 1, 1: 2, 2: 1, 3: 2, 4: 1, 5: 2},\n",
    " 'salt': {0: 12.0, 1: 50.0, 2: 89.0, 3: 87.0, 4: None, 5: 60.0},\n",
    " 'spam': {0: 17, 1: 31, 2: 72, 3: 20, 4: 52, 5: 55},\n",
    " 'state': {0: 'CA', 1: 'CA', 2: 'NY', 3: 'NY', 4: 'TX', 5: 'TX'}})"
   ]
  },
  {
   "cell_type": "code",
   "execution_count": 3,
   "metadata": {},
   "outputs": [
    {
     "name": "stdout",
     "output_type": "stream",
     "text": [
      "   eggs  month  salt  spam state\n0    47      1  12.0    17    CA\n1   110      2  50.0    31    CA\n2   221      1  89.0    72    NY\n3    77      2  87.0    20    NY\n4   132      1   NaN    52    TX\n5   205      2  60.0    55    TX\n"
     ]
    }
   ],
   "source": [
    "print(sales)\n"
   ]
  },
  {
   "cell_type": "code",
   "execution_count": 4,
   "metadata": {},
   "outputs": [
    {
     "name": "stdout",
     "output_type": "stream",
     "text": [
      "state  CA  NY  TX\nmonth            \n1      17  72  52\n2      31  20  55\n"
     ]
    }
   ],
   "source": [
    "print(sales.pivot('month','state','spam'))"
   ]
  },
  {
   "cell_type": "code",
   "execution_count": null,
   "metadata": {},
   "outputs": [],
   "source": []
  }
 ],
 "metadata": {
  "kernelspec": {
   "display_name": "Python 2",
   "language": "python",
   "name": "python2"
  },
  "language_info": {
   "codemirror_mode": {
    "name": "ipython",
    "version": 2
   },
   "file_extension": ".py",
   "mimetype": "text/x-python",
   "name": "python",
   "nbconvert_exporter": "python",
   "pygments_lexer": "ipython2",
   "version": "2.7.6"
  }
 },
 "nbformat": 4,
 "nbformat_minor": 0
}
