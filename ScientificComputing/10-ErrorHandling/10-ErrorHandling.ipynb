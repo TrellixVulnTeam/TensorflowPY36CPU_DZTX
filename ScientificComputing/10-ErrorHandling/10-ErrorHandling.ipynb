{
 "cells": [
  {
   "cell_type": "markdown",
   "metadata": {},
   "source": [
    "# 10 - Error Handling"
   ]
  },
  {
   "cell_type": "code",
   "execution_count": null,
   "metadata": {
    "collapsed": true
   },
   "outputs": [],
   "source": [
    "from scipy import *"
   ]
  },
  {
   "cell_type": "markdown",
   "metadata": {},
   "source": [
    "## What are exceptions?"
   ]
  },
  {
   "cell_type": "code",
   "execution_count": null,
   "metadata": {
    "collapsed": false
   },
   "outputs": [],
   "source": [
    "def f(x):\n",
    "    return 1/x\n",
    "f(0)  # returns a ZeroDivisionError"
   ]
  },
  {
   "cell_type": "code",
   "execution_count": null,
   "metadata": {
    "collapsed": false
   },
   "outputs": [],
   "source": [
    "a = arange(8.0)\n",
    "a[3]='string'"
   ]
  },
  {
   "cell_type": "markdown",
   "metadata": {},
   "source": [
    "## Basic Principles\n",
    "### Raising Exceptions\n",
    "\n",
    "Example: file does not exist "
   ]
  },
  {
   "cell_type": "markdown",
   "metadata": {
    "collapsed": false
   },
   "source": [
    "try:\n",
    "    f = open('data.txt', 'r')\n",
    "    data = f.readline()\n",
    "    value = float(data)\n",
    "except OSError as oe:\n",
    "    print(\"{}:  {}\".format(oe.strerror, oe.filename))\n",
    "except ValueError:\n",
    "    print(\"Could not convert data to float.\")"
   ]
  },
  {
   "cell_type": "markdown",
   "metadata": {
    "collapsed": true
   },
   "source": [
    "Example file exists"
   ]
  },
  {
   "cell_type": "code",
   "execution_count": null,
   "metadata": {
    "collapsed": false
   },
   "outputs": [],
   "source": [
    "try:\n",
    "    f = open('data1.txt', 'r')\n",
    "    data = f.readline()\n",
    "    value = float(data)\n",
    "except OSError as oe:\n",
    "    print(\"{}:  {}\".format(oe.strerror, oe.filename))\n",
    "except ValueError:\n",
    "    print(\"Could not convert data to float.\")"
   ]
  },
  {
   "cell_type": "markdown",
   "metadata": {},
   "source": [
    "Example: Permission denied"
   ]
  },
  {
   "cell_type": "code",
   "execution_count": null,
   "metadata": {
    "collapsed": false
   },
   "outputs": [],
   "source": [
    "try:\n",
    "    f = open('data2.txt', 'r')\n",
    "    data = f.readline()\n",
    "    value = float(data)\n",
    "except OSError as oe:\n",
    "    print(\"{}:  {}\".format(oe.strerror, oe.filename))\n",
    "except ValueError:\n",
    "    print(\"Could not convert data to float.\")"
   ]
  },
  {
   "cell_type": "code",
   "execution_count": null,
   "metadata": {
    "collapsed": true
   },
   "outputs": [],
   "source": [
    "try:\n",
    "    f = open('data1.txt', 'w')\n",
    "    # some function that does something with the file\n",
    "    f.write('some text')\n",
    "except:\n",
    "    print('Some message')\n",
    "finally:\n",
    "    f.close() "
   ]
  },
  {
   "cell_type": "markdown",
   "metadata": {},
   "source": [
    "### User-defined Exceptions"
   ]
  },
  {
   "cell_type": "code",
   "execution_count": null,
   "metadata": {
    "collapsed": false
   },
   "outputs": [],
   "source": [
    "class MyError(Exception):\n",
    "    def __init__(self, expr):\n",
    "        self.expr = expr\n",
    "    def __str__(self):\n",
    "        return str(self.expr)\n",
    "\n",
    "\n",
    "try:\n",
    "    x = random.rand()\n",
    "    if x < 0.5: \n",
    "        raise MyError(x)\n",
    "except MyError as  e:\n",
    "    print(\"Random number too small\", e.expr)\n",
    "else:\n",
    "    print(x)"
   ]
  },
  {
   "cell_type": "markdown",
   "metadata": {},
   "source": [
    "### Context Managers -- the `with` statement"
   ]
  },
  {
   "cell_type": "code",
   "execution_count": null,
   "metadata": {
    "collapsed": false
   },
   "outputs": [],
   "source": [
    "with open('data1.txt', 'w') as f:\n",
    "    f.write('another.text')"
   ]
  },
  {
   "cell_type": "code",
   "execution_count": null,
   "metadata": {
    "collapsed": false
   },
   "outputs": [],
   "source": [
    "f.closed"
   ]
  },
  {
   "cell_type": "code",
   "execution_count": null,
   "metadata": {
    "collapsed": false
   },
   "outputs": [],
   "source": [
    "import numpy as np\n",
    "\n",
    "with np.errstate(invalid='ignore'):\n",
    "    print(np.sqrt(-1)) # prints 'nan'\n",
    "\n",
    "with errstate(invalid='warn'):\n",
    "    print(np.sqrt(-1)) # prints 'nan' and 'RuntimeWarning: invalid value encountered in sqrt'\n",
    "\n",
    "with errstate(invalid='raise'):\n",
    "    print(np.sqrt(-1)) # prints nothing and raises FloatingPointError"
   ]
  },
  {
   "cell_type": "markdown",
   "metadata": {},
   "source": [
    "## Debugging"
   ]
  },
  {
   "cell_type": "code",
   "execution_count": null,
   "metadata": {
    "collapsed": false
   },
   "outputs": [],
   "source": [
    "import pdb \n",
    "\n",
    "def complex_to_polar(z):\n",
    "    pdb.set_trace()\n",
    "    r = sqrt(z.real ** 2 + z.imag ** 2)\n",
    "    phi = arctan2(z.imag, z.real)\n",
    "    return (r,phi)\n",
    "\n",
    "z = 3 + 5j\n",
    "r,phi = complex_to_polar(z)\n",
    "\n",
    "print(r,phi)"
   ]
  }
 ],
 "metadata": {
  "anaconda-cloud": {},
  "kernelspec": {
   "display_name": "Python [conda root]",
   "language": "python",
   "name": "conda-root-py"
  },
  "language_info": {
   "codemirror_mode": {
    "name": "ipython",
    "version": 3
   },
   "file_extension": ".py",
   "mimetype": "text/x-python",
   "name": "python",
   "nbconvert_exporter": "python",
   "pygments_lexer": "ipython3",
   "version": "3.5.2"
  }
 },
 "nbformat": 4,
 "nbformat_minor": 1
}
