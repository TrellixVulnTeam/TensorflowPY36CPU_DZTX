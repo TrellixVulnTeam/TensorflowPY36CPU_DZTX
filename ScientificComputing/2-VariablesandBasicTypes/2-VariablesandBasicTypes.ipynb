{
 "cells": [
  {
   "cell_type": "markdown",
   "metadata": {},
   "source": [
    "# 2-Variables and Basic Types\n",
    "\n",
    "\n",
    "Always run this statement first, when working with this book:"
   ]
  },
  {
   "cell_type": "code",
   "execution_count": null,
   "metadata": {
    "collapsed": false
   },
   "outputs": [],
   "source": [
    "from scipy import *\n",
    "from matplotlib.pyplot import *\n",
    "%matplotlib   inline    \n",
    "from IPython.core.interactiveshell import InteractiveShell\n",
    "InteractiveShell.ast_node_interactivity = \"all\""
   ]
  },
  {
   "cell_type": "markdown",
   "metadata": {},
   "source": [
    "## Variables"
   ]
  },
  {
   "cell_type": "code",
   "execution_count": null,
   "metadata": {
    "collapsed": true
   },
   "outputs": [],
   "source": [
    "a = 1 \n",
    "diameter = 3.\n",
    "height = 5.\n",
    "cylinder = [diameter, height] # reference to a list"
   ]
  },
  {
   "cell_type": "code",
   "execution_count": null,
   "metadata": {
    "collapsed": false
   },
   "outputs": [],
   "source": [
    "a = b = c = 1\n",
    "a"
   ]
  },
  {
   "cell_type": "code",
   "execution_count": null,
   "metadata": {
    "collapsed": false
   },
   "outputs": [],
   "source": [
    "a = 1\n",
    "a = a + 1 # a gets the value 2\n",
    "a\n",
    "a = 3 * a\n",
    "a"
   ]
  },
  {
   "cell_type": "code",
   "execution_count": null,
   "metadata": {
    "collapsed": false
   },
   "outputs": [],
   "source": [
    "a = 1\n",
    "a += 1 # same as a = a + 1\n",
    "a\n",
    "a *= 3 # same as a = 3 * a\n",
    "a"
   ]
  },
  {
   "cell_type": "markdown",
   "metadata": {},
   "source": [
    "## Numeric Types\n",
    "\n",
    "### Integers"
   ]
  },
  {
   "cell_type": "code",
   "execution_count": null,
   "metadata": {
    "collapsed": false
   },
   "outputs": [],
   "source": [
    "6 // 2  # 3\n",
    "\n",
    "7 // 2  # 3\n",
    "\n",
    "7 / 2   # 3.5 "
   ]
  },
  {
   "cell_type": "markdown",
   "metadata": {},
   "source": [
    "### Floating Point Numbers"
   ]
  },
  {
   "cell_type": "code",
   "execution_count": null,
   "metadata": {
    "collapsed": false
   },
   "outputs": [],
   "source": [
    "0.4 - 0.3 # returns 0.10000000000000003\n",
    "\n",
    "0.4 - 0.3 == 0.1  # returns False "
   ]
  },
  {
   "cell_type": "markdown",
   "metadata": {},
   "source": [
    "####  Infinite and Not a Number"
   ]
  },
  {
   "cell_type": "code",
   "execution_count": null,
   "metadata": {
    "collapsed": false
   },
   "outputs": [],
   "source": [
    "exp(1000.)  #  inf\n",
    "\n",
    "a = inf\n",
    "\n",
    "3 - a       # -inf\n",
    "\n",
    "3 + a       #  inf"
   ]
  },
  {
   "cell_type": "code",
   "execution_count": null,
   "metadata": {
    "collapsed": false
   },
   "outputs": [],
   "source": [
    "a+a  # inf\n",
    "\n",
    "a-a  # nan\n",
    "\n",
    "a/a  # nan"
   ]
  },
  {
   "cell_type": "code",
   "execution_count": null,
   "metadata": {
    "collapsed": false
   },
   "outputs": [],
   "source": [
    "x = nan \n",
    "\n",
    "x < 0 # False\n",
    "\n",
    "x > 0 # False\n",
    "\n",
    "x == x # False"
   ]
  },
  {
   "cell_type": "code",
   "execution_count": null,
   "metadata": {
    "collapsed": false
   },
   "outputs": [],
   "source": [
    "0 < inf     # True \n",
    "inf <= inf  # True \n",
    "inf == inf  # True \n",
    "-inf < inf  # True \n",
    "inf - inf   # nan \n",
    "exp(-inf)   # 0 \n",
    "exp(1 / inf)  # 1"
   ]
  },
  {
   "cell_type": "code",
   "execution_count": null,
   "metadata": {
    "collapsed": false
   },
   "outputs": [],
   "source": [
    "seterr(all = 'raise')"
   ]
  },
  {
   "cell_type": "markdown",
   "metadata": {},
   "source": [
    "#### Underflow: Machine Epsilon"
   ]
  },
  {
   "cell_type": "code",
   "execution_count": null,
   "metadata": {
    "collapsed": false
   },
   "outputs": [],
   "source": [
    "import sys\n",
    "sys.float_info.epsilon # 2.220446049250313e-16 (depending on your system)"
   ]
  },
  {
   "cell_type": "code",
   "execution_count": null,
   "metadata": {
    "collapsed": false
   },
   "outputs": [],
   "source": [
    "a = '1.356'\n",
    "float(a)"
   ]
  },
  {
   "cell_type": "markdown",
   "metadata": {},
   "source": [
    "#### Other float types in NumPy"
   ]
  },
  {
   "cell_type": "code",
   "execution_count": null,
   "metadata": {
    "collapsed": false
   },
   "outputs": [],
   "source": [
    "a  = pi # returns   3.141592653589793\n",
    "a\n",
    "\n",
    "a1 = float64(a)  # returns   3.1415926535897931\n",
    "a1\n",
    "\n",
    "a2=float32(a)  # returns   3.1415927\n",
    "a2\n",
    "\n",
    "a - a1  # returns   0.0 \n",
    "a - a2  # returns   -8.7422780126189537e-08"
   ]
  },
  {
   "cell_type": "code",
   "execution_count": null,
   "metadata": {
    "collapsed": false
   },
   "outputs": [],
   "source": [
    "f32 = finfo(float32) \n",
    "f32.precision   # 6 (decimal digits) \n",
    "f64 = finfo(float64) \n",
    "f64.precision   # 15 (decimal digits) \n",
    "f = finfo(float) \n",
    "f.precision     # 15 (decimal digits) \n",
    "f64.max         # 1.7976931348623157e+308 (largest number) \n",
    "f32.max         # 3.4028235e+38 (largest number) \n",
    "help(finfo)     # Check for more options"
   ]
  },
  {
   "cell_type": "markdown",
   "metadata": {},
   "source": [
    "### Complex Numbers"
   ]
  },
  {
   "cell_type": "code",
   "execution_count": null,
   "metadata": {
    "collapsed": false
   },
   "outputs": [],
   "source": [
    "b = 5.2 \n",
    "z = bj   # returns a NameError "
   ]
  },
  {
   "cell_type": "code",
   "execution_count": null,
   "metadata": {
    "collapsed": false
   },
   "outputs": [],
   "source": [
    "z = b*j  # returns a NameError"
   ]
  },
  {
   "cell_type": "code",
   "execution_count": null,
   "metadata": {
    "collapsed": false
   },
   "outputs": [],
   "source": [
    "z = b*1j # is correct\n",
    "z"
   ]
  },
  {
   "cell_type": "code",
   "execution_count": null,
   "metadata": {
    "collapsed": false
   },
   "outputs": [],
   "source": [
    "z = 3.2 + 5.2j \n",
    "z.conjugate() # returns (3.2-5.2j)"
   ]
  },
  {
   "cell_type": "markdown",
   "metadata": {},
   "source": [
    "#### Real and Imaginary Parts"
   ]
  },
  {
   "cell_type": "code",
   "execution_count": null,
   "metadata": {
    "collapsed": false
   },
   "outputs": [],
   "source": [
    "z = 1j \n",
    "z.real       # 0.0 \n",
    "z.imag       # 1.0 \n",
    "z.imag = 2   # AttributeError: readonly attribute"
   ]
  },
  {
   "cell_type": "code",
   "execution_count": null,
   "metadata": {
    "collapsed": false
   },
   "outputs": [],
   "source": [
    "z = 1 + 0j \n",
    "z == 1     # True \n",
    "float(z)   # TypeError"
   ]
  },
  {
   "cell_type": "code",
   "execution_count": null,
   "metadata": {
    "collapsed": false
   },
   "outputs": [],
   "source": [
    "import matplotlib.pyplot as plt\n",
    "N = 10\n",
    "# the following vector contains the Nth roots of unity: \n",
    "unity_roots = array([exp(1j*2*pi*k/N) for k in range(N)])\n",
    "# access all the real or imaginary parts with real or imag:\n",
    "axes(aspect='equal')\n",
    "plot(unity_roots.real, unity_roots.imag, 'o')\n",
    "allclose(unity_roots**N, 1) # True"
   ]
  },
  {
   "cell_type": "code",
   "execution_count": null,
   "metadata": {
    "collapsed": false
   },
   "outputs": [],
   "source": [
    "z = 3.2+5.2j \n",
    "(z + z.conjugate()) / 2.   # returns (3.2+0j) \n",
    "((z + z.conjugate()) / 2.).real   # returns 3.2 \n",
    "(z - z.conjugate()) / 2.   # returns 5.2j \n",
    "((z - z.conjugate()) / 2.).imag   # returns 5.2 \n",
    "sqrt(z * z.conjugate())   # returns (6.1057350089894991+0j)"
   ]
  },
  {
   "cell_type": "markdown",
   "metadata": {},
   "source": [
    "## Booleans"
   ]
  },
  {
   "cell_type": "code",
   "execution_count": null,
   "metadata": {
    "collapsed": false
   },
   "outputs": [],
   "source": [
    "a = True\n",
    "a\n",
    "b = 30>45  # b gets the value False\n",
    "b"
   ]
  },
  {
   "cell_type": "code",
   "execution_count": null,
   "metadata": {
    "collapsed": false
   },
   "outputs": [],
   "source": [
    "x=3\n",
    "if x>0:\n",
    "   print(\"positive\")\n",
    "else:\n",
    "   print(\"nonpositive\")"
   ]
  },
  {
   "cell_type": "markdown",
   "metadata": {},
   "source": [
    "### Boolean Operators"
   ]
  },
  {
   "cell_type": "code",
   "execution_count": null,
   "metadata": {
    "collapsed": false
   },
   "outputs": [],
   "source": [
    "True and False # False\n",
    "False or True # True\n",
    "(30 > 45) or (27 < 30) # True\n",
    "not True # False\n",
    "not (3 > 4) # True"
   ]
  },
  {
   "cell_type": "code",
   "execution_count": null,
   "metadata": {
    "collapsed": false
   },
   "outputs": [],
   "source": [
    "a=3; b=4; c=-1\n",
    "\n",
    "a < b < c # same as: a < b and b < c\n",
    "\n",
    "a == b == c # same as: a == b and b == c"
   ]
  },
  {
   "cell_type": "markdown",
   "metadata": {},
   "source": [
    "### Boolean Casting"
   ]
  },
  {
   "cell_type": "code",
   "execution_count": null,
   "metadata": {
    "collapsed": false
   },
   "outputs": [],
   "source": [
    "bool([])   # False \n",
    "bool(0)   # False \n",
    "bool(' ')   # True \n",
    "bool('')   # False \n",
    "bool('hello')   # True \n",
    "bool(1.2)   # True \n",
    "bool(array([1]))   # True \n",
    "bool(array([1,2]))   # Exception raised!"
   ]
  },
  {
   "cell_type": "markdown",
   "metadata": {},
   "source": [
    "#### Automatic Boolean Casting"
   ]
  },
  {
   "cell_type": "code",
   "execution_count": null,
   "metadata": {
    "collapsed": false
   },
   "outputs": [],
   "source": [
    "if a:\n",
    "   print('Im here')\n",
    "if bool(a): # exactly the same as above\n",
    "   print('Im there')"
   ]
  },
  {
   "cell_type": "code",
   "execution_count": null,
   "metadata": {
    "collapsed": false
   },
   "outputs": [],
   "source": [
    "L=[]\n",
    "if L:\n",
    "    print(\"list not empty\")\n",
    "else:\n",
    "    print(\"list is empty\")"
   ]
  },
  {
   "cell_type": "code",
   "execution_count": null,
   "metadata": {
    "collapsed": false
   },
   "outputs": [],
   "source": [
    "n=23\n",
    "if n % 2:\n",
    "    print(\"n is odd\")\n",
    "else:\n",
    "    print(\"n is even\")"
   ]
  },
  {
   "cell_type": "markdown",
   "metadata": {},
   "source": [
    "#### Return values of and and or"
   ]
  },
  {
   "cell_type": "code",
   "execution_count": null,
   "metadata": {
    "collapsed": false
   },
   "outputs": [],
   "source": [
    "def and_as_function(x,y):\n",
    "    if not x:\n",
    "        return x\n",
    "    else:\n",
    "        return y\n",
    "    \n",
    "and_as_function(True,False)"
   ]
  },
  {
   "cell_type": "code",
   "execution_count": null,
   "metadata": {
    "collapsed": false
   },
   "outputs": [],
   "source": [
    "def or_as_function(x,y):\n",
    "    if x:\n",
    "        return x\n",
    "    else:\n",
    "        return y\n",
    "    \n",
    "or_as_function(True,False)"
   ]
  },
  {
   "cell_type": "code",
   "execution_count": null,
   "metadata": {
    "collapsed": false
   },
   "outputs": [],
   "source": [
    "True or x_not_defined\n",
    "False and x_not_defined"
   ]
  },
  {
   "cell_type": "code",
   "execution_count": null,
   "metadata": {
    "collapsed": false
   },
   "outputs": [],
   "source": [
    "[1] or 'a' # produces [1]\n",
    "'a' or [1] # produces 'a'"
   ]
  },
  {
   "cell_type": "markdown",
   "metadata": {},
   "source": [
    "### Booleans and Integers"
   ]
  },
  {
   "cell_type": "code",
   "execution_count": null,
   "metadata": {
    "collapsed": false
   },
   "outputs": [],
   "source": [
    "def print_ispositive(x):\n",
    "    possibilities=['nonpositive', 'positive']\n",
    "    return \"x is {}\".format(possibilities[x>0])\n",
    "\n",
    "print_ispositive(-23)\n",
    "print_ispositive(7)"
   ]
  },
  {
   "cell_type": "code",
   "execution_count": null,
   "metadata": {
    "collapsed": false
   },
   "outputs": [],
   "source": [
    "True+13\n",
    "2*True+5"
   ]
  },
  {
   "cell_type": "markdown",
   "metadata": {},
   "source": [
    "## Strings"
   ]
  },
  {
   "cell_type": "code",
   "execution_count": null,
   "metadata": {
    "collapsed": false
   },
   "outputs": [],
   "source": [
    "name = 'Johan Carlsson'\n",
    "child = \"Åsa is Johan Carlsson's daughter\"\n",
    "book = \"\"\"Aunt Julia \n",
    "and the Scriptwriter\"\"\" \n",
    "\n",
    "print(name) \n",
    "print(child) \n",
    "print(book)"
   ]
  },
  {
   "cell_type": "code",
   "execution_count": null,
   "metadata": {
    "collapsed": false
   },
   "outputs": [],
   "source": [
    "book[-1] # returns 'r'\n",
    "\n",
    "book[-12:] # returns 'Scriptwriter'"
   ]
  },
  {
   "cell_type": "code",
   "execution_count": null,
   "metadata": {
    "collapsed": false
   },
   "outputs": [],
   "source": [
    "book[1]='a'  # returns TypeError"
   ]
  },
  {
   "cell_type": "code",
   "execution_count": null,
   "metadata": {
    "collapsed": false
   },
   "outputs": [],
   "source": [
    "print('Temperature:\\t20\\tC\\nPressure:\\t5\\tPa')"
   ]
  },
  {
   "cell_type": "code",
   "execution_count": null,
   "metadata": {
    "collapsed": false
   },
   "outputs": [],
   "source": [
    "a=\"\"\"\n",
    "A multiline\n",
    "example\"\"\"\n",
    "a # returns '\\nA multiline\\nexample'"
   ]
  },
  {
   "cell_type": "code",
   "execution_count": null,
   "metadata": {
    "collapsed": false
   },
   "outputs": [],
   "source": [
    "latexfontsize=\"\\\\tiny\"\n",
    "print(latexfontsize)"
   ]
  },
  {
   "cell_type": "code",
   "execution_count": null,
   "metadata": {
    "collapsed": false
   },
   "outputs": [],
   "source": [
    "latexfs=r\"\\tiny\"  \n",
    "latexfs             # returns \"\\\\tiny\"\n",
    "latexfontsize == latexfs  # returns True"
   ]
  },
  {
   "cell_type": "code",
   "execution_count": null,
   "metadata": {
    "collapsed": false
   },
   "outputs": [],
   "source": [
    "r\"\\\"\"   # returns  '\\\\\"'\n",
    "r\"\\\\\"   # returns  '\\\\\\\\'\n"
   ]
  },
  {
   "cell_type": "code",
   "execution_count": null,
   "metadata": {
    "collapsed": false
   },
   "outputs": [],
   "source": [
    "r\"\\\"    # returns an error"
   ]
  },
  {
   "cell_type": "markdown",
   "metadata": {},
   "source": [
    "### Operations on strings and string methods"
   ]
  },
  {
   "cell_type": "code",
   "execution_count": null,
   "metadata": {
    "collapsed": false
   },
   "outputs": [],
   "source": [
    "last_name='Carlsson'\n",
    "first_name='Johanna'\n",
    "Full_name=first_name+' '+last_name  # returns 'Johanna Carlsson'\n",
    "\n",
    "Full_name"
   ]
  },
  {
   "cell_type": "code",
   "execution_count": null,
   "metadata": {
    "collapsed": false
   },
   "outputs": [],
   "source": [
    "game=2*'Yo' # returns 'YoYo'\n",
    "game"
   ]
  },
  {
   "cell_type": "code",
   "execution_count": null,
   "metadata": {
    "collapsed": false
   },
   "outputs": [],
   "source": [
    "'Anna' > 'Arvid' # returns false\n",
    "\n",
    "'ANNA' < 'anna'  # returns true\n",
    "\n",
    "'10B' < '11A' # returns true"
   ]
  },
  {
   "cell_type": "code",
   "execution_count": null,
   "metadata": {
    "collapsed": false
   },
   "outputs": [],
   "source": [
    "text = 'quod erat    demonstrandum'\n",
    "text.split() # returns ['quod', 'erat', 'demonstrandum']\n",
    "table = 'Johan;Carlsson;19890327'\n",
    "table.split(';') # returns ['Johan','Carlsson','19890327']\n",
    "king = 'CarlXVIGustaf'\n",
    "king.split('XVI')  # returns ['Carl','Gustaf']"
   ]
  },
  {
   "cell_type": "code",
   "execution_count": null,
   "metadata": {
    "collapsed": false
   },
   "outputs": [],
   "source": [
    "sep=';'\n",
    "sep.join(['Johan','Carlsson','19890327']) # returns 'Johan;Carlsson;19890327'"
   ]
  },
  {
   "cell_type": "code",
   "execution_count": null,
   "metadata": {
    "collapsed": false
   },
   "outputs": [],
   "source": [
    "birthday='20101210'\n",
    "birthday.find('10') # returns 2 "
   ]
  },
  {
   "cell_type": "markdown",
   "metadata": {},
   "source": [
    "### String Formatting"
   ]
  },
  {
   "cell_type": "code",
   "execution_count": null,
   "metadata": {
    "collapsed": false
   },
   "outputs": [],
   "source": [
    "course_code = \"NUMA21\"\n",
    "print(\"This course's name is {}\".format(course_code)) # This course's name is NUMA21"
   ]
  },
  {
   "cell_type": "code",
   "execution_count": null,
   "metadata": {
    "collapsed": false
   },
   "outputs": [],
   "source": [
    "quantity = 33.45\n",
    "print(\"qty{:f}\".format(quantity)) # qty33.450000\n",
    "print(\"qty{:8.1f}\".format(quantity)) # qty    33.5\n",
    "print(\"qty{:10.2e}\".format(quantity)) # qty  3.35e+01"
   ]
  },
  {
   "cell_type": "code",
   "execution_count": null,
   "metadata": {
    "collapsed": false
   },
   "outputs": [],
   "source": [
    "print(\"{name} {value:.1f}\".format(name=\"quantity\",value=quantity)) # \"quantity 33.5\""
   ]
  },
  {
   "cell_type": "code",
   "execution_count": null,
   "metadata": {
    "collapsed": false
   },
   "outputs": [],
   "source": [
    "r\"we {} in LaTeX \\begin{{equation}}\".format('like')"
   ]
  }
 ],
 "metadata": {
  "anaconda-cloud": {},
  "kernelspec": {
   "display_name": "Python 3",
   "language": "python",
   "name": "python3"
  },
  "language_info": {
   "codemirror_mode": {
    "name": "ipython",
    "version": 3
   },
   "file_extension": ".py",
   "mimetype": "text/x-python",
   "name": "python",
   "nbconvert_exporter": "python",
   "pygments_lexer": "ipython3",
   "version": "3.5.2"
  }
 },
 "nbformat": 4,
 "nbformat_minor": 0
}
