{
 "cells": [
  {
   "cell_type": "markdown",
   "metadata": {},
   "source": [
    "# 13-Testing"
   ]
  },
  {
   "cell_type": "code",
   "execution_count": 3,
   "metadata": {
    "collapsed": true
   },
   "outputs": [],
   "source": [
    "from scipy import *"
   ]
  },
  {
   "cell_type": "code",
   "execution_count": 4,
   "metadata": {
    "collapsed": true
   },
   "outputs": [],
   "source": [
    "def bisect(f, a, b, tol=1.e-8):\n",
    "    \"\"\"\n",
    "    Implementation of the bisection algorithm \n",
    "    f real valued function\n",
    "    a,b interval boundaries (float) with the property \n",
    "    f(a) * f(b) <= 0\n",
    "    tol tolerance (float)\n",
    "    \"\"\"\n",
    "    if f(a) * f(b)> 0:\n",
    "        raise ValueError(\"Incorrect initial interval [a, b]\") \n",
    "    for i in range(100):\n",
    "        c = (a + b) / 2.\n",
    "        if f(a) * f(c) <= 0:\n",
    "            b = c\n",
    "        else:\n",
    "            a = c\n",
    "        if abs(a - b) < tol:\n",
    "            return (a + b) / 2\n",
    "    raise Exception(\n",
    "          'No root found within the given tolerance {}'.format(tol))"
   ]
  },
  {
   "cell_type": "markdown",
   "metadata": {},
   "source": [
    "Test to see that is finds the root of $f(x)=x$"
   ]
  },
  {
   "cell_type": "code",
   "execution_count": 5,
   "metadata": {
    "collapsed": false
   },
   "outputs": [],
   "source": [
    "def test_identity():\n",
    "    result = bisect(lambda x: x, -1., 1.) \n",
    "    expected = 0.\n",
    "    assert allclose(result, expected),'expected zero not found'\n",
    "\n",
    "test_identity()"
   ]
  },
  {
   "cell_type": "markdown",
   "metadata": {},
   "source": [
    "Test to see if the sign condition $f(a)f(b)< 0$ is checked"
   ]
  },
  {
   "cell_type": "code",
   "execution_count": 6,
   "metadata": {
    "collapsed": true
   },
   "outputs": [],
   "source": [
    "def test_badinput():\n",
    "    try:\n",
    "        bisect(lambda x: x,0.5,1)\n",
    "    except ValueError:\n",
    "        pass\n",
    "    else:\n",
    "        raise AssertionError()\n",
    "\n",
    "test_badinput()"
   ]
  },
  {
   "cell_type": "code",
   "execution_count": 7,
   "metadata": {
    "collapsed": false
   },
   "outputs": [],
   "source": [
    "def test_equal_boundaries():\n",
    "    result = bisect(lambda x: x, 0., 0.)\n",
    "    expected = 0.\n",
    "    assert allclose(result, expected), \\\n",
    "                    'test equal interval bounds failed'"
   ]
  },
  {
   "cell_type": "code",
   "execution_count": 8,
   "metadata": {
    "collapsed": false
   },
   "outputs": [],
   "source": [
    "test_equal_boundaries()"
   ]
  },
  {
   "cell_type": "code",
   "execution_count": 9,
   "metadata": {
    "collapsed": true
   },
   "outputs": [],
   "source": [
    "def test_reverse_boundaries():\n",
    "    result = bisect(lambda x: x, 1., -1.)\n",
    "    expected = 0.\n",
    "    assert allclose(result, expected),\\\n",
    "                  'test reverse interval bounds failed'"
   ]
  },
  {
   "cell_type": "code",
   "execution_count": 10,
   "metadata": {
    "collapsed": true
   },
   "outputs": [],
   "source": [
    "test_reverse_boundaries()"
   ]
  },
  {
   "cell_type": "code",
   "execution_count": 15,
   "metadata": {
    "collapsed": false
   },
   "outputs": [
    {
     "name": "stderr",
     "output_type": "stream",
     "text": [
      ".\n",
      "----------------------------------------------------------------------\n",
      "Ran 1 test in 0.001s\n",
      "\n",
      "OK\n"
     ]
    }
   ],
   "source": [
    "run TestIdentity"
   ]
  },
  {
   "cell_type": "code",
   "execution_count": 16,
   "metadata": {
    "collapsed": false
   },
   "outputs": [
    {
     "name": "stderr",
     "output_type": "stream",
     "text": [
      "...\n",
      "----------------------------------------------------------------------\n",
      "Ran 3 tests in 0.003s\n",
      "\n",
      "OK\n"
     ]
    }
   ],
   "source": [
    "run Testing_all"
   ]
  },
  {
   "cell_type": "code",
   "execution_count": 17,
   "metadata": {
    "collapsed": false
   },
   "outputs": [
    {
     "name": "stderr",
     "output_type": "stream",
     "text": [
      "..\n",
      "----------------------------------------------------------------------\n",
      "Ran 2 tests in 0.003s\n",
      "\n",
      "OK\n"
     ]
    }
   ],
   "source": [
    "run TestString"
   ]
  },
  {
   "cell_type": "code",
   "execution_count": 18,
   "metadata": {
    "collapsed": false
   },
   "outputs": [
    {
     "name": "stderr",
     "output_type": "stream",
     "text": [
      "...\n",
      "----------------------------------------------------------------------\n",
      "Ran 3 tests in 0.003s\n",
      "\n",
      "OK\n"
     ]
    }
   ],
   "source": [
    "run Tests_several"
   ]
  },
  {
   "cell_type": "code",
   "execution_count": 19,
   "metadata": {
    "collapsed": true
   },
   "outputs": [],
   "source": [
    "import scipy.linalg as sl\n",
    "A=rand(10,10)\n",
    "[Q,R]=sl.qr(A)"
   ]
  },
  {
   "cell_type": "code",
   "execution_count": 22,
   "metadata": {
    "collapsed": false
   },
   "outputs": [],
   "source": [
    "import numpy.testing as npt \n",
    "npt.assert_allclose(dot(Q.T,Q),identity(Q.shape[0]),atol=1.e-12)"
   ]
  },
  {
   "cell_type": "code",
   "execution_count": 24,
   "metadata": {
    "collapsed": false
   },
   "outputs": [],
   "source": [
    "npt.assert_allclose(dot(Q,R),A)"
   ]
  },
  {
   "cell_type": "code",
   "execution_count": 26,
   "metadata": {
    "collapsed": false
   },
   "outputs": [
    {
     "name": "stderr",
     "output_type": "stream",
     "text": [
      "..\n",
      "----------------------------------------------------------------------\n",
      "Ran 2 tests in 0.004s\n",
      "\n",
      "OK\n"
     ]
    }
   ],
   "source": [
    "run TestQR"
   ]
  },
  {
   "cell_type": "code",
   "execution_count": 27,
   "metadata": {
    "collapsed": true
   },
   "outputs": [],
   "source": [
    "test_case = TestIdentity(methodName='test_functionality')"
   ]
  },
  {
   "cell_type": "code",
   "execution_count": 28,
   "metadata": {
    "collapsed": true
   },
   "outputs": [],
   "source": [
    "test_case.debug()"
   ]
  },
  {
   "cell_type": "code",
   "execution_count": 30,
   "metadata": {
    "collapsed": false
   },
   "outputs": [],
   "source": [
    "A=zeros((1000,1000))\n",
    "A[53,67]=10\n",
    "\n",
    "def find_elements_1(A):\n",
    "    b = []\n",
    "    n, m = A.shape\n",
    "    for i in range(n):\n",
    "        for j in range(m):\n",
    "            if abs(A[i, j]) > 1.e-10:\n",
    "                b.append(A[i, j])\n",
    "    return b\n",
    "\n",
    "def find_elements_2(A):\n",
    "    return [a for a in A.reshape((-1, )) if abs(a) > 1.e-10]\n",
    "\n",
    "def find_elements_3(A):\n",
    "    return [a for a in A.flatten() if abs(a) > 1.e-10]\n",
    " \n",
    "def find_elements_4(A):\n",
    "    return A[where(0.0 != A)]"
   ]
  },
  {
   "cell_type": "code",
   "execution_count": 32,
   "metadata": {
    "collapsed": false
   },
   "outputs": [
    {
     "name": "stdout",
     "output_type": "stream",
     "text": [
      "50 loops, best of 3: 334 ms per loop\n"
     ]
    }
   ],
   "source": [
    "%timeit -n 50 -r 3 find_elements_1(A)"
   ]
  },
  {
   "cell_type": "code",
   "execution_count": 33,
   "metadata": {
    "collapsed": false
   },
   "outputs": [
    {
     "name": "stdout",
     "output_type": "stream",
     "text": [
      "50 loops, best of 3: 174 ms per loop\n"
     ]
    }
   ],
   "source": [
    "%timeit -n 50 -r 3 find_elements_2(A)"
   ]
  },
  {
   "cell_type": "code",
   "execution_count": 34,
   "metadata": {
    "collapsed": false
   },
   "outputs": [
    {
     "name": "stdout",
     "output_type": "stream",
     "text": [
      "50 loops, best of 3: 175 ms per loop\n"
     ]
    }
   ],
   "source": [
    "%timeit -n 50 -r 3 find_elements_3(A)"
   ]
  },
  {
   "cell_type": "code",
   "execution_count": 35,
   "metadata": {
    "collapsed": false
   },
   "outputs": [
    {
     "name": "stdout",
     "output_type": "stream",
     "text": [
      "50 loops, best of 3: 3.79 ms per loop\n"
     ]
    }
   ],
   "source": [
    "%timeit -n 50 -r 3 find_elements_4(A)"
   ]
  },
  {
   "cell_type": "code",
   "execution_count": 36,
   "metadata": {
    "collapsed": true
   },
   "outputs": [],
   "source": [
    "import timeit\n",
    "setup_statements=\"\"\"\n",
    "from scipy import zeros\n",
    "from numpy import where\n",
    "A=zeros((1000,1000))\n",
    "A[57,63]=10.\n",
    "\n",
    "def find_elements_1(A):\n",
    "    b = []\n",
    "    n, m = A.shape\n",
    "    for i in range(n):\n",
    "        for j in range(m):\n",
    "            if abs(A[i, j]) > 1.e-10:\n",
    "               b.append(A[i, j])\n",
    "    return b\n",
    "\n",
    "def find_elements_2(A):\n",
    "    return [a for a in A.reshape((-1,)) if abs(a) > 1.e-10]\n",
    "\n",
    "def find_elements_3(A):\n",
    "    return [a for a in A.flatten() if abs(a) > 1.e-10]\n",
    "\n",
    "def find_elements_4(A):\n",
    "    return A[where( 0.0 != A)]\n",
    "\"\"\"\n",
    "experiment_1 = timeit.Timer(stmt = 'find_elements_1(A)',\n",
    "                            setup = setup_statements)\n",
    "experiment_2 = timeit.Timer(stmt = 'find_elements_2(A)',\n",
    "                            setup = setup_statements)\n",
    "experiment_3 = timeit.Timer(stmt = 'find_elements_3(A)',\n",
    "                            setup = setup_statements)\n",
    "experiment_4 = timeit.Timer(stmt = 'find_elements_4(A)',\n",
    "                            setup = setup_statements)"
   ]
  },
  {
   "cell_type": "code",
   "execution_count": 38,
   "metadata": {
    "collapsed": false
   },
   "outputs": [
    {
     "name": "stdout",
     "output_type": "stream",
     "text": [
      "335.6477557972539\n",
      "182.16045520093758\n",
      "185.94143340014853\n",
      "3.827910599648021\n"
     ]
    }
   ],
   "source": [
    "t1 = experiment_1.repeat(3,5) \n",
    "t2 = experiment_2.repeat(3,5) \n",
    "t3 = experiment_3.repeat(3,5) \n",
    "t4 = experiment_4.repeat(3,5) \n",
    "# Results per loop in ms\n",
    "print(min(t1)*1000/5) # 615 ms\n",
    "print(min(t2)*1000/5) # 543 ms\n",
    "print(min(t3)*1000/5) # 546 ms\n",
    "print(min(t4)*1000/5) # 7.26 ms"
   ]
  },
  {
   "cell_type": "code",
   "execution_count": 39,
   "metadata": {
    "collapsed": true
   },
   "outputs": [],
   "source": [
    "import time\n",
    "class Timer:\n",
    "\tdef __enter__(self):\n",
    "\t\tself.start = time.time()\n",
    "\tdef __exit__(self, ty, val, tb):\n",
    "\t\tend = time.time()\n",
    "\t\tself.elapsed=end-self.start\n",
    "\t\tprint('Time elapsed {} seconds'.format(self.elapsed))\n",
    "\t\treturn False "
   ]
  },
  {
   "cell_type": "code",
   "execution_count": 42,
   "metadata": {
    "collapsed": false
   },
   "outputs": [
    {
     "name": "stdout",
     "output_type": "stream",
     "text": [
      "Time elapsed 0.3459136486053467 seconds\n"
     ]
    }
   ],
   "source": [
    "with Timer():\n",
    "    find_elements_1(A)"
   ]
  },
  {
   "cell_type": "code",
   "execution_count": null,
   "metadata": {
    "collapsed": true
   },
   "outputs": [],
   "source": []
  },
  {
   "cell_type": "code",
   "execution_count": null,
   "metadata": {
    "collapsed": true
   },
   "outputs": [],
   "source": []
  }
 ],
 "metadata": {
  "anaconda-cloud": {},
  "kernelspec": {
   "display_name": "Python [conda root]",
   "language": "python",
   "name": "conda-root-py"
  },
  "language_info": {
   "codemirror_mode": {
    "name": "ipython",
    "version": 3
   },
   "file_extension": ".py",
   "mimetype": "text/x-python",
   "name": "python",
   "nbconvert_exporter": "python",
   "pygments_lexer": "ipython3",
   "version": "3.5.2"
  }
 },
 "nbformat": 4,
 "nbformat_minor": 1
}
