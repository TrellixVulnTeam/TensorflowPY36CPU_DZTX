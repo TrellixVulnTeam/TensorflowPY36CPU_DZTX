{
 "cells": [
  {
   "cell_type": "markdown",
   "metadata": {},
   "source": [
    "# 8-Classes"
   ]
  },
  {
   "cell_type": "code",
   "execution_count": null,
   "metadata": {
    "collapsed": true
   },
   "outputs": [],
   "source": [
    "from scipy import *\n",
    "from matplotlib.pyplot import *\n",
    "%matplotlib inline"
   ]
  },
  {
   "cell_type": "markdown",
   "metadata": {},
   "source": [
    "## Introduction"
   ]
  },
  {
   "cell_type": "code",
   "execution_count": null,
   "metadata": {
    "collapsed": true
   },
   "outputs": [],
   "source": [
    "class RationalNumber:\n",
    "    pass"
   ]
  },
  {
   "cell_type": "code",
   "execution_count": null,
   "metadata": {
    "collapsed": false
   },
   "outputs": [],
   "source": [
    "a=RationalNumber()\n",
    "if isinstance(a, RationalNumber):\n",
    "    print('Indeed it belongs to the class RationalNumber')  "
   ]
  },
  {
   "cell_type": "markdown",
   "metadata": {},
   "source": [
    "### The `__init__` method"
   ]
  },
  {
   "cell_type": "code",
   "execution_count": null,
   "metadata": {
    "collapsed": true
   },
   "outputs": [],
   "source": [
    "class RationalNumber:\n",
    "    def __init__(self, numerator, denominator):\n",
    "        self.numerator = numerator\n",
    "        self.denominator = denominator"
   ]
  },
  {
   "cell_type": "code",
   "execution_count": null,
   "metadata": {
    "collapsed": false
   },
   "outputs": [],
   "source": [
    "q = RationalNumber(10, 20)\t# Defines a new object\n",
    "q.numerator # returns 10"
   ]
  },
  {
   "cell_type": "code",
   "execution_count": null,
   "metadata": {
    "collapsed": false
   },
   "outputs": [],
   "source": [
    "q.denominator # returns 20"
   ]
  },
  {
   "cell_type": "markdown",
   "metadata": {},
   "source": [
    "## Attributes"
   ]
  },
  {
   "cell_type": "code",
   "execution_count": null,
   "metadata": {
    "collapsed": false
   },
   "outputs": [],
   "source": [
    "q = RationalNumber(3, 5) # instantiation\n",
    "q.numerator\t # attribute access"
   ]
  },
  {
   "cell_type": "code",
   "execution_count": null,
   "metadata": {
    "collapsed": false
   },
   "outputs": [],
   "source": [
    "q.denominator"
   ]
  },
  {
   "cell_type": "code",
   "execution_count": null,
   "metadata": {
    "collapsed": false
   },
   "outputs": [],
   "source": [
    "a = array([1, 2]) # instantiation\n",
    "a.shape"
   ]
  },
  {
   "cell_type": "code",
   "execution_count": null,
   "metadata": {
    "collapsed": false
   },
   "outputs": [],
   "source": [
    "z = 5 + 4j # instantiation\n",
    "z.imag"
   ]
  },
  {
   "cell_type": "code",
   "execution_count": null,
   "metadata": {
    "collapsed": false
   },
   "outputs": [],
   "source": [
    "q = RationalNumber(3, 5) \n",
    "q.numerator"
   ]
  },
  {
   "cell_type": "code",
   "execution_count": null,
   "metadata": {
    "collapsed": false
   },
   "outputs": [],
   "source": [
    "r = RationalNumber(7, 3)\n",
    "q.numerator = 17\n",
    "q.numerator"
   ]
  },
  {
   "cell_type": "code",
   "execution_count": null,
   "metadata": {
    "collapsed": true
   },
   "outputs": [],
   "source": [
    "del r.denominator "
   ]
  },
  {
   "cell_type": "code",
   "execution_count": null,
   "metadata": {
    "collapsed": true
   },
   "outputs": [],
   "source": [
    "class RationalNumber:\n",
    "    def __init__(self, numerator, denominator):\n",
    "        self.numerator = numerator\n",
    "        self.denominator = denominator\n",
    "    def convert2float(self):\n",
    "        return float(self.numerator) / float(self.denominator)"
   ]
  },
  {
   "cell_type": "code",
   "execution_count": null,
   "metadata": {
    "collapsed": false
   },
   "outputs": [],
   "source": [
    "q = RationalNumber(10, 20)\t# Defines a new object\n",
    "q.convert2float() # returns 0.5"
   ]
  },
  {
   "cell_type": "code",
   "execution_count": null,
   "metadata": {
    "collapsed": false
   },
   "outputs": [],
   "source": [
    "RationalNumber.convert2float(q)"
   ]
  },
  {
   "cell_type": "code",
   "execution_count": null,
   "metadata": {
    "collapsed": false
   },
   "outputs": [],
   "source": [
    "q.convert2float(15)   # returns error"
   ]
  },
  {
   "cell_type": "markdown",
   "metadata": {},
   "source": [
    "### Special Methods\n",
    "\n",
    "* The method `repr`"
   ]
  },
  {
   "cell_type": "code",
   "execution_count": null,
   "metadata": {
    "collapsed": true
   },
   "outputs": [],
   "source": [
    "class RationalNumber:\n",
    "    def __init__(self, numerator, denominator):\n",
    "        self.numerator = numerator\n",
    "        self.denominator = denominator\n",
    "    def convert2float(self):\n",
    "        return float(self.numerator) / float(self.denominator)\n",
    "    def __repr__(self):\n",
    "        return '{} / {}'.format(self.numerator,self.denominator)"
   ]
  },
  {
   "cell_type": "code",
   "execution_count": null,
   "metadata": {
    "collapsed": false
   },
   "outputs": [],
   "source": [
    "q = RationalNumber(10, 20)\n",
    "q"
   ]
  },
  {
   "cell_type": "markdown",
   "metadata": {},
   "source": [
    "* The method `__add__`"
   ]
  },
  {
   "cell_type": "code",
   "execution_count": null,
   "metadata": {
    "collapsed": true
   },
   "outputs": [],
   "source": [
    "class RationalNumber:\n",
    "    def __init__(self, numerator, denominator):\n",
    "        self.numerator = numerator\n",
    "        self.denominator = denominator\n",
    "    def convert2float(self):\n",
    "        return float(self.numerator) / float(self.denominator)\n",
    "    def __repr__(self):\n",
    "        return '{} / {}'.format(self.numerator,self.denominator)\n",
    "    def __add__(self, other):\n",
    "        p1, q1 = self.numerator, self.denominator\n",
    "        if isinstance(other, int):\n",
    "            p2, q2 = other, 1\n",
    "        else:\n",
    "            p2, q2 = other.numerator, other.denominator\n",
    "        return RationalNumber(p1 * q2 + p2 * q1, q1 * q2)"
   ]
  },
  {
   "cell_type": "code",
   "execution_count": null,
   "metadata": {
    "collapsed": false
   },
   "outputs": [],
   "source": [
    "q = RationalNumber(1, 2)\n",
    "p = RationalNumber(1, 3)\n",
    "q + p # RationalNumber(5, 6)"
   ]
  },
  {
   "cell_type": "code",
   "execution_count": null,
   "metadata": {
    "collapsed": false
   },
   "outputs": [],
   "source": [
    "q.__add__(p)"
   ]
  },
  {
   "cell_type": "code",
   "execution_count": null,
   "metadata": {
    "collapsed": true
   },
   "outputs": [],
   "source": [
    "class RationalNumber:\n",
    "    def __init__(self, numerator, denominator):\n",
    "        self.numerator = numerator\n",
    "        self.denominator = denominator\n",
    "    def convert2float(self):\n",
    "        return float(self.numerator) / float(self.denominator)\n",
    "    def __repr__(self):\n",
    "        return '{} / {}'.format(self.numerator,self.denominator)\n",
    "    def __add__(self, other):\n",
    "        p1, q1 = self.numerator, self.denominator\n",
    "        if isinstance(other, int):\n",
    "            p2, q2 = other, 1\n",
    "        else:\n",
    "            p2, q2 = other.numerator, other.denominator\n",
    "        return RationalNumber(p1 * q2 + p2 * q1, q1 * q2)\n",
    "    def __eq__(self, other):\n",
    "        return self.denominator * other.numerator == \\\n",
    "               self.numerator * other.denominator"
   ]
  },
  {
   "cell_type": "code",
   "execution_count": null,
   "metadata": {
    "collapsed": false
   },
   "outputs": [],
   "source": [
    "p = RationalNumber(1, 2) # instantiation\n",
    "q = RationalNumber(2, 4) # instantiation\n",
    "p == q # True"
   ]
  },
  {
   "cell_type": "code",
   "execution_count": null,
   "metadata": {
    "collapsed": false
   },
   "outputs": [],
   "source": [
    "p = RationalNumber(1, 2) # instantiation\n",
    "p + 5  # corresponds to p.__add__(5) "
   ]
  },
  {
   "cell_type": "code",
   "execution_count": null,
   "metadata": {
    "collapsed": false
   },
   "outputs": [],
   "source": [
    " 5 + p  # returns an error"
   ]
  },
  {
   "cell_type": "markdown",
   "metadata": {},
   "source": [
    "* The reverse method `__radd__`"
   ]
  },
  {
   "cell_type": "code",
   "execution_count": null,
   "metadata": {
    "collapsed": true
   },
   "outputs": [],
   "source": [
    "class RationalNumber:\n",
    "    def __init__(self, numerator, denominator):\n",
    "        self.numerator = numerator\n",
    "        self.denominator = denominator\n",
    "    def convert2float(self):\n",
    "        return float(self.numerator) / float(self.denominator)\n",
    "    def __repr__(self):\n",
    "        return '{} / {}'.format(self.numerator,self.denominator)\n",
    "    def __add__(self, other):\n",
    "        p1, q1 = self.numerator, self.denominator\n",
    "        if isinstance(other, int):\n",
    "            p2, q2 = other, 1\n",
    "        else:\n",
    "            p2, q2 = other.numerator, other.denominator\n",
    "        return RationalNumber(p1 * q2 + p2 * q1, q1 * q2)\n",
    "    def __eq__(self, other):\n",
    "        return self.denominator * other.numerator == \\\n",
    "               self.numerator * other.denominator\n",
    "    def __radd__(self, other):\n",
    "        return self  "
   ]
  },
  {
   "cell_type": "code",
   "execution_count": null,
   "metadata": {
    "collapsed": false
   },
   "outputs": [],
   "source": [
    "p = RationalNumber(1, 2)\n",
    "5 + p  # no error message any more"
   ]
  },
  {
   "cell_type": "code",
   "execution_count": null,
   "metadata": {
    "collapsed": true
   },
   "outputs": [],
   "source": [
    "import itertools\n",
    "\n",
    "class  Recursion3Term:\n",
    "    def __init__(self, a0, a1, u0, u1):\n",
    "        self.coeff = [a1, a0]\n",
    "        self.initial = [u1, u0]\n",
    "    def __iter__(self):\n",
    "        u1, u0 = self.initial\n",
    "        yield u0  # (see chapter on generators) \n",
    "        yield u1\n",
    "        a1, a0 = self.coeff\n",
    "        while True :\n",
    "            u1, u0 = a1 * u1 + a0 * u0, u1\n",
    "            yield u1\n",
    "    def __getitem__(self, k):\n",
    "        return list(itertools.islice(self, k, k + 1))[0]"
   ]
  },
  {
   "cell_type": "code",
   "execution_count": null,
   "metadata": {
    "collapsed": false
   },
   "outputs": [],
   "source": [
    "r3 = Recursion3Term(-0.35, 1.2, 1, 1)\n",
    "for i, r in enumerate(r3):\n",
    "    if i == 7:\n",
    "        print(r)  # returns 0.194167\n",
    "        break"
   ]
  },
  {
   "cell_type": "code",
   "execution_count": null,
   "metadata": {
    "collapsed": false
   },
   "outputs": [],
   "source": [
    "r3[7]"
   ]
  },
  {
   "cell_type": "markdown",
   "metadata": {},
   "source": [
    "### Attributes that depend on each other"
   ]
  },
  {
   "cell_type": "code",
   "execution_count": null,
   "metadata": {
    "collapsed": true
   },
   "outputs": [],
   "source": [
    "class Triangle:\n",
    "    def __init__(self,  A, B, C):\n",
    "        self.A = array(A)\n",
    "        self.B = array(B)\n",
    "        self.C = array(C)\n",
    "        self.a = self.C - self.B\n",
    "        self.b = self.C - self.A\n",
    "        self.c = self.B - self.A\n",
    "    def area(self):\n",
    "        return abs(cross(self.b, self.c)) / 2"
   ]
  },
  {
   "cell_type": "code",
   "execution_count": null,
   "metadata": {
    "collapsed": true
   },
   "outputs": [],
   "source": [
    "tr = Triangle([0., 0.], [1., 0.], [0., 1.])"
   ]
  },
  {
   "cell_type": "code",
   "execution_count": null,
   "metadata": {
    "collapsed": false
   },
   "outputs": [],
   "source": [
    "tr.area()"
   ]
  },
  {
   "cell_type": "code",
   "execution_count": null,
   "metadata": {
    "collapsed": false
   },
   "outputs": [],
   "source": [
    "tr.B = [12., 0.]\n",
    "tr.area() # still returns 0.5, should be 6 instead."
   ]
  },
  {
   "cell_type": "markdown",
   "metadata": {},
   "source": [
    "#### The function `property`"
   ]
  },
  {
   "cell_type": "code",
   "execution_count": null,
   "metadata": {
    "collapsed": true
   },
   "outputs": [],
   "source": [
    "class Triangle:\n",
    "    def __init__(self, A, B, C):\n",
    "        self._A = array(A)\n",
    "        self._B = array(B)\n",
    "        self._C = array(C)\n",
    "        self._a = self._C - self._B\n",
    "        self._b = self._C - self._A\n",
    "        self._c = self._B - self._A\n",
    "    def area(self):\n",
    "        return abs(cross(self._c, self._b)) / 2.\n",
    "    def set_B(self, B):\n",
    "        self._B = B\n",
    "        self._a = self._C - self._B\n",
    "        self._c = self._B - self._A\n",
    "    def get_B(self):\n",
    "        return self._B\n",
    "    def del_Pt(self):\n",
    "        raise Exception('A triangle point cannot be deleted')\n",
    "    B = property(fget = get_B, fset = set_B, fdel = del_Pt)"
   ]
  },
  {
   "cell_type": "code",
   "execution_count": null,
   "metadata": {
    "collapsed": false
   },
   "outputs": [],
   "source": [
    "tr = Triangle([0., 0.], [1., 0.], [0., 1.])\n",
    "tr.area()"
   ]
  },
  {
   "cell_type": "code",
   "execution_count": null,
   "metadata": {
    "collapsed": false
   },
   "outputs": [],
   "source": [
    "tr.B = [12., 0.]\n",
    "tr.area() # returns 6.0 "
   ]
  },
  {
   "cell_type": "code",
   "execution_count": null,
   "metadata": {
    "collapsed": false
   },
   "outputs": [],
   "source": [
    "del tr.B  # raises an exception"
   ]
  },
  {
   "cell_type": "markdown",
   "metadata": {},
   "source": [
    "### Bound and unbound methods"
   ]
  },
  {
   "cell_type": "code",
   "execution_count": null,
   "metadata": {
    "collapsed": false
   },
   "outputs": [],
   "source": [
    "class A:\n",
    "    def func(self, arg):\n",
    "        pass\n",
    "A.func  # <unbound method A.func>"
   ]
  },
  {
   "cell_type": "code",
   "execution_count": null,
   "metadata": {
    "collapsed": false
   },
   "outputs": [],
   "source": [
    "instA = A()  # we create an instance\n",
    "instA.func  #  <bound method A.func of ... >"
   ]
  },
  {
   "cell_type": "code",
   "execution_count": null,
   "metadata": {
    "collapsed": false
   },
   "outputs": [],
   "source": [
    "A.func(1)"
   ]
  },
  {
   "cell_type": "code",
   "execution_count": null,
   "metadata": {
    "collapsed": true
   },
   "outputs": [],
   "source": [
    "instA.func(1)"
   ]
  },
  {
   "cell_type": "markdown",
   "metadata": {},
   "source": [
    "### Class attributes"
   ]
  },
  {
   "cell_type": "code",
   "execution_count": null,
   "metadata": {
    "collapsed": false
   },
   "outputs": [],
   "source": [
    "class Newton:\n",
    "    tol = 1e-8 # this is a class attribute\n",
    "    def __init__(self,f):\n",
    "        self.f = f # this is not a class attribute\n",
    "    ..."
   ]
  },
  {
   "cell_type": "code",
   "execution_count": null,
   "metadata": {
    "collapsed": false
   },
   "outputs": [],
   "source": [
    "N1 = Newton(sin) \n",
    "N2 = Newton(cos)"
   ]
  },
  {
   "cell_type": "code",
   "execution_count": null,
   "metadata": {
    "collapsed": false
   },
   "outputs": [],
   "source": [
    "N1.tol"
   ]
  },
  {
   "cell_type": "code",
   "execution_count": null,
   "metadata": {
    "collapsed": false
   },
   "outputs": [],
   "source": [
    "N2.tol"
   ]
  },
  {
   "cell_type": "code",
   "execution_count": null,
   "metadata": {
    "collapsed": true
   },
   "outputs": [],
   "source": [
    "Newton.tol = 1e-10"
   ]
  },
  {
   "cell_type": "code",
   "execution_count": null,
   "metadata": {
    "collapsed": false
   },
   "outputs": [],
   "source": [
    "N1.tol"
   ]
  },
  {
   "cell_type": "code",
   "execution_count": null,
   "metadata": {
    "collapsed": false
   },
   "outputs": [],
   "source": [
    "N2.tol"
   ]
  },
  {
   "cell_type": "code",
   "execution_count": null,
   "metadata": {
    "collapsed": false
   },
   "outputs": [],
   "source": [
    "N2.tol = 1.e-4\n",
    "N1.tol # still 1.e-10"
   ]
  },
  {
   "cell_type": "code",
   "execution_count": null,
   "metadata": {
    "collapsed": false
   },
   "outputs": [],
   "source": [
    "Newton.tol = 1e-5 # now all instances of the Newton classes have 1e-5\n",
    "N1.tol # 1.e-5\n",
    "N2.tol # 1e-4 but not N2."
   ]
  },
  {
   "cell_type": "markdown",
   "metadata": {},
   "source": [
    "#### Class Methods"
   ]
  },
  {
   "cell_type": "code",
   "execution_count": null,
   "metadata": {
    "collapsed": false
   },
   "outputs": [],
   "source": [
    "class Polynomial:\n",
    "    def __init__(self, coeff):\n",
    "        self.coeff = array(coeff)\n",
    "    @classmethod\n",
    "    def by_points(cls, x, y):\n",
    "        degree = x.shape[0] - 1\n",
    "        coeff = polyfit(x, y, degree)\n",
    "        return cls(coeff) \n",
    "    def __eq__(self, other):\n",
    "        return allclose(self.coeff, other.coeff)"
   ]
  },
  {
   "cell_type": "code",
   "execution_count": null,
   "metadata": {
    "collapsed": false
   },
   "outputs": [],
   "source": [
    "p1 = Polynomial.by_points(array([0., 1.]), array([0., 1.]))\n",
    "p2 = Polynomial([1., 0.])\n",
    "\n",
    "print(p1 == p2)"
   ]
  },
  {
   "cell_type": "markdown",
   "metadata": {},
   "source": [
    "## Subclassing and Inheritance"
   ]
  },
  {
   "cell_type": "code",
   "execution_count": null,
   "metadata": {
    "collapsed": true
   },
   "outputs": [],
   "source": [
    "class OneStepMethod:\n",
    "    def __init__(self, f, x0, interval, N):\n",
    "        self.f = f\n",
    "        self.x0 = x0\n",
    "        self.interval = [t0, te] = interval\n",
    "        self.grid = linspace(t0, te, N)\n",
    "        self.h = (te - t0) / N\n",
    "\n",
    "    def generate(self):\n",
    "        ti, ui = self.grid[0], self.x0\n",
    "        yield ti, ui\n",
    "        for t in self.grid[1:]:\n",
    "            ui = ui + self.h * self.step(self.f, ui, ti)\n",
    "            ti = t\n",
    "            yield ti, ui\n",
    "\n",
    "    def solve(self):\n",
    "        self.solution = array(list(self.generate()))\n",
    "\n",
    "    def plot(self):\n",
    "        plot(self.solution[:, 0], self.solution[:, 1])\n",
    "\n",
    "    def step(self, f, u, t):\n",
    "        raise NotImplementedError()"
   ]
  },
  {
   "cell_type": "code",
   "execution_count": null,
   "metadata": {
    "collapsed": true
   },
   "outputs": [],
   "source": [
    "class ExplicitEuler(OneStepMethod):\n",
    "    def step(self, f, u, t):\n",
    "        return f(u, t)"
   ]
  },
  {
   "cell_type": "code",
   "execution_count": null,
   "metadata": {
    "collapsed": true
   },
   "outputs": [],
   "source": [
    "class MidPointRule(OneStepMethod):\n",
    "    def step(self, f, u, t):\n",
    "        return f(u + self.h / 2 * f(u, t), t + self.h / 2)"
   ]
  },
  {
   "cell_type": "code",
   "execution_count": null,
   "metadata": {
    "collapsed": false
   },
   "outputs": [],
   "source": [
    "def f(x, t):\n",
    "    return -0.5 * x\n",
    "\n",
    "euler = ExplicitEuler(f, 15., [0., 10.], 20)\n",
    "euler.solve()\n",
    "euler.plot()\n",
    "hold(True)\n",
    "midpoint = MidPointRule(f, 15., [0., 10.], 20)\n",
    "\n",
    "midpoint.solve()\n",
    "midpoint.plot()"
   ]
  },
  {
   "cell_type": "code",
   "execution_count": null,
   "metadata": {
    "collapsed": true
   },
   "outputs": [],
   "source": [
    "argument_list = [f, 15., [0., 10.], 20]\n",
    "euler = ExplicitEuler(*argument_list)\n",
    "midpoint = MidPointRule(*argument_list)"
   ]
  },
  {
   "cell_type": "code",
   "execution_count": null,
   "metadata": {
    "collapsed": true
   },
   "outputs": [],
   "source": [
    "class ExplicitEuler(OneStepMethod):\n",
    "    def __init__(self,*args, **kwargs):\n",
    "        self.name='Explicit Euler Method'\n",
    "        super(ExplicitEuler, self).__init__(*args,**kwargs)\n",
    "    def step(self, f, u, t):\n",
    "        return f(u, t)"
   ]
  },
  {
   "cell_type": "markdown",
   "metadata": {},
   "source": [
    "## Encapsulation"
   ]
  },
  {
   "cell_type": "code",
   "execution_count": null,
   "metadata": {
    "collapsed": true
   },
   "outputs": [],
   "source": [
    "class Function:\n",
    "    def __init__(self, f):\n",
    "        self.f = f\n",
    "    def __call__(self, x):\n",
    "        return self.f(x)\n",
    "    def __add__(self, g):\n",
    "        def sum(x):\n",
    "            return self(x) + g(x)\n",
    "        return type(self)(sum) \n",
    "    def __mul__(self, g): \n",
    "        def prod(x):\n",
    "            return self.f(x) * g(x)\n",
    "        return type(self)(prod)\n",
    "    def __radd__(self, g):\n",
    "        return self + g\n",
    "    def __rmul__(self, g):\n",
    "        return self * g"
   ]
  },
  {
   "cell_type": "code",
   "execution_count": null,
   "metadata": {
    "collapsed": true
   },
   "outputs": [],
   "source": [
    "T5 = Function(lambda x: cos(5 * arccos(x)))\n",
    "T6 = Function(lambda x: cos(6 * arccos(x)))"
   ]
  },
  {
   "cell_type": "code",
   "execution_count": null,
   "metadata": {
    "collapsed": false
   },
   "outputs": [],
   "source": [
    "import scipy.integrate as sci\n",
    "\n",
    "weight = Function(lambda x: 1 / sqrt((1 - x ** 2)))\n",
    "[integral, errorestimate] = \\\n",
    "        sci.quad(weight * T5 * T6, -1, 1) # [7.7e-16, 4.04e-14)\n",
    "    \n",
    "integral, errorestimate"
   ]
  },
  {
   "cell_type": "markdown",
   "metadata": {},
   "source": [
    "## Classes as decorators"
   ]
  },
  {
   "cell_type": "code",
   "execution_count": null,
   "metadata": {
    "collapsed": true
   },
   "outputs": [],
   "source": [
    "class echo:\n",
    "    text = 'Input parameters of {name}\\n'+\\\n",
    "           'Positional parameters {args}\\n'+\\\n",
    "           'Keyword parameters {kwargs}\\n'\n",
    "    def __init__(self, f):\n",
    "        self.f = f\n",
    "    def __call__(self, *args, **kwargs):\n",
    "        print(self.text.format(name = self.f.__name__,\n",
    "            args = args, kwargs = kwargs))\n",
    "        return self.f(*args, **kwargs)\t"
   ]
  },
  {
   "cell_type": "code",
   "execution_count": null,
   "metadata": {
    "collapsed": true
   },
   "outputs": [],
   "source": [
    "@echo\n",
    "def line(m, b, x):\n",
    "    return m * x + b"
   ]
  },
  {
   "cell_type": "code",
   "execution_count": null,
   "metadata": {
    "collapsed": false
   },
   "outputs": [],
   "source": [
    "line(2., 5., 3.)"
   ]
  },
  {
   "cell_type": "code",
   "execution_count": null,
   "metadata": {
    "collapsed": false
   },
   "outputs": [],
   "source": [
    "line(2., 5., x=3.)"
   ]
  },
  {
   "cell_type": "code",
   "execution_count": null,
   "metadata": {
    "collapsed": true
   },
   "outputs": [],
   "source": [
    "class CountCalls:\n",
    "    \"\"\"Decorator that keeps track of the number of times \n",
    "       a function is called.\"\"\"\n",
    "    instances = {} \n",
    "    def __init__(self, f):\n",
    "        self.f = f\n",
    "        self.numcalls = 0\n",
    "        self.instances[f] = self\n",
    "    def __call__(self, *args, **kwargs):\n",
    "        self.numcalls += 1\n",
    "        return self.f(*args, **kwargs)\n",
    "    @classmethod\n",
    "    def counts(cls):\n",
    "        \"\"\"Return a dict of {function: # of calls} for all \n",
    "           registered functions.\"\"\"\n",
    "        return dict([(f.__name__, cls.instances[f].numcalls) \n",
    "                        for f in cls.instances])"
   ]
  },
  {
   "cell_type": "code",
   "execution_count": null,
   "metadata": {
    "collapsed": false
   },
   "outputs": [],
   "source": [
    "@CountCalls\n",
    "def line(m, b, x):\n",
    "    return m * x + b\n",
    "@CountCalls \n",
    "def parabola(a, b, c, x):\n",
    "    return a * x ** 2 + b * x + c\n",
    "line(3., -1., 1.)\n",
    "parabola(4., 5., -1., 2.) \n",
    "CountCalls.counts() # returns {'line': 1, 'parabola': 1}"
   ]
  },
  {
   "cell_type": "code",
   "execution_count": null,
   "metadata": {
    "collapsed": false
   },
   "outputs": [],
   "source": [
    "parabola.numcalls # returns 1"
   ]
  }
 ],
 "metadata": {
  "anaconda-cloud": {},
  "kernelspec": {
   "display_name": "Python [conda root]",
   "language": "python",
   "name": "conda-root-py"
  },
  "language_info": {
   "codemirror_mode": {
    "name": "ipython",
    "version": 3
   },
   "file_extension": ".py",
   "mimetype": "text/x-python",
   "name": "python",
   "nbconvert_exporter": "python",
   "pygments_lexer": "ipython3",
   "version": "3.5.2"
  }
 },
 "nbformat": 4,
 "nbformat_minor": 0
}
