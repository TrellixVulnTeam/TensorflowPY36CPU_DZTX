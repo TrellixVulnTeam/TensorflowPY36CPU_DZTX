{
 "cells": [
  {
   "cell_type": "markdown",
   "metadata": {
    "nbpresent": {
     "id": "ba9ccbb1-adaf-424a-8715-3da32bf2d341"
    }
   },
   "source": [
    "# Chapter 6: Plotting\n",
    "\n",
    "Here we present all code from this chapter, so that you can reproduce results and figures by your own.\n",
    "\n",
    "We start by importing all general modules"
   ]
  },
  {
   "cell_type": "code",
   "execution_count": null,
   "metadata": {
    "collapsed": true,
    "nbpresent": {
     "id": "2ed88423-daca-4ac1-8322-fd627570d06b"
    }
   },
   "outputs": [],
   "source": [
    "from scipy import all\n",
    "from matplotlib.pyplot import *\n",
    "from IPython.display import display, HTML  # needed only for IPython and the notebook"
   ]
  },
  {
   "cell_type": "markdown",
   "metadata": {
    "nbpresent": {
     "id": "f05236da-deca-4b8f-841e-de59dc0aea84"
    }
   },
   "source": [
    "Furthermore we change the behavour of this notebook, so that it displays figures inline"
   ]
  },
  {
   "cell_type": "code",
   "execution_count": null,
   "metadata": {
    "collapsed": true,
    "nbpresent": {
     "id": "3669ebaf-0f4c-4391-b699-260114564075"
    }
   },
   "outputs": [],
   "source": [
    "%matplotlib inline"
   ]
  },
  {
   "cell_type": "markdown",
   "metadata": {
    "nbpresent": {
     "id": "06dff1bd-0756-407b-8723-ffb47319cd05"
    }
   },
   "source": [
    "## 6.1 Basic Plotting"
   ]
  },
  {
   "cell_type": "markdown",
   "metadata": {
    "nbpresent": {
     "id": "8d247fbe-23f0-4f9c-bef7-9879ce79b7b5"
    }
   },
   "source": [
    "#### Example 6.1"
   ]
  },
  {
   "cell_type": "code",
   "execution_count": null,
   "metadata": {
    "collapsed": false,
    "nbpresent": {
     "id": "7083160e-5b5f-4cdf-9332-bd4457c3559c"
    }
   },
   "outputs": [],
   "source": [
    "# plot sin(x) for some interval\n",
    "x = linspace(-2*pi,2*pi,200)\n",
    "plot(x,sin(x))\n",
    "\n",
    "# plot marker for every 4th point\n",
    "samples = x[::4]\n",
    "plot(samples,sin(samples),'r*')\n",
    "\n",
    "# add title and grid lines\n",
    "title('Function sin(x) and some points plotted')\n",
    "grid()"
   ]
  },
  {
   "cell_type": "markdown",
   "metadata": {
    "nbpresent": {
     "id": "c24e4018-7b85-4de9-a1a2-3672f90a7889"
    }
   },
   "source": [
    "#### Polyfit Example"
   ]
  },
  {
   "cell_type": "code",
   "execution_count": null,
   "metadata": {
    "collapsed": false,
    "nbpresent": {
     "id": "0166d5d5-0f59-4e3d-8f22-7456436c8611"
    }
   },
   "outputs": [],
   "source": [
    "# —Polyfit example—\n",
    "x = range(5)\n",
    "y = [1,2,1,3,5]\n",
    "p2 = polyfit(x,y,2)\n",
    "p4 = polyfit(x,y,4)\n",
    "\n",
    "# plot the polynomials and points\n",
    "xx = linspace(-1,5,200) \n",
    "plot(xx, polyval(p2, xx), label='fitting polynomial of degree 2')\n",
    "plot(xx, polyval(p4, xx),\n",
    "                label='interpolating polynomial of degree 4') \n",
    "plot(x,y,'*')\n",
    "\n",
    "# set the axis and legend\n",
    "axis([-1,5,0,6])\n",
    "legend(loc='upper left', fontsize='small')"
   ]
  },
  {
   "cell_type": "code",
   "execution_count": null,
   "metadata": {
    "collapsed": true,
    "nbpresent": {
     "id": "c48889dd-3d79-451a-8090-8ef3d4073d6a"
    }
   },
   "outputs": [],
   "source": [
    "#### 2D point scatter plot"
   ]
  },
  {
   "cell_type": "code",
   "execution_count": null,
   "metadata": {
    "collapsed": false,
    "nbpresent": {
     "id": "4f362f8c-1308-443f-b99a-2def7e53c8e3"
    }
   },
   "outputs": [],
   "source": [
    "# create random 2D points\n",
    "import numpy\n",
    "x1 = 2*numpy.random.standard_normal((2,100))\n",
    "x2 = 0.8*numpy.random.standard_normal((2,100)) + array([[6],[2]])\n",
    "plot(x1[0],x1[1],'*')\n",
    "plot(x2[0],x2[1],'r*')\n",
    "title('2D scatter plot')"
   ]
  },
  {
   "cell_type": "markdown",
   "metadata": {},
   "source": [
    "#### loglog plot example:"
   ]
  },
  {
   "cell_type": "code",
   "execution_count": null,
   "metadata": {
    "collapsed": false,
    "nbpresent": {
     "id": "d0394640-1d44-419f-9912-f69d3c39f1c5"
    }
   },
   "outputs": [],
   "source": [
    "# log both x and y axis \n",
    "x = linspace(0,10,200) \n",
    "loglog(x,2*x**2, label = 'quadratic polynomial',\n",
    "                            linestyle = '-', linewidth = 3)\n",
    "loglog(x,4*x**4, label = '4th degree polynomial',\n",
    "                            linestyle = '-.', linewidth = 3)\n",
    "loglog(x,5*exp(x), label = 'exponential function', linewidth = 3)\n",
    "title('Logarithmic plots')\n",
    "legend(loc = 'best')"
   ]
  },
  {
   "cell_type": "markdown",
   "metadata": {
    "nbpresent": {
     "id": "875a9399-6018-4f98-adfc-c33ee32d8a12"
    }
   },
   "source": [
    "##  Formatting"
   ]
  },
  {
   "cell_type": "markdown",
   "metadata": {
    "nbpresent": {
     "id": "c50e1753-12e1-4922-ba0a-3a08ad9c4684"
    }
   },
   "source": [
    "#### Formatting Example"
   ]
  },
  {
   "cell_type": "code",
   "execution_count": null,
   "metadata": {
    "collapsed": false,
    "nbpresent": {
     "id": "9f543595-27fd-4a87-acd0-308a15ed0ded"
    }
   },
   "outputs": [],
   "source": [
    "k = 0.2\n",
    "x = [sin(2*n*k) for n in range(20)]\n",
    "plot(x, color='green', linestyle='dashed', marker='o', \n",
    "                       markerfacecolor='blue', markersize=12, linewidth=6)"
   ]
  },
  {
   "cell_type": "markdown",
   "metadata": {
    "nbpresent": {
     "id": "30c18fce-1767-4983-8e16-e572af81896f"
    }
   },
   "source": [
    "and the short command for selecting line style and color"
   ]
  },
  {
   "cell_type": "code",
   "execution_count": null,
   "metadata": {
    "collapsed": false,
    "nbpresent": {
     "id": "4ab3f0f5-5a90-400e-829f-10a9c7a395e5"
    }
   },
   "outputs": [],
   "source": [
    "plot(x,'go')"
   ]
  },
  {
   "cell_type": "markdown",
   "metadata": {
    "nbpresent": {
     "id": "06f9f7d1-6747-48ad-bd9e-aca1efc80481"
    }
   },
   "source": [
    "#### Histogram Example"
   ]
  },
  {
   "cell_type": "code",
   "execution_count": null,
   "metadata": {
    "collapsed": false,
    "nbpresent": {
     "id": "01a8997f-ab0e-435f-bcb5-be75a45a16a7"
    }
   },
   "outputs": [],
   "source": [
    "# random vector with normal distribution\n",
    "sigma, mu = 2, 10\n",
    "x = sigma*numpy.random.standard_normal(10000)+mu \n",
    "hist(x,50,normed=1)\n",
    "z = linspace(0,20,200)\n",
    "plot(z, (1/sqrt(2*pi*sigma**2))*exp(-(z-mu)**2/(2*sigma**2)),'g')\n",
    "# title with LaTeX formatting \n",
    "title('Histogram with '.format(mu,sigma))"
   ]
  },
  {
   "cell_type": "markdown",
   "metadata": {
    "nbpresent": {
     "id": "c5927f8a-3762-496e-8691-dd96e275165d"
    }
   },
   "source": [
    "#### Running Avaerage Example"
   ]
  },
  {
   "cell_type": "code",
   "execution_count": null,
   "metadata": {
    "collapsed": false,
    "nbpresent": {
     "id": "70ebc7aa-bafb-40cf-8aa0-6f01f4503288"
    }
   },
   "outputs": [],
   "source": [
    "def avg(x):\n",
    "    \"\"\" simple running average \"\"\"\n",
    "    return (roll(x,1) + x + roll(x,-1)) / 3\n",
    "# sine function with noise\n",
    "x = linspace(-2*pi, 2*pi,200)\n",
    "y = sin(x) + 0.4*rand(200)\n",
    "\n",
    "# make successive subplots\n",
    "for iteration in range(3):\n",
    "    subplot(3, 1, iteration + 1)\n",
    "    plot(x,y, label = '{:d} average{}'.format(iteration, 's' if iteration > 1 else ''))\n",
    "    yticks([])\n",
    "    legend(loc = 'lower left', frameon = False)\n",
    "    y = avg(y) #apply running average \n",
    "subplots_adjust(hspace = 0.7)"
   ]
  },
  {
   "cell_type": "code",
   "execution_count": null,
   "metadata": {
    "collapsed": false
   },
   "outputs": [],
   "source": [
    "savefig('test.pdf')  # save to pdf\n",
    "savefig('test.svg')  # save to svg (editable format)\n",
    "savefig('test.pdf', transparent=True) \n",
    "savefig('test.pdf', bbox_inches='tight')"
   ]
  },
  {
   "cell_type": "markdown",
   "metadata": {
    "nbpresent": {
     "id": "3a4d39c3-dbcf-490a-b1f7-42cd37813e24"
    }
   },
   "source": [
    "## Meshgrid and Contours"
   ]
  },
  {
   "cell_type": "markdown",
   "metadata": {
    "nbpresent": {
     "id": "dcf32f9e-6534-44b9-a154-2afc287c4de7"
    }
   },
   "source": [
    "#### Example: Rosenbrock's function"
   ]
  },
  {
   "cell_type": "code",
   "execution_count": null,
   "metadata": {
    "collapsed": false,
    "nbpresent": {
     "id": "1327ba0d-f62a-49ea-8216-cd2795e7a47e"
    }
   },
   "outputs": [],
   "source": [
    "rosenbrockfunction = lambda x,y: (1-x)**2+100*(y-x**2)**2 \n",
    "X,Y = meshgrid(linspace(-.5,2.,100), linspace(-1.5,4.,100))\n",
    "Z = rosenbrockfunction(X,Y) \n",
    "contour(X,Y,Z,logspace(-0.5,3.5,20,base=10),cmap='gray') \n",
    "title('Rosenbrock Function: ')\n",
    "xlabel('x')\n",
    "ylabel('y')"
   ]
  },
  {
   "cell_type": "markdown",
   "metadata": {
    "nbpresent": {
     "id": "fb2b5c30-329f-4469-b4fd-598e7aa8cbe3"
    }
   },
   "source": [
    "#### Example: Optimization and Rosenbrock's function"
   ]
  },
  {
   "cell_type": "code",
   "execution_count": null,
   "metadata": {
    "collapsed": false,
    "nbpresent": {
     "id": "018390a5-a522-4b2f-b9c8-df10c2dbdc4c"
    }
   },
   "outputs": [],
   "source": [
    "import scipy.optimize as so\n",
    "rosenbrockfunction = lambda x,y: (1-x)**2+100*(y-x**2)**2\n",
    "X,Y=meshgrid(linspace(-.5,2.,100),linspace(-1.5,4.,100))\n",
    "Z=rosenbrockfunction(X,Y)\n",
    "cs=contour(X,Y,Z,logspace(0,3.5,7,base=10),cmap='gray')\n",
    "rosen=lambda x: rosenbrockfunction(x[0],x[1])\n",
    "solution, iterates = so.fmin_powell(rosen,x0=array([0,-0.7]),retall=True)\n",
    "x,y=zip(*iterates)\n",
    "plot(x,y,'ko') # plot black bullets\n",
    "plot(x,y,'k:',linewidth=1) # plot black dotted lines\n",
    "title(\"Steps of Powell's method to compute a  minimum\")\n",
    "clabel(cs)"
   ]
  },
  {
   "cell_type": "markdown",
   "metadata": {
    "nbpresent": {
     "id": "37f7f4f0-a585-4cfe-9645-855a91b56b13"
    }
   },
   "source": [
    "## Images and Contours"
   ]
  },
  {
   "cell_type": "markdown",
   "metadata": {
    "nbpresent": {
     "id": "17a2b0ff-5d53-41b0-867a-c40a6f7985d2"
    }
   },
   "source": [
    "#### Example: Mandelbrot fractal"
   ]
  },
  {
   "cell_type": "code",
   "execution_count": null,
   "metadata": {
    "collapsed": false,
    "nbpresent": {
     "id": "2a3ee229-eeec-4d15-baec-a7811d1039c5"
    }
   },
   "outputs": [],
   "source": [
    "def mandelbrot(h,w, maxit=20):\n",
    "    X,Y = meshgrid(linspace(-2, 0.8, w), linspace(-1.4, 1.4, h))\n",
    "    c = X + Y*1j\n",
    "    z = c\n",
    "    exceeds = zeros(z.shape, dtype=bool)\n",
    "\n",
    "    for iteration in range(maxit):\n",
    "        z  = z**2 + c\n",
    "        exceeded = abs(z) > 4\n",
    "        exceeds_now = exceeded & (logical_not(exceeds))  \n",
    "        exceeds[exceeds_now] = True        \n",
    "        z[exceeded] = 2  # limit the values to avoid overflow\n",
    "    return exceeds\n",
    "\n",
    "imshow(mandelbrot(400,400),cmap='gray')\n",
    "axis('off')"
   ]
  },
  {
   "cell_type": "code",
   "execution_count": null,
   "metadata": {
    "collapsed": false
   },
   "outputs": [],
   "source": [
    "imshow(mandelbrot(40,40),cmap='gray')"
   ]
  },
  {
   "cell_type": "code",
   "execution_count": null,
   "metadata": {
    "collapsed": false
   },
   "outputs": [],
   "source": [
    "imshow(mandelbrot(40,40), interpolation='nearest', cmap='gray')"
   ]
  },
  {
   "cell_type": "markdown",
   "metadata": {
    "nbpresent": {
     "id": "0c2c81b5-46ed-4aaf-a044-cbb94c0485ae"
    }
   },
   "source": [
    "## Matplotlib objects"
   ]
  },
  {
   "cell_type": "markdown",
   "metadata": {
    "nbpresent": {
     "id": "8b70f320-79c5-4d9c-ba0e-c84e6ac668bf"
    }
   },
   "source": [
    "### The Axes Object"
   ]
  },
  {
   "cell_type": "code",
   "execution_count": null,
   "metadata": {
    "collapsed": false,
    "nbpresent": {
     "id": "763e729b-18c0-494c-8c00-b0c8c9eefb2a"
    }
   },
   "outputs": [],
   "source": [
    "fig = figure(1)\n",
    "ax = subplot(111)\n",
    "x = linspace(0,2*pi,100) \n",
    "# We set up a function that modulates the amplitude of the sin function\n",
    "amod_sin = lambda x: (1.-0.1*sin(25*x))*sin(x)\n",
    "# and plot both...\n",
    "ax.plot(x,sin(x),label = 'sin') \n",
    "ax.plot(x, amod_sin(x), label = 'modsin')"
   ]
  },
  {
   "cell_type": "markdown",
   "metadata": {
    "nbpresent": {
     "id": "f66111e5-4b56-4dfb-a441-1bc8707714ce"
    }
   },
   "source": [
    "#### How to find a line with a particular label"
   ]
  },
  {
   "cell_type": "code",
   "execution_count": null,
   "metadata": {
    "collapsed": true,
    "nbpresent": {
     "id": "e50f7420-5bcc-4375-951b-ed39c95f1d0f"
    }
   },
   "outputs": [],
   "source": [
    "for il,line in enumerate(ax.lines):\n",
    "    if line.get_label() == 'sin':\n",
    "       break\n",
    "    "
   ]
  },
  {
   "cell_type": "markdown",
   "metadata": {
    "nbpresent": {
     "id": "2062eb21-6a04-41c9-8805-ae3f0b754900"
    }
   },
   "source": [
    "### Modifying line properties"
   ]
  },
  {
   "cell_type": "code",
   "execution_count": null,
   "metadata": {
    "collapsed": false,
    "nbpresent": {
     "id": "57f9c1b7-eadb-446f-a8ed-66a1c9de8c1e"
    }
   },
   "outputs": [],
   "source": [
    "ax.lines[il].properties().keys()  # Here we show only the keys"
   ]
  },
  {
   "cell_type": "code",
   "execution_count": null,
   "metadata": {
    "collapsed": true,
    "nbpresent": {
     "id": "3efc02b0-f1fa-4cb0-a2ad-85b8e2c31114"
    }
   },
   "outputs": [],
   "source": [
    "ax.lines[il].set_linestyle('-.')\n",
    "ax.lines[il].set_linewidth(2)"
   ]
  },
  {
   "cell_type": "markdown",
   "metadata": {
    "nbpresent": {
     "id": "9fb768d5-77b9-4657-b193-aad95d854b1a"
    }
   },
   "source": [
    "#### Modifying data"
   ]
  },
  {
   "cell_type": "code",
   "execution_count": null,
   "metadata": {
    "collapsed": true,
    "nbpresent": {
     "id": "85471594-5b38-498a-8833-e7aca88fcc2f"
    }
   },
   "outputs": [],
   "source": [
    "ydata=ax.lines[il].get_ydata()\n",
    "ydata[-1]=-0.5\n",
    "ax.lines[il].set_ydata(ydata) "
   ]
  },
  {
   "cell_type": "code",
   "execution_count": null,
   "metadata": {
    "collapsed": false,
    "nbpresent": {
     "id": "e69ce382-3472-4ab4-8536-d28ada9d715b"
    }
   },
   "outputs": [],
   "source": [
    "display(fig)"
   ]
  },
  {
   "cell_type": "markdown",
   "metadata": {
    "nbpresent": {
     "id": "490b2e59-bac5-4166-9743-d3e6fcf6d79d"
    }
   },
   "source": [
    "###  Annotations"
   ]
  },
  {
   "cell_type": "code",
   "execution_count": null,
   "metadata": {
    "collapsed": false,
    "nbpresent": {
     "id": "6ee1b19f-3c06-4a05-98ce-ae4eaa24d56f"
    }
   },
   "outputs": [],
   "source": [
    "annot1=ax.annotate('amplitude modulated\\n curve', (2.1,1.0),(3.2,0.5),\n",
    "       arrowprops={'width':2,'color':'k', 'connectionstyle':'arc3,rad=+0.5', \n",
    "                   'shrink':0.05},\n",
    "       verticalalignment='bottom', horizontalalignment='left',fontsize=15, \n",
    "                   bbox={'facecolor':'gray', 'alpha':0.1, 'pad':10})\n",
    "annot2=ax.annotate('corrupted data', (6.3,-0.5),(6.1,-1.1),\n",
    "       arrowprops={'width':0.5,'color':'k','shrink':0.1},\n",
    "       horizontalalignment='center', fontsize=12)\n",
    "fig.savefig('amp_mod_sin2a.png',dpi=300,transparent=True,bbox_inches='tight')"
   ]
  },
  {
   "cell_type": "code",
   "execution_count": null,
   "metadata": {
    "collapsed": false,
    "nbpresent": {
     "id": "60a7b9b9-ad26-47dc-aaef-1e5abd6eda2e"
    }
   },
   "outputs": [],
   "source": [
    "display(fig)"
   ]
  },
  {
   "cell_type": "markdown",
   "metadata": {
    "nbpresent": {
     "id": "ba5381a4-a92f-4cf7-9d7a-4c44175f97b2"
    }
   },
   "source": [
    "###  Filling areas between curves"
   ]
  },
  {
   "cell_type": "code",
   "execution_count": null,
   "metadata": {
    "collapsed": true,
    "nbpresent": {
     "id": "fcc596ce-de85-4273-8581-5932d9a92243"
    }
   },
   "outputs": [],
   "source": [
    "axf=ax.fill_between(x, sin(x), amod_sin(x),facecolor='gray')"
   ]
  },
  {
   "cell_type": "code",
   "execution_count": null,
   "metadata": {
    "collapsed": false,
    "nbpresent": {
     "id": "7d44a010-2485-4649-84a6-cbaf31fd43cd"
    }
   },
   "outputs": [],
   "source": [
    "display(fig)"
   ]
  },
  {
   "cell_type": "code",
   "execution_count": null,
   "metadata": {
    "collapsed": false,
    "nbpresent": {
     "id": "24926cb1-14c9-41ee-8992-ee45827fd788"
    }
   },
   "outputs": [],
   "source": [
    "axf.remove()\n",
    "axf = ax.fill_between(x, sin(x), amod_sin(x),where=amod_sin(x)-sin(x) > 0, facecolor='gray')"
   ]
  },
  {
   "cell_type": "code",
   "execution_count": null,
   "metadata": {
    "collapsed": false,
    "nbpresent": {
     "id": "6012590a-bbca-48c2-bc01-ef13ebaedee7"
    }
   },
   "outputs": [],
   "source": [
    "display(fig)"
   ]
  },
  {
   "cell_type": "markdown",
   "metadata": {
    "nbpresent": {
     "id": "4e12e2b0-d0c5-43ce-aed7-94d9f3bce570"
    }
   },
   "source": [
    "### Ticks and Ticklabels"
   ]
  },
  {
   "cell_type": "code",
   "execution_count": null,
   "metadata": {
    "collapsed": false,
    "nbpresent": {
     "id": "ebd57f8d-52d4-45be-825a-e7c27cf41928"
    }
   },
   "outputs": [],
   "source": [
    "ax.set_xticks(array([0,pi/2,pi,3/2*pi,2*pi]))\n",
    "ax.set_xticklabels(('$0$','$\\pi/2$','$\\pi$','$3/2 \\pi$','$2 \\pi$'),fontsize=18)\n",
    "ax.set_yticks(array([-1.,0.,1]))\n",
    "ax.set_yticklabels(('$-1$','$0$','$1$'),fontsize=18)"
   ]
  },
  {
   "cell_type": "code",
   "execution_count": null,
   "metadata": {
    "collapsed": false,
    "nbpresent": {
     "id": "3453626a-5b9e-4267-801d-09ecdc8171b2"
    }
   },
   "outputs": [],
   "source": [
    "display(fig)"
   ]
  },
  {
   "cell_type": "markdown",
   "metadata": {
    "nbpresent": {
     "id": "696dd7b2-800e-4645-85f9-aaa9117d345c"
    }
   },
   "source": [
    "##  Making 3D plots"
   ]
  },
  {
   "cell_type": "markdown",
   "metadata": {
    "nbpresent": {
     "id": "117caa81-553e-4db1-a59e-674eec7a24ac"
    }
   },
   "source": [
    "#### 3D Example"
   ]
  },
  {
   "cell_type": "code",
   "execution_count": null,
   "metadata": {
    "collapsed": false,
    "nbpresent": {
     "id": "cadd89b1-57db-44da-8bcf-6b94688c1c26"
    }
   },
   "outputs": [],
   "source": [
    "from mpl_toolkits.mplot3d import axes3d\n",
    "\n",
    "fig = figure()\n",
    "ax = fig.gca(projection='3d')\n",
    "# plot points in 3D\n",
    "class1 = 0.6 * random.standard_normal((200,3))\n",
    "ax.plot(class1[:,0],class1[:,1],class1[:,2],'o')\n",
    "class2 = 1.2 * random.standard_normal((200,3)) + array([5,4,0])\n",
    "ax.plot(class2[:,0],class2[:,1],class2[:,2],'o')\n",
    "class3 = 0.3 * random.standard_normal((200,3)) + array([0,3,2])\n",
    "ax.plot(class3[:,0],class3[:,1],class3[:,2],'o')"
   ]
  },
  {
   "cell_type": "markdown",
   "metadata": {
    "nbpresent": {
     "id": "14c84b36-c8b1-4eaf-bf92-5b07129956ab"
    }
   },
   "source": [
    "#### Surface plot"
   ]
  },
  {
   "cell_type": "code",
   "execution_count": null,
   "metadata": {
    "collapsed": false,
    "nbpresent": {
     "id": "9d7ef083-607f-4040-96bf-13b2a935d862"
    }
   },
   "outputs": [],
   "source": [
    "X,Y,Z = axes3d.get_test_data(0.05)\n",
    "\n",
    "fig = figure()\n",
    "ax = fig.gca(projection='3d')\n",
    "# surface plot with transparency 0.5 \n",
    "ax.plot_surface(X,Y,Z,alpha=0.5)"
   ]
  },
  {
   "cell_type": "markdown",
   "metadata": {
    "nbpresent": {
     "id": "4123b22d-a97a-435d-98cb-c7b537b21943"
    }
   },
   "source": [
    "#### Contour Plots"
   ]
  },
  {
   "cell_type": "code",
   "execution_count": null,
   "metadata": {
    "collapsed": false,
    "nbpresent": {
     "id": "081eebab-488a-46b0-ab2d-5d780768e461"
    }
   },
   "outputs": [],
   "source": [
    "fig = figure()\n",
    "ax = fig.gca(projection='3d')\n",
    "ax.plot_wireframe(X,Y,Z,rstride=5,cstride=5)\n",
    "\n",
    "# plot contour projection on each axis plane\n",
    "ax.contour(X,Y,Z,zdir='z',offset=-100)\n",
    "ax.contour(X,Y,Z,zdir='x',offset=-40)\n",
    "ax.contour(X,Y,Z,zdir='y',offset=40)\n",
    "\n",
    "# set axis limits\n",
    "ax.set_xlim3d(-40,40)\n",
    "ax.set_ylim3d(-40,40)\n",
    "ax.set_zlim3d(-100,100)\n",
    "\n",
    "# set labels\n",
    "ax.set_xlabel('X axis')\n",
    "ax.set_ylabel('Y axis')\n",
    "ax.set_zlabel('Z axis')"
   ]
  },
  {
   "cell_type": "markdown",
   "metadata": {
    "nbpresent": {
     "id": "43c1c68f-4725-40d4-bae6-27569402b4a0"
    }
   },
   "source": [
    "## Making Movies from Plots"
   ]
  },
  {
   "cell_type": "code",
   "execution_count": null,
   "metadata": {
    "collapsed": false,
    "nbpresent": {
     "id": "475e7b75-8a7b-432a-bd47-001bd440603e"
    }
   },
   "outputs": [],
   "source": [
    "import visvis.vvmovie as vv\n",
    "\n",
    "# create initial function values\n",
    "x = linspace(-255,255,511)\n",
    "X,Y = meshgrid(x,x)\n",
    "f = sqrt(X*X+Y*Y) - 40 #radius 40\n",
    "\n",
    "# evolve and store in a list\n",
    "imlist = []\n",
    "for iteration in range(200):\n",
    "    imlist.append((f>0)*255)\n",
    "    f -= 1 # move outwards one pixel\n",
    "vv.images2swf.writeSwf('circle_evolution.swf',imlist)"
   ]
  },
  {
   "cell_type": "markdown",
   "metadata": {
    "nbpresent": {
     "id": "1726d597-40b4-49c4-a24e-583da5f919f5"
    }
   },
   "source": [
    "You have now an swf file on your computer which you can play with VLC or any flash player."
   ]
  },
  {
   "cell_type": "code",
   "execution_count": null,
   "metadata": {
    "collapsed": false
   },
   "outputs": [],
   "source": [
    "# create initial function values\n",
    "x = linspace(-255,255,511)\n",
    "X,Y = meshgrid(x,x)\n",
    "f = sqrt(X*X+Y*Y) - 40 #radius 40\n",
    "for iteration in range(200):\n",
    "\timshow((f>0)*255)\n",
    "\tgray()\n",
    "\taxis('off')\n",
    "\tsavefig('circle_evolution_{:d}.png'.format(iteration))\n",
    "\tf -= 1"
   ]
  },
  {
   "cell_type": "code",
   "execution_count": null,
   "metadata": {
    "collapsed": true
   },
   "outputs": [],
   "source": []
  }
 ],
 "metadata": {
  "anaconda-cloud": {},
  "kernelspec": {
   "display_name": "Python [conda root]",
   "language": "python",
   "name": "conda-root-py"
  },
  "language_info": {
   "codemirror_mode": {
    "name": "ipython",
    "version": 3
   },
   "file_extension": ".py",
   "mimetype": "text/x-python",
   "name": "python",
   "nbconvert_exporter": "python",
   "pygments_lexer": "ipython3",
   "version": "3.5.2"
  },
  "nbpresent": {
   "slides": {
    "00fba122-31e3-4338-b06d-a1dcfb9468e9": {
     "id": "00fba122-31e3-4338-b06d-a1dcfb9468e9",
     "prev": "25a85759-f21c-4694-a755-afe66b83a213",
     "regions": {
      "ca8ec7f0-8dac-4c49-b42f-797f718d591e": {
       "attrs": {
        "height": 0.8,
        "width": 0.8,
        "x": 0.1,
        "y": 0.1
       },
       "content": {
        "cell": "37f7f4f0-a585-4cfe-9645-855a91b56b13",
        "part": "whole"
       },
       "id": "ca8ec7f0-8dac-4c49-b42f-797f718d591e"
      }
     }
    },
    "01356c5e-6b59-44e6-88c2-e425628beb48": {
     "id": "01356c5e-6b59-44e6-88c2-e425628beb48",
     "prev": "7869bf79-b33f-44e7-a8f3-b0152d3db8cc",
     "regions": {
      "06402d62-9192-4389-ba2f-cf53263df19a": {
       "attrs": {
        "height": 0.8,
        "width": 0.8,
        "x": 0.1,
        "y": 0.1
       },
       "content": {
        "cell": "d0394640-1d44-419f-9912-f69d3c39f1c5",
        "part": "whole"
       },
       "id": "06402d62-9192-4389-ba2f-cf53263df19a"
      }
     }
    },
    "01ef7f4c-f66b-42ea-9a6c-83e05c5d40fc": {
     "id": "01ef7f4c-f66b-42ea-9a6c-83e05c5d40fc",
     "prev": "00fba122-31e3-4338-b06d-a1dcfb9468e9",
     "regions": {
      "edc67c7e-d27b-4dfc-be64-6df6660c276e": {
       "attrs": {
        "height": 0.8,
        "width": 0.8,
        "x": 0.1,
        "y": 0.1
       },
       "content": {
        "cell": "17a2b0ff-5d53-41b0-867a-c40a6f7985d2",
        "part": "whole"
       },
       "id": "edc67c7e-d27b-4dfc-be64-6df6660c276e"
      }
     }
    },
    "051a30ae-c4fd-45d5-a514-c7cf1a58c395": {
     "id": "051a30ae-c4fd-45d5-a514-c7cf1a58c395",
     "prev": "e4909972-9ee6-481b-877c-b22bd71f7c21",
     "regions": {
      "e4c5acf1-c9e8-4ae6-a50d-b8e88a7583b6": {
       "attrs": {
        "height": 0.8,
        "width": 0.8,
        "x": 0.1,
        "y": 0.1
       },
       "content": {
        "cell": "3a4d39c3-dbcf-490a-b1f7-42cd37813e24",
        "part": "whole"
       },
       "id": "e4c5acf1-c9e8-4ae6-a50d-b8e88a7583b6"
      }
     }
    },
    "06ea3300-e876-499c-899b-f7c00c325b3e": {
     "id": "06ea3300-e876-499c-899b-f7c00c325b3e",
     "prev": "5bcef6f6-a9f3-43ca-aeed-4b73f1475056",
     "regions": {
      "ca674b06-8361-424d-b82a-d75647d34e99": {
       "attrs": {
        "height": 0.8,
        "width": 0.8,
        "x": 0.1,
        "y": 0.1
       },
       "content": {
        "cell": "117caa81-553e-4db1-a59e-674eec7a24ac",
        "part": "whole"
       },
       "id": "ca674b06-8361-424d-b82a-d75647d34e99"
      }
     }
    },
    "083f6b6e-93ca-40c6-a2cf-2c95cc448719": {
     "id": "083f6b6e-93ca-40c6-a2cf-2c95cc448719",
     "prev": "6f6f46fc-5abf-45ed-bd15-1a25403fbbca",
     "regions": {
      "36d787e4-202f-4fb4-bbe2-df6e02ab1197": {
       "attrs": {
        "height": 0.8,
        "width": 0.8,
        "x": 0.1,
        "y": 0.1
       },
       "content": {
        "cell": "3efc02b0-f1fa-4cb0-a2ad-85b8e2c31114",
        "part": "whole"
       },
       "id": "36d787e4-202f-4fb4-bbe2-df6e02ab1197"
      }
     }
    },
    "09749bc9-8761-4940-8145-ab09a67ab463": {
     "id": "09749bc9-8761-4940-8145-ab09a67ab463",
     "prev": "8d8a6310-8790-437c-88f4-da80d02f8bcc",
     "regions": {
      "fd0f88dc-bc6d-4964-ab37-3a0c9ad71ef0": {
       "attrs": {
        "height": 0.8,
        "width": 0.8,
        "x": 0.1,
        "y": 0.1
       },
       "content": {
        "cell": "3669ebaf-0f4c-4391-b699-260114564075",
        "part": "whole"
       },
       "id": "fd0f88dc-bc6d-4964-ab37-3a0c9ad71ef0"
      }
     }
    },
    "0b5d7d30-8c4d-451d-b50d-63ec42f9d5ef": {
     "id": "0b5d7d30-8c4d-451d-b50d-63ec42f9d5ef",
     "prev": "7b7e615f-dc3c-496a-91bc-72774e1b5533",
     "regions": {
      "8a5b809b-0067-47a0-9e99-5926b98271c1": {
       "attrs": {
        "height": 0.8,
        "width": 0.8,
        "x": 0.1,
        "y": 0.1
       },
       "content": {
        "cell": "7d44a010-2485-4649-84a6-cbaf31fd43cd",
        "part": "whole"
       },
       "id": "8a5b809b-0067-47a0-9e99-5926b98271c1"
      }
     }
    },
    "0c17efcf-2be2-4bea-b918-ddab4cb79564": {
     "id": "0c17efcf-2be2-4bea-b918-ddab4cb79564",
     "prev": "167cd798-14db-4f29-a790-674f336c9f88",
     "regions": {
      "66243223-471f-438d-89c1-328fe09e63bf": {
       "attrs": {
        "height": 0.8,
        "width": 0.8,
        "x": 0.1,
        "y": 0.1
       },
       "content": {
        "cell": "1327ba0d-f62a-49ea-8216-cd2795e7a47e",
        "part": "whole"
       },
       "id": "66243223-471f-438d-89c1-328fe09e63bf"
      }
     }
    },
    "167cd798-14db-4f29-a790-674f336c9f88": {
     "id": "167cd798-14db-4f29-a790-674f336c9f88",
     "prev": "051a30ae-c4fd-45d5-a514-c7cf1a58c395",
     "regions": {
      "f6e1d98c-21ab-4595-9e92-ebf910efc34c": {
       "attrs": {
        "height": 0.8,
        "width": 0.8,
        "x": 0.1,
        "y": 0.1
       },
       "content": {
        "cell": "dcf32f9e-6534-44b9-a154-2afc287c4de7",
        "part": "whole"
       },
       "id": "f6e1d98c-21ab-4595-9e92-ebf910efc34c"
      }
     }
    },
    "17297679-da5c-40dc-9bc4-b874e7575526": {
     "id": "17297679-da5c-40dc-9bc4-b874e7575526",
     "prev": "374c0d78-530c-4124-a928-bd2dfb0b75a1",
     "regions": {
      "f8a74d97-c3cb-429a-b0fc-2887ee2d2a1d": {
       "attrs": {
        "height": 0.8,
        "width": 0.8,
        "x": 0.1,
        "y": 0.1
       },
       "content": {
        "cell": "7083160e-5b5f-4cdf-9332-bd4457c3559c",
        "part": "whole"
       },
       "id": "f8a74d97-c3cb-429a-b0fc-2887ee2d2a1d"
      }
     }
    },
    "190ea098-e8a7-4dc0-bdb2-ef938d626e07": {
     "id": "190ea098-e8a7-4dc0-bdb2-ef938d626e07",
     "prev": "ad6d19b0-d28b-4ca0-a6d1-c32a1b8eb13b",
     "regions": {
      "e7239ac3-0d5a-49b1-8a6c-60cf0fbb2dd6": {
       "attrs": {
        "height": 0.8,
        "width": 0.8,
        "x": 0.1,
        "y": 0.1
       },
       "content": {
        "cell": "4f362f8c-1308-443f-b99a-2def7e53c8e3",
        "part": "whole"
       },
       "id": "e7239ac3-0d5a-49b1-8a6c-60cf0fbb2dd6"
      }
     }
    },
    "23703d06-23b1-4bd9-92d2-636d268caeab": {
     "id": "23703d06-23b1-4bd9-92d2-636d268caeab",
     "prev": "5aa68be3-09be-45c5-84a0-c95335729302",
     "regions": {
      "837df939-7d62-4bc7-9249-d6b58468b86f": {
       "attrs": {
        "height": 0.8,
        "width": 0.8,
        "x": 0.1,
        "y": 0.1
       },
       "content": {
        "cell": "763e729b-18c0-494c-8c00-b0c8c9eefb2a",
        "part": "whole"
       },
       "id": "837df939-7d62-4bc7-9249-d6b58468b86f"
      }
     }
    },
    "2411b3ae-b0ba-4b11-bac1-835ab7c7b626": {
     "id": "2411b3ae-b0ba-4b11-bac1-835ab7c7b626",
     "prev": "f6a8a76e-47fb-4631-ab68-f3adc49f96d3",
     "regions": {
      "db50409f-9763-4254-8ace-f37efb624b6a": {
       "attrs": {
        "height": 0.8,
        "width": 0.8,
        "x": 0.1,
        "y": 0.1
       },
       "content": {
        "cell": "6ee1b19f-3c06-4a05-98ce-ae4eaa24d56f",
        "part": "whole"
       },
       "id": "db50409f-9763-4254-8ace-f37efb624b6a"
      }
     }
    },
    "24d2cd00-710a-42b4-8d5c-35cc6b1d0525": {
     "id": "24d2cd00-710a-42b4-8d5c-35cc6b1d0525",
     "prev": "6b170edc-e71a-4d25-b921-2ab63b83e3c6",
     "regions": {
      "c4e9567a-9963-40bb-959a-806765725421": {
       "attrs": {
        "height": 0.8,
        "width": 0.8,
        "x": 0.1,
        "y": 0.1
       },
       "content": {
        "cell": "14c84b36-c8b1-4eaf-bf92-5b07129956ab",
        "part": "whole"
       },
       "id": "c4e9567a-9963-40bb-959a-806765725421"
      }
     }
    },
    "259d5e0d-343f-4768-9176-05a9166b35b1": {
     "id": "259d5e0d-343f-4768-9176-05a9166b35b1",
     "prev": "d0bb1d27-544e-4d80-9cf1-320a4b145b31",
     "regions": {
      "7596aec7-1c47-42c1-b575-6f0bcd2514d3": {
       "attrs": {
        "height": 0.8,
        "width": 0.8,
        "x": 0.1,
        "y": 0.1
       },
       "content": {
        "cell": "c5927f8a-3762-496e-8691-dd96e275165d",
        "part": "whole"
       },
       "id": "7596aec7-1c47-42c1-b575-6f0bcd2514d3"
      }
     }
    },
    "25a85759-f21c-4694-a755-afe66b83a213": {
     "id": "25a85759-f21c-4694-a755-afe66b83a213",
     "prev": "757b02b7-d8da-4c7e-9be1-de83a45f3485",
     "regions": {
      "86eb2bc5-a633-4778-a1e5-fad6b04991b5": {
       "attrs": {
        "height": 0.8,
        "width": 0.8,
        "x": 0.1,
        "y": 0.1
       },
       "content": {
        "cell": "018390a5-a522-4b2f-b9c8-df10c2dbdc4c",
        "part": "whole"
       },
       "id": "86eb2bc5-a633-4778-a1e5-fad6b04991b5"
      }
     }
    },
    "27c922fd-21a4-42fe-a43c-daf54200e4fc": {
     "id": "27c922fd-21a4-42fe-a43c-daf54200e4fc",
     "prev": "76747292-0ef9-4da8-8853-37fedf32184d",
     "regions": {
      "409d33eb-383d-42bc-bd81-1ab383b131e5": {
       "attrs": {
        "height": 0.8,
        "width": 0.8,
        "x": 0.1,
        "y": 0.1
       },
       "content": {
        "cell": "e69ce382-3472-4ab4-8536-d28ada9d715b",
        "part": "whole"
       },
       "id": "409d33eb-383d-42bc-bd81-1ab383b131e5"
      }
     }
    },
    "28a4daac-dc2c-4d77-a5dd-2526e587f721": {
     "id": "28a4daac-dc2c-4d77-a5dd-2526e587f721",
     "prev": "4ac7b8b7-483d-4739-a630-fcab5c09da23",
     "regions": {
      "53f6b785-0d6c-4589-9cc2-e1589f57d5dd": {
       "attrs": {
        "height": 0.8,
        "width": 0.8,
        "x": 0.1,
        "y": 0.1
       },
       "content": {
        "cell": "4ab3f0f5-5a90-400e-829f-10a9c7a395e5",
        "part": "whole"
       },
       "id": "53f6b785-0d6c-4589-9cc2-e1589f57d5dd"
      }
     }
    },
    "2905d829-c9fe-4fa7-800c-b250adb6618c": {
     "id": "2905d829-c9fe-4fa7-800c-b250adb6618c",
     "prev": "bdef6e0a-f72f-4f9e-a6e4-1e56d546b211",
     "regions": {
      "7bd91938-4efd-452f-8d49-4d39dd8dd2c4": {
       "attrs": {
        "height": 0.8,
        "width": 0.8,
        "x": 0.1,
        "y": 0.1
       },
       "content": {
        "cell": "e50f7420-5bcc-4375-951b-ed39c95f1d0f",
        "part": "whole"
       },
       "id": "7bd91938-4efd-452f-8d49-4d39dd8dd2c4"
      }
     }
    },
    "2a55acb1-07c1-47d0-a392-3ebc61bcfc1c": {
     "id": "2a55acb1-07c1-47d0-a392-3ebc61bcfc1c",
     "prev": "58d14282-bedb-48f6-97a0-04b969b3cb6d",
     "regions": {
      "d1dbdaf4-78fc-48f7-8e11-c35cf5d1bcf3": {
       "attrs": {
        "height": 0.8,
        "width": 0.8,
        "x": 0.1,
        "y": 0.1
       },
       "content": {
        "cell": "6012590a-bbca-48c2-bc01-ef13ebaedee7",
        "part": "whole"
       },
       "id": "d1dbdaf4-78fc-48f7-8e11-c35cf5d1bcf3"
      }
     }
    },
    "31a2bba1-85ef-4556-85eb-e50c35684634": {
     "id": "31a2bba1-85ef-4556-85eb-e50c35684634",
     "prev": "083f6b6e-93ca-40c6-a2cf-2c95cc448719",
     "regions": {
      "73f877b8-6775-45a8-9a29-f48d5c85bc45": {
       "attrs": {
        "height": 0.8,
        "width": 0.8,
        "x": 0.1,
        "y": 0.1
       },
       "content": {
        "cell": "9fb768d5-77b9-4657-b193-aad95d854b1a",
        "part": "whole"
       },
       "id": "73f877b8-6775-45a8-9a29-f48d5c85bc45"
      }
     }
    },
    "35ac310c-2fa3-4159-ad4c-3db73794e359": {
     "id": "35ac310c-2fa3-4159-ad4c-3db73794e359",
     "prev": "d70659a1-2463-46c7-b31e-58eb028c83e2",
     "regions": {
      "dca2116c-3da4-4126-b003-793873a69156": {
       "attrs": {
        "height": 0.8,
        "width": 0.8,
        "x": 0.1,
        "y": 0.1
       },
       "content": {
        "cell": "081eebab-488a-46b0-ab2d-5d780768e461",
        "part": "whole"
       },
       "id": "dca2116c-3da4-4126-b003-793873a69156"
      }
     }
    },
    "374c0d78-530c-4124-a928-bd2dfb0b75a1": {
     "id": "374c0d78-530c-4124-a928-bd2dfb0b75a1",
     "prev": "cf616102-a984-4cb5-a3df-235761878773",
     "regions": {
      "967210b2-cfae-49ba-8135-45f83142cb74": {
       "attrs": {
        "height": 0.8,
        "width": 0.8,
        "x": 0.1,
        "y": 0.1
       },
       "content": {
        "cell": "8d247fbe-23f0-4f9c-bef7-9879ce79b7b5",
        "part": "whole"
       },
       "id": "967210b2-cfae-49ba-8135-45f83142cb74"
      }
     }
    },
    "3bbd92c3-0fb0-4a9c-985d-7311677646f1": {
     "id": "3bbd92c3-0fb0-4a9c-985d-7311677646f1",
     "prev": "480558d7-0d41-498f-90e9-f358e07c0e47",
     "regions": {
      "3ddb3096-6ef1-401e-98c3-48f9880f4daf": {
       "attrs": {
        "height": 0.8,
        "width": 0.8,
        "x": 0.1,
        "y": 0.1
       },
       "content": {
        "cell": "ba5381a4-a92f-4cf7-9d7a-4c44175f97b2",
        "part": "whole"
       },
       "id": "3ddb3096-6ef1-401e-98c3-48f9880f4daf"
      }
     }
    },
    "46f85a5e-3701-4e24-af09-e9d578abea77": {
     "id": "46f85a5e-3701-4e24-af09-e9d578abea77",
     "prev": "725a20aa-9ccf-411d-8e98-b08d27c8b69b",
     "regions": {
      "b7707c09-0468-44cb-bcb7-a53b7fe3273b": {
       "attrs": {
        "height": 0.8,
        "width": 0.8,
        "x": 0.1,
        "y": 0.1
       },
       "content": {
        "cell": "1726d597-40b4-49c4-a24e-583da5f919f5",
        "part": "whole"
       },
       "id": "b7707c09-0468-44cb-bcb7-a53b7fe3273b"
      }
     }
    },
    "480558d7-0d41-498f-90e9-f358e07c0e47": {
     "id": "480558d7-0d41-498f-90e9-f358e07c0e47",
     "prev": "2411b3ae-b0ba-4b11-bac1-835ab7c7b626",
     "regions": {
      "52500e2f-eaf3-4e57-96fa-676ecc3a6180": {
       "attrs": {
        "height": 0.8,
        "width": 0.8,
        "x": 0.1,
        "y": 0.1
       },
       "content": {
        "cell": "60a7b9b9-ad26-47dc-aaef-1e5abd6eda2e",
        "part": "whole"
       },
       "id": "52500e2f-eaf3-4e57-96fa-676ecc3a6180"
      }
     }
    },
    "4ac7b8b7-483d-4739-a630-fcab5c09da23": {
     "id": "4ac7b8b7-483d-4739-a630-fcab5c09da23",
     "prev": "cf1c7648-2ac3-4dc5-a62a-40956bb70c8b",
     "regions": {
      "d757ca5a-0399-41f7-8c19-68920d9d4f1a": {
       "attrs": {
        "height": 0.8,
        "width": 0.8,
        "x": 0.1,
        "y": 0.1
       },
       "content": {
        "cell": "30c18fce-1767-4983-8e16-e572af81896f",
        "part": "whole"
       },
       "id": "d757ca5a-0399-41f7-8c19-68920d9d4f1a"
      }
     }
    },
    "53c030a1-9439-4710-8b3c-16006a68175f": {
     "id": "53c030a1-9439-4710-8b3c-16006a68175f",
     "prev": "7c1c88e0-e9b1-40d7-9dc4-64b2a8f166e3",
     "regions": {
      "ea4bd835-f573-4442-b38e-34a95aff24e7": {
       "attrs": {
        "height": 0.8,
        "width": 0.8,
        "x": 0.1,
        "y": 0.1
       },
       "content": {
        "cell": "2ed88423-daca-4ac1-8322-fd627570d06b",
        "part": "whole"
       },
       "id": "ea4bd835-f573-4442-b38e-34a95aff24e7"
      }
     }
    },
    "58d14282-bedb-48f6-97a0-04b969b3cb6d": {
     "id": "58d14282-bedb-48f6-97a0-04b969b3cb6d",
     "prev": "0b5d7d30-8c4d-451d-b50d-63ec42f9d5ef",
     "regions": {
      "f17527e8-67e0-4968-a547-e6c9246187cf": {
       "attrs": {
        "height": 0.8,
        "width": 0.8,
        "x": 0.1,
        "y": 0.1
       },
       "content": {
        "cell": "24926cb1-14c9-41ee-8992-ee45827fd788",
        "part": "whole"
       },
       "id": "f17527e8-67e0-4968-a547-e6c9246187cf"
      }
     }
    },
    "5aa68be3-09be-45c5-84a0-c95335729302": {
     "id": "5aa68be3-09be-45c5-84a0-c95335729302",
     "prev": "d0cf23d8-8a99-409f-b804-f7e2cc21e2cb",
     "regions": {
      "7ae52df6-d149-44d2-a946-14264ad66746": {
       "attrs": {
        "height": 0.8,
        "width": 0.8,
        "x": 0.1,
        "y": 0.1
       },
       "content": {
        "cell": "8b70f320-79c5-4d9c-ba0e-c84e6ac668bf",
        "part": "whole"
       },
       "id": "7ae52df6-d149-44d2-a946-14264ad66746"
      }
     }
    },
    "5bcef6f6-a9f3-43ca-aeed-4b73f1475056": {
     "id": "5bcef6f6-a9f3-43ca-aeed-4b73f1475056",
     "prev": "bd7306f1-402a-41f4-a7cf-23ad8255ee86",
     "regions": {
      "25ae1d60-eb92-4019-8566-db4f3552fe70": {
       "attrs": {
        "height": 0.8,
        "width": 0.8,
        "x": 0.1,
        "y": 0.1
       },
       "content": {
        "cell": "696dd7b2-800e-4645-85f9-aaa9117d345c",
        "part": "whole"
       },
       "id": "25ae1d60-eb92-4019-8566-db4f3552fe70"
      }
     }
    },
    "5f188dfb-c847-4c87-89e1-38a37526a546": {
     "id": "5f188dfb-c847-4c87-89e1-38a37526a546",
     "prev": "24d2cd00-710a-42b4-8d5c-35cc6b1d0525",
     "regions": {
      "8634fd14-b8f6-48ad-9c11-7e879c22e198": {
       "attrs": {
        "height": 0.8,
        "width": 0.8,
        "x": 0.1,
        "y": 0.1
       },
       "content": {
        "cell": "9d7ef083-607f-4040-96bf-13b2a935d862",
        "part": "whole"
       },
       "id": "8634fd14-b8f6-48ad-9c11-7e879c22e198"
      }
     }
    },
    "6b170edc-e71a-4d25-b921-2ab63b83e3c6": {
     "id": "6b170edc-e71a-4d25-b921-2ab63b83e3c6",
     "prev": "06ea3300-e876-499c-899b-f7c00c325b3e",
     "regions": {
      "09435291-2862-4e77-83e0-3646c8ff3aeb": {
       "attrs": {
        "height": 0.8,
        "width": 0.8,
        "x": 0.1,
        "y": 0.1
       },
       "content": {
        "cell": "cadd89b1-57db-44da-8bcf-6b94688c1c26",
        "part": "whole"
       },
       "id": "09435291-2862-4e77-83e0-3646c8ff3aeb"
      }
     }
    },
    "6c2df235-1fdf-4da7-b35a-7bd9c1c4c735": {
     "id": "6c2df235-1fdf-4da7-b35a-7bd9c1c4c735",
     "prev": "2905d829-c9fe-4fa7-800c-b250adb6618c",
     "regions": {
      "c94189ac-76aa-4cc7-8c76-7d3560729999": {
       "attrs": {
        "height": 0.8,
        "width": 0.8,
        "x": 0.1,
        "y": 0.1
       },
       "content": {
        "cell": "2062eb21-6a04-41c9-8805-ae3f0b754900",
        "part": "whole"
       },
       "id": "c94189ac-76aa-4cc7-8c76-7d3560729999"
      }
     }
    },
    "6f6f46fc-5abf-45ed-bd15-1a25403fbbca": {
     "id": "6f6f46fc-5abf-45ed-bd15-1a25403fbbca",
     "prev": "6c2df235-1fdf-4da7-b35a-7bd9c1c4c735",
     "regions": {
      "38782030-754c-42c4-a34c-dd8d899d4377": {
       "attrs": {
        "height": 0.8,
        "width": 0.8,
        "x": 0.1,
        "y": 0.1
       },
       "content": {
        "cell": "57f9c1b7-eadb-446f-a8ed-66a1c9de8c1e",
        "part": "whole"
       },
       "id": "38782030-754c-42c4-a34c-dd8d899d4377"
      }
     }
    },
    "725a20aa-9ccf-411d-8e98-b08d27c8b69b": {
     "id": "725a20aa-9ccf-411d-8e98-b08d27c8b69b",
     "prev": "c9815137-12dc-4145-836b-01e962969608",
     "regions": {
      "9826aaf9-df71-4cf0-bef5-663488d67610": {
       "attrs": {
        "height": 0.8,
        "width": 0.8,
        "x": 0.1,
        "y": 0.1
       },
       "content": {
        "cell": "475e7b75-8a7b-432a-bd47-001bd440603e",
        "part": "whole"
       },
       "id": "9826aaf9-df71-4cf0-bef5-663488d67610"
      }
     }
    },
    "757b02b7-d8da-4c7e-9be1-de83a45f3485": {
     "id": "757b02b7-d8da-4c7e-9be1-de83a45f3485",
     "prev": "0c17efcf-2be2-4bea-b918-ddab4cb79564",
     "regions": {
      "f89325ea-ccfd-4804-a33a-2fe7120d4cde": {
       "attrs": {
        "height": 0.8,
        "width": 0.8,
        "x": 0.1,
        "y": 0.1
       },
       "content": {
        "cell": "fb2b5c30-329f-4469-b4fd-598e7aa8cbe3",
        "part": "whole"
       },
       "id": "f89325ea-ccfd-4804-a33a-2fe7120d4cde"
      }
     }
    },
    "76747292-0ef9-4da8-8853-37fedf32184d": {
     "id": "76747292-0ef9-4da8-8853-37fedf32184d",
     "prev": "31a2bba1-85ef-4556-85eb-e50c35684634",
     "regions": {
      "6333143b-1162-4df9-b5b6-3593a28a88a1": {
       "attrs": {
        "height": 0.8,
        "width": 0.8,
        "x": 0.1,
        "y": 0.1
       },
       "content": {
        "cell": "85471594-5b38-498a-8833-e7aca88fcc2f",
        "part": "whole"
       },
       "id": "6333143b-1162-4df9-b5b6-3593a28a88a1"
      }
     }
    },
    "7869bf79-b33f-44e7-a8f3-b0152d3db8cc": {
     "id": "7869bf79-b33f-44e7-a8f3-b0152d3db8cc",
     "prev": "190ea098-e8a7-4dc0-bdb2-ef938d626e07",
     "regions": {
      "109a28c9-6fad-4684-94b4-9d472a6bffe4": {
       "attrs": {
        "height": 0.8,
        "width": 0.8,
        "x": 0.1,
        "y": 0.1
       },
       "content": {
        "cell": "dc5f7afb-3010-4c85-987e-cd57472d6464",
        "part": "whole"
       },
       "id": "109a28c9-6fad-4684-94b4-9d472a6bffe4"
      }
     }
    },
    "7b7e615f-dc3c-496a-91bc-72774e1b5533": {
     "id": "7b7e615f-dc3c-496a-91bc-72774e1b5533",
     "prev": "3bbd92c3-0fb0-4a9c-985d-7311677646f1",
     "regions": {
      "c81157bd-884c-4487-b12a-d0964acd31cd": {
       "attrs": {
        "height": 0.8,
        "width": 0.8,
        "x": 0.1,
        "y": 0.1
       },
       "content": {
        "cell": "fcc596ce-de85-4273-8581-5932d9a92243",
        "part": "whole"
       },
       "id": "c81157bd-884c-4487-b12a-d0964acd31cd"
      }
     }
    },
    "7c1c88e0-e9b1-40d7-9dc4-64b2a8f166e3": {
     "id": "7c1c88e0-e9b1-40d7-9dc4-64b2a8f166e3",
     "prev": null,
     "regions": {
      "2e435f6e-420e-483f-8c18-3c186347a6a7": {
       "attrs": {
        "height": 0.8,
        "width": 0.8,
        "x": 0.1,
        "y": 0.1
       },
       "content": {
        "cell": "ba9ccbb1-adaf-424a-8715-3da32bf2d341",
        "part": "whole"
       },
       "id": "2e435f6e-420e-483f-8c18-3c186347a6a7"
      }
     }
    },
    "7e487705-6909-4fea-aa1e-26299a0c8396": {
     "id": "7e487705-6909-4fea-aa1e-26299a0c8396",
     "prev": "17297679-da5c-40dc-9bc4-b874e7575526",
     "regions": {
      "8e5e3e45-9fda-43f7-8b2c-302b9a90c498": {
       "attrs": {
        "height": 0.8,
        "width": 0.8,
        "x": 0.1,
        "y": 0.1
       },
       "content": {
        "cell": "c24e4018-7b85-4de9-a1a2-3672f90a7889",
        "part": "whole"
       },
       "id": "8e5e3e45-9fda-43f7-8b2c-302b9a90c498"
      }
     }
    },
    "8d8a6310-8790-437c-88f4-da80d02f8bcc": {
     "id": "8d8a6310-8790-437c-88f4-da80d02f8bcc",
     "prev": "53c030a1-9439-4710-8b3c-16006a68175f",
     "regions": {
      "8a078670-7fb3-4618-814a-ba4bf340f603": {
       "attrs": {
        "height": 0.8,
        "width": 0.8,
        "x": 0.1,
        "y": 0.1
       },
       "content": {
        "cell": "f05236da-deca-4b8f-841e-de59dc0aea84",
        "part": "whole"
       },
       "id": "8a078670-7fb3-4618-814a-ba4bf340f603"
      }
     }
    },
    "92984a71-e134-4fd5-bd91-80ce23170b45": {
     "id": "92984a71-e134-4fd5-bd91-80ce23170b45",
     "prev": "01356c5e-6b59-44e6-88c2-e425628beb48",
     "regions": {
      "b40ab99f-3e4a-4bce-be44-8b00b3d1ef8c": {
       "attrs": {
        "height": 0.8,
        "width": 0.8,
        "x": 0.1,
        "y": 0.1
       },
       "content": {
        "cell": "875a9399-6018-4f98-adfc-c33ee32d8a12",
        "part": "whole"
       },
       "id": "b40ab99f-3e4a-4bce-be44-8b00b3d1ef8c"
      }
     }
    },
    "a101d754-9e30-4368-8d7e-76a56fc988b5": {
     "id": "a101d754-9e30-4368-8d7e-76a56fc988b5",
     "prev": "28a4daac-dc2c-4d77-a5dd-2526e587f721",
     "regions": {
      "bf726368-a68e-4a04-8ef8-24515a88129a": {
       "attrs": {
        "height": 0.8,
        "width": 0.8,
        "x": 0.1,
        "y": 0.1
       },
       "content": {
        "cell": "06f9f7d1-6747-48ad-bd9e-aca1efc80481",
        "part": "whole"
       },
       "id": "bf726368-a68e-4a04-8ef8-24515a88129a"
      }
     }
    },
    "a3759aae-60d6-48c8-96ae-cbe922e71b41": {
     "id": "a3759aae-60d6-48c8-96ae-cbe922e71b41",
     "prev": "2a55acb1-07c1-47d0-a392-3ebc61bcfc1c",
     "regions": {
      "575159ce-2f4f-4f77-ace6-43eba81326db": {
       "attrs": {
        "height": 0.8,
        "width": 0.8,
        "x": 0.1,
        "y": 0.1
       },
       "content": {
        "cell": "4e12e2b0-d0c5-43ce-aed7-94d9f3bce570",
        "part": "whole"
       },
       "id": "575159ce-2f4f-4f77-ace6-43eba81326db"
      }
     }
    },
    "ad6d19b0-d28b-4ca0-a6d1-c32a1b8eb13b": {
     "id": "ad6d19b0-d28b-4ca0-a6d1-c32a1b8eb13b",
     "prev": "b32b529e-1777-4539-a24f-52c0ecdbd12d",
     "regions": {
      "e5fdf2c7-df3f-4752-8a6a-f5af875f821a": {
       "attrs": {
        "height": 0.8,
        "width": 0.8,
        "x": 0.1,
        "y": 0.1
       },
       "content": {
        "cell": "c48889dd-3d79-451a-8090-8ef3d4073d6a",
        "part": "whole"
       },
       "id": "e5fdf2c7-df3f-4752-8a6a-f5af875f821a"
      }
     }
    },
    "b32b529e-1777-4539-a24f-52c0ecdbd12d": {
     "id": "b32b529e-1777-4539-a24f-52c0ecdbd12d",
     "prev": "7e487705-6909-4fea-aa1e-26299a0c8396",
     "regions": {
      "b2b0b197-c2fc-483a-85b2-ec1368ed357f": {
       "attrs": {
        "height": 0.8,
        "width": 0.8,
        "x": 0.1,
        "y": 0.1
       },
       "content": {
        "cell": "0166d5d5-0f59-4e3d-8f22-7456436c8611",
        "part": "whole"
       },
       "id": "b2b0b197-c2fc-483a-85b2-ec1368ed357f"
      }
     }
    },
    "bd7306f1-402a-41f4-a7cf-23ad8255ee86": {
     "id": "bd7306f1-402a-41f4-a7cf-23ad8255ee86",
     "prev": "e512472d-324f-4cb8-b1d0-9f4f59927c47",
     "regions": {
      "22c89837-9080-4045-b90c-1ec24e5d7dc3": {
       "attrs": {
        "height": 0.8,
        "width": 0.8,
        "x": 0.1,
        "y": 0.1
       },
       "content": {
        "cell": "3453626a-5b9e-4267-801d-09ecdc8171b2",
        "part": "whole"
       },
       "id": "22c89837-9080-4045-b90c-1ec24e5d7dc3"
      }
     }
    },
    "bdef6e0a-f72f-4f9e-a6e4-1e56d546b211": {
     "id": "bdef6e0a-f72f-4f9e-a6e4-1e56d546b211",
     "prev": "23703d06-23b1-4bd9-92d2-636d268caeab",
     "regions": {
      "376fd036-6488-4386-a0f6-06ef0d966db6": {
       "attrs": {
        "height": 0.8,
        "width": 0.8,
        "x": 0.1,
        "y": 0.1
       },
       "content": {
        "cell": "f66111e5-4b56-4dfb-a441-1bc8707714ce",
        "part": "whole"
       },
       "id": "376fd036-6488-4386-a0f6-06ef0d966db6"
      }
     }
    },
    "c9815137-12dc-4145-836b-01e962969608": {
     "id": "c9815137-12dc-4145-836b-01e962969608",
     "prev": "35ac310c-2fa3-4159-ad4c-3db73794e359",
     "regions": {
      "ace4c93c-f4a9-4850-9b3a-eb3d30ea953e": {
       "attrs": {
        "height": 0.8,
        "width": 0.8,
        "x": 0.1,
        "y": 0.1
       },
       "content": {
        "cell": "43c1c68f-4725-40d4-bae6-27569402b4a0",
        "part": "whole"
       },
       "id": "ace4c93c-f4a9-4850-9b3a-eb3d30ea953e"
      }
     }
    },
    "cf1c7648-2ac3-4dc5-a62a-40956bb70c8b": {
     "id": "cf1c7648-2ac3-4dc5-a62a-40956bb70c8b",
     "prev": "f85a7a94-b0f0-463b-be0d-6f0d6eddb935",
     "regions": {
      "b89a679c-4980-4c64-a495-3405747df643": {
       "attrs": {
        "height": 0.8,
        "width": 0.8,
        "x": 0.1,
        "y": 0.1
       },
       "content": {
        "cell": "9f543595-27fd-4a87-acd0-308a15ed0ded",
        "part": "whole"
       },
       "id": "b89a679c-4980-4c64-a495-3405747df643"
      }
     }
    },
    "cf616102-a984-4cb5-a3df-235761878773": {
     "id": "cf616102-a984-4cb5-a3df-235761878773",
     "prev": "09749bc9-8761-4940-8145-ab09a67ab463",
     "regions": {
      "dac30f95-6b51-4399-b03e-3326569b89a8": {
       "attrs": {
        "height": 0.8,
        "width": 0.8,
        "x": 0.1,
        "y": 0.1
       },
       "content": {
        "cell": "06dff1bd-0756-407b-8723-ffb47319cd05",
        "part": "whole"
       },
       "id": "dac30f95-6b51-4399-b03e-3326569b89a8"
      }
     }
    },
    "d0bb1d27-544e-4d80-9cf1-320a4b145b31": {
     "id": "d0bb1d27-544e-4d80-9cf1-320a4b145b31",
     "prev": "a101d754-9e30-4368-8d7e-76a56fc988b5",
     "regions": {
      "2d8cbfda-26f6-4c2f-92f6-605bcb0fc7f3": {
       "attrs": {
        "height": 0.8,
        "width": 0.8,
        "x": 0.1,
        "y": 0.1
       },
       "content": {
        "cell": "01a8997f-ab0e-435f-bcb5-be75a45a16a7",
        "part": "whole"
       },
       "id": "2d8cbfda-26f6-4c2f-92f6-605bcb0fc7f3"
      }
     }
    },
    "d0cf23d8-8a99-409f-b804-f7e2cc21e2cb": {
     "id": "d0cf23d8-8a99-409f-b804-f7e2cc21e2cb",
     "prev": "ebddd588-d9b9-4480-80c9-984ef372da41",
     "regions": {
      "156d39a3-5db0-4c42-90c3-7fee9638b4c5": {
       "attrs": {
        "height": 0.8,
        "width": 0.8,
        "x": 0.1,
        "y": 0.1
       },
       "content": {
        "cell": "0c2c81b5-46ed-4aaf-a044-cbb94c0485ae",
        "part": "whole"
       },
       "id": "156d39a3-5db0-4c42-90c3-7fee9638b4c5"
      }
     }
    },
    "d70659a1-2463-46c7-b31e-58eb028c83e2": {
     "id": "d70659a1-2463-46c7-b31e-58eb028c83e2",
     "prev": "5f188dfb-c847-4c87-89e1-38a37526a546",
     "regions": {
      "fbf5eea9-a7a0-464b-90ed-97f06259b3bb": {
       "attrs": {
        "height": 0.8,
        "width": 0.8,
        "x": 0.1,
        "y": 0.1
       },
       "content": {
        "cell": "4123b22d-a97a-435d-98cb-c7b537b21943",
        "part": "whole"
       },
       "id": "fbf5eea9-a7a0-464b-90ed-97f06259b3bb"
      }
     }
    },
    "e4909972-9ee6-481b-877c-b22bd71f7c21": {
     "id": "e4909972-9ee6-481b-877c-b22bd71f7c21",
     "prev": "259d5e0d-343f-4768-9176-05a9166b35b1",
     "regions": {
      "943fa407-c887-4893-8f67-b4ed692c5689": {
       "attrs": {
        "height": 0.8,
        "width": 0.8,
        "x": 0.1,
        "y": 0.1
       },
       "content": {
        "cell": "70ebc7aa-bafb-40cf-8aa0-6f01f4503288",
        "part": "whole"
       },
       "id": "943fa407-c887-4893-8f67-b4ed692c5689"
      }
     }
    },
    "e512472d-324f-4cb8-b1d0-9f4f59927c47": {
     "id": "e512472d-324f-4cb8-b1d0-9f4f59927c47",
     "prev": "a3759aae-60d6-48c8-96ae-cbe922e71b41",
     "regions": {
      "32d9be51-115d-413c-9aaf-22abab094946": {
       "attrs": {
        "height": 0.8,
        "width": 0.8,
        "x": 0.1,
        "y": 0.1
       },
       "content": {
        "cell": "ebd57f8d-52d4-45be-825a-e7c27cf41928",
        "part": "whole"
       },
       "id": "32d9be51-115d-413c-9aaf-22abab094946"
      }
     }
    },
    "ebddd588-d9b9-4480-80c9-984ef372da41": {
     "id": "ebddd588-d9b9-4480-80c9-984ef372da41",
     "prev": "01ef7f4c-f66b-42ea-9a6c-83e05c5d40fc",
     "regions": {
      "c6ad1441-8fc7-4880-a1f9-78dcc66cff1b": {
       "attrs": {
        "height": 0.8,
        "width": 0.8,
        "x": 0.1,
        "y": 0.1
       },
       "content": {
        "cell": "2a3ee229-eeec-4d15-baec-a7811d1039c5",
        "part": "whole"
       },
       "id": "c6ad1441-8fc7-4880-a1f9-78dcc66cff1b"
      }
     }
    },
    "f6a8a76e-47fb-4631-ab68-f3adc49f96d3": {
     "id": "f6a8a76e-47fb-4631-ab68-f3adc49f96d3",
     "prev": "27c922fd-21a4-42fe-a43c-daf54200e4fc",
     "regions": {
      "f9b5ce09-e625-4d81-906b-2c3058ad901a": {
       "attrs": {
        "height": 0.8,
        "width": 0.8,
        "x": 0.1,
        "y": 0.1
       },
       "content": {
        "cell": "490b2e59-bac5-4166-9743-d3e6fcf6d79d",
        "part": "whole"
       },
       "id": "f9b5ce09-e625-4d81-906b-2c3058ad901a"
      }
     }
    },
    "f85a7a94-b0f0-463b-be0d-6f0d6eddb935": {
     "id": "f85a7a94-b0f0-463b-be0d-6f0d6eddb935",
     "prev": "92984a71-e134-4fd5-bd91-80ce23170b45",
     "regions": {
      "da07b573-9883-4f64-9f59-09d64ad3cfae": {
       "attrs": {
        "height": 0.8,
        "width": 0.8,
        "x": 0.1,
        "y": 0.1
       },
       "content": {
        "cell": "c50e1753-12e1-4922-ba0a-3a08ad9c4684",
        "part": "whole"
       },
       "id": "da07b573-9883-4f64-9f59-09d64ad3cfae"
      }
     }
    }
   },
   "themes": {
    "default": "d9af3284-1d0a-40e5-a1f7-fcfa5ecf8adf",
    "theme": {
     "699afd3e-9155-47dc-80a4-44707214d0d1": {
      "backgrounds": {
       "backgroundColor": {
        "background-color": "backgroundColor",
        "id": "backgroundColor"
       }
      },
      "id": "699afd3e-9155-47dc-80a4-44707214d0d1",
      "palette": {
       "backgroundColor": {
        "id": "backgroundColor",
        "rgb": [
         253,
         246,
         227
        ]
       },
       "headingColor": {
        "id": "headingColor",
        "rgb": [
         88,
         110,
         117
        ]
       },
       "linkColor": {
        "id": "linkColor",
        "rgb": [
         38,
         139,
         210
        ]
       },
       "mainColor": {
        "id": "mainColor",
        "rgb": [
         101,
         123,
         131
        ]
       }
      },
      "rules": {
       "a": {
        "color": "linkColor"
       },
       "h1": {
        "color": "headingColor",
        "font-family": "Oswald",
        "font-size": 7
       },
       "h2": {
        "color": "headingColor",
        "font-family": "Oswald",
        "font-size": 5
       },
       "h3": {
        "color": "headingColor",
        "font-family": "Oswald",
        "font-size": 3.75
       },
       "h4": {
        "color": "headingColor",
        "font-family": "Oswald",
        "font-size": 3
       },
       "h5": {
        "color": "headingColor",
        "font-family": "Oswald"
       },
       "h6": {
        "color": "headingColor",
        "font-family": "Oswald"
       },
       "h7": {
        "color": "headingColor",
        "font-family": "Oswald"
       },
       "li": {
        "color": "mainColor",
        "font-family": "Lato",
        "font-size": 5
       },
       "p": {
        "color": "mainColor",
        "font-family": "Lato",
        "font-size": 5
       }
      },
      "text-base": {
       "color": "mainColor",
       "font-family": "Lato",
       "font-size": 5
      }
     }
    }
   }
  }
 },
 "nbformat": 4,
 "nbformat_minor": 0
}
