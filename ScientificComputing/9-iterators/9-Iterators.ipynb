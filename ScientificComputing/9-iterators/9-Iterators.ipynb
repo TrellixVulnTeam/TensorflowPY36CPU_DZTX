{
 "cells": [
  {
   "cell_type": "markdown",
   "metadata": {},
   "source": [
    "# Chapter 9: Iterators\n",
    "\n",
    "Here we present all code from this chapter, so that you can reproduce results by your own.\n",
    "\n",
    "We start by importing all general modules"
   ]
  },
  {
   "cell_type": "code",
   "execution_count": 1,
   "metadata": {
    "collapsed": false
   },
   "outputs": [],
   "source": [
    "from scipy import *\n",
    "import itertools"
   ]
  },
  {
   "cell_type": "markdown",
   "metadata": {
    "collapsed": true
   },
   "source": [
    "## Generators\n",
    "\n",
    "### Example: Odd numbers\n",
    "\n",
    "A generator for odd numbers smaller than $n$ could be defined like this:"
   ]
  },
  {
   "cell_type": "code",
   "execution_count": 2,
   "metadata": {
    "collapsed": false
   },
   "outputs": [],
   "source": [
    "def odd_numbers(n):\n",
    "    \"generator for odd numbers less than n\"\n",
    "    for k in range(n):\n",
    "        if k % 2 == 1:\n",
    "            yield k"
   ]
  },
  {
   "cell_type": "markdown",
   "metadata": {},
   "source": [
    "Then you can use it as:"
   ]
  },
  {
   "cell_type": "code",
   "execution_count": 3,
   "metadata": {
    "collapsed": false
   },
   "outputs": [
    {
     "name": "stdout",
     "output_type": "stream",
     "text": [
      "1 3 5 7 9 "
     ]
    }
   ],
   "source": [
    "g = odd_numbers(10)\n",
    "for k in g:\n",
    "    print(k,end=' ') # do something with k"
   ]
  },
  {
   "cell_type": "markdown",
   "metadata": {},
   "source": [
    "or even as:"
   ]
  },
  {
   "cell_type": "code",
   "execution_count": 4,
   "metadata": {
    "collapsed": false
   },
   "outputs": [
    {
     "name": "stdout",
     "output_type": "stream",
     "text": [
      "1 3 5 7 9 "
     ]
    }
   ],
   "source": [
    "for k in odd_numbers(10):\n",
    "    print(k,end=' ') # do something with k"
   ]
  },
  {
   "cell_type": "markdown",
   "metadata": {},
   "source": [
    "## Iterators are Disposable\n",
    "\n",
    "Note that an iterable object is able to create new iterators as many time as necessary.\n",
    "Let us examine the case of a list:"
   ]
  },
  {
   "cell_type": "code",
   "execution_count": 5,
   "metadata": {
    "collapsed": false
   },
   "outputs": [
    {
     "data": {
      "text/plain": [
       "['a', 'b', 'c']"
      ]
     },
     "execution_count": 5,
     "metadata": {},
     "output_type": "execute_result"
    }
   ],
   "source": [
    "L = ['a', 'b', 'c']\n",
    "iterator = iter(L)\n",
    "list(iterator) # ['a', 'b', 'c']\n",
    "list(iterator) # [] empty list, because the iterator is exhausted\n",
    "\n",
    "new_iterator = iter(L) # new iterator, ready to be used\n",
    "list(new_iterator) # ['a', 'b', 'c']"
   ]
  },
  {
   "cell_type": "markdown",
   "metadata": {},
   "source": [
    "## Iterator Tools"
   ]
  },
  {
   "cell_type": "code",
   "execution_count": 6,
   "metadata": {
    "collapsed": false
   },
   "outputs": [
    {
     "name": "stdout",
     "output_type": "stream",
     "text": [
      "0 a\n",
      "1 b\n",
      "2 c\n"
     ]
    }
   ],
   "source": [
    "A = ['a', 'b', 'c']\n",
    "for iteration, x in enumerate(A):\n",
    "    print(iteration, x)"
   ]
  },
  {
   "cell_type": "code",
   "execution_count": 7,
   "metadata": {
    "collapsed": false
   },
   "outputs": [
    {
     "name": "stdout",
     "output_type": "stream",
     "text": [
      "2\n",
      "1\n",
      "0\n"
     ]
    }
   ],
   "source": [
    "A = [0, 1, 2]\n",
    "for elt in reversed(A):\n",
    "    print(elt)"
   ]
  },
  {
   "cell_type": "code",
   "execution_count": 8,
   "metadata": {
    "collapsed": false
   },
   "outputs": [
    {
     "name": "stdout",
     "output_type": "stream",
     "text": [
      "integer 0\n",
      "integer 1\n",
      "integer 2\n",
      "integer 3\n",
      "integer 4\n",
      "integer 5\n"
     ]
    }
   ],
   "source": [
    "for iteration in itertools.count():\n",
    "    if iteration > 5:\n",
    "        break # without this, the loop goes on forever\n",
    "    print(\"integer {}\".format(iteration))"
   ]
  },
  {
   "cell_type": "markdown",
   "metadata": {},
   "source": [
    "Let us find some odd numbers by combining `islice` with an infinite generator. First we modify the \n",
    "generator for odd numbers so that it becomes an infinite generator:"
   ]
  },
  {
   "cell_type": "code",
   "execution_count": 9,
   "metadata": {
    "collapsed": true
   },
   "outputs": [],
   "source": [
    "def odd_numbers():\n",
    "    k=-1\n",
    "    while True:\n",
    "        k+=1\n",
    "        if k%2==1:\n",
    "            yield k"
   ]
  },
  {
   "cell_type": "markdown",
   "metadata": {},
   "source": [
    "Then, we use it with `islice` to get a list of some odd numbers:"
   ]
  },
  {
   "cell_type": "code",
   "execution_count": 10,
   "metadata": {
    "collapsed": false
   },
   "outputs": [
    {
     "data": {
      "text/plain": [
       "[21, 37, 53]"
      ]
     },
     "execution_count": 10,
     "metadata": {},
     "output_type": "execute_result"
    }
   ],
   "source": [
    "list(itertools.islice(odd_numbers(),10,30,8))"
   ]
  },
  {
   "cell_type": "markdown",
   "metadata": {},
   "source": [
    "## Generators of Recursive Sequences\n",
    "\n",
    "### Fibonacci Numbers"
   ]
  },
  {
   "cell_type": "code",
   "execution_count": 11,
   "metadata": {
    "collapsed": true
   },
   "outputs": [],
   "source": [
    "def fibonacci(u0, u1):\n",
    "    \"\"\"\n",
    "    Infinite generator of the Fibonacci sequence.\n",
    "    \"\"\"\n",
    "    yield u0\n",
    "    yield u1\n",
    "    while True:\n",
    "        u0, u1 = u1, u0+u1\n",
    "        yield u1"
   ]
  },
  {
   "cell_type": "code",
   "execution_count": 12,
   "metadata": {
    "collapsed": false
   },
   "outputs": [
    {
     "data": {
      "text/plain": [
       "[0, 1, 1, 2, 3, 5, 8, 13, 21, 34, 55, 89, 144, 233, 377]"
      ]
     },
     "execution_count": 12,
     "metadata": {},
     "output_type": "execute_result"
    }
   ],
   "source": [
    "list(itertools.islice(fibonacci(0, 1), 15))"
   ]
  },
  {
   "cell_type": "markdown",
   "metadata": {},
   "source": [
    "## Example: Arithmetic Geometric Mean"
   ]
  },
  {
   "cell_type": "code",
   "execution_count": 13,
   "metadata": {
    "collapsed": true
   },
   "outputs": [],
   "source": [
    "def arithmetic_geometric_mean(a, b):\n",
    "    \"\"\"\n",
    "    Generator for the arithmetic and geometric mean\n",
    "    a, b initial values\n",
    "    \"\"\" \n",
    "    while True:\t# infinite loop\n",
    "        a, b = (a+b)/2, sqrt(a*b)\n",
    "        yield a, b"
   ]
  },
  {
   "cell_type": "code",
   "execution_count": 14,
   "metadata": {
    "collapsed": true
   },
   "outputs": [],
   "source": [
    "from itertools import islice\n",
    "def elliptic_integral(k, tolerance=1e-5, maxiter=100):\n",
    "    \"\"\"\n",
    "    Compute an elliptic integral of the first kind.\n",
    "    \"\"\"\n",
    "    a_0, b_0 = 1., sqrt(1-k**2)\n",
    "    for a, b in islice(arithmetic_geometric_mean(a_0, b_0), maxiter):\n",
    "        if abs(a-b) < tolerance:\n",
    "            return pi/(2*a)\n",
    "    else:\n",
    "        raise Exception(\"Algorithm did not converge\")"
   ]
  },
  {
   "cell_type": "code",
   "execution_count": 15,
   "metadata": {
    "collapsed": true
   },
   "outputs": [],
   "source": [
    "def pendulum_period(L, theta, g=9.81):\n",
    "    return 4*sqrt(L/g)*elliptic_integral(sin(theta/2))"
   ]
  },
  {
   "cell_type": "code",
   "execution_count": 16,
   "metadata": {
    "collapsed": false
   },
   "outputs": [
    {
     "name": "stdout",
     "output_type": "stream",
     "text": [
      "Period of pendulum with length 1.5 and initial angle theta 22.5 degree is 2.5551310824\n"
     ]
    }
   ],
   "source": [
    "L=1.5\n",
    "theta=pi/4\n",
    "print('Period of pendulum with length {} and initial angle theta {} degree is'.format(L,theta*180/(2*pi)),\n",
    "                                                                                 pendulum_period(L,theta))"
   ]
  },
  {
   "cell_type": "markdown",
   "metadata": {},
   "source": [
    "## Convergence Acceleration"
   ]
  },
  {
   "cell_type": "code",
   "execution_count": 17,
   "metadata": {
    "collapsed": true
   },
   "outputs": [],
   "source": [
    "def Euler_accelerate(sequence):\n",
    "    \"\"\"\n",
    "    Accelerate the iterator in the variable `sequence`.\n",
    "    \"\"\"\n",
    "    s0 = next(sequence) # Si\n",
    "    s1 = next(sequence) # Si+1\n",
    "    s2 = next(sequence) # Si+2\n",
    "    while True:\n",
    "        yield s0 - ((s1 - s0)**2)/(s2 - 2*s1 + s0)\n",
    "        s0, s1, s2 = s1, s2, next(sequence)"
   ]
  },
  {
   "cell_type": "code",
   "execution_count": 18,
   "metadata": {
    "collapsed": true
   },
   "outputs": [],
   "source": [
    "def pi_series():\n",
    "    sum = 0.\n",
    "    j = 1\n",
    "    for i in itertools.cycle([1, -1]):\n",
    "        yield sum\n",
    "        sum += i/j\n",
    "        j += 2"
   ]
  },
  {
   "cell_type": "code",
   "execution_count": 19,
   "metadata": {
    "collapsed": false
   },
   "outputs": [
    {
     "data": {
      "text/plain": [
       "[0.75,\n",
       " 0.7916666666666667,\n",
       " 0.7833333333333334,\n",
       " 0.7863095238095239,\n",
       " 0.784920634920635,\n",
       " 0.7856782106782109,\n",
       " 0.7852203352203354,\n",
       " 0.7855179542679545,\n",
       " 0.7853137059019414,\n",
       " 0.7854599047323508]"
      ]
     },
     "execution_count": 19,
     "metadata": {},
     "output_type": "execute_result"
    }
   ],
   "source": [
    "N=10\n",
    "list(itertools.islice(Euler_accelerate(pi_series()), N))"
   ]
  },
  {
   "cell_type": "markdown",
   "metadata": {},
   "source": [
    "## Storing generated values when an exception is raised"
   ]
  },
  {
   "cell_type": "code",
   "execution_count": 20,
   "metadata": {
    "collapsed": true
   },
   "outputs": [],
   "source": [
    "import itertools\n",
    "def power_sequence(u0):\n",
    "    u = u0\n",
    "    while True:\n",
    "        yield u\n",
    "        u = u**2"
   ]
  },
  {
   "cell_type": "code",
   "execution_count": 21,
   "metadata": {
    "collapsed": false
   },
   "outputs": [
    {
     "name": "stdout",
     "output_type": "stream",
     "text": [
      "[2.0, 4.0, 16.0, 256.0, 65536.0, 4294967296.0, 1.8446744073709552e+19, 3.402823669209385e+38, 1.157920892373162e+77, 1.3407807929942597e+154]\n"
     ]
    }
   ],
   "source": [
    "generator = power_sequence(2.)\n",
    "L = []\n",
    "for iteration in range(20):\n",
    "    try:\n",
    "        L.append(next(generator))\n",
    "    except Exception:\n",
    "        break\n",
    "print(L)"
   ]
  },
  {
   "cell_type": "markdown",
   "metadata": {},
   "source": [
    "## When Iterators Behave as Lists\n",
    "\n",
    "### Generator expressions"
   ]
  },
  {
   "cell_type": "code",
   "execution_count": 22,
   "metadata": {
    "collapsed": true
   },
   "outputs": [],
   "source": [
    "g = (n for n in range(1000) if not n % 100)"
   ]
  },
  {
   "cell_type": "code",
   "execution_count": 23,
   "metadata": {
    "collapsed": false
   },
   "outputs": [
    {
     "name": "stdout",
     "output_type": "stream",
     "text": [
      "[0, 100, 200, 300, 400, 500, 600, 700, 800, 900]\n"
     ]
    }
   ],
   "source": [
    "print(list(g))"
   ]
  },
  {
   "cell_type": "code",
   "execution_count": 24,
   "metadata": {
    "collapsed": false
   },
   "outputs": [
    {
     "data": {
      "text/plain": [
       "4500"
      ]
     },
     "execution_count": 24,
     "metadata": {},
     "output_type": "execute_result"
    }
   ],
   "source": [
    "sum(n for n in range(1000) if not n % 100)"
   ]
  },
  {
   "cell_type": "markdown",
   "metadata": {},
   "source": [
    "#### $\\zeta$-function"
   ]
  },
  {
   "cell_type": "code",
   "execution_count": 25,
   "metadata": {
    "collapsed": false
   },
   "outputs": [
    {
     "data": {
      "text/plain": [
       "1.6439345666815615"
      ]
     },
     "execution_count": 25,
     "metadata": {},
     "output_type": "execute_result"
    }
   ],
   "source": [
    "def generate_zeta(s):\n",
    "    for n in itertools.count(1):\n",
    "        yield 1/n**s\n",
    "\n",
    "def zeta(N, s):\n",
    "    return sum(x for x in itertools.islice(generate_zeta(s), N))\n",
    "\n",
    "zeta(1000,2)"
   ]
  },
  {
   "cell_type": "markdown",
   "metadata": {},
   "source": [
    "## Iterator Objects\n",
    "\n",
    "### ODE store"
   ]
  },
  {
   "cell_type": "code",
   "execution_count": 26,
   "metadata": {
    "collapsed": false
   },
   "outputs": [
    {
     "name": "stdout",
     "output_type": "stream",
     "text": [
      "1\n",
      "1.1\n",
      "1.3\n"
     ]
    },
    {
     "data": {
      "text/plain": [
       "[1, 1.1, 1.3]"
      ]
     },
     "execution_count": 26,
     "metadata": {},
     "output_type": "execute_result"
    }
   ],
   "source": [
    "class OdeStore:\n",
    "    \"\"\"Class to store results of ode computations\"\"\"\n",
    "    def __init__(self, data):\n",
    "        \"data is a list of the form [[t0, u0], [t1, u1],...]\"\n",
    "        self.data = data\n",
    "    def __iter__(self):\n",
    "        \"By default, we iterate on the values u0, u1,...\"\n",
    "        for t, u in self.data:\n",
    "            yield u\n",
    "\n",
    "store = OdeStore([[0, 1], [0.1, 1.1], [0.2, 1.3]])\n",
    "for u in store:\n",
    "    print(u)\n",
    "list(store)"
   ]
  }
 ],
 "metadata": {
  "anaconda-cloud": {},
  "kernelspec": {
   "display_name": "Python [conda root]",
   "language": "python",
   "name": "conda-root-py"
  },
  "language_info": {
   "codemirror_mode": {
    "name": "ipython",
    "version": 3.0
   },
   "file_extension": ".py",
   "mimetype": "text/x-python",
   "name": "python",
   "nbconvert_exporter": "python",
   "pygments_lexer": "ipython3",
   "version": "3.5.2"
  }
 },
 "nbformat": 4,
 "nbformat_minor": 0
}