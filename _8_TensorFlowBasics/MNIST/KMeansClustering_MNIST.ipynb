{
 "cells": [
  {
   "cell_type": "markdown",
   "metadata": {
    "deletable": true,
    "editable": true
   },
   "source": [
    "# K-means Clustering using Handwritten Digits from the MNIST Dataset"
   ]
  },
  {
   "cell_type": "code",
   "execution_count": 2,
   "metadata": {
    "collapsed": true,
    "deletable": true,
    "editable": true
   },
   "outputs": [],
   "source": [
    "# To support both python 2 and python 3\n",
    "from __future__ import division, print_function, unicode_literals\n",
    "\n",
    "import numpy as np\n",
    "import tensorflow as tf\n",
    "\n",
    "from tensorflow.examples.tutorials.mnist import input_data"
   ]
  },
  {
   "cell_type": "markdown",
   "metadata": {
    "deletable": true,
    "editable": true
   },
   "source": [
    "### To plot pretty figures inline in the notebook"
   ]
  },
  {
   "cell_type": "code",
   "execution_count": 4,
   "metadata": {
    "collapsed": true,
    "deletable": true,
    "editable": true
   },
   "outputs": [],
   "source": [
    "%matplotlib inline\n",
    "import matplotlib\n",
    "import matplotlib.pyplot as plt"
   ]
  },
  {
   "cell_type": "code",
   "execution_count": 5,
   "metadata": {
    "collapsed": false,
    "deletable": true,
    "editable": true
   },
   "outputs": [
    {
     "name": "stdout",
     "output_type": "stream",
     "text": [
      "1.3.0\n",
      "1.13.1\n",
      "2.0.2\n"
     ]
    }
   ],
   "source": [
    "print(tf.__version__)\n",
    "print(np.__version__)\n",
    "print(matplotlib.__version__)"
   ]
  },
  {
   "cell_type": "markdown",
   "metadata": {
    "deletable": true,
    "editable": true
   },
   "source": [
    "### Store the MNIST data in \"mnist_data/\" in the current working directory"
   ]
  },
  {
   "cell_type": "code",
   "execution_count": 6,
   "metadata": {
    "collapsed": false,
    "deletable": true,
    "editable": true
   },
   "outputs": [
    {
     "name": "stdout",
     "output_type": "stream",
     "text": [
      "Extracting mnist_data/train-images-idx3-ubyte.gz\n",
      "Extracting mnist_data/train-labels-idx1-ubyte.gz\n",
      "Extracting mnist_data/t10k-images-idx3-ubyte.gz\n",
      "Extracting mnist_data/t10k-labels-idx1-ubyte.gz\n"
     ]
    }
   ],
   "source": [
    "mnist = input_data.read_data_sets(\"mnist_data/\")"
   ]
  },
  {
   "cell_type": "code",
   "execution_count": 7,
   "metadata": {
    "collapsed": true,
    "deletable": true,
    "editable": true
   },
   "outputs": [],
   "source": [
    "# Start with a 100 images in the training set and then try 2000\n",
    "training_digits, training_labels = mnist.train.next_batch(2000)\n",
    "\n",
    "test_digits, test_labels = mnist.test.next_batch(5)"
   ]
  },
  {
   "cell_type": "markdown",
   "metadata": {
    "deletable": true,
    "editable": true
   },
   "source": [
    "### Groups the entities passed in by cluster\n",
    "   * Takes in two 1-D arrays of cluster ids and original entities\n",
    "   * Returns a list of lists where all entities in one cluster are in one nested list "
   ]
  },
  {
   "cell_type": "code",
   "execution_count": 9,
   "metadata": {
    "collapsed": true,
    "deletable": true,
    "editable": true
   },
   "outputs": [],
   "source": [
    "def group_by_cluster(predicted_cluster_ids, original_entities):\n",
    "    cluster_groups = [[] for i in range(10)]\n",
    "    \n",
    "    for i in range(len(predicted_cluster_ids)):\n",
    "        cluster_id = predicted_cluster_ids[i]\n",
    "        cluster_groups[cluster_id].append(original_entities[i])\n",
    "    \n",
    "    return cluster_groups"
   ]
  },
  {
   "cell_type": "markdown",
   "metadata": {
    "deletable": true,
    "editable": true
   },
   "source": [
    "### Displays a digit inline on screen\n",
    "* Takes in a 1-D array of 784 pixels representing an image"
   ]
  },
  {
   "cell_type": "code",
   "execution_count": 10,
   "metadata": {
    "collapsed": true,
    "deletable": true,
    "editable": true
   },
   "outputs": [],
   "source": [
    "def display_digit(digit):\n",
    "    plt.imshow(digit.reshape(28, 28), cmap=\"Greys\", interpolation='nearest')"
   ]
  },
  {
   "cell_type": "code",
   "execution_count": 11,
   "metadata": {
    "collapsed": false,
    "deletable": true,
    "editable": true
   },
   "outputs": [
    {
     "data": {
      "image/png": "[encoded data removed]",
      "text/plain": [
       "<matplotlib.figure.Figure at 0x11ca53910>"
      ]
     },
     "metadata": {},
     "output_type": "display_data"
    }
   ],
   "source": [
    "display_digit(training_digits[0])"
   ]
  },
  {
   "cell_type": "code",
   "execution_count": 14,
   "metadata": {
    "collapsed": false,
    "deletable": true,
    "editable": true
   },
   "outputs": [],
   "source": [
    "from tensorflow.contrib.learn.python.learn.estimators import kmeans\n",
    "\n",
    "from tensorflow.contrib.factorization.python.ops import clustering_ops"
   ]
  },
  {
   "cell_type": "markdown",
   "metadata": {
    "deletable": true,
    "editable": true
   },
   "source": [
    "### Input function to generate features and labels for the estimator\n",
    "\n",
    "*This is an unsupervised algorithm so we generate only the features, labels is set to None*\n",
    "\n",
    "* The function takes in an array of MNIST images\n",
    "* Converts this array to a Tensor\n",
    "* Returns a tuple of features and labels"
   ]
  },
  {
   "cell_type": "code",
   "execution_count": 15,
   "metadata": {
    "collapsed": true,
    "deletable": true,
    "editable": true
   },
   "outputs": [],
   "source": [
    "def input_fn(digits):\n",
    "    input_t = tf.convert_to_tensor(digits, dtype=tf.float32)\n",
    "    \n",
    "    return (input_t, None)"
   ]
  },
  {
   "cell_type": "markdown",
   "metadata": {
    "deletable": true,
    "editable": true
   },
   "source": [
    "### TensorFlow documentation\n",
    "\n",
    "https://www.tensorflow.org/api_docs/python/tf/contrib/learn/KMeansClustering\n",
    "\n",
    "__init__(\n",
    "    num_clusters,\n",
    "    model_dir=None,\n",
    "    initial_clusters=RANDOM_INIT,\n",
    "    distance_metric=SQUARED_EUCLIDEAN_DISTANCE,\n",
    "    random_seed=0,\n",
    "    use_mini_batch=True,\n",
    "    mini_batch_steps_per_iteration=1,\n",
    "    kmeans_plus_plus_num_retries=2,\n",
    "    relative_tolerance=None,\n",
    "    config=None\n",
    ")"
   ]
  },
  {
   "cell_type": "code",
   "execution_count": 16,
   "metadata": {
    "collapsed": false,
    "deletable": true,
    "editable": true
   },
   "outputs": [
    {
     "name": "stdout",
     "output_type": "stream",
     "text": [
      "INFO:tensorflow:Using default config.\n",
      "WARNING:tensorflow:Using temporary folder as model directory: /var/folders/yd/1rlyjfk975d3bb98d7_nyt740000gn/T/tmp5M2bJK\n",
      "INFO:tensorflow:Using config: {'_save_checkpoints_secs': 600, '_num_ps_replicas': 0, '_keep_checkpoint_max': 5, '_task_type': None, '_is_chief': True, '_cluster_spec': <tensorflow.python.training.server_lib.ClusterSpec object at 0x11cafff10>, '_model_dir': '/var/folders/yd/1rlyjfk975d3bb98d7_nyt740000gn/T/tmp5M2bJK', '_save_checkpoints_steps': None, '_keep_checkpoint_every_n_hours': 10000, '_session_config': None, '_tf_random_seed': None, '_save_summary_steps': 100, '_environment': 'local', '_num_worker_replicas': 0, '_task_id': 0, '_log_step_count_steps': 100, '_tf_config': gpu_options {\n",
      "  per_process_gpu_memory_fraction: 1\n",
      "}\n",
      ", '_evaluation_master': '', '_master': ''}\n",
      "INFO:tensorflow:Create CheckpointSaverHook.\n",
      "INFO:tensorflow:Saving checkpoints for 1 into /var/folders/yd/1rlyjfk975d3bb98d7_nyt740000gn/T/tmp5M2bJK/model.ckpt.\n",
      "INFO:tensorflow:loss = 144308.0, step = 1\n",
      "INFO:tensorflow:global_step/sec: 284.079\n",
      "INFO:tensorflow:loss = 79251.9, step = 101 (0.353 sec)\n",
      "INFO:tensorflow:global_step/sec: 313.77\n",
      "INFO:tensorflow:loss = 79115.3, step = 201 (0.319 sec)\n",
      "INFO:tensorflow:global_step/sec: 324.649\n",
      "INFO:tensorflow:loss = 79046.0, step = 301 (0.308 sec)\n",
      "INFO:tensorflow:global_step/sec: 322.873\n",
      "INFO:tensorflow:loss = 79007.3, step = 401 (0.310 sec)\n",
      "INFO:tensorflow:global_step/sec: 316.833\n",
      "INFO:tensorflow:loss = 78983.2, step = 501 (0.316 sec)\n",
      "INFO:tensorflow:global_step/sec: 329.261\n",
      "INFO:tensorflow:loss = 78963.9, step = 601 (0.304 sec)\n",
      "INFO:tensorflow:global_step/sec: 304.951\n",
      "INFO:tensorflow:loss = 78948.6, step = 701 (0.328 sec)\n",
      "INFO:tensorflow:global_step/sec: 297.106\n",
      "INFO:tensorflow:loss = 78935.8, step = 801 (0.337 sec)\n",
      "INFO:tensorflow:global_step/sec: 319.958\n",
      "INFO:tensorflow:loss = 78923.8, step = 901 (0.312 sec)\n",
      "INFO:tensorflow:Saving checkpoints for 1000 into /var/folders/yd/1rlyjfk975d3bb98d7_nyt740000gn/T/tmp5M2bJK/model.ckpt.\n",
      "INFO:tensorflow:Loss for final step: 78914.8.\n"
     ]
    }
   ],
   "source": [
    "k_means_estimator = kmeans.KMeansClustering(num_clusters=10)\n",
    "\n",
    "# Start with a 1000 steps and then try 10000\n",
    "fit = k_means_estimator.fit(input_fn=lambda: input_fn(training_digits), steps=1000)"
   ]
  },
  {
   "cell_type": "code",
   "execution_count": 17,
   "metadata": {
    "collapsed": false,
    "deletable": true,
    "editable": true
   },
   "outputs": [],
   "source": [
    "clusters = k_means_estimator.clusters()"
   ]
  },
  {
   "cell_type": "markdown",
   "metadata": {
    "deletable": true,
    "editable": true
   },
   "source": [
    "### Plot the image representations of the centroids of the clusters\n",
    "*Note that these may not be actual images in our training data*"
   ]
  },
  {
   "cell_type": "code",
   "execution_count": 20,
   "metadata": {
    "collapsed": false,
    "deletable": true,
    "editable": true
   },
   "outputs": [
    {
     "data": {
      "image/png": "[encoded data removed]",
      "text/plain": [
       "<matplotlib.figure.Figure at 0x10e259c50>"
      ]
     },
     "metadata": {},
     "output_type": "display_data"
    }
   ],
   "source": [
    "for i in range(10):\n",
    "    plt.subplot(2, 5, i + 1)\n",
    "    display_digit(clusters[i])"
   ]
  },
  {
   "cell_type": "markdown",
   "metadata": {
    "deletable": true,
    "editable": true
   },
   "source": [
    "### Manually identify the image corresponding to each cluster\n",
    "\n",
    "*Note that your cluster labels need not be unique. If some digits are over-represented in the training dataset then you might have more than one cluster labelled with that digit*"
   ]
  },
  {
   "cell_type": "code",
   "execution_count": 21,
   "metadata": {
    "collapsed": true,
    "deletable": true,
    "editable": true
   },
   "outputs": [],
   "source": [
    "cluster_labels = [7, 6, 8, 1, 3, 2, 9, 8, 8, 0]"
   ]
  },
  {
   "cell_type": "markdown",
   "metadata": {
    "deletable": true,
    "editable": true
   },
   "source": [
    "### Display the images which we are going to test\n",
    "* We'll predict what the labels of these images are"
   ]
  },
  {
   "cell_type": "code",
   "execution_count": 22,
   "metadata": {
    "collapsed": false,
    "deletable": true,
    "editable": true
   },
   "outputs": [
    {
     "data": {
      "image/png": "[encoded data removed]",
      "text/plain": [
       "<matplotlib.figure.Figure at 0x11f204c90>"
      ]
     },
     "metadata": {},
     "output_type": "display_data"
    }
   ],
   "source": [
    "for i in range(5):\n",
    "    plt.subplot(1, 5, i + 1)\n",
    "    display_digit(test_digits[i])"
   ]
  },
  {
   "cell_type": "markdown",
   "metadata": {
    "deletable": true,
    "editable": true
   },
   "source": [
    "### Predict clusters for each of the images in the test data"
   ]
  },
  {
   "cell_type": "code",
   "execution_count": 23,
   "metadata": {
    "collapsed": false,
    "deletable": true,
    "editable": true
   },
   "outputs": [
    {
     "name": "stdout",
     "output_type": "stream",
     "text": [
      "WARNING:tensorflow:From <ipython-input-23-a3674f680cde>:1: calling predict (from tensorflow.contrib.learn.python.learn.estimators.estimator) with as_iterable is deprecated and will be removed after 2016-12-01.\n",
      "Instructions for updating:\n",
      "Estimator is decoupled from Scikit Learn interface by moving into\n",
      "separate class SKCompat. Arguments x, y and batch_size are only\n",
      "available in the SKCompat class, Estimator will only accept input_fn.\n",
      "Example conversion:\n",
      "  est = Estimator(...) -> est = SKCompat(Estimator(...))\n",
      "INFO:tensorflow:Restoring parameters from /var/folders/yd/1rlyjfk975d3bb98d7_nyt740000gn/T/tmp5M2bJK/model.ckpt-1000\n"
     ]
    },
    {
     "data": {
      "text/plain": [
       "{'all_scores': array([[ 132.34635925,  101.32859802,  118.14146423,  125.25869751,\n",
       "           97.40529633,   85.19303894,  110.75066376,  128.5990448 ,\n",
       "           95.13679504,   53.3062973 ],\n",
       "        [  86.36109924,   37.89138794,   82.91835022,   97.28290558,\n",
       "           84.71691132,   66.86811829,   82.81247711,   87.62355042,\n",
       "           96.58830261,   72.23059845],\n",
       "        [  50.5413208 ,   72.8505249 ,   41.75234222,   51.98039246,\n",
       "           73.8536911 ,   77.04344177,   72.86149597,   63.92882156,\n",
       "           84.09811401,   86.15518188],\n",
       "        [  46.16286469,   47.87290192,   51.74154663,   61.10998535,\n",
       "           59.02696991,   54.38568497,   40.41819   ,   40.186306  ,\n",
       "           66.98754883,   86.67405701],\n",
       "        [  98.37063599,   67.73192596,   70.27310181,   62.08139801,\n",
       "           48.08563995,   52.36715317,   94.09851074,   67.70155334,\n",
       "           56.65057373,   84.39874268]], dtype=float32),\n",
       " 'cluster_idx': array([9, 1, 2, 7, 4])}"
      ]
     },
     "execution_count": 23,
     "metadata": {},
     "output_type": "execute_result"
    }
   ],
   "source": [
    "predict = k_means_estimator.predict(input_fn=lambda: input_fn(test_digits), as_iterable=False)\n",
    "predict"
   ]
  },
  {
   "cell_type": "markdown",
   "metadata": {
    "deletable": true,
    "editable": true
   },
   "source": [
    "### Compare how good the predictions were\n",
    "* Display the digit we associate with each cluster\n",
    "* Display the actual image for each test data (so we know the actual digit)\n",
    "\n",
    "*Notice that this performs really badly*"
   ]
  },
  {
   "cell_type": "code",
   "execution_count": 25,
   "metadata": {
    "collapsed": false,
    "deletable": true,
    "editable": true
   },
   "outputs": [
    {
     "name": "stdout",
     "output_type": "stream",
     "text": [
      "[0, 6, 8, 8, 3]\n"
     ]
    },
    {
     "data": {
      "image/png": "[encoded data removed]",
      "text/plain": [
       "<matplotlib.figure.Figure at 0x11fafab10>"
      ]
     },
     "metadata": {},
     "output_type": "display_data"
    }
   ],
   "source": [
    "print([cluster_labels[i] for i in predict['cluster_idx']])\n",
    "\n",
    "for i in range(5):\n",
    "    plt.subplot(1, 5, i + 1)\n",
    "    display_digit(test_digits[i])"
   ]
  },
  {
   "cell_type": "markdown",
   "metadata": {
    "deletable": true,
    "editable": true
   },
   "source": [
    "## <span style=\"color:blue\"> Measuring how good our predictions are using image labels </span>\n",
    "* Accuracy of the predictions on the training dataset, using **manually assigned labels** to each cluster\n",
    "* Measuring the **mean** and **standard deviation** of the image labels in each cluster *(mean should be a unique digit from 0-9 and standard deviation should be 0 for perfect clustering)*\n",
    "* Measure the **mode** of the image labels in each cluster *(the mode should be a unique digit from 0-9)*"
   ]
  },
  {
   "cell_type": "markdown",
   "metadata": {
    "deletable": true,
    "editable": true
   },
   "source": [
    "### We've not used it yet but we still have the labels for each of our training (and test) images"
   ]
  },
  {
   "cell_type": "code",
   "execution_count": 26,
   "metadata": {
    "collapsed": false,
    "deletable": true,
    "editable": true
   },
   "outputs": [
    {
     "data": {
      "text/plain": [
       "array([3, 3, 9, 5, 8], dtype=uint8)"
      ]
     },
     "execution_count": 26,
     "metadata": {},
     "output_type": "execute_result"
    }
   ],
   "source": [
    "training_labels[:5]"
   ]
  },
  {
   "cell_type": "markdown",
   "metadata": {
    "deletable": true,
    "editable": true
   },
   "source": [
    "### Predict clusters for our training data\n",
    "* Use this to group all the training data by cluster\n",
    "* We'll use the labels we previously assigned manually to each cluster (by guessing what digit each centroid's image represented)"
   ]
  },
  {
   "cell_type": "code",
   "execution_count": 27,
   "metadata": {
    "collapsed": false,
    "deletable": true,
    "editable": true
   },
   "outputs": [
    {
     "name": "stdout",
     "output_type": "stream",
     "text": [
      "WARNING:tensorflow:From <ipython-input-27-dd315b5d1822>:1: calling predict (from tensorflow.contrib.learn.python.learn.estimators.estimator) with as_iterable is deprecated and will be removed after 2016-12-01.\n",
      "Instructions for updating:\n",
      "Estimator is decoupled from Scikit Learn interface by moving into\n",
      "separate class SKCompat. Arguments x, y and batch_size are only\n",
      "available in the SKCompat class, Estimator will only accept input_fn.\n",
      "Example conversion:\n",
      "  est = Estimator(...) -> est = SKCompat(Estimator(...))\n",
      "INFO:tensorflow:Restoring parameters from /var/folders/yd/1rlyjfk975d3bb98d7_nyt740000gn/T/tmp5M2bJK/model.ckpt-1000\n"
     ]
    }
   ],
   "source": [
    "predict_train = k_means_estimator.predict(input_fn=lambda: input_fn(training_digits), as_iterable=False)"
   ]
  },
  {
   "cell_type": "markdown",
   "metadata": {
    "deletable": true,
    "editable": true
   },
   "source": [
    "### Get the predicted labels for each of training dataset\n",
    "* We've manually assigned a label to each cluster by observing the centroid image\n",
    "* Once we know which cluster each image belongs to the label for that cluster becomes the prediction for the training data"
   ]
  },
  {
   "cell_type": "code",
   "execution_count": 30,
   "metadata": {
    "collapsed": false,
    "deletable": true,
    "editable": true
   },
   "outputs": [],
   "source": [
    "def display_accuracy(cluster_labels, cluster_idx, actual_labels):\n",
    "    predict_labels = [cluster_labels[i] for i in cluster_idx]\n",
    "    num_accurate_predictions = (list(predict_labels == actual_labels)).count(True)\n",
    "\n",
    "    print(\"Number of accurate predictions: \", num_accurate_predictions)\n",
    "    \n",
    "    pctAccuracy = float(num_accurate_predictions) / float(len(actual_labels))\n",
    "\n",
    "    print(\"% accurate predictions: \", pctAccuracy)\n"
   ]
  },
  {
   "cell_type": "code",
   "execution_count": 31,
   "metadata": {
    "collapsed": false,
    "deletable": true,
    "editable": true
   },
   "outputs": [
    {
     "name": "stdout",
     "output_type": "stream",
     "text": [
      "Number of accurate predictions:  1085\n",
      "% accurate predictions:  0.5425\n"
     ]
    }
   ],
   "source": [
    "display_accuracy(cluster_labels, predict_train['cluster_idx'], training_labels)"
   ]
  },
  {
   "cell_type": "markdown",
   "metadata": {
    "deletable": true,
    "editable": true
   },
   "source": [
    "### Get the mean and standard deviation of the image labels in each cluster\n",
    "\n",
    "A good clustering will have\n",
    "\n",
    "* A unique mean for each cluster and each mean will be close to one of the digits 0-9\n",
    "* A standard deviation of 0 or close to 0"
   ]
  },
  {
   "cell_type": "code",
   "execution_count": 35,
   "metadata": {
    "collapsed": false,
    "deletable": true,
    "editable": true
   },
   "outputs": [
    {
     "name": "stdout",
     "output_type": "stream",
     "text": [
      "Mean:  [6.7857142857142856, 5.4748603351955305, 5.978494623655914, 2.3633540372670807, 3.7719298245614037, 2.1133333333333333, 5.8798076923076925, 6.176211453744493, 4.0149253731343286, 0.14685314685314685]\n",
      "Standard deviation:  [1.9283068601596518, 1.5725239853192563, 2.5588912863899655, 2.322244294663808, 1.9104288474162863, 0.62755256530606462, 2.2574611253017229, 2.5386453964032443, 2.4616008461515682, 0.93836669557120911]\n"
     ]
    }
   ],
   "source": [
    "def display_cluster_mean_std_dev(training_cluster_ids, training_labels):\n",
    "    cluster_grouped_labels = group_by_cluster(training_cluster_ids, training_labels)\n",
    "\n",
    "    mean = [[] for i in range(10)]\n",
    "    std_dev = [[] for i in range(10)]\n",
    "\n",
    "    for i in range(10):\n",
    "        mean[i] = np.mean(cluster_grouped_labels[i])\n",
    "        std_dev[i] = np.std(cluster_grouped_labels[i])\n",
    "        \n",
    "    print(\"Mean: \", mean)\n",
    "    print(\"Standard deviation: \", std_dev)\n",
    "    \n",
    "display_cluster_mean_std_dev(predict_train['cluster_idx'], training_labels)"
   ]
  },
  {
   "cell_type": "markdown",
   "metadata": {
    "deletable": true,
    "editable": true
   },
   "source": [
    "### Get the mode of the image labels in each cluster\n",
    "A good clustering will have\n",
    "* A unique mode for each cluster and each mode will be one of the digits 0-9"
   ]
  },
  {
   "cell_type": "code",
   "execution_count": 37,
   "metadata": {
    "collapsed": false,
    "deletable": true,
    "editable": true
   },
   "outputs": [
    {
     "data": {
      "text/plain": [
       "[7, 6, 8, 1, 3, 2, 4, 8, 3, 0]"
      ]
     },
     "execution_count": 37,
     "metadata": {},
     "output_type": "execute_result"
    }
   ],
   "source": [
    "from scipy import stats\n",
    "def get_cluster_mode(training_cluster_ids, training_labels):\n",
    "    cluster_group = group_by_cluster(training_cluster_ids, training_labels)\n",
    "\n",
    "    mode = [[] for i in range(10)]\n",
    "\n",
    "    # The mode of the image labels in each cluster\n",
    "    for i in range(10):\n",
    "        mode[i] = stats.mode(cluster_group[i])[0][0]\n",
    "    \n",
    "    return mode\n",
    "    \n",
    "get_cluster_mode(predict_train['cluster_idx'], training_labels)"
   ]
  },
  {
   "cell_type": "code",
   "execution_count": 39,
   "metadata": {
    "collapsed": false
   },
   "outputs": [
    {
     "name": "stdout",
     "output_type": "stream",
     "text": [
      "[7, 6, 8, 1, 3, 2, 9, 8, 8, 0]\n"
     ]
    }
   ],
   "source": [
    "print(cluster_labels)"
   ]
  },
  {
   "cell_type": "markdown",
   "metadata": {
    "deletable": true,
    "editable": true
   },
   "source": [
    "## <span style=\"color:blue\"> Will predictions improve if we use actual images rather than labels? </span>\n",
    "* Find the average image by finding the mean of actual pixel values, this should be the **same as the cluster centers**\n",
    "* Find the mode of the image by finding the mode of the actual pixel values, check if this gives us better predictions"
   ]
  },
  {
   "cell_type": "code",
   "execution_count": 40,
   "metadata": {
    "collapsed": false,
    "deletable": true,
    "editable": true
   },
   "outputs": [],
   "source": [
    "def get_cluster_image_mean(training_cluster_ids, training_digits):\n",
    "    cluster_group = group_by_cluster(training_cluster_ids, training_digits)\n",
    "\n",
    "    image_mean = []\n",
    "\n",
    "    for i in range(10):\n",
    "        avg_img = np.mean(cluster_group[i], axis = 0)\n",
    "        image_mean.append(avg_img)\n",
    "        \n",
    "    return image_mean\n",
    "\n",
    "image_mean = get_cluster_image_mean(predict_train['cluster_idx'], training_digits)"
   ]
  },
  {
   "cell_type": "markdown",
   "metadata": {
    "deletable": true,
    "editable": true
   },
   "source": [
    "### Check how the average image looks\n",
    "This should be the same image as when we displayed the cluster centers"
   ]
  },
  {
   "cell_type": "code",
   "execution_count": 41,
   "metadata": {
    "collapsed": false,
    "deletable": true,
    "editable": true
   },
   "outputs": [
    {
     "data": {
      "image/png": "[encoded data removed]",
      "text/plain": [
       "<matplotlib.figure.Figure at 0x11d6e37d0>"
      ]
     },
     "metadata": {},
     "output_type": "display_data"
    }
   ],
   "source": [
    "for i in range(10):\n",
    "    plt.subplot(2, 5, i + 1)\n",
    "    display_digit(image_mean[i])"
   ]
  },
  {
   "cell_type": "markdown",
   "metadata": {
    "deletable": true,
    "editable": true
   },
   "source": [
    "### Plot the cluster center images side-by-side with the average image we calculated pixel by pixel"
   ]
  },
  {
   "cell_type": "code",
   "execution_count": 42,
   "metadata": {
    "collapsed": false,
    "deletable": true,
    "editable": true
   },
   "outputs": [
    {
     "data": {
      "image/png": "[encoded data removed]",
      "text/plain": [
       "<matplotlib.figure.Figure at 0x11d7b7510>"
      ]
     },
     "metadata": {},
     "output_type": "display_data"
    }
   ],
   "source": [
    "for i in range(10):\n",
    "    plt.subplot(10, 2, i*2 + 1)\n",
    "    display_digit(image_mean[i])\n",
    "    plt.subplot(10, 2, i*2 + 2)\n",
    "    display_digit(clusters[i])"
   ]
  },
  {
   "cell_type": "markdown",
   "metadata": {
    "deletable": true,
    "editable": true
   },
   "source": [
    "### Calculate the mode value, pixel-by-pixel for images in each cluster"
   ]
  },
  {
   "cell_type": "code",
   "execution_count": 43,
   "metadata": {
    "collapsed": false,
    "deletable": true,
    "editable": true
   },
   "outputs": [],
   "source": [
    "from scipy import stats\n",
    "def get_cluster_image_mode(training_cluster_ids, training_digits):\n",
    "    cluster_group = group_by_cluster(training_cluster_ids, training_digits)\n",
    "\n",
    "    image_mode = []\n",
    "\n",
    "    for i in range(10):\n",
    "        mode_img = stats.mode(cluster_group[i], axis=0)[0][0]\n",
    "        image_mode.append(mode_img)\n",
    "        \n",
    "    return image_mode\n",
    "\n",
    "image_mode = get_cluster_image_mode(predict_train['cluster_idx'], training_digits)"
   ]
  },
  {
   "cell_type": "markdown",
   "metadata": {
    "deletable": true,
    "editable": true
   },
   "source": [
    "### Plot the images we get as a result of the mode operation\n",
    "Note that there is no discernable pattern, clearly using the image pixels itself does not improve the quality of the prediction"
   ]
  },
  {
   "cell_type": "code",
   "execution_count": 44,
   "metadata": {
    "collapsed": false,
    "deletable": true,
    "editable": true
   },
   "outputs": [
    {
     "data": {
      "image/png": "[encoded data removed]",
      "text/plain": [
       "<matplotlib.figure.Figure at 0x11d549bd0>"
      ]
     },
     "metadata": {},
     "output_type": "display_data"
    }
   ],
   "source": [
    "for i in range(10):\n",
    "    plt.subplot(2, 5, i + 1)\n",
    "    display_digit(image_mode[i])"
   ]
  },
  {
   "cell_type": "code",
   "execution_count": null,
   "metadata": {
    "collapsed": true,
    "deletable": true,
    "editable": true
   },
   "outputs": [],
   "source": []
  },
  {
   "cell_type": "code",
   "execution_count": null,
   "metadata": {
    "collapsed": true,
    "deletable": true,
    "editable": true
   },
   "outputs": [],
   "source": []
  },
  {
   "cell_type": "code",
   "execution_count": null,
   "metadata": {
    "collapsed": true,
    "deletable": true,
    "editable": true
   },
   "outputs": [],
   "source": []
  },
  {
   "cell_type": "code",
   "execution_count": null,
   "metadata": {
    "collapsed": true,
    "deletable": true,
    "editable": true
   },
   "outputs": [],
   "source": []
  }
 ],
 "metadata": {
  "kernelspec": {
   "display_name": "Python 2",
   "language": "python",
   "name": "python2"
  },
  "language_info": {
   "codemirror_mode": {
    "name": "ipython",
    "version": 2
   },
   "file_extension": ".py",
   "mimetype": "text/x-python",
   "name": "python",
   "nbconvert_exporter": "python",
   "pygments_lexer": "ipython2",
   "version": "2.7.11"
  }
 },
 "nbformat": 4,
 "nbformat_minor": 2
}
