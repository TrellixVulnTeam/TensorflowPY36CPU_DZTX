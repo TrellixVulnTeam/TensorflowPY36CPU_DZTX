{
 "cells": [
  {
   "cell_type": "markdown",
   "metadata": {
    "deletable": true,
    "editable": true
   },
   "source": [
    "# K-means Clustering using Simple 1-D Arrays"
   ]
  },
  {
   "cell_type": "code",
   "execution_count": 3,
   "metadata": {
    "collapsed": true,
    "deletable": true,
    "editable": true
   },
   "outputs": [],
   "source": [
    "# To support both python 2 and python 3\n",
    "from __future__ import division, print_function, unicode_literals\n",
    "\n",
    "import numpy as np\n",
    "import tensorflow as tf"
   ]
  },
  {
   "cell_type": "markdown",
   "metadata": {
    "deletable": true,
    "editable": true
   },
   "source": [
    "### To plot pretty figures inline in the notebook"
   ]
  },
  {
   "cell_type": "code",
   "execution_count": 6,
   "metadata": {
    "collapsed": true,
    "deletable": true,
    "editable": true
   },
   "outputs": [],
   "source": [
    "%matplotlib inline\n",
    "import matplotlib\n",
    "import matplotlib.pyplot as plt"
   ]
  },
  {
   "cell_type": "code",
   "execution_count": 7,
   "metadata": {
    "collapsed": false,
    "deletable": true,
    "editable": true
   },
   "outputs": [
    {
     "name": "stdout",
     "output_type": "stream",
     "text": [
      "Requirement already up-to-date: tensorflow in /usr/local/lib/python2.7/site-packages\n",
      "Requirement already up-to-date: six>=1.10.0 in /usr/local/lib/python2.7/site-packages (from tensorflow)\n",
      "Requirement already up-to-date: tensorflow-tensorboard<0.2.0,>=0.1.0 in /usr/local/lib/python2.7/site-packages (from tensorflow)\n",
      "Requirement already up-to-date: numpy>=1.11.0 in /usr/local/lib/python2.7/site-packages (from tensorflow)\n",
      "Requirement already up-to-date: mock>=2.0.0 in /usr/local/lib/python2.7/site-packages (from tensorflow)\n",
      "Requirement already up-to-date: protobuf>=3.3.0 in /usr/local/lib/python2.7/site-packages (from tensorflow)\n",
      "Requirement already up-to-date: wheel in /usr/local/lib/python2.7/site-packages (from tensorflow)\n",
      "Requirement already up-to-date: backports.weakref>=1.0rc1 in /usr/local/lib/python2.7/site-packages (from tensorflow)\n",
      "Requirement already up-to-date: werkzeug>=0.11.10 in /usr/local/lib/python2.7/site-packages (from tensorflow-tensorboard<0.2.0,>=0.1.0->tensorflow)\n",
      "Requirement already up-to-date: markdown>=2.6.8 in /usr/local/lib/python2.7/site-packages (from tensorflow-tensorboard<0.2.0,>=0.1.0->tensorflow)\n",
      "Requirement already up-to-date: bleach==1.5.0 in /usr/local/lib/python2.7/site-packages (from tensorflow-tensorboard<0.2.0,>=0.1.0->tensorflow)\n",
      "Requirement already up-to-date: html5lib==0.9999999 in /usr/local/lib/python2.7/site-packages (from tensorflow-tensorboard<0.2.0,>=0.1.0->tensorflow)\n",
      "Requirement already up-to-date: funcsigs>=1; python_version < \"3.3\" in /usr/local/lib/python2.7/site-packages (from mock>=2.0.0->tensorflow)\n",
      "Requirement already up-to-date: pbr>=0.11 in /usr/local/lib/python2.7/site-packages (from mock>=2.0.0->tensorflow)\n",
      "Requirement already up-to-date: setuptools in /usr/local/lib/python2.7/site-packages (from protobuf>=3.3.0->tensorflow)\n",
      "1.3.0\n",
      "1.13.1\n",
      "2.0.2\n"
     ]
    }
   ],
   "source": [
    "!pip install --upgrade tensorflow\n",
    "print(tf.__version__)\n",
    "print(np.__version__)\n",
    "print(matplotlib.__version__)"
   ]
  },
  {
   "cell_type": "markdown",
   "metadata": {
    "deletable": true,
    "editable": true
   },
   "source": [
    "### Set up any 1-D array at random\n",
    "\n",
    "* Notice that this data is clustered around 0-10 and around 80-120"
   ]
  },
  {
   "cell_type": "code",
   "execution_count": 8,
   "metadata": {
    "collapsed": true,
    "deletable": true,
    "editable": true
   },
   "outputs": [],
   "source": [
    "input_1d_x = np.array([1, 2, 3.0, 4, 5, 126, 21, 33, 6, 73.0, 2, 3, 56, 98, 100, 4, 8, 33, 102], dtype=np.float32)"
   ]
  },
  {
   "cell_type": "markdown",
   "metadata": {
    "deletable": true,
    "editable": true
   },
   "source": [
    "### Input function to generate features and labels for the estimator\n",
    "\n",
    "*This is an unsupervised algorithm so we generate only the features, labels is set to None*\n",
    "\n",
    "* The function takes in a 1-D array as an input and converts it to a Tensor\n",
    "* Expands its dimensions [1, 2, 3] -> [[1], [2], [3]] to get a feature vector\n",
    "* Returns a tuple of features and labels"
   ]
  },
  {
   "cell_type": "code",
   "execution_count": 12,
   "metadata": {
    "collapsed": true,
    "deletable": true,
    "editable": true
   },
   "outputs": [],
   "source": [
    "def input_fn_1d(input_1d):\n",
    "    input_t = tf.convert_to_tensor(input_1d, dtype=tf.float32)\n",
    "    input_t = tf.expand_dims(input_t, 1)\n",
    "    \n",
    "    return (input_t, None)"
   ]
  },
  {
   "cell_type": "code",
   "execution_count": 13,
   "metadata": {
    "collapsed": false,
    "deletable": true,
    "editable": true
   },
   "outputs": [
    {
     "data": {
      "image/png": "[encoded data removed]",
      "text/plain": [
       "<matplotlib.figure.Figure at 0x117c9e1d0>"
      ]
     },
     "metadata": {},
     "output_type": "display_data"
    }
   ],
   "source": [
    "plt.scatter(input_1d_x, np.zeros_like(input_1d_x), s=500)\n",
    "plt.show()"
   ]
  },
  {
   "cell_type": "code",
   "execution_count": 14,
   "metadata": {
    "collapsed": false,
    "deletable": true,
    "editable": true
   },
   "outputs": [],
   "source": [
    "from tensorflow.contrib.learn.python.learn.estimators import kmeans"
   ]
  },
  {
   "cell_type": "markdown",
   "metadata": {
    "deletable": true,
    "editable": true
   },
   "source": [
    "### TensorFlow documentation\n",
    "\n",
    "https://www.tensorflow.org/api_docs/python/tf/contrib/learn/KMeansClustering\n",
    "\n",
    "__init__(\n",
    "    num_clusters,\n",
    "    model_dir=None,\n",
    "    initial_clusters=RANDOM_INIT,\n",
    "    distance_metric=SQUARED_EUCLIDEAN_DISTANCE,\n",
    "    random_seed=0,\n",
    "    use_mini_batch=True,\n",
    "    mini_batch_steps_per_iteration=1,\n",
    "    kmeans_plus_plus_num_retries=2,\n",
    "    relative_tolerance=None,\n",
    "    config=None\n",
    ")"
   ]
  },
  {
   "cell_type": "code",
   "execution_count": 20,
   "metadata": {
    "collapsed": false,
    "deletable": true,
    "editable": true
   },
   "outputs": [
    {
     "name": "stdout",
     "output_type": "stream",
     "text": [
      "INFO:tensorflow:Using default config.\n",
      "WARNING:tensorflow:Using temporary folder as model directory: /var/folders/yd/1rlyjfk975d3bb98d7_nyt740000gn/T/tmpsUkkyJ\n",
      "INFO:tensorflow:Using config: {'_save_checkpoints_secs': 600, '_num_ps_replicas': 0, '_keep_checkpoint_max': 5, '_task_type': None, '_is_chief': True, '_cluster_spec': <tensorflow.python.training.server_lib.ClusterSpec object at 0x11bafe090>, '_model_dir': '/var/folders/yd/1rlyjfk975d3bb98d7_nyt740000gn/T/tmpsUkkyJ', '_save_checkpoints_steps': None, '_keep_checkpoint_every_n_hours': 10000, '_session_config': None, '_tf_random_seed': None, '_save_summary_steps': 100, '_environment': 'local', '_num_worker_replicas': 0, '_task_id': 0, '_log_step_count_steps': 100, '_tf_config': gpu_options {\n",
      "  per_process_gpu_memory_fraction: 1\n",
      "}\n",
      ", '_evaluation_master': '', '_master': ''}\n",
      "INFO:tensorflow:Create CheckpointSaverHook.\n",
      "INFO:tensorflow:Saving checkpoints for 1 into /var/folders/yd/1rlyjfk975d3bb98d7_nyt740000gn/T/tmpsUkkyJ/model.ckpt.\n",
      "INFO:tensorflow:loss = 5915.0, step = 1\n",
      "INFO:tensorflow:global_step/sec: 1453.76\n",
      "INFO:tensorflow:loss = 4612.58, step = 101 (0.071 sec)\n",
      "INFO:tensorflow:global_step/sec: 1480.23\n",
      "INFO:tensorflow:loss = 4612.58, step = 201 (0.067 sec)\n",
      "INFO:tensorflow:global_step/sec: 1521.86\n",
      "INFO:tensorflow:loss = 4612.58, step = 301 (0.066 sec)\n",
      "INFO:tensorflow:global_step/sec: 1447.43\n",
      "INFO:tensorflow:loss = 4612.58, step = 401 (0.070 sec)\n",
      "INFO:tensorflow:global_step/sec: 1414.65\n",
      "INFO:tensorflow:loss = 4612.58, step = 501 (0.070 sec)\n",
      "INFO:tensorflow:global_step/sec: 1349.97\n",
      "INFO:tensorflow:loss = 4612.58, step = 601 (0.074 sec)\n",
      "INFO:tensorflow:global_step/sec: 1394.41\n",
      "INFO:tensorflow:loss = 4612.58, step = 701 (0.072 sec)\n",
      "INFO:tensorflow:global_step/sec: 1383.95\n",
      "INFO:tensorflow:loss = 4612.58, step = 801 (0.072 sec)\n",
      "INFO:tensorflow:global_step/sec: 1299.65\n",
      "INFO:tensorflow:loss = 4612.58, step = 901 (0.077 sec)\n",
      "INFO:tensorflow:Saving checkpoints for 1000 into /var/folders/yd/1rlyjfk975d3bb98d7_nyt740000gn/T/tmpsUkkyJ/model.ckpt.\n",
      "INFO:tensorflow:Loss for final step: 4612.58.\n"
     ]
    }
   ],
   "source": [
    "k_means_estimator = kmeans.KMeansClustering(num_clusters=2)\n",
    "\n",
    "fit = k_means_estimator.fit(input_fn=lambda: input_fn_1d(input_1d_x), steps=1000)"
   ]
  },
  {
   "cell_type": "markdown",
   "metadata": {
    "deletable": true,
    "editable": true
   },
   "source": [
    "### The centroids of the clusters"
   ]
  },
  {
   "cell_type": "code",
   "execution_count": 21,
   "metadata": {
    "collapsed": false,
    "deletable": true,
    "editable": true
   },
   "outputs": [
    {
     "data": {
      "text/plain": [
       "array([[  9.61472225],\n",
       "       [ 92.50209045]], dtype=float32)"
      ]
     },
     "execution_count": 21,
     "metadata": {},
     "output_type": "execute_result"
    }
   ],
   "source": [
    "clusters_1d = k_means_estimator.clusters()\n",
    "clusters_1d"
   ]
  },
  {
   "cell_type": "markdown",
   "metadata": {
    "deletable": true,
    "editable": true
   },
   "source": [
    "### Plot the cluster centers along with the points "
   ]
  },
  {
   "cell_type": "code",
   "execution_count": 22,
   "metadata": {
    "collapsed": false,
    "deletable": true,
    "editable": true
   },
   "outputs": [
    {
     "data": {
      "image/png": "[encoded data removed]",
      "text/plain": [
       "<matplotlib.figure.Figure at 0x117c92950>"
      ]
     },
     "metadata": {},
     "output_type": "display_data"
    }
   ],
   "source": [
    "fig = plt.figure()\n",
    "ax1 = fig.add_subplot(111)\n",
    "\n",
    "ax1.scatter(input_1d_x, np.zeros_like(input_1d_x), s=300, marker='o')\n",
    "ax1.scatter(clusters_1d, np.zeros_like(clusters_1d), c='r', s=200, marker='s')\n",
    "\n",
    "plt.show()"
   ]
  },
  {
   "cell_type": "code",
   "execution_count": 23,
   "metadata": {
    "collapsed": false,
    "deletable": true,
    "editable": true
   },
   "outputs": [
    {
     "data": {
      "text/plain": [
       "{'params': {'distance_metric': 'squared_euclidean',\n",
       "  'kmeans_plus_plus_num_retries': 2,\n",
       "  'mini_batch_steps_per_iteration': 1,\n",
       "  'num_clusters': 2,\n",
       "  'random_seed': 0,\n",
       "  'relative_tolerance': None,\n",
       "  'training_initial_clusters': 'random',\n",
       "  'use_mini_batch': True}}"
      ]
     },
     "execution_count": 23,
     "metadata": {},
     "output_type": "execute_result"
    }
   ],
   "source": [
    "k_means_estimator.get_params()"
   ]
  },
  {
   "cell_type": "code",
   "execution_count": 26,
   "metadata": {
    "collapsed": false,
    "deletable": true,
    "editable": true
   },
   "outputs": [
    {
     "name": "stdout",
     "output_type": "stream",
     "text": [
      "Variable  --->  [13001  6001]\n",
      "clusters  --->  [[  9.61472225]\n",
      " [ 92.50209045]]\n",
      "global_step  --->  1000\n",
      "initialized  --->  True\n"
     ]
    }
   ],
   "source": [
    "for variable_name in fit.get_variable_names():\n",
    "   print(variable_name, \" ---> \" , fit.get_variable_value(variable_name))"
   ]
  },
  {
   "cell_type": "markdown",
   "metadata": {
    "deletable": true,
    "editable": true
   },
   "source": [
    "### Transforms each element to distances to cluster centers.\n",
    "\n",
    "*Note that the transform() function expects the input exactly like how we specified the feature vector*"
   ]
  },
  {
   "cell_type": "code",
   "execution_count": 27,
   "metadata": {
    "collapsed": false,
    "deletable": true,
    "editable": true
   },
   "outputs": [
    {
     "name": "stdout",
     "output_type": "stream",
     "text": [
      "WARNING:tensorflow:From /usr/local/lib/python2.7/site-packages/tensorflow/contrib/learn/python/learn/estimators/kmeans.py:252: calling predict (from tensorflow.contrib.learn.python.learn.estimators.estimator) with as_iterable is deprecated and will be removed after 2016-12-01.\n",
      "Instructions for updating:\n",
      "Estimator is decoupled from Scikit Learn interface by moving into\n",
      "separate class SKCompat. Arguments x, y and batch_size are only\n",
      "available in the SKCompat class, Estimator will only accept input_fn.\n",
      "Example conversion:\n",
      "  est = Estimator(...) -> est = SKCompat(Estimator(...))\n",
      "INFO:tensorflow:Restoring parameters from /var/folders/yd/1rlyjfk975d3bb98d7_nyt740000gn/T/tmpsUkkyJ/model.ckpt-1000\n"
     ]
    }
   ],
   "source": [
    "ex_1d_x = np.array([0, 100], dtype=np.float32)\n",
    "\n",
    "transform = k_means_estimator.transform(input_fn=lambda: input_fn_1d(ex_1d_x))"
   ]
  },
  {
   "cell_type": "markdown",
   "metadata": {
    "deletable": true,
    "editable": true
   },
   "source": [
    "### The distance is measured in squared Euclidean distance\n",
    "*Get the square root to find actual distances*"
   ]
  },
  {
   "cell_type": "code",
   "execution_count": 30,
   "metadata": {
    "collapsed": false,
    "deletable": true,
    "editable": true
   },
   "outputs": [
    {
     "data": {
      "text/plain": [
       "array([[  9.61472225,  92.50209045],\n",
       "       [ 90.38527679,   7.49791622]], dtype=float32)"
      ]
     },
     "execution_count": 30,
     "metadata": {},
     "output_type": "execute_result"
    }
   ],
   "source": [
    "np.sqrt(transform)"
   ]
  },
  {
   "cell_type": "code",
   "execution_count": 31,
   "metadata": {
    "collapsed": false,
    "deletable": true,
    "editable": true
   },
   "outputs": [
    {
     "data": {
      "text/plain": [
       "array([[  9.61472225],\n",
       "       [ 92.50209045]], dtype=float32)"
      ]
     },
     "execution_count": 31,
     "metadata": {},
     "output_type": "execute_result"
    }
   ],
   "source": [
    "clusters_1d"
   ]
  },
  {
   "cell_type": "markdown",
   "metadata": {
    "deletable": true,
    "editable": true
   },
   "source": [
    "### Predicts which cluster each point belongs to\n",
    "\n",
    "*Note that the predict() function expects the input exactly like how we specified the feature vector*"
   ]
  },
  {
   "cell_type": "code",
   "execution_count": 33,
   "metadata": {
    "collapsed": false,
    "deletable": true,
    "editable": true
   },
   "outputs": [
    {
     "name": "stdout",
     "output_type": "stream",
     "text": [
      "WARNING:tensorflow:From <ipython-input-33-b08e6959b355>:4: calling predict (from tensorflow.contrib.learn.python.learn.estimators.estimator) with as_iterable is deprecated and will be removed after 2016-12-01.\n",
      "Instructions for updating:\n",
      "Estimator is decoupled from Scikit Learn interface by moving into\n",
      "separate class SKCompat. Arguments x, y and batch_size are only\n",
      "available in the SKCompat class, Estimator will only accept input_fn.\n",
      "Example conversion:\n",
      "  est = Estimator(...) -> est = SKCompat(Estimator(...))\n",
      "INFO:tensorflow:Restoring parameters from /var/folders/yd/1rlyjfk975d3bb98d7_nyt740000gn/T/tmpsUkkyJ/model.ckpt-1000\n"
     ]
    }
   ],
   "source": [
    "# Change the 50 to 54 and it will move to the next cluster\n",
    "ex_1d_x = np.array([50, 150], dtype=np.float32)\n",
    "\n",
    "predict = k_means_estimator.predict(input_fn=lambda: input_fn_1d(ex_1d_x), as_iterable=False)"
   ]
  },
  {
   "cell_type": "code",
   "execution_count": 34,
   "metadata": {
    "collapsed": false,
    "deletable": true,
    "editable": true
   },
   "outputs": [
    {
     "data": {
      "text/plain": [
       "{'all_scores': array([[  1630.97070312,   1806.42773438],\n",
       "        [ 19708.02734375,   3306.00976562]], dtype=float32),\n",
       " 'cluster_idx': array([0, 1])}"
      ]
     },
     "execution_count": 34,
     "metadata": {},
     "output_type": "execute_result"
    }
   ],
   "source": [
    "predict"
   ]
  },
  {
   "cell_type": "code",
   "execution_count": null,
   "metadata": {
    "collapsed": true,
    "deletable": true,
    "editable": true
   },
   "outputs": [],
   "source": []
  }
 ],
 "metadata": {
  "kernelspec": {
   "display_name": "Python 2",
   "language": "python",
   "name": "python2"
  },
  "language_info": {
   "codemirror_mode": {
    "name": "ipython",
    "version": 2
   },
   "file_extension": ".py",
   "mimetype": "text/x-python",
   "name": "python",
   "nbconvert_exporter": "python",
   "pygments_lexer": "ipython2",
   "version": "2.7.11"
  }
 },
 "nbformat": 4,
 "nbformat_minor": 2
}
