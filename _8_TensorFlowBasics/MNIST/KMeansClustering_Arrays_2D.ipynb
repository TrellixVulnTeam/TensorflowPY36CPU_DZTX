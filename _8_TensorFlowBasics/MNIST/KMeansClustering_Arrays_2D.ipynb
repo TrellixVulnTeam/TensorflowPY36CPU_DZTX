{
 "cells": [
  {
   "cell_type": "markdown",
   "metadata": {
    "deletable": true,
    "editable": true
   },
   "source": [
    "# K-means Clustering using Simple 2-D Arrays"
   ]
  },
  {
   "cell_type": "markdown",
   "metadata": {
    "deletable": true,
    "editable": true
   },
   "source": [
    "### Import Tensorflow and Numpy libraries"
   ]
  },
  {
   "cell_type": "code",
   "execution_count": 1,
   "metadata": {
    "collapsed": true,
    "deletable": true,
    "editable": true
   },
   "outputs": [],
   "source": [
    "# To support both python 2 and python 3\n",
    "from __future__ import division, print_function, unicode_literals\n",
    "\n",
    "import numpy as np\n",
    "import tensorflow as tf"
   ]
  },
  {
   "cell_type": "markdown",
   "metadata": {
    "deletable": true,
    "editable": true
   },
   "source": [
    "### Plot images inline in the notebook"
   ]
  },
  {
   "cell_type": "code",
   "execution_count": 2,
   "metadata": {
    "collapsed": true,
    "deletable": true,
    "editable": true
   },
   "outputs": [],
   "source": [
    "%matplotlib inline\n",
    "import matplotlib\n",
    "import matplotlib.pyplot as plt"
   ]
  },
  {
   "cell_type": "code",
   "execution_count": 3,
   "metadata": {
    "collapsed": false,
    "deletable": true,
    "editable": true
   },
   "outputs": [
    {
     "name": "stdout",
     "output_type": "stream",
     "text": [
      "1.3.0\n",
      "1.13.1\n",
      "2.0.2\n"
     ]
    }
   ],
   "source": [
    "print(tf.__version__)\n",
    "print(np.__version__)\n",
    "print(matplotlib.__version__)"
   ]
  },
  {
   "cell_type": "markdown",
   "metadata": {
    "deletable": true,
    "editable": true
   },
   "source": [
    "### Initialize 3 arrays of points in 2-dimensional space then concat them to a single array\n",
    "\n",
    "*Note that the ranges for the random initializations are a little different so there are some natural clusters in the data*"
   ]
  },
  {
   "cell_type": "code",
   "execution_count": 4,
   "metadata": {
    "collapsed": false,
    "deletable": true,
    "editable": true
   },
   "outputs": [
    {
     "data": {
      "text/plain": [
       "array([[  2.32000000e+02,   3.57000000e+02],\n",
       "       [  4.07000000e+02,   3.58000000e+02],\n",
       "       [  1.00000000e+00,   1.05000000e+02],\n",
       "       [  1.21000000e+02,   4.85000000e+02],\n",
       "       [  4.89000000e+02,   1.27000000e+02],\n",
       "       [  8.90000000e+01,   1.57000000e+02],\n",
       "       [  3.24000000e+02,   2.47000000e+02],\n",
       "       [  4.42000000e+02,   1.98000000e+02],\n",
       "       [  2.05000000e+02,   4.07000000e+02],\n",
       "       [  2.50000000e+01,   1.44000000e+02],\n",
       "       [  1.81000000e+02,   5.70000000e+01],\n",
       "       [  3.28000000e+02,   3.03000000e+02],\n",
       "       [  2.80000000e+01,   1.85000000e+02],\n",
       "       [  2.40000000e+02,   3.19000000e+02],\n",
       "       [  3.44000000e+02,   2.56000000e+02],\n",
       "       [  1.57000000e+02,   3.75000000e+02],\n",
       "       [  3.64000000e+02,   1.14000000e+02],\n",
       "       [  2.43000000e+02,   4.00000000e+02],\n",
       "       [  2.57000000e+02,   1.04000000e+02],\n",
       "       [  2.47000000e+02,   7.80000000e+01],\n",
       "       [  3.98000000e+02,   1.27000000e+02],\n",
       "       [  4.69000000e+02,   1.27000000e+02],\n",
       "       [  4.17000000e+02,   4.76000000e+02],\n",
       "       [  5.60000000e+01,   2.56000000e+02],\n",
       "       [  3.33000000e+02,   2.53000000e+02],\n",
       "       [  3.50000000e+02,   4.64000000e+02],\n",
       "       [  3.30000000e+01,   4.01000000e+02],\n",
       "       [  4.02000000e+02,   4.14000000e+02],\n",
       "       [  1.24000000e+02,   1.74000000e+02],\n",
       "       [  3.86000000e+02,   1.00000000e+01],\n",
       "       [  4.15000000e+02,   3.42000000e+02],\n",
       "       [  3.18000000e+02,   3.83000000e+02],\n",
       "       [  1.36000000e+02,   1.05000000e+02],\n",
       "       [  1.06000000e+02,   2.59000000e+02],\n",
       "       [  1.41000000e+02,   2.02000000e+02],\n",
       "       [  8.30000000e+01,   4.69000000e+02],\n",
       "       [  1.24000000e+02,   4.01000000e+02],\n",
       "       [  1.75000000e+02,   2.90000000e+02],\n",
       "       [  2.72000000e+02,   1.00000000e+00],\n",
       "       [  1.14000000e+02,   3.37000000e+02],\n",
       "       [  4.01000000e+02,   9.00000000e+01],\n",
       "       [  2.60000000e+01,   7.30000000e+01],\n",
       "       [  6.60000000e+01,   4.72000000e+02],\n",
       "       [  3.27000000e+02,   8.50000000e+01],\n",
       "       [  1.35000000e+02,   6.60000000e+01],\n",
       "       [  2.42000000e+02,   2.51000000e+02],\n",
       "       [  4.34000000e+02,   4.82000000e+02],\n",
       "       [  1.82000000e+02,   3.99000000e+02],\n",
       "       [  1.03000000e+02,   5.70000000e+01],\n",
       "       [  1.67000000e+02,   3.80000000e+01],\n",
       "       [  5.73000000e+02,   7.57000000e+02],\n",
       "       [  5.61000000e+02,   6.52000000e+02],\n",
       "       [  4.17000000e+02,   7.12000000e+02],\n",
       "       [  5.25000000e+02,   8.18000000e+02],\n",
       "       [  4.69000000e+02,   5.59000000e+02],\n",
       "       [  8.71000000e+02,   7.85000000e+02],\n",
       "       [  7.79000000e+02,   8.37000000e+02],\n",
       "       [  4.71000000e+02,   6.67000000e+02],\n",
       "       [  4.57000000e+02,   5.01000000e+02],\n",
       "       [  7.30000000e+02,   4.77000000e+02],\n",
       "       [  5.26000000e+02,   6.00000000e+02],\n",
       "       [  5.83000000e+02,   8.28000000e+02],\n",
       "       [  7.12000000e+02,   6.04000000e+02],\n",
       "       [  6.68000000e+02,   5.52000000e+02],\n",
       "       [  8.08000000e+02,   5.86000000e+02],\n",
       "       [  5.55000000e+02,   5.69000000e+02],\n",
       "       [  6.38000000e+02,   7.88000000e+02],\n",
       "       [  7.23000000e+02,   6.45000000e+02],\n",
       "       [  6.75000000e+02,   6.07000000e+02],\n",
       "       [  6.38000000e+02,   5.40000000e+02],\n",
       "       [  4.97000000e+02,   8.67000000e+02],\n",
       "       [  7.84000000e+02,   6.47000000e+02],\n",
       "       [  4.69000000e+02,   6.74000000e+02],\n",
       "       [  8.41000000e+02,   7.35000000e+02],\n",
       "       [  6.53000000e+02,   8.09000000e+02],\n",
       "       [  7.49000000e+02,   7.87000000e+02],\n",
       "       [  6.58000000e+02,   5.17000000e+02],\n",
       "       [  6.46000000e+02,   7.34000000e+02],\n",
       "       [  7.39000000e+02,   5.94000000e+02],\n",
       "       [  7.03000000e+02,   8.45000000e+02],\n",
       "       [  5.50000000e+02,   8.02000000e+02],\n",
       "       [  4.09000000e+02,   8.31000000e+02],\n",
       "       [  8.00000000e+02,   6.89000000e+02],\n",
       "       [  4.53000000e+02,   8.79000000e+02],\n",
       "       [  8.11000000e+02,   4.75000000e+02],\n",
       "       [  4.07000000e+02,   7.73000000e+02],\n",
       "       [  7.24000000e+02,   5.23000000e+02],\n",
       "       [  5.33000000e+02,   5.78000000e+02],\n",
       "       [  8.71000000e+02,   4.25000000e+02],\n",
       "       [  7.26000000e+02,   8.85000000e+02],\n",
       "       [  6.01000000e+02,   8.65000000e+02],\n",
       "       [  4.05000000e+02,   6.05000000e+02],\n",
       "       [  5.05000000e+02,   4.01000000e+02],\n",
       "       [  4.89000000e+02,   6.30000000e+02],\n",
       "       [  4.29000000e+02,   5.22000000e+02],\n",
       "       [  8.87000000e+02,   8.58000000e+02],\n",
       "       [  7.25000000e+02,   8.55000000e+02],\n",
       "       [  8.20000000e+02,   6.49000000e+02],\n",
       "       [  5.30000000e+02,   5.24000000e+02],\n",
       "       [  8.84000000e+02,   6.35000000e+02],\n",
       "       [  9.90000000e+02,   1.09800000e+03],\n",
       "       [  8.56000000e+02,   8.85000000e+02],\n",
       "       [  8.86000000e+02,   9.50000000e+02],\n",
       "       [  1.04200000e+03,   1.26000000e+03],\n",
       "       [  1.20400000e+03,   1.29600000e+03],\n",
       "       [  1.05800000e+03,   1.22000000e+03],\n",
       "       [  9.46000000e+02,   8.16000000e+02],\n",
       "       [  1.16400000e+03,   1.19200000e+03],\n",
       "       [  8.59000000e+02,   8.35000000e+02],\n",
       "       [  1.08500000e+03,   1.02400000e+03],\n",
       "       [  1.14900000e+03,   1.11500000e+03],\n",
       "       [  9.63000000e+02,   9.77000000e+02],\n",
       "       [  1.11400000e+03,   1.22600000e+03],\n",
       "       [  8.44000000e+02,   9.59000000e+02],\n",
       "       [  9.69000000e+02,   1.19100000e+03],\n",
       "       [  1.14100000e+03,   8.67000000e+02],\n",
       "       [  8.03000000e+02,   1.26400000e+03],\n",
       "       [  1.28400000e+03,   9.84000000e+02],\n",
       "       [  1.08400000e+03,   1.20100000e+03],\n",
       "       [  8.10000000e+02,   1.18000000e+03],\n",
       "       [  1.02300000e+03,   8.53000000e+02],\n",
       "       [  1.21300000e+03,   1.20700000e+03],\n",
       "       [  1.20900000e+03,   1.21400000e+03],\n",
       "       [  9.04000000e+02,   1.11900000e+03],\n",
       "       [  1.17000000e+03,   9.10000000e+02],\n",
       "       [  1.01800000e+03,   1.10400000e+03],\n",
       "       [  1.06700000e+03,   9.27000000e+02],\n",
       "       [  1.19100000e+03,   1.18400000e+03],\n",
       "       [  8.53000000e+02,   1.07300000e+03],\n",
       "       [  1.11800000e+03,   1.20000000e+03],\n",
       "       [  1.04200000e+03,   1.08000000e+03],\n",
       "       [  1.09700000e+03,   8.81000000e+02],\n",
       "       [  8.95000000e+02,   1.23100000e+03],\n",
       "       [  9.14000000e+02,   8.28000000e+02],\n",
       "       [  1.25800000e+03,   1.13500000e+03],\n",
       "       [  1.00500000e+03,   1.18400000e+03],\n",
       "       [  9.05000000e+02,   8.85000000e+02],\n",
       "       [  9.31000000e+02,   1.21700000e+03],\n",
       "       [  1.12300000e+03,   1.18200000e+03],\n",
       "       [  9.61000000e+02,   8.94000000e+02],\n",
       "       [  1.24200000e+03,   8.30000000e+02],\n",
       "       [  8.57000000e+02,   1.02800000e+03],\n",
       "       [  8.04000000e+02,   1.08800000e+03],\n",
       "       [  1.16600000e+03,   1.23000000e+03],\n",
       "       [  1.17400000e+03,   1.07100000e+03],\n",
       "       [  1.04400000e+03,   1.06000000e+03],\n",
       "       [  9.39000000e+02,   9.81000000e+02],\n",
       "       [  1.09200000e+03,   1.17500000e+03],\n",
       "       [  1.12800000e+03,   1.14900000e+03],\n",
       "       [  8.20000000e+02,   1.27900000e+03]], dtype=float32)"
      ]
     },
     "execution_count": 4,
     "metadata": {},
     "output_type": "execute_result"
    }
   ],
   "source": [
    "import random\n",
    "\n",
    "input_2d_x_1 = np.array([[random.randint(1, 500) for i in range(2)] for j in range(50)], dtype=np.float32)\n",
    "input_2d_x_2 = np.array([[random.randint(400, 900) for i in range(2)] for j in range(50)], dtype=np.float32)\n",
    "input_2d_x_3 = np.array([[random.randint(800, 1300) for i in range(2)] for j in range(50)], dtype=np.float32)\n",
    "\n",
    "input_2d_x = np.append(np.append(input_2d_x_1, input_2d_x_2, axis=0), input_2d_x_3, axis=0)\n",
    "\n",
    "input_2d_x"
   ]
  },
  {
   "cell_type": "markdown",
   "metadata": {
    "deletable": true,
    "editable": true
   },
   "source": [
    "### Input function to generate features and labels for the estimator\n",
    "\n",
    "*This is an unsupervised algorithm so we generate only the features, labels is set to None*\n",
    "\n",
    "* The function takes in a 2-D array as an input\n",
    "* Converts this array to a Tensor\n",
    "* Returns a tuple of features and labels"
   ]
  },
  {
   "cell_type": "code",
   "execution_count": 5,
   "metadata": {
    "collapsed": true,
    "deletable": true,
    "editable": true
   },
   "outputs": [],
   "source": [
    "def input_fn_2d(input_2d):\n",
    "    input_t = tf.convert_to_tensor(input_2d, dtype=tf.float32)\n",
    "    \n",
    "    return (input_t, None)"
   ]
  },
  {
   "cell_type": "code",
   "execution_count": 6,
   "metadata": {
    "collapsed": false,
    "deletable": true,
    "editable": true
   },
   "outputs": [
    {
     "data": {
      "image/png": "[encoded data removed]",
      "text/plain": [
       "<matplotlib.figure.Figure at 0x10880d810>"
      ]
     },
     "metadata": {},
     "output_type": "display_data"
    }
   ],
   "source": [
    "plt.scatter(input_2d_x[:,0], input_2d_x[:,1], s=200)\n",
    "plt.show()"
   ]
  },
  {
   "cell_type": "code",
   "execution_count": 7,
   "metadata": {
    "collapsed": false,
    "deletable": true,
    "editable": true
   },
   "outputs": [],
   "source": [
    "from tensorflow.contrib.learn.python.learn.estimators import kmeans\n",
    "\n",
    "from tensorflow.contrib.factorization.python.ops import clustering_ops"
   ]
  },
  {
   "cell_type": "markdown",
   "metadata": {},
   "source": [
    "### TensorFlow documentation\n",
    "\n",
    "https://www.tensorflow.org/api_docs/python/tf/contrib/learn/KMeansClustering\n",
    "\n",
    "__init__(\n",
    "    num_clusters,\n",
    "    model_dir=None,\n",
    "    initial_clusters=RANDOM_INIT,\n",
    "    distance_metric=SQUARED_EUCLIDEAN_DISTANCE,\n",
    "    random_seed=0,\n",
    "    use_mini_batch=True,\n",
    "    mini_batch_steps_per_iteration=1,\n",
    "    kmeans_plus_plus_num_retries=2,\n",
    "    relative_tolerance=None,\n",
    "    config=None\n",
    ")"
   ]
  },
  {
   "cell_type": "code",
   "execution_count": 11,
   "metadata": {
    "collapsed": false,
    "deletable": true,
    "editable": true
   },
   "outputs": [
    {
     "name": "stdout",
     "output_type": "stream",
     "text": [
      "INFO:tensorflow:Using default config.\n",
      "WARNING:tensorflow:Using temporary folder as model directory: /var/folders/yd/1rlyjfk975d3bb98d7_nyt740000gn/T/tmp5mDflL\n",
      "INFO:tensorflow:Using config: {'_save_checkpoints_secs': 600, '_num_ps_replicas': 0, '_keep_checkpoint_max': 5, '_task_type': None, '_is_chief': True, '_cluster_spec': <tensorflow.python.training.server_lib.ClusterSpec object at 0x11864c750>, '_model_dir': '/var/folders/yd/1rlyjfk975d3bb98d7_nyt740000gn/T/tmp5mDflL', '_save_checkpoints_steps': None, '_keep_checkpoint_every_n_hours': 10000, '_session_config': None, '_tf_random_seed': None, '_save_summary_steps': 100, '_environment': 'local', '_num_worker_replicas': 0, '_task_id': 0, '_log_step_count_steps': 100, '_tf_config': gpu_options {\n",
      "  per_process_gpu_memory_fraction: 1\n",
      "}\n",
      ", '_evaluation_master': '', '_master': ''}\n",
      "INFO:tensorflow:Create CheckpointSaverHook.\n",
      "INFO:tensorflow:Saving checkpoints for 1 into /var/folders/yd/1rlyjfk975d3bb98d7_nyt740000gn/T/tmp5mDflL/model.ckpt.\n",
      "INFO:tensorflow:loss = 1.9419e+07, step = 1\n",
      "INFO:tensorflow:global_step/sec: 1235\n",
      "INFO:tensorflow:loss = 6.15039e+06, step = 101 (0.082 sec)\n",
      "INFO:tensorflow:global_step/sec: 1365.84\n",
      "INFO:tensorflow:loss = 5.94515e+06, step = 201 (0.073 sec)\n",
      "INFO:tensorflow:global_step/sec: 1344.16\n",
      "INFO:tensorflow:loss = 5.8968e+06, step = 301 (0.074 sec)\n",
      "INFO:tensorflow:global_step/sec: 1326.59\n",
      "INFO:tensorflow:loss = 5.87129e+06, step = 401 (0.076 sec)\n",
      "INFO:tensorflow:global_step/sec: 1288.74\n",
      "INFO:tensorflow:loss = 5.85781e+06, step = 501 (0.078 sec)\n",
      "INFO:tensorflow:global_step/sec: 1130.76\n",
      "INFO:tensorflow:loss = 5.85047e+06, step = 601 (0.088 sec)\n",
      "INFO:tensorflow:global_step/sec: 1264.77\n",
      "INFO:tensorflow:loss = 5.84605e+06, step = 701 (0.079 sec)\n",
      "INFO:tensorflow:global_step/sec: 1393.15\n",
      "INFO:tensorflow:loss = 5.84318e+06, step = 801 (0.072 sec)\n",
      "INFO:tensorflow:global_step/sec: 1388.71\n",
      "INFO:tensorflow:loss = 5.84119e+06, step = 901 (0.072 sec)\n",
      "INFO:tensorflow:Saving checkpoints for 1000 into /var/folders/yd/1rlyjfk975d3bb98d7_nyt740000gn/T/tmp5mDflL/model.ckpt.\n",
      "INFO:tensorflow:Loss for final step: 5.83979e+06.\n"
     ]
    }
   ],
   "source": [
    "# Add the additional parameters later\n",
    "k_means_estimator = kmeans.KMeansClustering(num_clusters=3)\n",
    "# k_means_estimator = kmeans.KMeansClustering(num_clusters=3,\n",
    "#                                             distance_metric=clustering_ops.COSINE_DISTANCE,\n",
    "#                                             use_mini_batch=False,\n",
    "#                                             relative_tolerance=1)\n",
    "\n",
    "fit = k_means_estimator.fit(input_fn=lambda: input_fn_2d(input_2d_x), steps=1000)"
   ]
  },
  {
   "cell_type": "markdown",
   "metadata": {},
   "source": [
    "### The centroids of the clusters"
   ]
  },
  {
   "cell_type": "code",
   "execution_count": 12,
   "metadata": {
    "collapsed": false,
    "deletable": true,
    "editable": true
   },
   "outputs": [
    {
     "data": {
      "text/plain": [
       "array([[ 1020.92980957,  1065.08789062],\n",
       "       [  614.09985352,   657.72631836],\n",
       "       [  224.33331299,   234.12156677]], dtype=float32)"
      ]
     },
     "execution_count": 12,
     "metadata": {},
     "output_type": "execute_result"
    }
   ],
   "source": [
    "clusters_2d = k_means_estimator.clusters()\n",
    "clusters_2d"
   ]
  },
  {
   "cell_type": "markdown",
   "metadata": {},
   "source": [
    "### Plot the cluster centers along with the points"
   ]
  },
  {
   "cell_type": "code",
   "execution_count": 59,
   "metadata": {
    "collapsed": false,
    "deletable": true,
    "editable": true
   },
   "outputs": [
    {
     "data": {
      "image/png": "[encoded data removed]",
      "text/plain": [
       "<matplotlib.figure.Figure at 0x112abacd0>"
      ]
     },
     "metadata": {},
     "output_type": "display_data"
    }
   ],
   "source": [
    "fig = plt.figure()\n",
    "ax1 = fig.add_subplot(111)\n",
    "\n",
    "ax1.scatter(input_2d_x[:,0], input_2d_x[:,1], s=300, marker='o')\n",
    "ax1.scatter(clusters_2d[:,0], clusters_2d[:,1], c='r', s=200, marker='s')\n",
    "\n",
    "plt.show()"
   ]
  },
  {
   "cell_type": "code",
   "execution_count": 13,
   "metadata": {
    "collapsed": false,
    "deletable": true,
    "editable": true
   },
   "outputs": [
    {
     "data": {
      "text/plain": [
       "{'params': {'distance_metric': 'squared_euclidean',\n",
       "  'kmeans_plus_plus_num_retries': 2,\n",
       "  'mini_batch_steps_per_iteration': 1,\n",
       "  'num_clusters': 3,\n",
       "  'random_seed': 0,\n",
       "  'relative_tolerance': None,\n",
       "  'training_initial_clusters': 'random',\n",
       "  'use_mini_batch': True}}"
      ]
     },
     "execution_count": 13,
     "metadata": {},
     "output_type": "execute_result"
    }
   ],
   "source": [
    "k_means_estimator.get_params()"
   ]
  },
  {
   "cell_type": "markdown",
   "metadata": {},
   "source": [
    "### Predicts which cluster each point belongs to\n",
    "\n",
    "*Note that the predict() function expects the input exactly like how we specified the feature vector*"
   ]
  },
  {
   "cell_type": "code",
   "execution_count": 14,
   "metadata": {
    "collapsed": false,
    "deletable": true,
    "editable": true
   },
   "outputs": [
    {
     "name": "stdout",
     "output_type": "stream",
     "text": [
      "WARNING:tensorflow:From <ipython-input-14-3d3ca3c59138>:4: calling predict (from tensorflow.contrib.learn.python.learn.estimators.estimator) with as_iterable is deprecated and will be removed after 2016-12-01.\n",
      "Instructions for updating:\n",
      "Estimator is decoupled from Scikit Learn interface by moving into\n",
      "separate class SKCompat. Arguments x, y and batch_size are only\n",
      "available in the SKCompat class, Estimator will only accept input_fn.\n",
      "Example conversion:\n",
      "  est = Estimator(...) -> est = SKCompat(Estimator(...))\n",
      "INFO:tensorflow:Restoring parameters from /var/folders/yd/1rlyjfk975d3bb98d7_nyt740000gn/T/tmp5mDflL/model.ckpt-1000\n"
     ]
    }
   ],
   "source": [
    "# Try the following values [850, 850], [50, 50], [400, 400]\n",
    "ex_2d_x = np.array([[400, 400]], dtype=np.float32)\n",
    "\n",
    "predict = k_means_estimator.predict(input_fn=lambda: input_fn_2d(ex_2d_x), as_iterable=False)"
   ]
  },
  {
   "cell_type": "code",
   "execution_count": 15,
   "metadata": {
    "collapsed": false,
    "deletable": true,
    "editable": true
   },
   "outputs": [
    {
     "data": {
      "text/plain": [
       "{'all_scores': array([[ 827895.75  ,  112261.5625,   58374.4375]], dtype=float32),\n",
       " 'cluster_idx': 2}"
      ]
     },
     "execution_count": 15,
     "metadata": {},
     "output_type": "execute_result"
    }
   ],
   "source": [
    "predict"
   ]
  },
  {
   "cell_type": "code",
   "execution_count": null,
   "metadata": {
    "collapsed": true,
    "deletable": true,
    "editable": true
   },
   "outputs": [],
   "source": []
  }
 ],
 "metadata": {
  "kernelspec": {
   "display_name": "Python 2",
   "language": "python",
   "name": "python2"
  },
  "language_info": {
   "codemirror_mode": {
    "name": "ipython",
    "version": 2
   },
   "file_extension": ".py",
   "mimetype": "text/x-python",
   "name": "python",
   "nbconvert_exporter": "python",
   "pygments_lexer": "ipython2",
   "version": "2.7.11"
  }
 },
 "nbformat": 4,
 "nbformat_minor": 2
}
