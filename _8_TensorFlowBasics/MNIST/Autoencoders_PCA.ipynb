{
 "cells": [
  {
   "cell_type": "markdown",
   "metadata": {
    "deletable": true,
    "editable": true
   },
   "source": [
    "# PCA with matplotlib and Autoencoders"
   ]
  },
  {
   "cell_type": "code",
   "execution_count": 6,
   "metadata": {
    "collapsed": true,
    "deletable": true,
    "editable": true
   },
   "outputs": [],
   "source": [
    "# To support both python 2 and python 3\n",
    "from __future__ import division, print_function, unicode_literals\n",
    "\n",
    "import numpy as np\n",
    "import pandas as pd\n",
    "import tensorflow as tf"
   ]
  },
  {
   "cell_type": "markdown",
   "metadata": {
    "deletable": true,
    "editable": true
   },
   "source": [
    "### To plot pretty figures inline in the notebook"
   ]
  },
  {
   "cell_type": "code",
   "execution_count": 7,
   "metadata": {
    "collapsed": true,
    "deletable": true,
    "editable": true
   },
   "outputs": [],
   "source": [
    "%matplotlib inline\n",
    "import matplotlib\n",
    "import matplotlib.pyplot as plt\n",
    "\n",
    "from matplotlib.mlab import PCA"
   ]
  },
  {
   "cell_type": "code",
   "execution_count": 8,
   "metadata": {
    "collapsed": false,
    "deletable": true,
    "editable": true
   },
   "outputs": [
    {
     "name": "stdout",
     "output_type": "stream",
     "text": [
      "1.3.0\n",
      "1.13.1\n",
      "0.20.1\n",
      "2.0.2\n"
     ]
    }
   ],
   "source": [
    "print(tf.__version__)\n",
    "print(np.__version__)\n",
    "print(pd.__version__)\n",
    "print(matplotlib.__version__)"
   ]
  },
  {
   "cell_type": "markdown",
   "metadata": {
    "deletable": true,
    "editable": true
   },
   "source": [
    "### Read in stocks data from the directory data/stocks.csv\n",
    "\n",
    "A link where this CSV file can be downloaded is here: https://goo.gl/PUiiQv\n",
    "\n",
    "* This is data for the monthly closing price of 10 stocks over a 10 year period. \n",
    "* There are 12 * 10 = 120 rows in this dataset and 10 columns, one for each stock\n",
    "* The original CSV files has a header row and an additional first column to hold the date - we'll leave these out when we convert this to a matrix to do a PCA"
   ]
  },
  {
   "cell_type": "code",
   "execution_count": 9,
   "metadata": {
    "collapsed": false,
    "deletable": true,
    "editable": true
   },
   "outputs": [
    {
     "data": {
      "text/html": [
       "<div>\n",
       "<style>\n",
       "    .dataframe thead tr:only-child th {\n",
       "        text-align: right;\n",
       "    }\n",
       "\n",
       "    .dataframe thead th {\n",
       "        text-align: left;\n",
       "    }\n",
       "\n",
       "    .dataframe tbody tr th {\n",
       "        vertical-align: top;\n",
       "    }\n",
       "</style>\n",
       "<table border=\"1\" class=\"dataframe\">\n",
       "  <thead>\n",
       "    <tr style=\"text-align: right;\">\n",
       "      <th></th>\n",
       "      <th>Date</th>\n",
       "      <th>AAPL</th>\n",
       "      <th>ADBE</th>\n",
       "      <th>CVX</th>\n",
       "      <th>GOOG</th>\n",
       "      <th>IBM</th>\n",
       "      <th>MDLZ</th>\n",
       "      <th>MSFT</th>\n",
       "      <th>NFLX</th>\n",
       "      <th>ORCL</th>\n",
       "      <th>SBUX</th>\n",
       "    </tr>\n",
       "  </thead>\n",
       "  <tbody>\n",
       "    <tr>\n",
       "      <th>0</th>\n",
       "      <td>3-Jan-17</td>\n",
       "      <td>121.104935</td>\n",
       "      <td>113.820000</td>\n",
       "      <td>110.759811</td>\n",
       "      <td>823.830017</td>\n",
       "      <td>174.420883</td>\n",
       "      <td>44.430000</td>\n",
       "      <td>64.737526</td>\n",
       "      <td>141.220001</td>\n",
       "      <td>40.230000</td>\n",
       "      <td>55.649239</td>\n",
       "    </tr>\n",
       "    <tr>\n",
       "      <th>1</th>\n",
       "      <td>1-Dec-16</td>\n",
       "      <td>115.320023</td>\n",
       "      <td>102.949997</td>\n",
       "      <td>116.584061</td>\n",
       "      <td>792.450012</td>\n",
       "      <td>164.687836</td>\n",
       "      <td>44.330002</td>\n",
       "      <td>61.765545</td>\n",
       "      <td>123.800003</td>\n",
       "      <td>38.299999</td>\n",
       "      <td>55.270943</td>\n",
       "    </tr>\n",
       "    <tr>\n",
       "      <th>2</th>\n",
       "      <td>1-Nov-16</td>\n",
       "      <td>110.042900</td>\n",
       "      <td>102.809998</td>\n",
       "      <td>110.502274</td>\n",
       "      <td>775.880005</td>\n",
       "      <td>160.947403</td>\n",
       "      <td>41.066032</td>\n",
       "      <td>59.896873</td>\n",
       "      <td>117.000000</td>\n",
       "      <td>40.033211</td>\n",
       "      <td>57.709953</td>\n",
       "    </tr>\n",
       "    <tr>\n",
       "      <th>3</th>\n",
       "      <td>3-Oct-16</td>\n",
       "      <td>112.472404</td>\n",
       "      <td>107.510002</td>\n",
       "      <td>102.728424</td>\n",
       "      <td>809.900024</td>\n",
       "      <td>151.113403</td>\n",
       "      <td>44.750420</td>\n",
       "      <td>59.159267</td>\n",
       "      <td>124.870003</td>\n",
       "      <td>38.270115</td>\n",
       "      <td>52.588333</td>\n",
       "    </tr>\n",
       "    <tr>\n",
       "      <th>4</th>\n",
       "      <td>1-Sep-16</td>\n",
       "      <td>111.987015</td>\n",
       "      <td>108.540001</td>\n",
       "      <td>100.933739</td>\n",
       "      <td>804.059998</td>\n",
       "      <td>156.186905</td>\n",
       "      <td>43.714809</td>\n",
       "      <td>56.868721</td>\n",
       "      <td>98.550003</td>\n",
       "      <td>38.975769</td>\n",
       "      <td>53.648621</td>\n",
       "    </tr>\n",
       "  </tbody>\n",
       "</table>\n",
       "</div>"
      ],
      "text/plain": [
       "       Date        AAPL        ADBE         CVX        GOOG         IBM  \\\n",
       "0  3-Jan-17  121.104935  113.820000  110.759811  823.830017  174.420883   \n",
       "1  1-Dec-16  115.320023  102.949997  116.584061  792.450012  164.687836   \n",
       "2  1-Nov-16  110.042900  102.809998  110.502274  775.880005  160.947403   \n",
       "3  3-Oct-16  112.472404  107.510002  102.728424  809.900024  151.113403   \n",
       "4  1-Sep-16  111.987015  108.540001  100.933739  804.059998  156.186905   \n",
       "\n",
       "        MDLZ       MSFT        NFLX       ORCL       SBUX  \n",
       "0  44.430000  64.737526  141.220001  40.230000  55.649239  \n",
       "1  44.330002  61.765545  123.800003  38.299999  55.270943  \n",
       "2  41.066032  59.896873  117.000000  40.033211  57.709953  \n",
       "3  44.750420  59.159267  124.870003  38.270115  52.588333  \n",
       "4  43.714809  56.868721   98.550003  38.975769  53.648621  "
      ]
     },
     "execution_count": 9,
     "metadata": {},
     "output_type": "execute_result"
    }
   ],
   "source": [
    "prices = pd.read_csv('data/stocks.csv')\n",
    "prices.head()"
   ]
  },
  {
   "cell_type": "markdown",
   "metadata": {
    "deletable": true,
    "editable": true
   },
   "source": [
    "### Sort the prices data by date\n",
    "\n",
    "* We're going to work with stock returns and not prices because they tend to be stationery when calculated across years (returns from 2007 can be compared to returns from 2016 even of the stock prices may have changed)\n",
    "* Returns are the percentage change in the price of the stock from the previous close\n",
    "* Sort the prices by dates in preparation for calculating returns\n",
    "* We'll work with just 3 inputs i.e. 3 stocks AAPL, GOOG and NFLX. Try this same code out with more stocks as practice!"
   ]
  },
  {
   "cell_type": "code",
   "execution_count": 10,
   "metadata": {
    "collapsed": false,
    "deletable": true,
    "editable": true
   },
   "outputs": [
    {
     "data": {
      "text/html": [
       "<div>\n",
       "<style>\n",
       "    .dataframe thead tr:only-child th {\n",
       "        text-align: right;\n",
       "    }\n",
       "\n",
       "    .dataframe thead th {\n",
       "        text-align: left;\n",
       "    }\n",
       "\n",
       "    .dataframe tbody tr th {\n",
       "        vertical-align: top;\n",
       "    }\n",
       "</style>\n",
       "<table border=\"1\" class=\"dataframe\">\n",
       "  <thead>\n",
       "    <tr style=\"text-align: right;\">\n",
       "      <th></th>\n",
       "      <th>AAPL</th>\n",
       "      <th>GOOG</th>\n",
       "      <th>NFLX</th>\n",
       "    </tr>\n",
       "  </thead>\n",
       "  <tbody>\n",
       "    <tr>\n",
       "      <th>120</th>\n",
       "      <td>11.107141</td>\n",
       "      <td>251.001007</td>\n",
       "      <td>3.258571</td>\n",
       "    </tr>\n",
       "    <tr>\n",
       "      <th>119</th>\n",
       "      <td>10.962033</td>\n",
       "      <td>224.949951</td>\n",
       "      <td>3.218571</td>\n",
       "    </tr>\n",
       "    <tr>\n",
       "      <th>118</th>\n",
       "      <td>12.037377</td>\n",
       "      <td>229.309311</td>\n",
       "      <td>3.312857</td>\n",
       "    </tr>\n",
       "    <tr>\n",
       "      <th>117</th>\n",
       "      <td>12.930043</td>\n",
       "      <td>235.925919</td>\n",
       "      <td>3.167143</td>\n",
       "    </tr>\n",
       "    <tr>\n",
       "      <th>116</th>\n",
       "      <td>15.701322</td>\n",
       "      <td>249.204208</td>\n",
       "      <td>3.128572</td>\n",
       "    </tr>\n",
       "  </tbody>\n",
       "</table>\n",
       "</div>"
      ],
      "text/plain": [
       "          AAPL        GOOG      NFLX\n",
       "120  11.107141  251.001007  3.258571\n",
       "119  10.962033  224.949951  3.218571\n",
       "118  12.037377  229.309311  3.312857\n",
       "117  12.930043  235.925919  3.167143\n",
       "116  15.701322  249.204208  3.128572"
      ]
     },
     "execution_count": 10,
     "metadata": {},
     "output_type": "execute_result"
    }
   ],
   "source": [
    "prices['Date'] = pd.to_datetime(prices['Date'], infer_datetime_format=True)\n",
    "prices = prices.sort_values(['Date'], ascending=[True])\n",
    "\n",
    "prices = prices[['AAPL', 'GOOG', 'NFLX']]\n",
    "prices.head()"
   ]
  },
  {
   "cell_type": "markdown",
   "metadata": {
    "deletable": true,
    "editable": true
   },
   "source": [
    "### Calculate returns\n",
    "\n",
    "* The pct_change() function in pandas does this automatically for you, apply this only to numeric columns\n",
    "* Leave out the first row (with the earliest date) because no returns will be calculated for it"
   ]
  },
  {
   "cell_type": "code",
   "execution_count": 11,
   "metadata": {
    "collapsed": false,
    "deletable": true,
    "editable": true
   },
   "outputs": [
    {
     "data": {
      "text/html": [
       "<div>\n",
       "<style>\n",
       "    .dataframe thead tr:only-child th {\n",
       "        text-align: right;\n",
       "    }\n",
       "\n",
       "    .dataframe thead th {\n",
       "        text-align: left;\n",
       "    }\n",
       "\n",
       "    .dataframe tbody tr th {\n",
       "        vertical-align: top;\n",
       "    }\n",
       "</style>\n",
       "<table border=\"1\" class=\"dataframe\">\n",
       "  <thead>\n",
       "    <tr style=\"text-align: right;\">\n",
       "      <th></th>\n",
       "      <th>GOOG</th>\n",
       "      <th>AAPL</th>\n",
       "      <th>NFLX</th>\n",
       "    </tr>\n",
       "  </thead>\n",
       "  <tbody>\n",
       "    <tr>\n",
       "      <th>119</th>\n",
       "      <td>-0.103789</td>\n",
       "      <td>-0.013064</td>\n",
       "      <td>-0.012275</td>\n",
       "    </tr>\n",
       "    <tr>\n",
       "      <th>118</th>\n",
       "      <td>0.019379</td>\n",
       "      <td>0.098097</td>\n",
       "      <td>0.029294</td>\n",
       "    </tr>\n",
       "    <tr>\n",
       "      <th>117</th>\n",
       "      <td>0.028855</td>\n",
       "      <td>0.074158</td>\n",
       "      <td>-0.043984</td>\n",
       "    </tr>\n",
       "    <tr>\n",
       "      <th>116</th>\n",
       "      <td>0.056282</td>\n",
       "      <td>0.214329</td>\n",
       "      <td>-0.012178</td>\n",
       "    </tr>\n",
       "    <tr>\n",
       "      <th>115</th>\n",
       "      <td>0.049788</td>\n",
       "      <td>0.007014</td>\n",
       "      <td>-0.114612</td>\n",
       "    </tr>\n",
       "  </tbody>\n",
       "</table>\n",
       "</div>"
      ],
      "text/plain": [
       "         GOOG      AAPL      NFLX\n",
       "119 -0.103789 -0.013064 -0.012275\n",
       "118  0.019379  0.098097  0.029294\n",
       "117  0.028855  0.074158 -0.043984\n",
       "116  0.056282  0.214329 -0.012178\n",
       "115  0.049788  0.007014 -0.114612"
      ]
     },
     "execution_count": 11,
     "metadata": {},
     "output_type": "execute_result"
    }
   ],
   "source": [
    "returns = prices[[key for key in dict(prices.dtypes) if dict(prices.dtypes)[key] in ['float64', 'int64']]].pct_change()\n",
    "returns = returns[1:]\n",
    "returns.head()"
   ]
  },
  {
   "cell_type": "markdown",
   "metadata": {
    "deletable": true,
    "editable": true
   },
   "source": [
    "### Choose a small part of this dataset\n",
    "\n",
    "*In order to make it easier to understand and follow the demo we choose only 20 rows from the dataset.*"
   ]
  },
  {
   "cell_type": "code",
   "execution_count": 12,
   "metadata": {
    "collapsed": false,
    "deletable": true,
    "editable": true
   },
   "outputs": [
    {
     "data": {
      "text/plain": [
       "(20, 3)"
      ]
     },
     "execution_count": 12,
     "metadata": {},
     "output_type": "execute_result"
    }
   ],
   "source": [
    "returns_arr = returns.as_matrix()[:20]\n",
    "returns_arr.shape"
   ]
  },
  {
   "cell_type": "markdown",
   "metadata": {
    "deletable": true,
    "editable": true
   },
   "source": [
    "### Scale all inputs\n",
    "\n",
    "PCA works better if the mean and variance of each input component is the same. Each of our inputs can be scaled to achieve this. Scaling the data involves:\n",
    "\n",
    "* Subtracting the mean for every point\n",
    "* Dividing by the variance\n",
    "\n",
    "Every point on the data set is now centered around 0 and has the same scale"
   ]
  },
  {
   "cell_type": "code",
   "execution_count": 13,
   "metadata": {
    "collapsed": true,
    "deletable": true,
    "editable": true
   },
   "outputs": [],
   "source": [
    "from sklearn.preprocessing import StandardScaler\n",
    "scaler = StandardScaler()\n",
    "returns_arr_scaled = scaler.fit_transform(returns_arr)"
   ]
  },
  {
   "cell_type": "code",
   "execution_count": 14,
   "metadata": {
    "collapsed": false,
    "deletable": true,
    "editable": true
   },
   "outputs": [
    {
     "data": {
      "text/plain": [
       "array([[-0.83085735, -0.26570419, -0.27988663],\n",
       "       [ 0.19850401,  0.48183445,  0.05469668],\n",
       "       [ 0.27769246,  0.32084764, -0.53510448],\n",
       "       [ 0.50691119,  1.26346797, -0.27910722],\n",
       "       [ 0.45264219, -0.13068243, -1.10356751],\n",
       "       [-0.16651438,  0.35775408, -1.07769436],\n",
       "       [ 0.12257604,  0.16512878, -0.04561865],\n",
       "       [ 0.88031173,  0.55008778,  1.30278588],\n",
       "       [ 2.09513584,  1.4206431 ,  2.03764936],\n",
       "       [-0.1289488 , -0.45151408, -1.20580256],\n",
       "       [ 0.01821392,  0.40746153,  1.04538738],\n",
       "       [-1.50058206, -2.30718683, -0.62555009],\n",
       "       [-1.34257977, -0.69154794,  1.87670064],\n",
       "       [-0.50816289,  0.8161854 ,  0.60136016],\n",
       "       [ 2.57561617,  1.24912054, -0.80129032],\n",
       "       [ 0.20404444,  0.39430968, -0.58880849],\n",
       "       [-0.8106076 , -0.93708285, -1.31840651],\n",
       "       [-0.79963904, -0.51882766,  1.30701792],\n",
       "       [-0.14797953,  0.26976548, -0.19411235],\n",
       "       [-1.0957766 , -2.39406044, -0.17064887]])"
      ]
     },
     "execution_count": 14,
     "metadata": {},
     "output_type": "execute_result"
    }
   ],
   "source": [
    "returns_arr_scaled"
   ]
  },
  {
   "cell_type": "markdown",
   "metadata": {
    "deletable": true,
    "editable": true
   },
   "source": [
    "### Run PCA using a standard Python library\n",
    "\n",
    "* Set standardize to False because we have already scaled the data ourselves\n",
    "* **fracs** gives us the proportion of variance of each principal component i.e. how much each component contributes to explaining the variance in the input"
   ]
  },
  {
   "cell_type": "code",
   "execution_count": 15,
   "metadata": {
    "collapsed": false,
    "deletable": true,
    "editable": true
   },
   "outputs": [
    {
     "data": {
      "text/plain": [
       "array([ 0.60781955,  0.32166829,  0.07051216])"
      ]
     },
     "execution_count": 15,
     "metadata": {},
     "output_type": "execute_result"
    }
   ],
   "source": [
    "results = PCA(returns_arr_scaled, standardize=False)\n",
    "results.fracs"
   ]
  },
  {
   "cell_type": "markdown",
   "metadata": {
    "deletable": true,
    "editable": true
   },
   "source": [
    "### Projection of the original data in PCA space\n",
    "\n",
    "This has all the principal components from the original data. **The original data can be completely reconstructed if we use all the principal components**"
   ]
  },
  {
   "cell_type": "code",
   "execution_count": 16,
   "metadata": {
    "collapsed": false,
    "deletable": true,
    "editable": true
   },
   "outputs": [
    {
     "data": {
      "text/plain": [
       "array([[-0.81352622, -0.0344661 , -0.41981705],\n",
       "       [ 0.48330724, -0.03463209, -0.19943605],\n",
       "       [ 0.28541572, -0.61112976, -0.10701119],\n",
       "       [ 1.15841885, -0.4941762 , -0.58742383],\n",
       "       [-0.04531414, -1.17026147,  0.26126386],\n",
       "       [-0.11741815, -1.02128333, -0.51022887],\n",
       "       [ 0.18735121, -0.08798269, -0.03914118],\n",
       "       [ 1.28672675,  0.98550887,  0.38458144],\n",
       "       [ 2.88930345,  1.31359118,  0.69730893],\n",
       "       [-0.68672399, -1.09413487,  0.07570745],\n",
       "       [ 0.5432214 ,  0.9716301 , -0.14155166],\n",
       "       [-2.77222082, -0.04182361,  0.52840606],\n",
       "       [-0.94790014,  2.20656767, -0.18790612],\n",
       "       [ 0.36740601,  0.65000011, -0.85354254],\n",
       "       [ 2.42484146, -1.53196526,  0.78063647],\n",
       "       [ 0.27415654, -0.64923202, -0.21713054],\n",
       "       [-1.51319453, -0.98980136, -0.06277129],\n",
       "       [-0.59450541,  1.50444085, -0.0110293 ],\n",
       "       [ 0.0422457 , -0.16866673, -0.31955874],\n",
       "       [-2.45159092,  0.29781672,  0.92864413]])"
      ]
     },
     "execution_count": 16,
     "metadata": {},
     "output_type": "execute_result"
    }
   ],
   "source": [
    "results.Y "
   ]
  },
  {
   "cell_type": "markdown",
   "metadata": {
    "deletable": true,
    "editable": true
   },
   "source": [
    "### The weight vector\n",
    "\n",
    "This is the vector used to project the original data into PCA space. This can be used on the principal components to reconstruct the original data."
   ]
  },
  {
   "cell_type": "code",
   "execution_count": 17,
   "metadata": {
    "collapsed": false,
    "deletable": true,
    "editable": true
   },
   "outputs": [
    {
     "data": {
      "text/plain": [
       "array([[ 0.67658261,  0.69753442,  0.23596969],\n",
       "       [-0.25910276, -0.07444624,  0.96297638],\n",
       "       [ 0.68927623, -0.71267348,  0.13036406]])"
      ]
     },
     "execution_count": 17,
     "metadata": {},
     "output_type": "execute_result"
    }
   ],
   "source": [
    "results.Wt"
   ]
  },
  {
   "cell_type": "markdown",
   "metadata": {
    "deletable": true,
    "editable": true
   },
   "source": [
    "### Generating the original data from the principal components and the weight vector"
   ]
  },
  {
   "cell_type": "code",
   "execution_count": 18,
   "metadata": {
    "collapsed": false,
    "deletable": true,
    "editable": true
   },
   "outputs": [
    {
     "data": {
      "text/plain": [
       "array([[-0.83085735, -0.26570419, -0.27988663],\n",
       "       [ 0.19850401,  0.48183445,  0.05469668],\n",
       "       [ 0.27769246,  0.32084764, -0.53510448],\n",
       "       [ 0.50691119,  1.26346797, -0.27910722],\n",
       "       [ 0.45264219, -0.13068243, -1.10356751],\n",
       "       [-0.16651438,  0.35775408, -1.07769436],\n",
       "       [ 0.12257604,  0.16512878, -0.04561865],\n",
       "       [ 0.88031173,  0.55008778,  1.30278588],\n",
       "       [ 2.09513584,  1.4206431 ,  2.03764936],\n",
       "       [-0.1289488 , -0.45151408, -1.20580256],\n",
       "       [ 0.01821392,  0.40746153,  1.04538738],\n",
       "       [-1.50058206, -2.30718683, -0.62555009],\n",
       "       [-1.34257977, -0.69154794,  1.87670064],\n",
       "       [-0.50816289,  0.8161854 ,  0.60136016],\n",
       "       [ 2.57561617,  1.24912054, -0.80129032],\n",
       "       [ 0.20404444,  0.39430968, -0.58880849],\n",
       "       [-0.8106076 , -0.93708285, -1.31840651],\n",
       "       [-0.79963904, -0.51882766,  1.30701792],\n",
       "       [-0.14797953,  0.26976548, -0.19411235],\n",
       "       [-1.0957766 , -2.39406044, -0.17064887]])"
      ]
     },
     "execution_count": 18,
     "metadata": {},
     "output_type": "execute_result"
    }
   ],
   "source": [
    "np.dot(results.Y, results.Wt)"
   ]
  },
  {
   "cell_type": "markdown",
   "metadata": {
    "deletable": true,
    "editable": true
   },
   "source": [
    "## Set up the TensorFlow code for an Autoencoder\n",
    "\n",
    "* The number of inputs of the auto-encoder is equal to the number of outputs (number of columns in our input data)\n",
    "* We have one hidden layer with 2 neurons\n",
    "* Use an AdamOptimizer to minimize the loss\n",
    "\n",
    "Notice that:\n",
    "\n",
    "* The reconstruction loss of the output is the **mean-square error**\n",
    "* Each layer has **no activation function** i.e is a linear layer\n",
    "\n",
    "An Autoencoder set up this way simply **performs a PCA**"
   ]
  },
  {
   "cell_type": "code",
   "execution_count": 19,
   "metadata": {
    "collapsed": false,
    "deletable": true,
    "editable": true
   },
   "outputs": [],
   "source": [
    "import tensorflow as tf\n",
    "\n",
    "n_inputs = 3\n",
    "n_hidden = 2  # codings\n",
    "n_outputs = n_inputs\n",
    "\n",
    "learning_rate = 0.01\n",
    "\n",
    "tf.reset_default_graph()\n",
    "\n",
    "X = tf.placeholder(tf.float32, shape=[None, n_inputs])\n",
    "hidden = tf.layers.dense(X, n_hidden)\n",
    "outputs = tf.layers.dense(hidden, n_outputs)\n",
    "\n",
    "reconstruction_loss = tf.reduce_mean(tf.square(outputs - X))\n",
    "\n",
    "optimizer = tf.train.AdamOptimizer(learning_rate)\n",
    "training_op = optimizer.minimize(reconstruction_loss)\n",
    "\n",
    "init = tf.global_variables_initializer()"
   ]
  },
  {
   "cell_type": "markdown",
   "metadata": {
    "deletable": true,
    "editable": true
   },
   "source": [
    "### Run the training data through the Autoencoder\n",
    "\n",
    "* We do not use any labels for this training only the input data\n",
    "* The output is the reconstructed value using only the 2 principal components\n",
    "\n",
    "*Note that the reconstruction will not be equal to the input data*"
   ]
  },
  {
   "cell_type": "code",
   "execution_count": 20,
   "metadata": {
    "collapsed": false,
    "deletable": true,
    "editable": true
   },
   "outputs": [
    {
     "name": "stdout",
     "output_type": "stream",
     "text": [
      "[[-0.54147941 -0.56488985 -0.2251675 ]\n",
      " [ 0.33596498  0.33969679  0.08070238]\n",
      " [ 0.35145181  0.24458283 -0.52115315]\n",
      " [ 0.91179824  0.84481764 -0.20251609]\n",
      " [ 0.2725642   0.05551781 -1.13763309]\n",
      " [ 0.18517955 -0.00586791 -1.01118553]\n",
      " [ 0.14955285  0.13723189 -0.04051352]\n",
      " [ 0.61521018  0.82415241  1.25267243]\n",
      " [ 1.61446047  1.91756463  1.9467895 ]\n",
      " [-0.18112078 -0.39754951 -1.21568596]\n",
      " [ 0.11577136  0.3065719   1.06385314]\n",
      " [-1.8647716  -1.93058157 -0.69446892]\n",
      " [-1.21306145 -0.82546479  1.90119755]\n",
      " [ 0.08015646  0.20788182  0.71263969]\n",
      " [ 2.03752279  1.80544293 -0.90303415]\n",
      " [ 0.35370678  0.23956604 -0.56050199]\n",
      " [-0.76732135 -0.98180139 -1.31024706]\n",
      " [-0.7920382  -0.52668947  1.30845702]\n",
      " [ 0.07228441  0.04202411 -0.15245324]\n",
      " [-1.73584592 -1.73222053 -0.29173857]]\n"
     ]
    }
   ],
   "source": [
    "n_iterations = 10000\n",
    "\n",
    "with tf.Session() as sess:\n",
    "    init.run()\n",
    "    for iteration in range(n_iterations):\n",
    "        training_op.run(feed_dict={X: returns_arr_scaled})\n",
    "\n",
    "    outputs_val = outputs.eval(feed_dict={X: returns_arr_scaled})\n",
    "    print(outputs_val)"
   ]
  },
  {
   "cell_type": "markdown",
   "metadata": {
    "deletable": true,
    "editable": true
   },
   "source": [
    "### The output of the PCA is equal to the reconstructed output if we used only 2 principal components"
   ]
  },
  {
   "cell_type": "code",
   "execution_count": 21,
   "metadata": {
    "collapsed": false,
    "deletable": true,
    "editable": true
   },
   "outputs": [
    {
     "data": {
      "text/plain": [
       "array([[-0.54148743, -0.56489667, -0.22515757],\n",
       "       [ 0.33597054,  0.33970166,  0.08069597],\n",
       "       [ 0.35145272,  0.2445836 , -0.52115407],\n",
       "       [ 0.91180847,  0.84482659, -0.20252826],\n",
       "       [ 0.27255922,  0.0555134 , -1.13762692],\n",
       "       [ 0.18517425, -0.0058725 , -1.01117886],\n",
       "       [ 0.14955513,  0.1372339 , -0.04051605],\n",
       "       [ 0.61522888,  0.82416877,  1.25265028],\n",
       "       [ 1.61449737,  1.91759669,  1.94674534],\n",
       "       [-0.18113214, -0.39755939, -1.21567209],\n",
       "       [ 0.11578211,  0.30658142,  1.06384063],\n",
       "       [-1.8647998 , -1.93060584, -0.69443525],\n",
       "       [-1.21306054, -0.82546365,  1.90119685],\n",
       "       [ 0.0801637 ,  0.20788828,  0.71263144],\n",
       "       [ 2.037542  ,  1.80545945, -0.90305726],\n",
       "       [ 0.35370736,  0.23956651, -0.56050247],\n",
       "       [-0.76734084, -0.98181828, -1.31022339],\n",
       "       [-0.7920368 , -0.52668796,  1.30845574],\n",
       "       [ 0.07228472,  0.04202443, -0.15245337],\n",
       "       [-1.73586893, -1.73224039, -0.29171069]])"
      ]
     },
     "execution_count": 21,
     "metadata": {},
     "output_type": "execute_result"
    }
   ],
   "source": [
    "np.dot(results.Y[:,[0,1]], results.Wt[[0,1]])"
   ]
  },
  {
   "cell_type": "code",
   "execution_count": null,
   "metadata": {
    "collapsed": false,
    "deletable": true,
    "editable": true
   },
   "outputs": [],
   "source": []
  },
  {
   "cell_type": "code",
   "execution_count": null,
   "metadata": {
    "collapsed": true,
    "deletable": true,
    "editable": true
   },
   "outputs": [],
   "source": []
  },
  {
   "cell_type": "code",
   "execution_count": null,
   "metadata": {
    "collapsed": true,
    "deletable": true,
    "editable": true
   },
   "outputs": [],
   "source": []
  },
  {
   "cell_type": "code",
   "execution_count": null,
   "metadata": {
    "collapsed": true,
    "deletable": true,
    "editable": true
   },
   "outputs": [],
   "source": []
  },
  {
   "cell_type": "code",
   "execution_count": null,
   "metadata": {
    "collapsed": true,
    "deletable": true,
    "editable": true
   },
   "outputs": [],
   "source": []
  }
 ],
 "metadata": {
  "kernelspec": {
   "display_name": "Python 2",
   "language": "python",
   "name": "python2"
  },
  "language_info": {
   "codemirror_mode": {
    "name": "ipython",
    "version": 2
   },
   "file_extension": ".py",
   "mimetype": "text/x-python",
   "name": "python",
   "nbconvert_exporter": "python",
   "pygments_lexer": "ipython2",
   "version": "2.7.11"
  }
 },
 "nbformat": 4,
 "nbformat_minor": 2
}
