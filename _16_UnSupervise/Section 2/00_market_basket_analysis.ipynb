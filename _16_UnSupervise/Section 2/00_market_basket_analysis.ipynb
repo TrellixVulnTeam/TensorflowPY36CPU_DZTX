{
 "cells": [
  {
   "cell_type": "code",
   "execution_count": 3,
   "metadata": {
    "hide_input": false,
    "scrolled": true,
    "slideshow": {
     "slide_type": "skip"
    }
   },
   "outputs": [],
   "source": [
    "from jupyterthemes import jtplot\n",
    "jtplot.style(theme='onedork', context='talk', fscale=1.4, spines=False, gridlines='--', ticks=True, grid=False, figsize=(6, 4.5))\n",
    "from os.path import join\n",
    "import pandas as pd\n",
    "import numpy as np\n",
    "import seaborn as sns\n",
    "current_palette = sns.color_palette()\n",
    "%matplotlib inline\n",
    "import matplotlib.pyplot as plt\n",
    "from matplotlib_venn import  venn2\n",
    "from matplotlib import rcParams\n",
    "from matplotlib.ticker import FuncFormatter\n",
    "from scipy.stats import fisher_exact\n",
    "from ipywidgets import interact, IntSlider, FloatSlider"
   ]
  },
  {
   "cell_type": "markdown",
   "metadata": {
    "hide_input": true,
    "slideshow": {
     "slide_type": "slide"
    }
   },
   "source": [
    "### Simulation of Association Rule Metrics"
   ]
  },
  {
   "cell_type": "code",
   "execution_count": 4,
   "metadata": {
    "hide_input": true,
    "scrolled": false,
    "slideshow": {
     "slide_type": "fragment"
    }
   },
   "outputs": [
    {
     "data": {
      "text/html": [
       "<p>Failed to display Jupyter Widget of type <code>interactive</code>.</p>\n",
       "<p>\n",
       "  If you're reading this message in the Jupyter Notebook or JupyterLab Notebook, it may mean\n",
       "  that the widgets JavaScript is still loading. If this message persists, it\n",
       "  likely means that the widgets JavaScript library is either not installed or\n",
       "  not enabled. See the <a href=\"https://ipywidgets.readthedocs.io/en/stable/user_install.html\">Jupyter\n",
       "  Widgets Documentation</a> for setup instructions.\n",
       "</p>\n",
       "<p>\n",
       "  If you're reading this message in another frontend (for example, a static\n",
       "  rendering on GitHub or <a href=\"https://nbviewer.jupyter.org/\">NBViewer</a>),\n",
       "  it may mean that your frontend doesn't currently support widgets.\n",
       "</p>\n"
      ],
      "text/plain": [
       "interactive(children=(IntSlider(value=100, description='antecedent', max=1000, min=5, step=5), IntSlider(value=100, description='consequent', max=1000, min=5, step=5), FloatSlider(value=0.5, description='joint_percent', max=1.0, min=0.01), IntSlider(value=500, description='total', max=1000, min=10, step=10), Output()), _dom_classes=('widget-interact',))"
      ]
     },
     "metadata": {},
     "output_type": "execute_result"
    }
   ],
   "source": [
    "total_widget = IntSlider(min=10, max=1000, step=10, value=500)\n",
    "antecedent_widget = IntSlider(min=5, max=1000, step=5, value=100)\n",
    "consequent_widget = IntSlider(min=5, max=1000, step=5, value=100)\n",
    "joint_widget = FloatSlider(min=.01, max=1.0, value=.5)\n",
    "\n",
    "def plot_metrics(antecedent, consequent, joint_percent, total):\n",
    "    \"\"\"Interactive Venn Diagram of joint transactions and plot of support, confidence, and lift  \n",
    "        Slider Inputs:\n",
    "            - total: total transactions for all itemsets\n",
    "            - antecedent, consequent: all transactions involving either itemset\n",
    "            - joint_percent: percentage of (smaller of) antecedent/consequent involving both itemsets\n",
    "\n",
    "        Venn Diagram Calculations: \n",
    "            - joint = joint_percent * min(antecedent, consequent)\n",
    "            - antecedent, consequent: original values - joint transactions\n",
    "\n",
    "        Metric Calculations:\n",
    "            - Support Antecedent: antecedent/total\n",
    "            - Support Consequent: Consequent/total\n",
    "            - Support Joint Transactions: joint/total\n",
    "            - Rule Confidence: Support Joint Transactions / total\n",
    "            - Rule Lift: Support Joint Transactions / (Support Antecedent * Support Consequent)\n",
    "        \"\"\"\n",
    "\n",
    "    fig = plt.figure(figsize=(15, 8))\n",
    "    ax1 = plt.subplot2grid((2, 2), (0, 0)) \n",
    "    ax2 = plt.subplot2grid((2, 2), (0, 1))\n",
    "    ax3 = plt.subplot2grid((2, 2), (1, 0))\n",
    "    ax4 = plt.subplot2grid((2, 2), (1, 1))\n",
    " \n",
    "    \n",
    "    joint = int(joint_percent * min(antecedent, consequent))\n",
    "    \n",
    "    contingency_table = [[joint, consequent - joint], [antecedent - joint, max(total - antecedent - consequent + joint, 0)]]\n",
    "    contingency_df = pd.DataFrame(contingency_table, columns=['Consequent', 'Not Consequent'], index=['Antecedent', 'Not Antecedent']).astype(int)\n",
    "    sns.heatmap(contingency_df, ax=ax1, annot=True, cmap='Blues', square=True, vmin=0, vmax=total, fmt='.0f')\n",
    "    ax1.set_title('Contingency Table')\n",
    "    \n",
    "    v = venn2(subsets=(antecedent - joint, consequent - joint, joint),\n",
    "              set_labels=['Antecedent', 'Consequent'],\n",
    "              set_colors=current_palette[:2],\n",
    "              ax=ax2)\n",
    "    ax2.set_title(\"{} Transactions\".format(total))\n",
    "\n",
    "    support_antecedent = antecedent / total\n",
    "    support_consequent = consequent / total\n",
    "\n",
    "    support = pd.Series({'Antecedent': support_antecedent,\n",
    "                         'Consequent': support_consequent})\n",
    "    support.plot(kind='bar', ax=ax3,\n",
    "                 color=current_palette[:2], title='Support', ylim=(0, 1), rot=0)\n",
    "    ax3.yaxis.set_major_formatter(\n",
    "        FuncFormatter(lambda y, _: '{:.0%}'.format(y)))\n",
    "\n",
    "    support_joint = joint / total\n",
    "    confidence = support_joint / support_antecedent\n",
    "    lift = support_joint / (support_antecedent * support_consequent)\n",
    "\n",
    "    _, pvalue = fisher_exact(contingency_table, alternative='greater')\n",
    "\n",
    "    metrics = pd.Series(\n",
    "        {'Confidence': confidence, 'Lift': lift, 'p-Value': pvalue})\n",
    "    metrics.plot(kind='bar', ax=ax4,\n",
    "                 color=current_palette[2:5], rot=0, ylim=(0, 2))\n",
    "    ax3.yaxis.set_major_formatter(\n",
    "        FuncFormatter(lambda y, _: '{:.0%}'.format(y)))\n",
    "\n",
    "    for ax, series in {ax3: support, ax4: metrics}.items():\n",
    "        rects = ax.patches\n",
    "        labels = ['{:.0%}'.format(x) for x in series.tolist()]\n",
    "        for rect, label in zip(rects, labels):\n",
    "            height = min(rect.get_height() + .01, 2.05)\n",
    "            ax.text(rect.get_x() + rect.get_width() / 2,\n",
    "                    height, label, ha='center', va='bottom')\n",
    "\n",
    "    plt.suptitle('Assocation Rule Analysis {Antecedent => Consequent}')\n",
    "    plt.tight_layout()\n",
    "    plt.subplots_adjust(top=0.9)\n",
    "    plt.show()\n",
    "\n",
    "interact(plot_metrics,\n",
    "         antecedent=antecedent_widget,\n",
    "         consequent=consequent_widget,\n",
    "         joint_percent=joint_widget,\n",
    "         total=total_widget);"
   ]
  }
 ],
 "metadata": {
  "celltoolbar": "Slideshow",
  "hide_input": true,
  "kernelspec": {
   "display_name": "Python 3",
   "language": "python",
   "name": "python3"
  },
  "language_info": {
   "codemirror_mode": {
    "name": "ipython",
    "version": 3
   },
   "file_extension": ".py",
   "mimetype": "text/x-python",
   "name": "python",
   "nbconvert_exporter": "python",
   "pygments_lexer": "ipython3",
   "version": "3.6.3"
  }
 },
 "nbformat": 4,
 "nbformat_minor": 2
}
