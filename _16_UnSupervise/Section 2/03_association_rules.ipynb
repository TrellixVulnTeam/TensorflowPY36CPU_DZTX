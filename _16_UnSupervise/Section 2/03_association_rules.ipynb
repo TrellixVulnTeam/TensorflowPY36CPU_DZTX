{
 "cells": [
  {
   "cell_type": "markdown",
   "metadata": {
    "slideshow": {
     "slide_type": "skip"
    }
   },
   "source": [
    "### Imports"
   ]
  },
  {
   "cell_type": "code",
   "execution_count": 1,
   "metadata": {
    "slideshow": {
     "slide_type": "skip"
    }
   },
   "outputs": [],
   "source": [
    "import pandas as pd\n",
    "import numpy as np\n",
    "from itertools import combinations\n",
    "from time import time\n",
    "from scipy.stats import fisher_exact\n",
    "from jupyterthemes import jtplot\n",
    "jtplot.style(theme='onedork', context='talk', fscale=1.8, spines=False, gridlines='--', ticks=True, grid=False, figsize=(12, 8))\n",
    "import warnings\n",
    "warnings.filterwarnings('ignore')"
   ]
  },
  {
   "cell_type": "markdown",
   "metadata": {
    "slideshow": {
     "slide_type": "skip"
    }
   },
   "source": [
    "### Load the data & build the product-transaction matrix"
   ]
  },
  {
   "cell_type": "code",
   "execution_count": 2,
   "metadata": {
    "hide_input": false,
    "slideshow": {
     "slide_type": "skip"
    }
   },
   "outputs": [],
   "source": [
    "def get_transaction_data():\n",
    "    \"\"\"Load groceries transaction data into DataFrame\"\"\"\n",
    "    df = pd.read_csv('grocery_transactions.csv')\n",
    "    df = df.stack().reset_index(-1, drop=True)\n",
    "    df.index.names = ['tx_id']\n",
    "    return pd.get_dummies(df, prefix='', prefix_sep='').groupby(level='tx_id').sum()"
   ]
  },
  {
   "cell_type": "code",
   "execution_count": 3,
   "metadata": {
    "run_control": {
     "marked": true
    },
    "slideshow": {
     "slide_type": "fragment"
    }
   },
   "outputs": [],
   "source": [
    "data = get_transaction_data()\n",
    "\n",
    "item_id = pd.Series(dict(enumerate(data.columns)))\n",
    "transactions = data.values\n",
    "n_txn = transactions.shape[0]\n",
    "min_support = 0.01\n",
    "\n",
    "item_length = 1\n",
    "candidates = list(zip(item_id.index))\n",
    "itemsets = pd.DataFrame(columns=['support', 'length'])\n",
    "\n",
    "new_rules = []\n",
    "rule_data = ['itemset', 'antecedent', 'consequent',\n",
    "             'support_rule', 'support_antecedent', 'support_consequent',\n",
    "             'confidence', 'lift', 'pvalue']\n",
    "rules = pd.DataFrame(columns=rule_data)"
   ]
  },
  {
   "cell_type": "code",
   "execution_count": 4,
   "metadata": {
    "slideshow": {
     "slide_type": "skip"
    }
   },
   "outputs": [],
   "source": [
    "def prune_candidates(all_txn, candidates, candidate_size, min_support):\n",
    "    \"\"\"Return DataFrame with itemsets of candidate_size with min_support\n",
    "        all_txn: numpy array of transaction-product matrix\n",
    "        candidates: list of tuples containing product id\n",
    "        candidate_size: length of item set\n",
    "        min_support: support threshold\n",
    "        \"\"\"\n",
    "    itemsets = {}\n",
    "    for candidate in candidates:\n",
    "        candidate_txn = all_txn[:, candidate].reshape(-1, candidate_size)\n",
    "        relevant_txn = candidate_txn[(candidate_txn == 1).all(axis=1)]\n",
    "        support = relevant_txn.shape[0] / all_txn.shape[0]\n",
    "        if support >= min_support:\n",
    "            itemsets[frozenset(candidate)] = support\n",
    "    return pd.Series(itemsets).to_frame('support').assign(length=candidate_size)"
   ]
  },
  {
   "cell_type": "code",
   "execution_count": 5,
   "metadata": {
    "slideshow": {
     "slide_type": "slide"
    }
   },
   "outputs": [],
   "source": [
    "def find_association_rules(itemsets, n_txn, n_items, min_confidence=0, min_lift=0, min_pvalue=0):\n",
    "    \"\"\"Find rules {antecedent} => {consequent} with min_confidence, min_lift and min_pvalue\n",
    "    itemsets: DataFrame containing all itemsets and their support\n",
    "    min_confidence, min_lift, min_pvalue: confidence & lift & pvalue thresholds\n",
    "    \"\"\"\n",
    "    support = itemsets.loc[:, 'support'].to_dict()\n",
    "    new_rules = []\n",
    "    for itemset in itemsets.loc[itemsets.length == n_items].index:\n",
    "        for n_antecedents in range(1, n_items):\n",
    "            antecedents = [frozenset(a)\n",
    "                           for a in combinations(itemset, r=n_antecedents)]\n",
    "            for antecedent in antecedents:\n",
    "                consequent = itemset.difference(antecedent)\n",
    "                sAC = support[itemset]\n",
    "                sA, sC = support[antecedent], support[consequent]\n",
    "                confidence = sAC / sA\n",
    "                lift = sAC / (sA * sC)\n",
    "                contingency_table = n_txn * np.array([[sAC, sA - sAC],\n",
    "                                        [sC - sAC, 1 - sA - sC + sAC]])\n",
    "                _, p_value = fisher_exact(contingency_table,\n",
    "                                          alternative='greater')\n",
    "\n",
    "                if (confidence >= min_confidence) and (lift >= min_lift) and (p_value >= min_pvalue):\n",
    "                    new_rule = [itemset, antecedent, consequent,\n",
    "                                support[itemset], support[antecedent], support[consequent],\n",
    "                                confidence, lift, p_value]\n",
    "                    new_rules.append(new_rule)\n",
    "    return new_rules"
   ]
  },
  {
   "cell_type": "code",
   "execution_count": 6,
   "metadata": {
    "slideshow": {
     "slide_type": "slide"
    }
   },
   "outputs": [
    {
     "name": "stdout",
     "output_type": "stream",
     "text": [
      "Itemset Length 1\tCandidates:     169\tNew Items:      88\tNew Rules:       0\n",
      "Itemset Length 2\tCandidates:   3,828\tNew Items:     213\tNew Rules:     426\n",
      "Itemset Length 3\tCandidates:  16,215\tNew Items:      32\tNew Rules:     192\n",
      "Itemset Length 4\tCandidates:   3,060\tNew Items:       0\tNew Rules:       0\n"
     ]
    }
   ],
   "source": [
    "while candidates:\n",
    "    new_items = prune_candidates(transactions, candidates, item_length, min_support)\n",
    "    itemsets = itemsets.append(new_items)\n",
    "\n",
    "    if item_length > 1:\n",
    "        new_rules = find_association_rules(itemsets, n_txn, item_length)\n",
    "        rules = pd.concat([rules, pd.DataFrame(new_rules, columns=rules.columns)], ignore_index=True)\n",
    "        \n",
    "    print('Itemset Length {}\\tCandidates: {:>7,.0f}\\tNew Items: {:>7,.0f}\\tNew Rules: {:>7,.0f}'.format(\n",
    "            item_length, len(candidates), len(new_items), len(new_rules)))\n",
    "    \n",
    "    item_length += 1\n",
    "    remaining_items = np.unique([item for t in new_items.index for item in t])\n",
    "    candidates = list(combinations(remaining_items, r=item_length))\n",
    "\n",
    "rules = rules.apply(pd.to_numeric, errors='ignore')"
   ]
  },
  {
   "cell_type": "code",
   "execution_count": 7,
   "metadata": {
    "slideshow": {
     "slide_type": "slide"
    }
   },
   "outputs": [
    {
     "name": "stdout",
     "output_type": "stream",
     "text": [
      "<class 'pandas.core.frame.DataFrame'>\n",
      "RangeIndex: 618 entries, 0 to 617\n",
      "Data columns (total 9 columns):\n",
      "itemset               618 non-null object\n",
      "antecedent            618 non-null object\n",
      "consequent            618 non-null object\n",
      "support_rule          618 non-null float64\n",
      "support_antecedent    618 non-null float64\n",
      "support_consequent    618 non-null float64\n",
      "confidence            618 non-null float64\n",
      "lift                  618 non-null float64\n",
      "pvalue                618 non-null float64\n",
      "dtypes: float64(6), object(3)\n",
      "memory usage: 43.5+ KB\n"
     ]
    },
    {
     "data": {
      "text/html": [
       "<div>\n",
       "<style scoped>\n",
       "    .dataframe tbody tr th:only-of-type {\n",
       "        vertical-align: middle;\n",
       "    }\n",
       "\n",
       "    .dataframe tbody tr th {\n",
       "        vertical-align: top;\n",
       "    }\n",
       "\n",
       "    .dataframe thead th {\n",
       "        text-align: right;\n",
       "    }\n",
       "</style>\n",
       "<table border=\"1\" class=\"dataframe\">\n",
       "  <thead>\n",
       "    <tr style=\"text-align: right;\">\n",
       "      <th></th>\n",
       "      <th>itemset</th>\n",
       "      <th>antecedent</th>\n",
       "      <th>consequent</th>\n",
       "      <th>support_rule</th>\n",
       "      <th>support_antecedent</th>\n",
       "      <th>support_consequent</th>\n",
       "      <th>confidence</th>\n",
       "      <th>lift</th>\n",
       "      <th>pvalue</th>\n",
       "    </tr>\n",
       "  </thead>\n",
       "  <tbody>\n",
       "    <tr>\n",
       "      <th>0</th>\n",
       "      <td>(9, 103)</td>\n",
       "      <td>(9)</td>\n",
       "      <td>(103)</td>\n",
       "      <td>0.019727</td>\n",
       "      <td>0.052471</td>\n",
       "      <td>0.193512</td>\n",
       "      <td>0.375969</td>\n",
       "      <td>1.942869</td>\n",
       "      <td>2.229585e-23</td>\n",
       "    </tr>\n",
       "    <tr>\n",
       "      <th>1</th>\n",
       "      <td>(9, 103)</td>\n",
       "      <td>(103)</td>\n",
       "      <td>(9)</td>\n",
       "      <td>0.019727</td>\n",
       "      <td>0.193512</td>\n",
       "      <td>0.052471</td>\n",
       "      <td>0.101944</td>\n",
       "      <td>1.942869</td>\n",
       "      <td>2.229585e-23</td>\n",
       "    </tr>\n",
       "    <tr>\n",
       "      <th>2</th>\n",
       "      <td>(9, 123)</td>\n",
       "      <td>(9)</td>\n",
       "      <td>(123)</td>\n",
       "      <td>0.013626</td>\n",
       "      <td>0.052471</td>\n",
       "      <td>0.183954</td>\n",
       "      <td>0.259690</td>\n",
       "      <td>1.411714</td>\n",
       "      <td>7.615064e-06</td>\n",
       "    </tr>\n",
       "    <tr>\n",
       "      <th>3</th>\n",
       "      <td>(9, 123)</td>\n",
       "      <td>(123)</td>\n",
       "      <td>(9)</td>\n",
       "      <td>0.013626</td>\n",
       "      <td>0.183954</td>\n",
       "      <td>0.052471</td>\n",
       "      <td>0.074074</td>\n",
       "      <td>1.411714</td>\n",
       "      <td>7.655712e-06</td>\n",
       "    </tr>\n",
       "    <tr>\n",
       "      <th>4</th>\n",
       "      <td>(9, 124)</td>\n",
       "      <td>(9)</td>\n",
       "      <td>(124)</td>\n",
       "      <td>0.017389</td>\n",
       "      <td>0.052471</td>\n",
       "      <td>0.109010</td>\n",
       "      <td>0.331395</td>\n",
       "      <td>3.040058</td>\n",
       "      <td>7.774255e-45</td>\n",
       "    </tr>\n",
       "  </tbody>\n",
       "</table>\n",
       "</div>"
      ],
      "text/plain": [
       "    itemset antecedent consequent  support_rule  support_antecedent  \\\n",
       "0  (9, 103)        (9)      (103)      0.019727            0.052471   \n",
       "1  (9, 103)      (103)        (9)      0.019727            0.193512   \n",
       "2  (9, 123)        (9)      (123)      0.013626            0.052471   \n",
       "3  (9, 123)      (123)        (9)      0.013626            0.183954   \n",
       "4  (9, 124)        (9)      (124)      0.017389            0.052471   \n",
       "\n",
       "   support_consequent  confidence      lift        pvalue  \n",
       "0            0.193512    0.375969  1.942869  2.229585e-23  \n",
       "1            0.052471    0.101944  1.942869  2.229585e-23  \n",
       "2            0.183954    0.259690  1.411714  7.615064e-06  \n",
       "3            0.052471    0.074074  1.411714  7.655712e-06  \n",
       "4            0.109010    0.331395  3.040058  7.774255e-45  "
      ]
     },
     "execution_count": 7,
     "metadata": {},
     "output_type": "execute_result"
    }
   ],
   "source": [
    "rules.info()\n",
    "rules.head()"
   ]
  },
  {
   "cell_type": "code",
   "execution_count": 8,
   "metadata": {
    "slideshow": {
     "slide_type": "slide"
    }
   },
   "outputs": [],
   "source": [
    "with pd.HDFStore('rules.h5') as store:\n",
    "    store.put('rules', rules)"
   ]
  }
 ],
 "metadata": {
  "celltoolbar": "Slideshow",
  "hide_input": false,
  "kernelspec": {
   "display_name": "Python 3",
   "language": "python",
   "name": "python3"
  },
  "language_info": {
   "codemirror_mode": {
    "name": "ipython",
    "version": 3
   },
   "file_extension": ".py",
   "mimetype": "text/x-python",
   "name": "python",
   "nbconvert_exporter": "python",
   "pygments_lexer": "ipython3",
   "version": "3.6.3"
  }
 },
 "nbformat": 4,
 "nbformat_minor": 2
}
