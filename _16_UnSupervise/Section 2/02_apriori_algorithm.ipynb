{
 "cells": [
  {
   "cell_type": "markdown",
   "metadata": {
    "slideshow": {
     "slide_type": "skip"
    }
   },
   "source": [
    "### Imports"
   ]
  },
  {
   "cell_type": "code",
   "execution_count": 1,
   "metadata": {
    "slideshow": {
     "slide_type": "skip"
    }
   },
   "outputs": [],
   "source": [
    "import pandas as pd\n",
    "import numpy as np\n",
    "from itertools import combinations\n",
    "from time import time\n",
    "from jupyterthemes import jtplot\n",
    "jtplot.style(theme='onedork', context='talk', fscale=1.8, spines=False, gridlines='--', ticks=True, grid=False, figsize=(12, 8))"
   ]
  },
  {
   "cell_type": "markdown",
   "metadata": {
    "slideshow": {
     "slide_type": "slide"
    }
   },
   "source": [
    "### Load the data & build the product-transaction matrix"
   ]
  },
  {
   "cell_type": "code",
   "execution_count": 2,
   "metadata": {
    "hide_input": false,
    "slideshow": {
     "slide_type": "fragment"
    }
   },
   "outputs": [],
   "source": [
    "def get_transaction_data():\n",
    "    \"\"\"Load groceries transaction data into DataFrame\"\"\"\n",
    "    df = pd.read_csv('grocery_transactions.csv')\n",
    "    df = df.stack().reset_index(-1, drop=True)\n",
    "    df.index.names = ['tx_id']\n",
    "    df = pd.get_dummies(df, prefix='', prefix_sep='')\n",
    "    return df.groupby(level='tx_id').sum()"
   ]
  },
  {
   "cell_type": "markdown",
   "metadata": {
    "slideshow": {
     "slide_type": "slide"
    }
   },
   "source": [
    "### Create itemset candidates"
   ]
  },
  {
   "cell_type": "code",
   "execution_count": 11,
   "metadata": {
    "slideshow": {
     "slide_type": "fragment"
    }
   },
   "outputs": [
    {
     "name": "stdout",
     "output_type": "stream",
     "text": [
      "0    Instant food products\n",
      "1                 UHT-milk\n",
      "2         abrasive cleaner\n",
      "3         artif. sweetener\n",
      "4           baby cosmetics\n",
      "dtype: object\n",
      "(9834, 169)\n"
     ]
    }
   ],
   "source": [
    "data = get_transaction_data()\n",
    "\n",
    "item_id = pd.Series(dict(enumerate(data.columns)))\n",
    "print(item_id.head())\n",
    "transactions = data.values\n",
    "print(transactions.shape)\n",
    "\n",
    "min_support = 0.01\n",
    "item_length = 1\n",
    "candidates = list(zip(item_id.index))\n",
    "candidates_tested = 0\n",
    "itemsets = pd.DataFrame(columns=['support', 'length'])"
   ]
  },
  {
   "cell_type": "code",
   "execution_count": 4,
   "metadata": {
    "slideshow": {
     "slide_type": "fragment"
    }
   },
   "outputs": [
    {
     "data": {
      "text/plain": [
       "[(0,), (1,), (2,), (3,), (4,), (5,), (6,), (7,), (8,), (9,)]"
      ]
     },
     "execution_count": 4,
     "metadata": {},
     "output_type": "execute_result"
    }
   ],
   "source": [
    "candidates[:10]"
   ]
  },
  {
   "cell_type": "markdown",
   "metadata": {
    "slideshow": {
     "slide_type": "slide"
    }
   },
   "source": [
    "### Candidate Generation"
   ]
  },
  {
   "cell_type": "code",
   "execution_count": 5,
   "metadata": {
    "slideshow": {
     "slide_type": "fragment"
    }
   },
   "outputs": [
    {
     "name": "stdout",
     "output_type": "stream",
     "text": [
      "Length 1:        169 [(0,), (1,), (2,), (3,), (4,)]\n",
      "Length 2:     14,196 [(0, 1), (0, 2), (0, 3), (0, 4), (0, 5)]\n",
      "Length 3:    790,244 [(0, 1, 2), (0, 1, 3), (0, 1, 4), (0, 1, 5), (0, 1, 6)]\n",
      "Length 4: 32,795,126 [(0, 1, 2, 3), (0, 1, 2, 4), (0, 1, 2, 5), (0, 1, 2, 6), (0, 1, 2, 7)]\n"
     ]
    }
   ],
   "source": [
    "for i in range(1, 5):\n",
    "    remaining_items = np.unique([item for t in candidates for item in t])\n",
    "    new_candidates = list(combinations(remaining_items, r=i))\n",
    "    print('Length {}: {:>10,.0f}'.format(i, len(new_candidates)), \n",
    "          new_candidates[:5])"
   ]
  },
  {
   "cell_type": "markdown",
   "metadata": {
    "slideshow": {
     "slide_type": "slide"
    }
   },
   "source": [
    "### The apriori pruning based on support"
   ]
  },
  {
   "cell_type": "code",
   "execution_count": 6,
   "metadata": {
    "slideshow": {
     "slide_type": "fragment"
    }
   },
   "outputs": [],
   "source": [
    "def prune_candidates(all_txn, candidates, candidate_size, min_support):\n",
    "    \"\"\"Return DataFrame with itemsets of candidate_size with min_support\n",
    "        all_txn: numpy array of transaction-product matrix\n",
    "        candidates: list of tuples containing product id\n",
    "        candidate_size: length of item set\n",
    "        min_support: support threshold\n",
    "        \"\"\"\n",
    "    itemsets = {}\n",
    "    for candidate in candidates:\n",
    "        candidate_txn = all_txn[:, candidate].reshape(-1, candidate_size)  \n",
    "        relevant_txn = candidate_txn[(candidate_txn == 1).all(axis=1)]\n",
    "        candidate_support = relevant_txn.shape[0] / all_txn.shape[0]\n",
    "        if candidate_support >= min_support:\n",
    "            itemsets[frozenset(candidate)] = candidate_support\n",
    "    result = pd.Series(itemsets).to_frame('support')\n",
    "    return result.assign(length=candidate_size) "
   ]
  },
  {
   "cell_type": "markdown",
   "metadata": {
    "slideshow": {
     "slide_type": "slide"
    }
   },
   "source": [
    "### Running the apriori algorithm"
   ]
  },
  {
   "cell_type": "code",
   "execution_count": 7,
   "metadata": {
    "slideshow": {
     "slide_type": "fragment"
    }
   },
   "outputs": [
    {
     "name": "stdout",
     "output_type": "stream",
     "text": [
      "Itemset Length 1\tCandidates:     169\tNew Items:      88\n",
      "Itemset Length 2\tCandidates:   3,828\tNew Items:     213\n",
      "Itemset Length 3\tCandidates:  16,215\tNew Items:      32\n",
      "Itemset Length 4\tCandidates:   3,060\tNew Items:       0\n",
      "\n",
      "Potential Itemsets: 748,288,838,313,422,294,120,286,634,350,736,906,063,837,462,003,712 \n",
      "Tested Itemsets: 23,272\n"
     ]
    }
   ],
   "source": [
    "while candidates:\n",
    "    new_items = prune_candidates(\n",
    "        transactions, candidates, item_length, min_support)\n",
    "    itemsets = itemsets.append(new_items)\n",
    "    candidates_tested += len(candidates)\n",
    "    print('Itemset Length {}\\tCandidates: {:>7,.0f}\\tNew Items: {:>7,.0f}'\n",
    "          .format(item_length, len(candidates), len(new_items)))\n",
    "    item_length += 1\n",
    "    remaining_items = np.unique([item for t in new_items.index for item in t])\n",
    "    candidates = list(combinations(remaining_items, r=item_length))\n",
    "print('\\nPotential Itemsets: {:,.0f} \\nTested Itemsets: {:,.0f}'.format(\n",
    "    2**len(item_id) - 1, candidates_tested))"
   ]
  },
  {
   "cell_type": "code",
   "execution_count": 8,
   "metadata": {
    "slideshow": {
     "slide_type": "slide"
    }
   },
   "outputs": [
    {
     "name": "stdout",
     "output_type": "stream",
     "text": [
      "<class 'pandas.core.frame.DataFrame'>\n",
      "Index: 333 entries, (1) to (162, 166, 167)\n",
      "Data columns (total 2 columns):\n",
      "support    333 non-null float64\n",
      "length     333 non-null object\n",
      "dtypes: float64(1), object(1)\n",
      "memory usage: 7.8+ KB\n"
     ]
    },
    {
     "data": {
      "text/html": [
       "<div>\n",
       "<style scoped>\n",
       "    .dataframe tbody tr th:only-of-type {\n",
       "        vertical-align: middle;\n",
       "    }\n",
       "\n",
       "    .dataframe tbody tr th {\n",
       "        vertical-align: top;\n",
       "    }\n",
       "\n",
       "    .dataframe thead th {\n",
       "        text-align: right;\n",
       "    }\n",
       "</style>\n",
       "<table border=\"1\" class=\"dataframe\">\n",
       "  <thead>\n",
       "    <tr style=\"text-align: right;\">\n",
       "      <th></th>\n",
       "      <th>support</th>\n",
       "      <th>length</th>\n",
       "    </tr>\n",
       "  </thead>\n",
       "  <tbody>\n",
       "    <tr>\n",
       "      <th>(166)</th>\n",
       "      <td>0.255542</td>\n",
       "      <td>1</td>\n",
       "    </tr>\n",
       "    <tr>\n",
       "      <th>(103)</th>\n",
       "      <td>0.193512</td>\n",
       "      <td>1</td>\n",
       "    </tr>\n",
       "    <tr>\n",
       "      <th>(123)</th>\n",
       "      <td>0.183954</td>\n",
       "      <td>1</td>\n",
       "    </tr>\n",
       "    <tr>\n",
       "      <th>(139)</th>\n",
       "      <td>0.174395</td>\n",
       "      <td>1</td>\n",
       "    </tr>\n",
       "    <tr>\n",
       "      <th>(167)</th>\n",
       "      <td>0.139516</td>\n",
       "      <td>1</td>\n",
       "    </tr>\n",
       "  </tbody>\n",
       "</table>\n",
       "</div>"
      ],
      "text/plain": [
       "        support length\n",
       "(166)  0.255542      1\n",
       "(103)  0.193512      1\n",
       "(123)  0.183954      1\n",
       "(139)  0.174395      1\n",
       "(167)  0.139516      1"
      ]
     },
     "execution_count": 8,
     "metadata": {},
     "output_type": "execute_result"
    }
   ],
   "source": [
    "itemsets.info()\n",
    "itemsets.sort_values('support', ascending=False).head()"
   ]
  },
  {
   "cell_type": "code",
   "execution_count": 9,
   "metadata": {
    "slideshow": {
     "slide_type": "slide"
    }
   },
   "outputs": [
    {
     "data": {
      "text/plain": [
       "1     88\n",
       "2    213\n",
       "3     32\n",
       "Name: length, dtype: int64"
      ]
     },
     "execution_count": 9,
     "metadata": {},
     "output_type": "execute_result"
    }
   ],
   "source": [
    "itemsets.length.value_counts().sort_index()"
   ]
  },
  {
   "cell_type": "code",
   "execution_count": 10,
   "metadata": {
    "slideshow": {
     "slide_type": "fragment"
    }
   },
   "outputs": [
    {
     "data": {
      "text/plain": [
       "count    333.000000\n",
       "mean       0.025071\n",
       "std        0.027325\n",
       "min        0.010067\n",
       "25%        0.011897\n",
       "50%        0.016270\n",
       "75%        0.026032\n",
       "max        0.255542\n",
       "Name: support, dtype: float64"
      ]
     },
     "execution_count": 10,
     "metadata": {},
     "output_type": "execute_result"
    }
   ],
   "source": [
    "itemsets.support.describe()"
   ]
  }
 ],
 "metadata": {
  "celltoolbar": "Slideshow",
  "hide_input": false,
  "kernelspec": {
   "display_name": "Python 3",
   "language": "python",
   "name": "python3"
  },
  "language_info": {
   "codemirror_mode": {
    "name": "ipython",
    "version": 3
   },
   "file_extension": ".py",
   "mimetype": "text/x-python",
   "name": "python",
   "nbconvert_exporter": "python",
   "pygments_lexer": "ipython3",
   "version": "3.6.3"
  }
 },
 "nbformat": 4,
 "nbformat_minor": 2
}
