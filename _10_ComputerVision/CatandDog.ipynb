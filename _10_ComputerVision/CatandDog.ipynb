{
 "cells": [
  {
   "cell_type": "markdown",
   "metadata": {
    "collapsed": true
   },
   "source": [
    "# Cat and Dog Dataset\n",
    "*by Marvin Bertin*\n",
    "<img src=\"../../images/keras-tensorflow-logo.jpg\" width=\"400\">"
   ]
  },
  {
   "cell_type": "markdown",
   "metadata": {
    "collapsed": true
   },
   "source": [
    "# Image Classification Task\n",
    "This cat and dog image data is a computer-vision dataset used for object recognition.\n",
    "\n",
    "The dataset consists of 25000 of colour images of various size. Half are pictures of cats and the other half of dogs.\n",
    "\n",
    "<img src=\"../../images/classification.jpg\" width=\"400\">"
   ]
  },
  {
   "cell_type": "code",
   "execution_count": 1,
   "metadata": {
    "collapsed": true
   },
   "outputs": [],
   "source": [
    "import tensorflow as tf\n",
    "import numpy as np\n",
    "import matplotlib\n",
    "import matplotlib.pyplot as plt\n",
    "import glob\n",
    "import re\n",
    "import shutil\n",
    "import os\n",
    "%matplotlib inline\n",
    "\n",
    "tf_keras = tf.contrib.keras"
   ]
  },
  {
   "cell_type": "markdown",
   "metadata": {
    "collapsed": true
   },
   "source": [
    "# Download Cat and Dog Dataset\n",
    "\n",
    "https://www.kaggle.com/c/dogs-vs-cats/data\n",
    "download the train file only and unzip it on your machine in a folder named `data`"
   ]
  },
  {
   "cell_type": "markdown",
   "metadata": {},
   "source": [
    "## Separate Cat and Dog Images"
   ]
  },
  {
   "cell_type": "code",
   "execution_count": 2,
   "metadata": {
    "collapsed": true
   },
   "outputs": [],
   "source": [
    "def get_cat_and_dog_files(data):\n",
    "\n",
    "    cat_files = []\n",
    "    dog_files = []\n",
    "\n",
    "    for string in data:\n",
    "        # file example: '../data/train/cat.10005.jpg'\n",
    "        result = re.search(\"\\/([a-z]+)\\.\", string)\n",
    "\n",
    "        if result is not None:\n",
    "            if result.group(1) == \"cat\":\n",
    "                cat_files.append(string)\n",
    "            elif result.group(1) == \"dog\":\n",
    "                dog_files.append(string)\n",
    "        else:\n",
    "            print(\"ERROR: can't find a match for: {}\".format(string))\n",
    "    return cat_files, dog_files       "
   ]
  },
  {
   "cell_type": "markdown",
   "metadata": {},
   "source": [
    "# Dataset size"
   ]
  },
  {
   "cell_type": "code",
   "execution_count": 3,
   "metadata": {
    "collapsed": false
   },
   "outputs": [
    {
     "name": "stdout",
     "output_type": "stream",
     "text": [
      "0 images found:\n0 cat images\n0 dog images\n"
     ]
    }
   ],
   "source": [
    "dataset_path = \"../data/train/*.jpg\"\n",
    "data = glob.glob(dataset_path)\n",
    "\n",
    "print(\"{} images found:\".format(len(data)))\n",
    "\n",
    "cat_files, dog_files = get_cat_and_dog_files(data)\n",
    "\n",
    "print(\"{} cat images\".format(len(cat_files)))\n",
    "print(\"{} dog images\".format(len(dog_files)))"
   ]
  },
  {
   "cell_type": "markdown",
   "metadata": {},
   "source": [
    "# Visualize Dataset"
   ]
  },
  {
   "cell_type": "code",
   "execution_count": 4,
   "metadata": {
    "collapsed": true
   },
   "outputs": [],
   "source": [
    "def plot_image_grid(images_files):\n",
    "    # figure size\n",
    "    fig = plt.figure(figsize=(8, 8))\n",
    "    \n",
    "    # load images\n",
    "    images = [tf_keras.preprocessing.image.load_img(img) for img in images_files]\n",
    "    \n",
    "    # plot image grid\n",
    "    for x in range(4):\n",
    "        for y in range(4):\n",
    "            ax = fig.add_subplot(4, 4, 4*y+x+1)\n",
    "            plt.imshow(images[4*y+x])\n",
    "            plt.xticks(np.array([]))\n",
    "            plt.yticks(np.array([]))\n",
    "    plt.show()"
   ]
  },
  {
   "cell_type": "markdown",
   "metadata": {},
   "source": [
    "# Cat Sample Images"
   ]
  },
  {
   "cell_type": "code",
   "execution_count": 5,
   "metadata": {
    "collapsed": false
   },
   "outputs": [
    {
     "ename": "IndexError",
     "evalue": "list index out of range",
     "traceback": [
      "\u001b[1;31m---------------------------------------------------------------------------\u001b[0m",
      "\u001b[1;31mIndexError\u001b[0m                                Traceback (most recent call last)",
      "\u001b[1;32m<ipython-input-5-2486e4d030c5>\u001b[0m in \u001b[0;36m<module>\u001b[1;34m()\u001b[0m\n\u001b[1;32m----> 1\u001b[1;33m \u001b[0mplot_image_grid\u001b[0m\u001b[1;33m(\u001b[0m\u001b[0mcat_files\u001b[0m\u001b[1;33m[\u001b[0m\u001b[1;33m:\u001b[0m\u001b[1;36m16\u001b[0m\u001b[1;33m]\u001b[0m\u001b[1;33m)\u001b[0m\u001b[1;33m\u001b[0m\u001b[0m\n\u001b[0m",
      "\u001b[1;32m<ipython-input-4-ec0887c3e0eb>\u001b[0m in \u001b[0;36mplot_image_grid\u001b[1;34m(images_files)\u001b[0m\n\u001b[0;32m     10\u001b[0m         \u001b[1;32mfor\u001b[0m \u001b[0my\u001b[0m \u001b[1;32min\u001b[0m \u001b[0mrange\u001b[0m\u001b[1;33m(\u001b[0m\u001b[1;36m4\u001b[0m\u001b[1;33m)\u001b[0m\u001b[1;33m:\u001b[0m\u001b[1;33m\u001b[0m\u001b[0m\n\u001b[0;32m     11\u001b[0m             \u001b[0max\u001b[0m \u001b[1;33m=\u001b[0m \u001b[0mfig\u001b[0m\u001b[1;33m.\u001b[0m\u001b[0madd_subplot\u001b[0m\u001b[1;33m(\u001b[0m\u001b[1;36m4\u001b[0m\u001b[1;33m,\u001b[0m \u001b[1;36m4\u001b[0m\u001b[1;33m,\u001b[0m \u001b[1;36m4\u001b[0m\u001b[1;33m*\u001b[0m\u001b[0my\u001b[0m\u001b[1;33m+\u001b[0m\u001b[0mx\u001b[0m\u001b[1;33m+\u001b[0m\u001b[1;36m1\u001b[0m\u001b[1;33m)\u001b[0m\u001b[1;33m\u001b[0m\u001b[0m\n\u001b[1;32m---> 12\u001b[1;33m             \u001b[0mplt\u001b[0m\u001b[1;33m.\u001b[0m\u001b[0mimshow\u001b[0m\u001b[1;33m(\u001b[0m\u001b[0mimages\u001b[0m\u001b[1;33m[\u001b[0m\u001b[1;36m4\u001b[0m\u001b[1;33m*\u001b[0m\u001b[0my\u001b[0m\u001b[1;33m+\u001b[0m\u001b[0mx\u001b[0m\u001b[1;33m]\u001b[0m\u001b[1;33m)\u001b[0m\u001b[1;33m\u001b[0m\u001b[0m\n\u001b[0m\u001b[0;32m     13\u001b[0m             \u001b[0mplt\u001b[0m\u001b[1;33m.\u001b[0m\u001b[0mxticks\u001b[0m\u001b[1;33m(\u001b[0m\u001b[0mnp\u001b[0m\u001b[1;33m.\u001b[0m\u001b[0marray\u001b[0m\u001b[1;33m(\u001b[0m\u001b[1;33m[\u001b[0m\u001b[1;33m]\u001b[0m\u001b[1;33m)\u001b[0m\u001b[1;33m)\u001b[0m\u001b[1;33m\u001b[0m\u001b[0m\n\u001b[0;32m     14\u001b[0m             \u001b[0mplt\u001b[0m\u001b[1;33m.\u001b[0m\u001b[0myticks\u001b[0m\u001b[1;33m(\u001b[0m\u001b[0mnp\u001b[0m\u001b[1;33m.\u001b[0m\u001b[0marray\u001b[0m\u001b[1;33m(\u001b[0m\u001b[1;33m[\u001b[0m\u001b[1;33m]\u001b[0m\u001b[1;33m)\u001b[0m\u001b[1;33m)\u001b[0m\u001b[1;33m\u001b[0m\u001b[0m\n",
      "\u001b[1;31mIndexError\u001b[0m: list index out of range"
     ],
     "output_type": "error"
    },
    {
     "data": {
      "image/png": "[encoded data removed]",
      "text/plain": [
       "<matplotlib.figure.Figure at 0x216e6594630>"
      ]
     },
     "metadata": {},
     "output_type": "display_data"
    }
   ],
   "source": [
    "plot_image_grid(cat_files[:16])"
   ]
  },
  {
   "cell_type": "markdown",
   "metadata": {},
   "source": [
    "# Dog Sample Images"
   ]
  },
  {
   "cell_type": "code",
   "execution_count": 6,
   "metadata": {
    "collapsed": false
   },
   "outputs": [
    {
     "ename": "IndexError",
     "evalue": "list index out of range",
     "traceback": [
      "\u001b[1;31m---------------------------------------------------------------------------\u001b[0m",
      "\u001b[1;31mIndexError\u001b[0m                                Traceback (most recent call last)",
      "\u001b[1;32m<ipython-input-6-a3bd5e46b23e>\u001b[0m in \u001b[0;36m<module>\u001b[1;34m()\u001b[0m\n\u001b[1;32m----> 1\u001b[1;33m \u001b[0mplot_image_grid\u001b[0m\u001b[1;33m(\u001b[0m\u001b[0mdog_files\u001b[0m\u001b[1;33m[\u001b[0m\u001b[1;33m:\u001b[0m\u001b[1;36m16\u001b[0m\u001b[1;33m]\u001b[0m\u001b[1;33m)\u001b[0m\u001b[1;33m\u001b[0m\u001b[0m\n\u001b[0m",
      "\u001b[1;32m<ipython-input-4-ec0887c3e0eb>\u001b[0m in \u001b[0;36mplot_image_grid\u001b[1;34m(images_files)\u001b[0m\n\u001b[0;32m     10\u001b[0m         \u001b[1;32mfor\u001b[0m \u001b[0my\u001b[0m \u001b[1;32min\u001b[0m \u001b[0mrange\u001b[0m\u001b[1;33m(\u001b[0m\u001b[1;36m4\u001b[0m\u001b[1;33m)\u001b[0m\u001b[1;33m:\u001b[0m\u001b[1;33m\u001b[0m\u001b[0m\n\u001b[0;32m     11\u001b[0m             \u001b[0max\u001b[0m \u001b[1;33m=\u001b[0m \u001b[0mfig\u001b[0m\u001b[1;33m.\u001b[0m\u001b[0madd_subplot\u001b[0m\u001b[1;33m(\u001b[0m\u001b[1;36m4\u001b[0m\u001b[1;33m,\u001b[0m \u001b[1;36m4\u001b[0m\u001b[1;33m,\u001b[0m \u001b[1;36m4\u001b[0m\u001b[1;33m*\u001b[0m\u001b[0my\u001b[0m\u001b[1;33m+\u001b[0m\u001b[0mx\u001b[0m\u001b[1;33m+\u001b[0m\u001b[1;36m1\u001b[0m\u001b[1;33m)\u001b[0m\u001b[1;33m\u001b[0m\u001b[0m\n\u001b[1;32m---> 12\u001b[1;33m             \u001b[0mplt\u001b[0m\u001b[1;33m.\u001b[0m\u001b[0mimshow\u001b[0m\u001b[1;33m(\u001b[0m\u001b[0mimages\u001b[0m\u001b[1;33m[\u001b[0m\u001b[1;36m4\u001b[0m\u001b[1;33m*\u001b[0m\u001b[0my\u001b[0m\u001b[1;33m+\u001b[0m\u001b[0mx\u001b[0m\u001b[1;33m]\u001b[0m\u001b[1;33m)\u001b[0m\u001b[1;33m\u001b[0m\u001b[0m\n\u001b[0m\u001b[0;32m     13\u001b[0m             \u001b[0mplt\u001b[0m\u001b[1;33m.\u001b[0m\u001b[0mxticks\u001b[0m\u001b[1;33m(\u001b[0m\u001b[0mnp\u001b[0m\u001b[1;33m.\u001b[0m\u001b[0marray\u001b[0m\u001b[1;33m(\u001b[0m\u001b[1;33m[\u001b[0m\u001b[1;33m]\u001b[0m\u001b[1;33m)\u001b[0m\u001b[1;33m)\u001b[0m\u001b[1;33m\u001b[0m\u001b[0m\n\u001b[0;32m     14\u001b[0m             \u001b[0mplt\u001b[0m\u001b[1;33m.\u001b[0m\u001b[0myticks\u001b[0m\u001b[1;33m(\u001b[0m\u001b[0mnp\u001b[0m\u001b[1;33m.\u001b[0m\u001b[0marray\u001b[0m\u001b[1;33m(\u001b[0m\u001b[1;33m[\u001b[0m\u001b[1;33m]\u001b[0m\u001b[1;33m)\u001b[0m\u001b[1;33m)\u001b[0m\u001b[1;33m\u001b[0m\u001b[0m\n",
      "\u001b[1;31mIndexError\u001b[0m: list index out of range"
     ],
     "output_type": "error"
    },
    {
     "data": {
      "image/png": "[encoded data removed]",
      "text/plain": [
       "<matplotlib.figure.Figure at 0x216e038b6a0>"
      ]
     },
     "metadata": {},
     "output_type": "display_data"
    }
   ],
   "source": [
    "plot_image_grid(dog_files[:16])"
   ]
  },
  {
   "cell_type": "markdown",
   "metadata": {},
   "source": [
    "# Split Dataset Into Train and Test Set"
   ]
  },
  {
   "cell_type": "code",
   "execution_count": 7,
   "metadata": {
    "collapsed": true
   },
   "outputs": [],
   "source": [
    "def train_test_split(cat_files, dog_files):\n",
    "    train_cat_files = cat_files[:10000]\n",
    "    test_cat_files = cat_files[10000:]\n",
    "\n",
    "    train_dog_files = dog_files[:10000]\n",
    "    test_dog_files = dog_files[10000:]\n",
    "\n",
    "    print(\"train size: {} cats and {} dogs\".format(len(train_cat_files), len(train_dog_files)))\n",
    "    print(\"test size :  {} cats and  {} dogs\".format(len(test_cat_files), len(test_dog_files)))\n",
    "    \n",
    "    return train_cat_files, test_cat_files, train_dog_files, test_dog_files"
   ]
  },
  {
   "cell_type": "code",
   "execution_count": 8,
   "metadata": {
    "collapsed": false
   },
   "outputs": [
    {
     "name": "stdout",
     "output_type": "stream",
     "text": [
      "train size: 0 cats and 0 dogs\ntest size :  0 cats and  0 dogs\n"
     ]
    }
   ],
   "source": [
    "train_test_files = train_test_split(cat_files, dog_files)"
   ]
  },
  {
   "cell_type": "markdown",
   "metadata": {},
   "source": [
    "# Save Train Test Split to New Directory"
   ]
  },
  {
   "cell_type": "code",
   "execution_count": 9,
   "metadata": {
    "collapsed": true
   },
   "outputs": [],
   "source": [
    "# Create new directory and copy files to it\n",
    "def copy_files_to_directory(files, directory):\n",
    "    if not os.path.exists(directory):\n",
    "        os.makedirs(directory)\n",
    "        print(\"Created directory: {}\".format(directory))\n",
    "\n",
    "    for f in files:\n",
    "        shutil.copy(f, directory)\n",
    "\n",
    "# combine all the dataset preparation steps into one function\n",
    "def prepare_cat_dog_dataset(dataset_path):\n",
    "    train_cat_dir = \"../data/training/cat/\"\n",
    "    train_dog_dir = \"../data/training/dog/\"\n",
    "    test_cat_dir = \"../data/testing/cat/\"\n",
    "    test_dog_dir = \"../data/testing/dog/\"\n",
    "\n",
    "    print(\"Load images...\")\n",
    "    data = glob.glob(dataset_path)\n",
    "    print(\"{} images found\".format(len(data)))\n",
    "\n",
    "    print(\"\\nSeperate cat images from dog images\")\n",
    "    cat_files, dog_files = get_cat_and_dog_files(data)\n",
    "\n",
    "    print(\"\\nSplit train and test dataset\")\n",
    "    train_cat_files, test_cat_files, train_dog_files, test_dog_files = train_test_split(cat_files, dog_files)\n",
    "\n",
    "    print(\"\\nCopying train cat images to new directory...\")\n",
    "    copy_files_to_directory(train_cat_files, train_cat_dir)\n",
    "\n",
    "    print(\"\\nCopying test cat images to new directory...\")\n",
    "    copy_files_to_directory(test_cat_files, test_cat_dir)\n",
    "\n",
    "    print(\"\\nCopying train dog images to new directory...\")\n",
    "    copy_files_to_directory(train_dog_files, train_dog_dir)\n",
    "\n",
    "    print(\"\\nCopying test cat images to new directory...\")\n",
    "    copy_files_to_directory(test_dog_files, test_dog_dir)"
   ]
  },
  {
   "cell_type": "code",
   "execution_count": 10,
   "metadata": {
    "collapsed": false
   },
   "outputs": [
    {
     "name": "stdout",
     "output_type": "stream",
     "text": [
      "Load images...\n0 images found\n\nSeperate cat images from dog images\n\nSplit train and test dataset\ntrain size: 0 cats and 0 dogs\ntest size :  0 cats and  0 dogs\n\nCopying train cat images to new directory...\nCreated directory: ../data/training/cat/\n\nCopying test cat images to new directory...\nCreated directory: ../data/testing/cat/\n\nCopying train dog images to new directory...\nCreated directory: ../data/training/dog/\n\nCopying test cat images to new directory...\nCreated directory: ../data/testing/dog/\n"
     ]
    }
   ],
   "source": [
    "dataset_path = \"../data/train/*.jpg\"\n",
    "prepare_cat_dog_dataset(dataset_path)"
   ]
  },
  {
   "cell_type": "markdown",
   "metadata": {},
   "source": [
    "## Next Lesson\n",
    "### VGG Neural Network Architecture\n",
    "-  You will learn about the VGG architecture\n",
    "\n",
    "<img src=\"../../images/divider.png\" width=\"100\">"
   ]
  },
  {
   "cell_type": "code",
   "execution_count": 11,
   "metadata": {},
   "outputs": [],
   "source": []
  },
  {
   "cell_type": "code",
   "execution_count": 11,
   "metadata": {},
   "outputs": [],
   "source": []
  },
  {
   "cell_type": "code",
   "execution_count": 11,
   "metadata": {},
   "outputs": [],
   "source": []
  },
  {
   "cell_type": "code",
   "execution_count": null,
   "metadata": {},
   "outputs": [],
   "source": []
  }
 ],
 "metadata": {
  "anaconda-cloud": {},
  "kernelspec": {
   "display_name": "Python [conda env:TF-1_1]",
   "language": "python",
   "name": "conda-env-TF-1_1-py"
  },
  "language_info": {
   "codemirror_mode": {
    "name": "ipython",
    "version": 2
   },
   "file_extension": ".py",
   "mimetype": "text/x-python",
   "name": "python",
   "nbconvert_exporter": "python",
   "pygments_lexer": "ipython2",
   "version": "2.7.13"
  }
 },
 "nbformat": 4,
 "nbformat_minor": 1
}
