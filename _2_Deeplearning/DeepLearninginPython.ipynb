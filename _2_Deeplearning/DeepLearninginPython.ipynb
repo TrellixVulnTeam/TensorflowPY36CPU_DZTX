{
 "cells": [
  {
   "cell_type": "code",
   "execution_count": 2,
   "metadata": {
    "collapsed": true
   },
   "outputs": [
    {
     "name": "stderr",
     "output_type": "stream",
     "text": [
      "Using TensorFlow backend.\n"
     ]
    }
   ],
   "source": [
    "import keras \n",
    "from keras.models import Sequential\n",
    "from keras.layers import Dense\n",
    "from sklearn.model_selection import train_test_split \n",
    "from keras.preprocessing import sequence\n",
    "from keras.models import load_model\n",
    "import numpy as np\n",
    "\n"
   ]
  },
  {
   "cell_type": "markdown",
   "metadata": {},
   "source": [
    "## Forward propagation code"
   ]
  },
  {
   "cell_type": "code",
   "execution_count": 3,
   "metadata": {},
   "outputs": [],
   "source": [
    "input_data = np.array([2,3]) #input 1 is 2, input 2 is 3\n",
    "weights ={'node_0': np.array([1,-1]),\n",
    "          'node_1': np.array([-1,1]),\n",
    "          'output': np.array([2,-1])\n",
    "          }\n",
    "node_0_value = (input_data * weights['node_0']).sum()\n",
    "node_1_value = (input_data * weights['node_1']).sum()\n",
    "\n",
    "hiddd_layer_value = np.array([node_0_value,node_1_value])\n"
   ]
  },
  {
   "cell_type": "code",
   "execution_count": 4,
   "metadata": {},
   "outputs": [
    {
     "data": {
      "text/plain": [
       "array([-1,  1])"
      ]
     },
     "execution_count": 4,
     "metadata": {},
     "output_type": "execute_result"
    }
   ],
   "source": [
    "hiddd_layer_value"
   ]
  },
  {
   "cell_type": "code",
   "execution_count": 5,
   "metadata": {},
   "outputs": [],
   "source": [
    "output = (hiddd_layer_value*weights['output']).sum()\n",
    "output\n"
   ]
  },
  {
   "cell_type": "markdown",
   "metadata": {},
   "source": [
    "## Coding the forward propagation algorithm\n",
    "\n",
    "Each data point is a customer. The first input is how many accounts they have, and the second input is how many children they have. The model will predict how many transactions the user makes in the next year. You will use this data throughout the first 2 chapters of this course.\n",
    "\n",
    "The input data has been pre-loaded as input_data, and the weights are available in a dictionary called weights. The array of weights for the first node in the hidden layer are in weights['node_0'], and the array of weights for the second node in the hidden layer are in weights['node_1'].\n",
    "\n",
    "The weights feeding into the output node are available in weights['output'].\n",
    "\n",
    "NumPy will be pre-imported for you as np in all exercises.\n"
   ]
  },
  {
   "cell_type": "code",
   "execution_count": 6,
   "metadata": {},
   "outputs": [],
   "source": [
    "input_data = np.array([3,5])\n",
    "# Calculate node 0 value: node_0_value\n",
    "node_0_value = (input_data * weights['node_0']).sum()\n",
    "\n",
    "# Calculate node 1 value: node_1_value\n",
    "node_1_value = (input_data*weights['node_1']).sum()\n",
    "\n",
    "# Put node values into array: hidden_layer_outputs\n",
    "hidden_layer_outputs = np.array([node_0_value, node_1_value])\n",
    "\n",
    "# Calculate output: output\n",
    "output = (hidden_layer_outputs*weights['output']).sum()\n",
    "\n",
    "# Print output\n",
    "print(output)\n"
   ]
  },
  {
   "cell_type": "markdown",
   "metadata": {},
   "source": [
    "## The Rectified Linear Activation Function\n",
    "As Dan explained to you in the video, an \"activation function\" is a function applied at each node. It converts the node's input into some output.\n",
    "\n",
    "The rectified linear activation function (called ReLU) has been shown to lead to very high-performance networks. This function takes a single number as an input, returning 0 if the input is negative, and the input if the input is positive.\n",
    "\n",
    "Here are some examples:\n",
    "relu(3) = 3 \n",
    "relu(-3) = 0 "
   ]
  },
  {
   "cell_type": "code",
   "execution_count": 8,
   "metadata": {},
   "outputs": [
    {
     "name": "stdout",
     "output_type": "stream",
     "text": [
      "-2\n"
     ]
    }
   ],
   "source": [
    "\n",
    "def relu(input):\n",
    "    '''Define your relu activation function here'''\n",
    "    # Calculate the value for the output of the relu function: output\n",
    "    output = max(0,input)\n",
    "    \n",
    "    # Return the value just calculated\n",
    "    return(output)\n",
    "\n",
    "# Calculate node 0 value: node_0_output\n",
    "node_0_input = (input_data * weights['node_0']).sum()\n",
    "node_0_output = relu(node_0_input)\n",
    "\n",
    "# Calculate node 1 value: node_1_output\n",
    "node_1_input = (input_data * weights['node_1']).sum()\n",
    "node_1_output = relu(node_1_input)\n",
    "\n",
    "# Put node values into array: hidden_layer_outputs\n",
    "hidden_layer_outputs = np.array([node_0_output, node_1_output])\n",
    "\n",
    "# Calculate model output (do not apply relu)\n",
    "model_output = (hidden_layer_outputs * weights['output']).sum()\n",
    "\n",
    "# Print model output\n",
    "print(model_output)"
   ]
  },
  {
   "cell_type": "markdown",
   "metadata": {},
   "source": [
    "## Applying the network to many observations/rows of data\n",
    "You'll now define a function called predict_with_network() which will generate predictions for multiple data observations, which are pre-loaded as input_data. As before, weights are also pre-loaded. In addition, the relu() function you defined in the previous exercise has been pre-loaded."
   ]
  },
  {
   "cell_type": "code",
   "execution_count": 23,
   "metadata": {},
   "outputs": [],
   "source": [
    ""
   ]
  },
  {
   "cell_type": "code",
   "execution_count": 24,
   "metadata": {},
   "outputs": [],
   "source": [
    "\n"
   ]
  },
  {
   "cell_type": "code",
   "execution_count": 21,
   "metadata": {},
   "outputs": [],
   "source": [
    "input_data = np.array([[3,5],[1,-1],[0,0],[8,4]])\n",
    "input_data\n"
   ]
  },
  {
   "cell_type": "code",
   "execution_count": 22,
   "metadata": {},
   "outputs": [],
   "source": [
    "\n",
    "# Define predict_with_network()\n",
    "def predict_with_network(input_data_row, weights):\n",
    "\n",
    "    # Calculate node 0 value\n",
    "    node_0_input = (input_data_row*weights['node_0']).sum()\n",
    "    node_0_output = relu(node_0_input)\n",
    "\n",
    "    # Calculate node 1 value\n",
    "    node_1_input = (input_data_row*weights['node_1']).sum()\n",
    "    node_1_output = relu(node_1_input)\n",
    "\n",
    "    # Put node values into array: hidden_layer_outputs\n",
    "    hidden_layer_outputs = np.array([node_0_output, node_1_output])\n",
    "    \n",
    "    # Calculate model output\n",
    "    input_to_final_layer = (hidden_layer_outputs*weights['output']).sum()\n",
    "    model_output =relu(input_to_final_layer)\n",
    "    \n",
    "    # Return model output\n",
    "    return(model_output)\n",
    "\n",
    "\n",
    "# Create empty list to store prediction results\n",
    "results = []\n",
    "for input_data_row in input_data:\n",
    "    # Append prediction to results\n",
    "    results.append(predict_with_network(input_data_row,weights))\n",
    "\n",
    "# Print results\n",
    "print(results)\n",
    "        \n"
   ]
  },
  {
   "cell_type": "markdown",
   "metadata": {},
   "source": [
    "## Multi-layer neural networks\n",
    "\n",
    "Multi-layer neural networks\n",
    "In this exercise, you'll write code to do forward propagation for a neural network with 2 hidden layers. Each hidden layer has two nodes. The input data has been preloaded as input_data. The nodes in the first hidden layer are called node_0_0 and node_0_1. Their weights are pre-loaded as weights['node_0_0'] and weights['node_0_1'] respectively.\n",
    "\n",
    "The nodes in the second hidden layer are called node_1_0 and node_1_1. Their weights are pre-loaded as weights['node_1_0'] and weights['node_1_1'] respectively.\n",
    "\n",
    "We then create a model output from the hidden nodes using weights pre-loaded as weights['output']."
   ]
  },
  {
   "cell_type": "code",
   "execution_count": 27,
   "metadata": {},
   "outputs": [],
   "source": [
    "weights ={'node_0_0': np.array([2,4]),\n",
    "          'node_0_1': np.array([4,-5]),\n",
    "          'node_1_0': np.array([-1,2]),\n",
    "          'node_1_1': np.array([1,2]),\n",
    "          'output': np.array([2,7])\n",
    "          }\n",
    "\n",
    "\n",
    "input_data = np.array([3,5])\n"
   ]
  },
  {
   "cell_type": "code",
   "execution_count": 29,
   "metadata": {},
   "outputs": [
    {
     "name": "stdout",
     "output_type": "stream",
     "text": [
      "182\n"
     ]
    }
   ],
   "source": [
    "def predict_with_network(input_data):\n",
    "    # Calculate node 0 in the first hidden layer\n",
    "    node_0_0_input = (input_data * weights['node_0_0']).sum()\n",
    "    node_0_0_output = relu(node_0_0_input)\n",
    "\n",
    "    # Calculate node 1 in the first hidden layer\n",
    "    node_0_1_input = (input_data * weights['node_0_1']).sum()\n",
    "    node_0_1_output = relu(node_0_1_input)\n",
    "\n",
    "    # Put node values into array: hidden_0_outputs\n",
    "    hidden_0_outputs = np.array([node_0_0_output, node_0_1_output])\n",
    "    \n",
    "    # Calculate node 0 in the second hidden layer\n",
    "    node_1_0_input = (hidden_0_outputs*weights['node_1_0']).sum()\n",
    "    node_1_0_output = relu(node_1_0_input)\n",
    "\n",
    "    # Calculate node 1 in the second hidden layer\n",
    "    node_1_1_input = (hidden_0_outputs*weights['node_1_1']).sum()\n",
    "    node_1_1_output = relu(node_1_1_input)\n",
    "\n",
    "    # Put node values into array: hidden_1_outputs\n",
    "    hidden_1_outputs = np.array([node_1_0_output, node_1_1_output])\n",
    "\n",
    "    # Calculate model output: model_output\n",
    "    model_output = (hidden_1_outputs*weights['output']).sum()\n",
    "    \n",
    "    # Return model_output\n",
    "    return(model_output)\n",
    "\n",
    "output = predict_with_network(input_data)\n",
    "print(output)\n"
   ]
  },
  {
   "cell_type": "markdown",
   "metadata": {},
   "source": [
    "## Coding how weight changes affect accuracy\n",
    "Now you'll get to change weights in a real network and see how they affect model accuracy!\n",
    "\n",
    "Have a look at the following neural network: Ch2Ex4\n",
    "\n",
    "Its weights have been pre-loaded as weights_0. Your task in this exercise is to update a single weight in weights_0 to create weights_1, which gives a perfect prediction (in which the predicted value is equal to target_actual: 3).\n",
    "\n",
    "Use a pen and paper if necessary to experiment with different combinations. You'll use the predict_with_network() function, which takes an array of data as the first argument, and weights as the second argument."
   ]
  },
  {
   "cell_type": "code",
   "execution_count": 34,
   "metadata": {},
   "outputs": [],
   "source": [
    "def predict_with_network(input_data_row, weights):\n",
    "\n",
    "    # Calculate node 0 value\n",
    "    node_0_input = (input_data_row*weights['node_0']).sum()\n",
    "    node_0_output = relu(node_0_input)\n",
    "\n",
    "    # Calculate node 1 value\n",
    "    node_1_input = (input_data_row*weights['node_1']).sum()\n",
    "    node_1_output = relu(node_1_input)\n",
    "\n",
    "    # Put node values into array: hidden_layer_outputs\n",
    "    hidden_layer_outputs = np.array([node_0_output, node_1_output])\n",
    "    \n",
    "    # Calculate model output\n",
    "    input_to_final_layer = (hidden_layer_outputs*weights['output']).sum()\n",
    "    model_output =relu(input_to_final_layer)\n",
    "    \n",
    "    # Return model output\n",
    "    return(model_output)"
   ]
  },
  {
   "cell_type": "code",
   "execution_count": 35,
   "metadata": {},
   "outputs": [
    {
     "name": "stdout",
     "output_type": "stream",
     "text": [
      "6\n0\n"
     ]
    }
   ],
   "source": [
    "# The data point you will make a prediction for\n",
    "input_data = np.array([0, 3])\n",
    "\n",
    "# Sample weights\n",
    "weights_0 = {'node_0': [2, 1],\n",
    "             'node_1': [1, 2],\n",
    "             'output': [1, 1]\n",
    "            }\n",
    "\n",
    "# The actual target value, used to calculate the error\n",
    "target_actual = 3\n",
    "\n",
    "# Make prediction using original weights\n",
    "model_output_0 = predict_with_network(input_data, weights_0)\n",
    "\n",
    "# Calculate error: error_0\n",
    "error_0 = model_output_0 - target_actual\n",
    "\n",
    "# Create weights that cause the network to make perfect prediction (3): weights_1\n",
    "weights_1 = {'node_0': [2, 1],\n",
    "             'node_1': [1, 2],\n",
    "             'output': [1, 0]\n",
    "            }\n",
    "\n",
    "# Make prediction using new weights: model_output_1\n",
    "#\n",
    "model_output_1 = predict_with_network(input_data, weights_1)\n",
    "\n",
    "# Calculate error: error_1\n",
    "error_1 = model_output_1 - target_actual\n",
    "\n",
    "# Print error_0 and error_1\n",
    "print(error_0)\n",
    "print(error_1)\n"
   ]
  },
  {
   "cell_type": "markdown",
   "metadata": {},
   "source": [
    "## Scaling up to multiple data points\n",
    "\n",
    "You've seen how different weights will have different accuracies on a single prediction. But usually, you'll want to measure model accuracy on many points. You'll now write code to compare model accuracies for two different sets of weights, which have been stored as weights_0 and weights_1.\n",
    "\n",
    "input_data is a list of arrays. Each item in that list contains the data to make a single prediction. target_actuals is a list of numbers. Each item in that list is the actual value we are trying to predict.\n",
    "\n",
    "In this exercise, you'll use the mean_squared_error() function from sklearn.metrics. It takes the true values and the predicted values as arguments.\n",
    "\n",
    "You'll also use the preloaded predict_with_network() function, which takes an array of data as the first argument, and weights as the second argument."
   ]
  },
  {
   "cell_type": "code",
   "execution_count": 39,
   "metadata": {},
   "outputs": [],
   "source": [
    "# The data point you will make a prediction for\n",
    "input_data = np.array(([0, 3],[1,2],[-1,-2],[4,0]))"
   ]
  },
  {
   "cell_type": "code",
   "execution_count": 42,
   "metadata": {},
   "outputs": [],
   "source": [
    "weights_0 = {'node_0': [2, 1],\n",
    "             'node_1': [1, 2],\n",
    "             'output': [1, 1]\n",
    "            }\n",
    "\n",
    "weights_1 = {'node_0': [2, 1],\n",
    "             'node_1': [1, 1.5],\n",
    "             'output': [1, 1.5]\n",
    "            }\n",
    "#target_actuals = np.array([1,3,5,7])\n",
    "target_actuals = ([1,3,5,7])\n",
    "\n"
   ]
  },
  {
   "cell_type": "code",
   "execution_count": 43,
   "metadata": {},
   "outputs": [
    {
     "name": "stdout",
     "output_type": "stream",
     "text": [
      "Mean squared error with weights_0: 37.500000\nMean squared error with weights_1: 49.890625\n"
     ]
    }
   ],
   "source": [
    "from sklearn.metrics import mean_squared_error\n",
    "\n",
    "# Create model_output_0 \n",
    "model_output_0 = []\n",
    "# Create model_output_0\n",
    "model_output_1 = []\n",
    "\n",
    "# Loop over input_data\n",
    "for row in input_data:\n",
    "    # Append prediction to model_output_0\n",
    "    model_output_0.append(predict_with_network(row,weights_0))\n",
    "    \n",
    "    # Append prediction to model_output_1\n",
    "    model_output_1.append(predict_with_network(row,weights_1))\n",
    "\n",
    "# Calculate the mean squared error for model_output_0: mse_0\n",
    "mse_0 = mean_squared_error(target_actuals,model_output_0)\n",
    "\n",
    "# Calculate the mean squared error for model_output_1: mse_1\n",
    "mse_1 = mean_squared_error(target_actuals,model_output_1)\n",
    "\n",
    "# Print mse_0 and mse_1\n",
    "print(\"Mean squared error with weights_0: %f\" %mse_0)\n",
    "print(\"Mean squared error with weights_1: %f\" %mse_1)\n"
   ]
  },
  {
   "cell_type": "markdown",
   "metadata": {},
   "source": [
    "## Calculating slopes\n",
    "You're now going to practice calculating slopes. When plotting the mean-squared error loss function against predictions, the slope is 2 * x * (y-xb), or 2 * input_data * error. Note that x and b may have multiple numbers (x is a vector for each data point, and b is a vector). In this case, the output will also be a vector, which is exactly what you want.\n",
    "\n",
    "You're ready to write the code to calculate this slope while using a single data point. You'll use pre-defined weights called weights as well as data for a single point called input_data. The actual value of the target you want to predict is stored in target."
   ]
  },
  {
   "cell_type": "code",
   "execution_count": 45,
   "metadata": {},
   "outputs": [],
   "source": [
    "# The data point you will make a prediction for\n",
    "input_data = np.array([1,2,3])\n",
    "\n",
    "weights = np.array([0,2,1])\n",
    "target = 0"
   ]
  },
  {
   "cell_type": "code",
   "execution_count": 46,
   "metadata": {},
   "outputs": [
    {
     "name": "stdout",
     "output_type": "stream",
     "text": [
      "[14 28 42]\n"
     ]
    }
   ],
   "source": [
    "# Calculate the predictions: preds\n",
    "preds = (weights * input_data).sum()\n",
    "\n",
    "# Calculate the error: error\n",
    "error = preds- target\n",
    "\n",
    "# Calculate the slope: slope\n",
    "slope = 2 * input_data * error\n",
    "\n",
    "# Print the slope\n",
    "print(slope)"
   ]
  },
  {
   "cell_type": "markdown",
   "metadata": {},
   "source": [
    "## Improving model weights\n",
    "\n",
    "Hurray! You've just calculated the slopes you need. Now it's time to use those slopes to improve your model. If you add the slopes to your weights, you will move in the right direction. However, it's possible to move too far in that direction. So you will want to take a small step in that direction first, using a lower learning rate, and verify that the model is improving.\n",
    "\n",
    "The weights have been pre-loaded as weights, the actual value of the target as target, and the input data as input_data. The predictions from the initial weights are stored as preds."
   ]
  },
  {
   "cell_type": "code",
   "execution_count": 47,
   "metadata": {},
   "outputs": [
    {
     "name": "stdout",
     "output_type": "stream",
     "text": [
      "7\n5.04\n"
     ]
    }
   ],
   "source": [
    "# Set the learning rate: learning_rate\n",
    "learning_rate = 0.01\n",
    "\n",
    "# Calculate the predictions: preds\n",
    "preds = (weights * input_data).sum()\n",
    "\n",
    "# Calculate the error: error\n",
    "error = preds - target\n",
    "\n",
    "# Calculate the slope: slope\n",
    "slope = 2 * input_data * error\n",
    "\n",
    "# Update the weights: weights_updated\n",
    "weights_updated = weights - learning_rate * slope\n",
    "\n",
    "# Get updated predictions: preds_updated\n",
    "preds_updated = (weights_updated * input_data).sum()\n",
    "\n",
    "# Calculate updated error: error_updated\n",
    "error_updated = preds_updated - target\n",
    "\n",
    "# Print the original error\n",
    "print(error)\n",
    "\n",
    "# Print the updated error\n",
    "print(error_updated)\n"
   ]
  },
  {
   "cell_type": "markdown",
   "metadata": {},
   "source": [
    "## Making multiple updates to weights\n",
    "You're now going to make multiple updates so you can dramatically improve your model weights, and see how the predictions improve with each update.\n",
    "\n",
    "To keep your code clean, there is a pre-loaded get_slope() function that takes input_data, target, and weights as arguments. There is also a get_mse() function that takes the same arguments. The input_data, target, and weights have been pre-loaded.\n",
    "\n",
    "This network does not have any hidden layers, and it goes directly from the input (with 3 nodes) to an output node. Note that weights is a single array.\n",
    "\n",
    "We have also pre-loaded matplotlib.pyplot, and the error history will be plotted after you have done your gradient descent steps."
   ]
  },
  {
   "cell_type": "code",
   "execution_count": null,
   "metadata": {},
   "outputs": [],
   "source": [
    ""
   ]
  },
  {
   "cell_type": "code",
   "execution_count": 48,
   "metadata": {},
   "outputs": [
    {
     "ename": "NameError",
     "evalue": "name 'get_slope' is not defined",
     "traceback": [
      "\u001b[1;31m---------------------------------------------------------------------------\u001b[0m",
      "\u001b[1;31mNameError\u001b[0m                                 Traceback (most recent call last)",
      "\u001b[1;32m<ipython-input-48-72abf6937a11>\u001b[0m in \u001b[0;36m<module>\u001b[1;34m()\u001b[0m\n\u001b[0;32m      5\u001b[0m \u001b[1;32mfor\u001b[0m \u001b[0mi\u001b[0m \u001b[1;32min\u001b[0m \u001b[0mrange\u001b[0m\u001b[1;33m(\u001b[0m\u001b[0mn_updates\u001b[0m\u001b[1;33m)\u001b[0m\u001b[1;33m:\u001b[0m\u001b[1;33m\u001b[0m\u001b[0m\n\u001b[0;32m      6\u001b[0m     \u001b[1;31m# Calculate the slope: slope\u001b[0m\u001b[1;33m\u001b[0m\u001b[1;33m\u001b[0m\u001b[0m\n\u001b[1;32m----> 7\u001b[1;33m     \u001b[0mslope\u001b[0m \u001b[1;33m=\u001b[0m \u001b[0mget_slope\u001b[0m\u001b[1;33m(\u001b[0m\u001b[0minput_data\u001b[0m\u001b[1;33m,\u001b[0m\u001b[0mtarget\u001b[0m\u001b[1;33m,\u001b[0m\u001b[0mweights\u001b[0m\u001b[1;33m)\u001b[0m\u001b[1;33m\u001b[0m\u001b[0m\n\u001b[0m\u001b[0;32m      8\u001b[0m \u001b[1;33m\u001b[0m\u001b[0m\n\u001b[0;32m      9\u001b[0m     \u001b[1;31m# Update the weights: weights\u001b[0m\u001b[1;33m\u001b[0m\u001b[1;33m\u001b[0m\u001b[0m\n",
      "\u001b[1;31mNameError\u001b[0m: name 'get_slope' is not defined"
     ],
     "output_type": "error"
    }
   ],
   "source": [
    "n_updates = 20\n",
    "mse_hist = []\n",
    "\n",
    "# Iterate over the number of updates\n",
    "for i in range(n_updates):\n",
    "    # Calculate the slope: slope\n",
    "    slope = get_slope(input_data,target,weights)\n",
    "    \n",
    "    # Update the weights: weights\n",
    "    weights = weights - 0.01 * slope\n",
    "    \n",
    "    # Calculate mse with new weights: mse\n",
    "    mse = get_mse(input_data,target,weights)\n",
    "    \n",
    "    # Append the mse to mse_hist\n",
    "    mse_hist.append(mse)\n",
    "\n",
    "# Plot the mse history\n",
    "plt.plot(mse_hist)\n",
    "plt.xlabel('Iterations')\n",
    "plt.ylabel('Mean Squared Error')\n",
    "plt.show()"
   ]
  },
  {
   "cell_type": "code",
   "execution_count": 49,
   "metadata": {},
   "outputs": [],
   "source": []
  },
  {
   "cell_type": "markdown",
   "metadata": {},
   "source": [
    "# Keras steps\n",
    "1. Specific Architechure\n",
    "2. Compiler \n",
    "  - Specific optimizer , control learning rate (Adam, usually a good one, \n",
    "  - loss function , mean_squre error for regression)\n",
    "3. Fit\n",
    "4. Predict\n"
   ]
  },
  {
   "cell_type": "markdown",
   "metadata": {},
   "source": [
    "# Specifying a model\n",
    "\n",
    "Specifying a model\n",
    "Now you'll get to work with your first model in Keras, and will immediately be able to run more complex neural network models on larger datasets compared to the first two chapters.\n",
    "\n",
    "To start, you'll take the skeleton of a neural network and add a hidden layer and an output layer. You'll then fit that model and see Keras do the optimization so your model continually gets better.\n",
    "\n",
    "As a start, you'll predict workers wages based on characteristics like their industry, education and level of experience. You can find the dataset in a pandas dataframe called df. For convenience, everything in df except for the target has been converted to a NumPy matrix called predictors. The target, wage_per_hour, is available as a NumPy matrix called target.\n",
    "\n",
    "For all exercises in this chapter, we've imported the Sequential model constructor, the Dense layer constructor, and pandas."
   ]
  },
  {
   "cell_type": "code",
   "execution_count": null,
   "metadata": {},
   "outputs": [
    {
     "data": {
      "text/plain": [
       "array([  5.1 ,   4.95,   6.67,   4.  ,   7.5 ,  13.07,   4.45,  19.47,\n        13.28,   8.75,  11.35,  11.5 ,   6.5 ,   6.25,  19.98,   7.3 ,\n         8.  ,  22.2 ,   3.65,  20.55,   5.71,   7.  ,   3.75,   4.5 ,\n         9.56,   5.75,   9.36,   6.5 ,   3.35,   4.75,   8.9 ,   4.  ,\n         4.7 ,   5.  ,   9.25,  10.67,   7.61,  10.  ,   7.5 ,  12.2 ,\n         3.35,  11.  ,  12.  ,   4.85,   4.3 ,   6.  ,  15.  ,   4.85,\n         9.  ,   6.36,   9.15,  11.  ,   4.5 ,   4.8 ,   4.  ,   5.5 ,\n         8.4 ,   6.75,  10.  ,   5.  ,   6.5 ,  10.75,   7.  ,  11.43,\n         4.  ,   9.  ,  13.  ,  12.22,   6.28,   6.75,   3.35,  16.  ,\n         5.25,   3.5 ,   4.22,   3.  ,   4.  ,  10.  ,   5.  ,  16.  ,\n        13.98,  13.26,   6.1 ,   3.75,   9.  ,   9.45,   5.5 ,   8.93,\n         6.25,   9.75,   6.73,   7.78,   2.85,   3.35,  19.98,   8.5 ,\n         9.75,  15.  ,   8.  ,  11.25,  14.  ,  10.  ,   6.5 ,   9.83,\n        18.5 ,  12.5 ,  26.  ,  14.  ,  10.5 ,  11.  ,  12.47,  12.5 ,\n        15.  ,   6.  ,   9.5 ,   5.  ,   3.75,  12.57,   6.88,   5.5 ,\n         7.  ,   4.5 ,   6.5 ,  12.  ,   5.  ,   6.5 ,   6.8 ,   8.75,\n         3.75,   4.5 ,   6.  ,   5.5 ,  13.  ,   5.65,   4.8 ,   7.  ,\n         5.25,   3.35,   8.5 ,   6.  ,   6.75,   8.89,  14.21,  10.78,\n         8.9 ,   7.5 ,   4.5 ,  11.25,  13.45,   6.  ,   4.62,  10.58,\n         5.  ,   8.2 ,   6.25,   8.5 ,  24.98,  16.65,   6.25,   4.55,\n        11.25,  21.25,  12.65,   7.5 ,  10.25,   3.35,  13.45,   4.84,\n        26.29,   6.58,  44.5 ,  15.  ,  11.25,   7.  ,  10.  ,  14.53,\n        20.  ,  22.5 ,   3.64,  10.62,  24.98,   6.  ,  19.  ,  13.2 ,\n        22.5 ,  15.  ,   6.88,  11.84,  16.14,  13.95,  13.16,   5.3 ,\n         4.5 ,  10.  ,  10.  ,  10.  ,   9.37,   5.8 ,  17.86,   1.  ,\n         8.8 ,   9.  ,  18.16,   7.81,  10.62,   4.5 ,  17.25,  10.5 ,\n         9.22,  15.  ,  22.5 ,   4.55,   9.  ,  13.33,  15.  ,   7.5 ,\n         4.25,  12.5 ,   5.13,   3.35,  11.11,   3.84,   6.4 ,   5.56,\n        10.  ,   5.65,  11.5 ,   3.5 ,   3.35,   4.75,  19.98,   3.5 ,\n         4.  ,   7.  ,   6.25,   4.5 ,  14.29,   5.  ,  13.75,  13.71,\n         7.5 ,   3.8 ,   5.  ,   9.42,   5.5 ,   3.75,   3.5 ,   5.8 ,\n        12.  ,   5.  ,   8.75,  10.  ,   8.5 ,   8.63,   9.  ,   5.5 ,\n        11.11,  10.  ,   5.2 ,   8.  ,   3.56,   5.2 ,  11.67,  11.32,\n         7.5 ,   5.5 ,   5.  ,   7.75,   5.25,   9.  ,   9.65,   5.21,\n         7.  ,  12.16,   5.25,  10.32,   3.35,   7.7 ,   9.17,   8.43,\n         4.  ,   4.13,   3.  ,   4.25,   7.53,  10.53,   5.  ,  15.03,\n        11.25,   6.25,   3.5 ,   6.85,  12.5 ,  12.  ,   6.  ,   9.5 ,\n         4.1 ,  10.43,   5.  ,   7.69,   5.5 ,   6.4 ,  12.5 ,   6.25,\n         8.  ,   9.6 ,   9.1 ,   7.5 ,   5.  ,   7.  ,   3.55,   8.5 ,\n         4.5 ,   7.88,   5.25,   5.  ,   9.33,  10.5 ,   7.5 ,   9.5 ,\n         9.6 ,   5.87,  11.02,   5.  ,   5.62,  12.5 ,  10.81,   5.4 ,\n         7.  ,   4.59,   6.  ,  11.71,   5.62,   5.5 ,   4.85,   6.75,\n         4.25,   5.75,   3.5 ,   3.35,  10.62,   8.  ,   4.75,   8.5 ,\n         8.85,   8.  ,   6.  ,   7.14,   3.4 ,   6.  ,   3.75,   8.89,\n         4.35,  13.1 ,   4.35,   3.5 ,   3.8 ,   5.26,   3.35,  16.26,\n         4.25,   4.5 ,   8.  ,   4.  ,   7.96,   4.  ,   4.15,   5.95,\n         3.6 ,   8.75,   3.4 ,   4.28,   5.35,   5.  ,   7.65,   6.94,\n         7.5 ,   3.6 ,   1.75,   3.45,   9.63,   8.49,   8.99,   3.65,\n         3.5 ,   3.43,   5.5 ,   6.93,   3.51,   3.75,   4.17,   9.57,\n        14.67,  12.5 ,   5.5 ,   5.15,   8.  ,   5.83,   3.35,   7.  ,\n        10.  ,   8.  ,   6.88,   5.55,   7.5 ,   8.93,   9.  ,   3.5 ,\n         5.77,  25.  ,   6.85,   6.5 ,   3.75,   3.5 ,   4.5 ,   2.01,\n         4.17,  13.  ,   3.98,   7.5 ,  13.12,   4.  ,   3.95,  13.  ,\n         9.  ,   4.55,   9.5 ,   4.5 ,   8.75,  10.  ,  18.  ,  24.98,\n        12.05,  22.  ,   8.75,  22.2 ,  17.25,   6.  ,   8.06,   9.24,\n        12.  ,  10.61,   5.71,  10.  ,  17.5 ,  15.  ,   7.78,   7.8 ,\n        10.  ,  24.98,  10.28,  15.  ,  12.  ,  10.58,   5.85,  11.22,\n         8.56,  13.89,   5.71,  15.79,   7.5 ,  11.25,   6.15,  13.45,\n         6.25,   6.5 ,  12.  ,   8.5 ,   8.  ,   5.75,  15.73,   9.86,\n        13.51,   5.4 ,   6.25,   5.5 ,   5.  ,   6.25,   5.75,  20.5 ,\n         5.  ,   7.  ,  18.  ,  12.  ,  20.4 ,  22.2 ,  16.42,   8.63,\n        19.38,  14.  ,  10.  ,  15.95,  20.  ,  10.  ,  24.98,  11.25,\n        22.83,  10.2 ,  10.  ,  14.  ,  12.5 ,   5.79,  24.98,   4.35,\n        11.25,   6.67,   8.  ,  18.16,  12.  ,   8.89,   9.5 ,  13.65,\n        12.  ,  15.  ,  12.67,   7.38,  15.56,   7.45,   6.25,   6.25,\n         9.37,  22.5 ,   7.5 ,   7.  ,   5.75,   7.67,  12.5 ,  16.  ,\n        11.79,  11.36,   6.1 ,  23.25,  19.88,  15.38])"
      ]
     },
     "execution_count": 71,
     "metadata": {},
     "output_type": "execute_result"
    }
   ],
   "source": [
    "# Import necessary modules\n",
    "import keras\n",
    "from keras.layers import Dense\n",
    "from keras.models import Sequential\n",
    "import pandas as pd\n",
    "\n",
    "predictors = pd.read_csv('K:\\TensorflowPY36CPU\\TensorflowPY36CPU\\_2_Deeplearning\\hourly_wages.csv',delimiter=',')\n",
    "target = np.array(predictors.wage_per_hour)\n"
   ]
  },
  {
   "cell_type": "code",
   "execution_count": 71,
   "metadata": {},
   "outputs": [
    {
     "data": {
      "text/plain": [
       "array([  5.1 ,   4.95,   6.67,   4.  ,   7.5 ,  13.07,   4.45,  19.47,\n        13.28,   8.75,  11.35,  11.5 ,   6.5 ,   6.25,  19.98,   7.3 ,\n         8.  ,  22.2 ,   3.65,  20.55,   5.71,   7.  ,   3.75,   4.5 ,\n         9.56,   5.75,   9.36,   6.5 ,   3.35,   4.75,   8.9 ,   4.  ,\n         4.7 ,   5.  ,   9.25,  10.67,   7.61,  10.  ,   7.5 ,  12.2 ,\n         3.35,  11.  ,  12.  ,   4.85,   4.3 ,   6.  ,  15.  ,   4.85,\n         9.  ,   6.36,   9.15,  11.  ,   4.5 ,   4.8 ,   4.  ,   5.5 ,\n         8.4 ,   6.75,  10.  ,   5.  ,   6.5 ,  10.75,   7.  ,  11.43,\n         4.  ,   9.  ,  13.  ,  12.22,   6.28,   6.75,   3.35,  16.  ,\n         5.25,   3.5 ,   4.22,   3.  ,   4.  ,  10.  ,   5.  ,  16.  ,\n        13.98,  13.26,   6.1 ,   3.75,   9.  ,   9.45,   5.5 ,   8.93,\n         6.25,   9.75,   6.73,   7.78,   2.85,   3.35,  19.98,   8.5 ,\n         9.75,  15.  ,   8.  ,  11.25,  14.  ,  10.  ,   6.5 ,   9.83,\n        18.5 ,  12.5 ,  26.  ,  14.  ,  10.5 ,  11.  ,  12.47,  12.5 ,\n        15.  ,   6.  ,   9.5 ,   5.  ,   3.75,  12.57,   6.88,   5.5 ,\n         7.  ,   4.5 ,   6.5 ,  12.  ,   5.  ,   6.5 ,   6.8 ,   8.75,\n         3.75,   4.5 ,   6.  ,   5.5 ,  13.  ,   5.65,   4.8 ,   7.  ,\n         5.25,   3.35,   8.5 ,   6.  ,   6.75,   8.89,  14.21,  10.78,\n         8.9 ,   7.5 ,   4.5 ,  11.25,  13.45,   6.  ,   4.62,  10.58,\n         5.  ,   8.2 ,   6.25,   8.5 ,  24.98,  16.65,   6.25,   4.55,\n        11.25,  21.25,  12.65,   7.5 ,  10.25,   3.35,  13.45,   4.84,\n        26.29,   6.58,  44.5 ,  15.  ,  11.25,   7.  ,  10.  ,  14.53,\n        20.  ,  22.5 ,   3.64,  10.62,  24.98,   6.  ,  19.  ,  13.2 ,\n        22.5 ,  15.  ,   6.88,  11.84,  16.14,  13.95,  13.16,   5.3 ,\n         4.5 ,  10.  ,  10.  ,  10.  ,   9.37,   5.8 ,  17.86,   1.  ,\n         8.8 ,   9.  ,  18.16,   7.81,  10.62,   4.5 ,  17.25,  10.5 ,\n         9.22,  15.  ,  22.5 ,   4.55,   9.  ,  13.33,  15.  ,   7.5 ,\n         4.25,  12.5 ,   5.13,   3.35,  11.11,   3.84,   6.4 ,   5.56,\n        10.  ,   5.65,  11.5 ,   3.5 ,   3.35,   4.75,  19.98,   3.5 ,\n         4.  ,   7.  ,   6.25,   4.5 ,  14.29,   5.  ,  13.75,  13.71,\n         7.5 ,   3.8 ,   5.  ,   9.42,   5.5 ,   3.75,   3.5 ,   5.8 ,\n        12.  ,   5.  ,   8.75,  10.  ,   8.5 ,   8.63,   9.  ,   5.5 ,\n        11.11,  10.  ,   5.2 ,   8.  ,   3.56,   5.2 ,  11.67,  11.32,\n         7.5 ,   5.5 ,   5.  ,   7.75,   5.25,   9.  ,   9.65,   5.21,\n         7.  ,  12.16,   5.25,  10.32,   3.35,   7.7 ,   9.17,   8.43,\n         4.  ,   4.13,   3.  ,   4.25,   7.53,  10.53,   5.  ,  15.03,\n        11.25,   6.25,   3.5 ,   6.85,  12.5 ,  12.  ,   6.  ,   9.5 ,\n         4.1 ,  10.43,   5.  ,   7.69,   5.5 ,   6.4 ,  12.5 ,   6.25,\n         8.  ,   9.6 ,   9.1 ,   7.5 ,   5.  ,   7.  ,   3.55,   8.5 ,\n         4.5 ,   7.88,   5.25,   5.  ,   9.33,  10.5 ,   7.5 ,   9.5 ,\n         9.6 ,   5.87,  11.02,   5.  ,   5.62,  12.5 ,  10.81,   5.4 ,\n         7.  ,   4.59,   6.  ,  11.71,   5.62,   5.5 ,   4.85,   6.75,\n         4.25,   5.75,   3.5 ,   3.35,  10.62,   8.  ,   4.75,   8.5 ,\n         8.85,   8.  ,   6.  ,   7.14,   3.4 ,   6.  ,   3.75,   8.89,\n         4.35,  13.1 ,   4.35,   3.5 ,   3.8 ,   5.26,   3.35,  16.26,\n         4.25,   4.5 ,   8.  ,   4.  ,   7.96,   4.  ,   4.15,   5.95,\n         3.6 ,   8.75,   3.4 ,   4.28,   5.35,   5.  ,   7.65,   6.94,\n         7.5 ,   3.6 ,   1.75,   3.45,   9.63,   8.49,   8.99,   3.65,\n         3.5 ,   3.43,   5.5 ,   6.93,   3.51,   3.75,   4.17,   9.57,\n        14.67,  12.5 ,   5.5 ,   5.15,   8.  ,   5.83,   3.35,   7.  ,\n        10.  ,   8.  ,   6.88,   5.55,   7.5 ,   8.93,   9.  ,   3.5 ,\n         5.77,  25.  ,   6.85,   6.5 ,   3.75,   3.5 ,   4.5 ,   2.01,\n         4.17,  13.  ,   3.98,   7.5 ,  13.12,   4.  ,   3.95,  13.  ,\n         9.  ,   4.55,   9.5 ,   4.5 ,   8.75,  10.  ,  18.  ,  24.98,\n        12.05,  22.  ,   8.75,  22.2 ,  17.25,   6.  ,   8.06,   9.24,\n        12.  ,  10.61,   5.71,  10.  ,  17.5 ,  15.  ,   7.78,   7.8 ,\n        10.  ,  24.98,  10.28,  15.  ,  12.  ,  10.58,   5.85,  11.22,\n         8.56,  13.89,   5.71,  15.79,   7.5 ,  11.25,   6.15,  13.45,\n         6.25,   6.5 ,  12.  ,   8.5 ,   8.  ,   5.75,  15.73,   9.86,\n        13.51,   5.4 ,   6.25,   5.5 ,   5.  ,   6.25,   5.75,  20.5 ,\n         5.  ,   7.  ,  18.  ,  12.  ,  20.4 ,  22.2 ,  16.42,   8.63,\n        19.38,  14.  ,  10.  ,  15.95,  20.  ,  10.  ,  24.98,  11.25,\n        22.83,  10.2 ,  10.  ,  14.  ,  12.5 ,   5.79,  24.98,   4.35,\n        11.25,   6.67,   8.  ,  18.16,  12.  ,   8.89,   9.5 ,  13.65,\n        12.  ,  15.  ,  12.67,   7.38,  15.56,   7.45,   6.25,   6.25,\n         9.37,  22.5 ,   7.5 ,   7.  ,   5.75,   7.67,  12.5 ,  16.  ,\n        11.79,  11.36,   6.1 ,  23.25,  19.88,  15.38])"
      ]
     },
     "execution_count": 71,
     "metadata": {},
     "output_type": "execute_result"
    }
   ],
   "source": [
    "target\n",
    "\n"
   ]
  },
  {
   "cell_type": "code",
   "execution_count": 61,
   "metadata": {},
   "outputs": [
    {
     "data": {
      "text/html": [
       "<div>\n",
       "<style scoped>\n",
       "    .dataframe tbody tr th:only-of-type {\n",
       "        vertical-align: middle;\n",
       "    }\n",
       "\n",
       "    .dataframe tbody tr th {\n",
       "        vertical-align: top;\n",
       "    }\n",
       "\n",
       "    .dataframe thead th {\n",
       "        text-align: right;\n",
       "    }\n",
       "</style>\n",
       "<table border=\"1\" class=\"dataframe\">\n",
       "  <thead>\n",
       "    <tr style=\"text-align: right;\">\n",
       "      <th></th>\n",
       "      <th>wage_per_hour</th>\n",
       "      <th>union</th>\n",
       "      <th>education_yrs</th>\n",
       "      <th>experience_yrs</th>\n",
       "      <th>age</th>\n",
       "      <th>female</th>\n",
       "      <th>marr</th>\n",
       "      <th>south</th>\n",
       "      <th>manufacturing</th>\n",
       "      <th>construction</th>\n",
       "    </tr>\n",
       "  </thead>\n",
       "  <tbody>\n",
       "    <tr>\n",
       "      <th>0</th>\n",
       "      <td>5.10</td>\n",
       "      <td>0</td>\n",
       "      <td>8</td>\n",
       "      <td>21</td>\n",
       "      <td>35</td>\n",
       "      <td>1</td>\n",
       "      <td>1</td>\n",
       "      <td>0</td>\n",
       "      <td>1</td>\n",
       "      <td>0</td>\n",
       "    </tr>\n",
       "    <tr>\n",
       "      <th>1</th>\n",
       "      <td>4.95</td>\n",
       "      <td>0</td>\n",
       "      <td>9</td>\n",
       "      <td>42</td>\n",
       "      <td>57</td>\n",
       "      <td>1</td>\n",
       "      <td>1</td>\n",
       "      <td>0</td>\n",
       "      <td>1</td>\n",
       "      <td>0</td>\n",
       "    </tr>\n",
       "    <tr>\n",
       "      <th>2</th>\n",
       "      <td>6.67</td>\n",
       "      <td>0</td>\n",
       "      <td>12</td>\n",
       "      <td>1</td>\n",
       "      <td>19</td>\n",
       "      <td>0</td>\n",
       "      <td>0</td>\n",
       "      <td>0</td>\n",
       "      <td>1</td>\n",
       "      <td>0</td>\n",
       "    </tr>\n",
       "    <tr>\n",
       "      <th>3</th>\n",
       "      <td>4.00</td>\n",
       "      <td>0</td>\n",
       "      <td>12</td>\n",
       "      <td>4</td>\n",
       "      <td>22</td>\n",
       "      <td>0</td>\n",
       "      <td>0</td>\n",
       "      <td>0</td>\n",
       "      <td>0</td>\n",
       "      <td>0</td>\n",
       "    </tr>\n",
       "    <tr>\n",
       "      <th>4</th>\n",
       "      <td>7.50</td>\n",
       "      <td>0</td>\n",
       "      <td>12</td>\n",
       "      <td>17</td>\n",
       "      <td>35</td>\n",
       "      <td>0</td>\n",
       "      <td>1</td>\n",
       "      <td>0</td>\n",
       "      <td>0</td>\n",
       "      <td>0</td>\n",
       "    </tr>\n",
       "    <tr>\n",
       "      <th>5</th>\n",
       "      <td>13.07</td>\n",
       "      <td>1</td>\n",
       "      <td>13</td>\n",
       "      <td>9</td>\n",
       "      <td>28</td>\n",
       "      <td>0</td>\n",
       "      <td>0</td>\n",
       "      <td>0</td>\n",
       "      <td>0</td>\n",
       "      <td>0</td>\n",
       "    </tr>\n",
       "    <tr>\n",
       "      <th>6</th>\n",
       "      <td>4.45</td>\n",
       "      <td>0</td>\n",
       "      <td>10</td>\n",
       "      <td>27</td>\n",
       "      <td>43</td>\n",
       "      <td>0</td>\n",
       "      <td>0</td>\n",
       "      <td>1</td>\n",
       "      <td>0</td>\n",
       "      <td>0</td>\n",
       "    </tr>\n",
       "    <tr>\n",
       "      <th>7</th>\n",
       "      <td>19.47</td>\n",
       "      <td>0</td>\n",
       "      <td>12</td>\n",
       "      <td>9</td>\n",
       "      <td>27</td>\n",
       "      <td>0</td>\n",
       "      <td>0</td>\n",
       "      <td>0</td>\n",
       "      <td>0</td>\n",
       "      <td>0</td>\n",
       "    </tr>\n",
       "    <tr>\n",
       "      <th>8</th>\n",
       "      <td>13.28</td>\n",
       "      <td>0</td>\n",
       "      <td>16</td>\n",
       "      <td>11</td>\n",
       "      <td>33</td>\n",
       "      <td>0</td>\n",
       "      <td>1</td>\n",
       "      <td>0</td>\n",
       "      <td>1</td>\n",
       "      <td>0</td>\n",
       "    </tr>\n",
       "    <tr>\n",
       "      <th>9</th>\n",
       "      <td>8.75</td>\n",
       "      <td>0</td>\n",
       "      <td>12</td>\n",
       "      <td>9</td>\n",
       "      <td>27</td>\n",
       "      <td>0</td>\n",
       "      <td>0</td>\n",
       "      <td>0</td>\n",
       "      <td>0</td>\n",
       "      <td>0</td>\n",
       "    </tr>\n",
       "  </tbody>\n",
       "</table>\n",
       "</div>"
      ],
      "text/plain": [
       "<div>\n",
       "<style scoped>\n",
       "    .dataframe tbody tr th:only-of-type {\n",
       "        vertical-align: middle;\n",
       "    }\n",
       "\n",
       "    .dataframe tbody tr th {\n",
       "        vertical-align: top;\n",
       "    }\n",
       "\n",
       "    .dataframe thead th {\n",
       "        text-align: right;\n",
       "    }\n",
       "</style>\n",
       "<table border=\"1\" class=\"dataframe\">\n",
       "  <thead>\n",
       "    <tr style=\"text-align: right;\">\n",
       "      <th></th>\n",
       "      <th>wage_per_hour</th>\n",
       "      <th>union</th>\n",
       "      <th>education_yrs</th>\n",
       "      <th>experience_yrs</th>\n",
       "      <th>age</th>\n",
       "      <th>female</th>\n",
       "      <th>marr</th>\n",
       "      <th>south</th>\n",
       "      <th>manufacturing</th>\n",
       "      <th>construction</th>\n",
       "    </tr>\n",
       "  </thead>\n",
       "  <tbody>\n",
       "    <tr>\n",
       "      <th>0</th>\n",
       "      <td>5.10</td>\n",
       "      <td>0</td>\n",
       "      <td>8</td>\n",
       "      <td>21</td>\n",
       "      <td>35</td>\n",
       "      <td>1</td>\n",
       "      <td>1</td>\n",
       "      <td>0</td>\n",
       "      <td>1</td>\n",
       "      <td>0</td>\n",
       "    </tr>\n",
       "    <tr>\n",
       "      <th>1</th>\n",
       "      <td>4.95</td>\n",
       "      <td>0</td>\n",
       "      <td>9</td>\n",
       "      <td>42</td>\n",
       "      <td>57</td>\n",
       "      <td>1</td>\n",
       "      <td>1</td>\n",
       "      <td>0</td>\n",
       "      <td>1</td>\n",
       "      <td>0</td>\n",
       "    </tr>\n",
       "    <tr>\n",
       "      <th>2</th>\n",
       "      <td>6.67</td>\n",
       "      <td>0</td>\n",
       "      <td>12</td>\n",
       "      <td>1</td>\n",
       "      <td>19</td>\n",
       "      <td>0</td>\n",
       "      <td>0</td>\n",
       "      <td>0</td>\n",
       "      <td>1</td>\n",
       "      <td>0</td>\n",
       "    </tr>\n",
       "    <tr>\n",
       "      <th>3</th>\n",
       "      <td>4.00</td>\n",
       "      <td>0</td>\n",
       "      <td>12</td>\n",
       "      <td>4</td>\n",
       "      <td>22</td>\n",
       "      <td>0</td>\n",
       "      <td>0</td>\n",
       "      <td>0</td>\n",
       "      <td>0</td>\n",
       "      <td>0</td>\n",
       "    </tr>\n",
       "    <tr>\n",
       "      <th>4</th>\n",
       "      <td>7.50</td>\n",
       "      <td>0</td>\n",
       "      <td>12</td>\n",
       "      <td>17</td>\n",
       "      <td>35</td>\n",
       "      <td>0</td>\n",
       "      <td>1</td>\n",
       "      <td>0</td>\n",
       "      <td>0</td>\n",
       "      <td>0</td>\n",
       "    </tr>\n",
       "    <tr>\n",
       "      <th>5</th>\n",
       "      <td>13.07</td>\n",
       "      <td>1</td>\n",
       "      <td>13</td>\n",
       "      <td>9</td>\n",
       "      <td>28</td>\n",
       "      <td>0</td>\n",
       "      <td>0</td>\n",
       "      <td>0</td>\n",
       "      <td>0</td>\n",
       "      <td>0</td>\n",
       "    </tr>\n",
       "    <tr>\n",
       "      <th>6</th>\n",
       "      <td>4.45</td>\n",
       "      <td>0</td>\n",
       "      <td>10</td>\n",
       "      <td>27</td>\n",
       "      <td>43</td>\n",
       "      <td>0</td>\n",
       "      <td>0</td>\n",
       "      <td>1</td>\n",
       "      <td>0</td>\n",
       "      <td>0</td>\n",
       "    </tr>\n",
       "    <tr>\n",
       "      <th>7</th>\n",
       "      <td>19.47</td>\n",
       "      <td>0</td>\n",
       "      <td>12</td>\n",
       "      <td>9</td>\n",
       "      <td>27</td>\n",
       "      <td>0</td>\n",
       "      <td>0</td>\n",
       "      <td>0</td>\n",
       "      <td>0</td>\n",
       "      <td>0</td>\n",
       "    </tr>\n",
       "    <tr>\n",
       "      <th>8</th>\n",
       "      <td>13.28</td>\n",
       "      <td>0</td>\n",
       "      <td>16</td>\n",
       "      <td>11</td>\n",
       "      <td>33</td>\n",
       "      <td>0</td>\n",
       "      <td>1</td>\n",
       "      <td>0</td>\n",
       "      <td>1</td>\n",
       "      <td>0</td>\n",
       "    </tr>\n",
       "    <tr>\n",
       "      <th>9</th>\n",
       "      <td>8.75</td>\n",
       "      <td>0</td>\n",
       "      <td>12</td>\n",
       "      <td>9</td>\n",
       "      <td>27</td>\n",
       "      <td>0</td>\n",
       "      <td>0</td>\n",
       "      <td>0</td>\n",
       "      <td>0</td>\n",
       "      <td>0</td>\n",
       "    </tr>\n",
       "  </tbody>\n",
       "</table>\n",
       "</div>"
      ]
     },
     "execution_count": 61,
     "metadata": {},
     "output_type": "execute_result"
    }
   ],
   "source": [
    "predictors.head(10)\n",
    "\n"
   ]
  },
  {
   "cell_type": "code",
   "execution_count": 62,
   "metadata": {},
   "outputs": [
    {
     "data": {
      "text/plain": [
       "10"
      ]
     },
     "execution_count": 62,
     "metadata": {},
     "output_type": "execute_result"
    }
   ],
   "source": [
    "n_cols = predictors.shape[1]\n",
    "n_cols\n"
   ]
  },
  {
   "cell_type": "code",
   "execution_count": 72,
   "metadata": {},
   "outputs": [],
   "source": [
    "\n",
    "# Save the number of columns in predictors: n_cols\n",
    "n_cols = predictors.shape[1]\n",
    "\n",
    "# Set up the model: model\n",
    "model = Sequential()\n",
    "\n",
    "# Add the first layer\n",
    "model.add(Dense(50, activation='relu', input_shape =(n_cols,))) # (n_cols,) tuple\n",
    "\n",
    "# Add the second layer\n",
    "model.add(Dense(32, activation='relu'))\n",
    "\n",
    "# Add the output layer\n",
    "model.add(Dense(1))\n"
   ]
  },
  {
   "cell_type": "code",
   "execution_count": 73,
   "metadata": {},
   "outputs": [
    {
     "name": "stdout",
     "output_type": "stream",
     "text": [
      "Loss function: mean_squared_error\n"
     ]
    }
   ],
   "source": [
    "# Compile the model\n",
    "model.compile(optimizer='adam',loss='mean_squared_error')\n",
    "\n",
    "# Verify that model contains information from compiling\n",
    "print(\"Loss function: \" + model.loss)"
   ]
  },
  {
   "cell_type": "code",
   "execution_count": 76,
   "metadata": {},
   "outputs": [
    {
     "data": {
      "text/plain": [
       "array([  5.1 ,   4.95,   6.67,   4.  ,   7.5 ,  13.07,   4.45,  19.47,\n        13.28,   8.75])"
      ]
     },
     "execution_count": 76,
     "metadata": {},
     "output_type": "execute_result"
    }
   ],
   "source": [
    "type(target)\n",
    "target[:10]"
   ]
  },
  {
   "cell_type": "code",
   "execution_count": null,
   "metadata": {},
   "outputs": [
    {
     "data": {
      "text/plain": [
       "array([  5.1 ,   4.95,   6.67,   4.  ,   7.5 ,  13.07,   4.45,  19.47,\n        13.28,   8.75])"
      ]
     },
     "execution_count": 76,
     "metadata": {},
     "output_type": "execute_result"
    }
   ],
   "source": [
    "# Fit the model\n",
    "model.fit(predictors,target)\n"
   ]
  },
  {
   "cell_type": "markdown",
   "metadata": {},
   "source": [
    "## Last steps in classification models\n",
    "You'll now create a classification model using the titanic dataset, which has been pre-loaded into a DataFrame called df. You'll take information about the passengers and predict which ones survived.\n",
    "\n",
    "The predictive variables are stored in a NumPy array predictors. The target to predict is in df.survived, though you'll have to manipulate it for keras. The number of predictive features is stored in n_cols.\n",
    "\n",
    "Here, you'll use the 'sgd' optimizer, which stands for Stochastic Gradient Descent. You'll learn more about this in the next chapter!"
   ]
  },
  {
   "cell_type": "code",
   "execution_count": null,
   "metadata": {},
   "outputs": [],
   "source": []
  }
 ],
 "metadata": {
  "kernelspec": {
   "display_name": "Python 2",
   "language": "python",
   "name": "python2"
  },
  "language_info": {
   "codemirror_mode": {
    "name": "ipython",
    "version": 2
   },
   "file_extension": ".py",
   "mimetype": "text/x-python",
   "name": "python",
   "nbconvert_exporter": "python",
   "pygments_lexer": "ipython2",
   "version": "2.7.6"
  }
 },
 "nbformat": 4,
 "nbformat_minor": 0
}
